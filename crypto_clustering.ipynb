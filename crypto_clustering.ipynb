{
 "cells": [
  {
   "cell_type": "markdown",
   "metadata": {},
   "source": [
    "# Clustering Crypto"
   ]
  },
  {
   "cell_type": "code",
   "execution_count": 83,
   "metadata": {},
   "outputs": [],
   "source": [
    "# Initial imports\n",
    "import requests\n",
    "import pandas as pd\n",
    "from pathlib import Path\n",
    "import matplotlib.pyplot as plt\n",
    "import hvplot.pandas\n",
    "import plotly.express as px\n",
    "from sklearn.preprocessing import StandardScaler, MinMaxScaler\n",
    "from sklearn.decomposition import PCA\n",
    "from sklearn.cluster import KMeans"
   ]
  },
  {
   "cell_type": "markdown",
   "metadata": {},
   "source": [
    "### Fetching Cryptocurrency Data"
   ]
  },
  {
   "cell_type": "code",
   "execution_count": 84,
   "metadata": {},
   "outputs": [],
   "source": [
    "# Use the following endpoint to fetch json data\n",
    "url = \"https://min-api.cryptocompare.com/data/all/coinlist\""
   ]
  },
  {
   "cell_type": "code",
   "execution_count": 85,
   "metadata": {},
   "outputs": [],
   "source": [
    "# Create a DataFrame \n",
    "# HINT: You will need to use the 'Data' key from the json response, then transpose the DataFrame.\n",
    "\n",
    "#data = requests.get(url).json()\n",
    "#data\n"
   ]
  },
  {
   "cell_type": "code",
   "execution_count": 86,
   "metadata": {},
   "outputs": [
    {
     "data": {
      "text/html": [
       "<div>\n",
       "<style scoped>\n",
       "    .dataframe tbody tr th:only-of-type {\n",
       "        vertical-align: middle;\n",
       "    }\n",
       "\n",
       "    .dataframe tbody tr th {\n",
       "        vertical-align: top;\n",
       "    }\n",
       "\n",
       "    .dataframe thead th {\n",
       "        text-align: right;\n",
       "    }\n",
       "</style>\n",
       "<table border=\"1\" class=\"dataframe\">\n",
       "  <thead>\n",
       "    <tr style=\"text-align: right;\">\n",
       "      <th></th>\n",
       "      <th>CoinName</th>\n",
       "      <th>Algorithm</th>\n",
       "      <th>IsTrading</th>\n",
       "      <th>ProofType</th>\n",
       "      <th>TotalCoinsMined</th>\n",
       "      <th>TotalCoinSupply</th>\n",
       "    </tr>\n",
       "  </thead>\n",
       "  <tbody>\n",
       "    <tr>\n",
       "      <th>42</th>\n",
       "      <td>42 Coin</td>\n",
       "      <td>Scrypt</td>\n",
       "      <td>True</td>\n",
       "      <td>PoW/PoS</td>\n",
       "      <td>4.199995e+01</td>\n",
       "      <td>42</td>\n",
       "    </tr>\n",
       "    <tr>\n",
       "      <th>365</th>\n",
       "      <td>365Coin</td>\n",
       "      <td>X11</td>\n",
       "      <td>True</td>\n",
       "      <td>PoW/PoS</td>\n",
       "      <td>NaN</td>\n",
       "      <td>2300000000</td>\n",
       "    </tr>\n",
       "    <tr>\n",
       "      <th>404</th>\n",
       "      <td>404Coin</td>\n",
       "      <td>Scrypt</td>\n",
       "      <td>True</td>\n",
       "      <td>PoW/PoS</td>\n",
       "      <td>1.055185e+09</td>\n",
       "      <td>532000000</td>\n",
       "    </tr>\n",
       "    <tr>\n",
       "      <th>611</th>\n",
       "      <td>SixEleven</td>\n",
       "      <td>SHA-256</td>\n",
       "      <td>True</td>\n",
       "      <td>PoW</td>\n",
       "      <td>NaN</td>\n",
       "      <td>611000</td>\n",
       "    </tr>\n",
       "    <tr>\n",
       "      <th>808</th>\n",
       "      <td>808</td>\n",
       "      <td>SHA-256</td>\n",
       "      <td>True</td>\n",
       "      <td>PoW/PoS</td>\n",
       "      <td>0.000000e+00</td>\n",
       "      <td>0</td>\n",
       "    </tr>\n",
       "  </tbody>\n",
       "</table>\n",
       "</div>"
      ],
      "text/plain": [
       "      CoinName Algorithm  IsTrading ProofType  TotalCoinsMined TotalCoinSupply\n",
       "42     42 Coin    Scrypt       True   PoW/PoS     4.199995e+01              42\n",
       "365    365Coin       X11       True   PoW/PoS              NaN      2300000000\n",
       "404    404Coin    Scrypt       True   PoW/PoS     1.055185e+09       532000000\n",
       "611  SixEleven   SHA-256       True       PoW              NaN          611000\n",
       "808        808   SHA-256       True   PoW/PoS     0.000000e+00               0"
      ]
     },
     "execution_count": 86,
     "metadata": {},
     "output_type": "execute_result"
    }
   ],
   "source": [
    "# Alternatively, use the provided csv file:\n",
    "file_path = Path(\"crypto_data.csv\")\n",
    "\n",
    "# Create a DataFrame\n",
    "\n",
    "crypto_df = pd.read_csv(file_path, index_col = 0)\n",
    "crypto_df.head()\n"
   ]
  },
  {
   "cell_type": "markdown",
   "metadata": {},
   "source": [
    "### Data Preprocessing"
   ]
  },
  {
   "cell_type": "code",
   "execution_count": 87,
   "metadata": {},
   "outputs": [
    {
     "data": {
      "text/html": [
       "<div>\n",
       "<style scoped>\n",
       "    .dataframe tbody tr th:only-of-type {\n",
       "        vertical-align: middle;\n",
       "    }\n",
       "\n",
       "    .dataframe tbody tr th {\n",
       "        vertical-align: top;\n",
       "    }\n",
       "\n",
       "    .dataframe thead th {\n",
       "        text-align: right;\n",
       "    }\n",
       "</style>\n",
       "<table border=\"1\" class=\"dataframe\">\n",
       "  <thead>\n",
       "    <tr style=\"text-align: right;\">\n",
       "      <th></th>\n",
       "      <th>CoinName</th>\n",
       "      <th>Algorithm</th>\n",
       "      <th>IsTrading</th>\n",
       "      <th>ProofType</th>\n",
       "      <th>TotalCoinsMined</th>\n",
       "      <th>TotalCoinSupply</th>\n",
       "    </tr>\n",
       "  </thead>\n",
       "  <tbody>\n",
       "    <tr>\n",
       "      <th>42</th>\n",
       "      <td>42 Coin</td>\n",
       "      <td>Scrypt</td>\n",
       "      <td>True</td>\n",
       "      <td>PoW/PoS</td>\n",
       "      <td>4.199995e+01</td>\n",
       "      <td>42</td>\n",
       "    </tr>\n",
       "    <tr>\n",
       "      <th>365</th>\n",
       "      <td>365Coin</td>\n",
       "      <td>X11</td>\n",
       "      <td>True</td>\n",
       "      <td>PoW/PoS</td>\n",
       "      <td>NaN</td>\n",
       "      <td>2300000000</td>\n",
       "    </tr>\n",
       "    <tr>\n",
       "      <th>404</th>\n",
       "      <td>404Coin</td>\n",
       "      <td>Scrypt</td>\n",
       "      <td>True</td>\n",
       "      <td>PoW/PoS</td>\n",
       "      <td>1.055185e+09</td>\n",
       "      <td>532000000</td>\n",
       "    </tr>\n",
       "    <tr>\n",
       "      <th>611</th>\n",
       "      <td>SixEleven</td>\n",
       "      <td>SHA-256</td>\n",
       "      <td>True</td>\n",
       "      <td>PoW</td>\n",
       "      <td>NaN</td>\n",
       "      <td>611000</td>\n",
       "    </tr>\n",
       "    <tr>\n",
       "      <th>808</th>\n",
       "      <td>808</td>\n",
       "      <td>SHA-256</td>\n",
       "      <td>True</td>\n",
       "      <td>PoW/PoS</td>\n",
       "      <td>0.000000e+00</td>\n",
       "      <td>0</td>\n",
       "    </tr>\n",
       "  </tbody>\n",
       "</table>\n",
       "</div>"
      ],
      "text/plain": [
       "      CoinName Algorithm  IsTrading ProofType  TotalCoinsMined TotalCoinSupply\n",
       "42     42 Coin    Scrypt       True   PoW/PoS     4.199995e+01              42\n",
       "365    365Coin       X11       True   PoW/PoS              NaN      2300000000\n",
       "404    404Coin    Scrypt       True   PoW/PoS     1.055185e+09       532000000\n",
       "611  SixEleven   SHA-256       True       PoW              NaN          611000\n",
       "808        808   SHA-256       True   PoW/PoS     0.000000e+00               0"
      ]
     },
     "execution_count": 87,
     "metadata": {},
     "output_type": "execute_result"
    }
   ],
   "source": [
    "# Keep only necessary columns:\n",
    "# 'CoinName','Algorithm','IsTrading','ProofType','TotalCoinsMined','TotalCoinSupply'\n",
    "\n",
    "crypto_df = crypto_df[['CoinName','Algorithm','IsTrading','ProofType','TotalCoinsMined','TotalCoinSupply']]\n",
    "crypto_df.head()\n",
    "\n",
    "\n"
   ]
  },
  {
   "cell_type": "code",
   "execution_count": 88,
   "metadata": {},
   "outputs": [
    {
     "data": {
      "text/html": [
       "<div>\n",
       "<style scoped>\n",
       "    .dataframe tbody tr th:only-of-type {\n",
       "        vertical-align: middle;\n",
       "    }\n",
       "\n",
       "    .dataframe tbody tr th {\n",
       "        vertical-align: top;\n",
       "    }\n",
       "\n",
       "    .dataframe thead th {\n",
       "        text-align: right;\n",
       "    }\n",
       "</style>\n",
       "<table border=\"1\" class=\"dataframe\">\n",
       "  <thead>\n",
       "    <tr style=\"text-align: right;\">\n",
       "      <th></th>\n",
       "      <th>CoinName</th>\n",
       "      <th>Algorithm</th>\n",
       "      <th>IsTrading</th>\n",
       "      <th>ProofType</th>\n",
       "      <th>TotalCoinsMined</th>\n",
       "      <th>TotalCoinSupply</th>\n",
       "    </tr>\n",
       "  </thead>\n",
       "  <tbody>\n",
       "    <tr>\n",
       "      <th>42</th>\n",
       "      <td>42 Coin</td>\n",
       "      <td>Scrypt</td>\n",
       "      <td>True</td>\n",
       "      <td>PoW/PoS</td>\n",
       "      <td>4.199995e+01</td>\n",
       "      <td>42</td>\n",
       "    </tr>\n",
       "    <tr>\n",
       "      <th>365</th>\n",
       "      <td>365Coin</td>\n",
       "      <td>X11</td>\n",
       "      <td>True</td>\n",
       "      <td>PoW/PoS</td>\n",
       "      <td>NaN</td>\n",
       "      <td>2300000000</td>\n",
       "    </tr>\n",
       "    <tr>\n",
       "      <th>404</th>\n",
       "      <td>404Coin</td>\n",
       "      <td>Scrypt</td>\n",
       "      <td>True</td>\n",
       "      <td>PoW/PoS</td>\n",
       "      <td>1.055185e+09</td>\n",
       "      <td>532000000</td>\n",
       "    </tr>\n",
       "    <tr>\n",
       "      <th>611</th>\n",
       "      <td>SixEleven</td>\n",
       "      <td>SHA-256</td>\n",
       "      <td>True</td>\n",
       "      <td>PoW</td>\n",
       "      <td>NaN</td>\n",
       "      <td>611000</td>\n",
       "    </tr>\n",
       "    <tr>\n",
       "      <th>808</th>\n",
       "      <td>808</td>\n",
       "      <td>SHA-256</td>\n",
       "      <td>True</td>\n",
       "      <td>PoW/PoS</td>\n",
       "      <td>0.000000e+00</td>\n",
       "      <td>0</td>\n",
       "    </tr>\n",
       "  </tbody>\n",
       "</table>\n",
       "</div>"
      ],
      "text/plain": [
       "      CoinName Algorithm  IsTrading ProofType  TotalCoinsMined TotalCoinSupply\n",
       "42     42 Coin    Scrypt       True   PoW/PoS     4.199995e+01              42\n",
       "365    365Coin       X11       True   PoW/PoS              NaN      2300000000\n",
       "404    404Coin    Scrypt       True   PoW/PoS     1.055185e+09       532000000\n",
       "611  SixEleven   SHA-256       True       PoW              NaN          611000\n",
       "808        808   SHA-256       True   PoW/PoS     0.000000e+00               0"
      ]
     },
     "execution_count": 88,
     "metadata": {},
     "output_type": "execute_result"
    }
   ],
   "source": [
    "# Keep only cryptocurrencies that are trading\n",
    "\n",
    "crypto_df = crypto_df[crypto_df[\"IsTrading\"]==True]\n",
    "crypto_df.head()\n",
    "\n"
   ]
  },
  {
   "cell_type": "code",
   "execution_count": 89,
   "metadata": {},
   "outputs": [],
   "source": [
    "# Keep only cryptocurrencies with a working algorithm\n",
    "\n",
    "# Not sure how to determine a working algorithm from dataset provided. \n"
   ]
  },
  {
   "cell_type": "code",
   "execution_count": 90,
   "metadata": {},
   "outputs": [
    {
     "data": {
      "text/html": [
       "<div>\n",
       "<style scoped>\n",
       "    .dataframe tbody tr th:only-of-type {\n",
       "        vertical-align: middle;\n",
       "    }\n",
       "\n",
       "    .dataframe tbody tr th {\n",
       "        vertical-align: top;\n",
       "    }\n",
       "\n",
       "    .dataframe thead th {\n",
       "        text-align: right;\n",
       "    }\n",
       "</style>\n",
       "<table border=\"1\" class=\"dataframe\">\n",
       "  <thead>\n",
       "    <tr style=\"text-align: right;\">\n",
       "      <th></th>\n",
       "      <th>CoinName</th>\n",
       "      <th>Algorithm</th>\n",
       "      <th>ProofType</th>\n",
       "      <th>TotalCoinsMined</th>\n",
       "      <th>TotalCoinSupply</th>\n",
       "    </tr>\n",
       "  </thead>\n",
       "  <tbody>\n",
       "    <tr>\n",
       "      <th>42</th>\n",
       "      <td>42 Coin</td>\n",
       "      <td>Scrypt</td>\n",
       "      <td>PoW/PoS</td>\n",
       "      <td>4.199995e+01</td>\n",
       "      <td>42</td>\n",
       "    </tr>\n",
       "    <tr>\n",
       "      <th>365</th>\n",
       "      <td>365Coin</td>\n",
       "      <td>X11</td>\n",
       "      <td>PoW/PoS</td>\n",
       "      <td>NaN</td>\n",
       "      <td>2300000000</td>\n",
       "    </tr>\n",
       "    <tr>\n",
       "      <th>404</th>\n",
       "      <td>404Coin</td>\n",
       "      <td>Scrypt</td>\n",
       "      <td>PoW/PoS</td>\n",
       "      <td>1.055185e+09</td>\n",
       "      <td>532000000</td>\n",
       "    </tr>\n",
       "    <tr>\n",
       "      <th>611</th>\n",
       "      <td>SixEleven</td>\n",
       "      <td>SHA-256</td>\n",
       "      <td>PoW</td>\n",
       "      <td>NaN</td>\n",
       "      <td>611000</td>\n",
       "    </tr>\n",
       "    <tr>\n",
       "      <th>808</th>\n",
       "      <td>808</td>\n",
       "      <td>SHA-256</td>\n",
       "      <td>PoW/PoS</td>\n",
       "      <td>0.000000e+00</td>\n",
       "      <td>0</td>\n",
       "    </tr>\n",
       "  </tbody>\n",
       "</table>\n",
       "</div>"
      ],
      "text/plain": [
       "      CoinName Algorithm ProofType  TotalCoinsMined TotalCoinSupply\n",
       "42     42 Coin    Scrypt   PoW/PoS     4.199995e+01              42\n",
       "365    365Coin       X11   PoW/PoS              NaN      2300000000\n",
       "404    404Coin    Scrypt   PoW/PoS     1.055185e+09       532000000\n",
       "611  SixEleven   SHA-256       PoW              NaN          611000\n",
       "808        808   SHA-256   PoW/PoS     0.000000e+00               0"
      ]
     },
     "execution_count": 90,
     "metadata": {},
     "output_type": "execute_result"
    }
   ],
   "source": [
    "# Remove the \"IsTrading\" column\n",
    "\n",
    "crypto_df.drop(['IsTrading'], axis = 1, inplace = True)\n",
    "crypto_df.head()\n"
   ]
  },
  {
   "cell_type": "code",
   "execution_count": 91,
   "metadata": {},
   "outputs": [
    {
     "data": {
      "text/html": [
       "<div>\n",
       "<style scoped>\n",
       "    .dataframe tbody tr th:only-of-type {\n",
       "        vertical-align: middle;\n",
       "    }\n",
       "\n",
       "    .dataframe tbody tr th {\n",
       "        vertical-align: top;\n",
       "    }\n",
       "\n",
       "    .dataframe thead th {\n",
       "        text-align: right;\n",
       "    }\n",
       "</style>\n",
       "<table border=\"1\" class=\"dataframe\">\n",
       "  <thead>\n",
       "    <tr style=\"text-align: right;\">\n",
       "      <th></th>\n",
       "      <th>CoinName</th>\n",
       "      <th>Algorithm</th>\n",
       "      <th>ProofType</th>\n",
       "      <th>TotalCoinsMined</th>\n",
       "      <th>TotalCoinSupply</th>\n",
       "    </tr>\n",
       "  </thead>\n",
       "  <tbody>\n",
       "    <tr>\n",
       "      <th>42</th>\n",
       "      <td>42 Coin</td>\n",
       "      <td>Scrypt</td>\n",
       "      <td>PoW/PoS</td>\n",
       "      <td>4.199995e+01</td>\n",
       "      <td>42</td>\n",
       "    </tr>\n",
       "    <tr>\n",
       "      <th>404</th>\n",
       "      <td>404Coin</td>\n",
       "      <td>Scrypt</td>\n",
       "      <td>PoW/PoS</td>\n",
       "      <td>1.055185e+09</td>\n",
       "      <td>532000000</td>\n",
       "    </tr>\n",
       "    <tr>\n",
       "      <th>808</th>\n",
       "      <td>808</td>\n",
       "      <td>SHA-256</td>\n",
       "      <td>PoW/PoS</td>\n",
       "      <td>0.000000e+00</td>\n",
       "      <td>0</td>\n",
       "    </tr>\n",
       "    <tr>\n",
       "      <th>1337</th>\n",
       "      <td>EliteCoin</td>\n",
       "      <td>X13</td>\n",
       "      <td>PoW/PoS</td>\n",
       "      <td>2.927942e+10</td>\n",
       "      <td>314159265359</td>\n",
       "    </tr>\n",
       "    <tr>\n",
       "      <th>BTC</th>\n",
       "      <td>Bitcoin</td>\n",
       "      <td>SHA-256</td>\n",
       "      <td>PoW</td>\n",
       "      <td>1.792718e+07</td>\n",
       "      <td>21000000</td>\n",
       "    </tr>\n",
       "  </tbody>\n",
       "</table>\n",
       "</div>"
      ],
      "text/plain": [
       "       CoinName Algorithm ProofType  TotalCoinsMined TotalCoinSupply\n",
       "42      42 Coin    Scrypt   PoW/PoS     4.199995e+01              42\n",
       "404     404Coin    Scrypt   PoW/PoS     1.055185e+09       532000000\n",
       "808         808   SHA-256   PoW/PoS     0.000000e+00               0\n",
       "1337  EliteCoin       X13   PoW/PoS     2.927942e+10    314159265359\n",
       "BTC     Bitcoin   SHA-256       PoW     1.792718e+07        21000000"
      ]
     },
     "execution_count": 91,
     "metadata": {},
     "output_type": "execute_result"
    }
   ],
   "source": [
    "# Remove rows with at least 1 null value\n",
    "\n",
    "crypto_df = crypto_df[pd.notnull(crypto_df[\"TotalCoinsMined\"])]\n",
    "crypto_df.head()\n"
   ]
  },
  {
   "cell_type": "code",
   "execution_count": 92,
   "metadata": {},
   "outputs": [
    {
     "data": {
      "text/html": [
       "<div>\n",
       "<style scoped>\n",
       "    .dataframe tbody tr th:only-of-type {\n",
       "        vertical-align: middle;\n",
       "    }\n",
       "\n",
       "    .dataframe tbody tr th {\n",
       "        vertical-align: top;\n",
       "    }\n",
       "\n",
       "    .dataframe thead th {\n",
       "        text-align: right;\n",
       "    }\n",
       "</style>\n",
       "<table border=\"1\" class=\"dataframe\">\n",
       "  <thead>\n",
       "    <tr style=\"text-align: right;\">\n",
       "      <th></th>\n",
       "      <th>CoinName</th>\n",
       "      <th>Algorithm</th>\n",
       "      <th>ProofType</th>\n",
       "      <th>TotalCoinsMined</th>\n",
       "      <th>TotalCoinSupply</th>\n",
       "    </tr>\n",
       "  </thead>\n",
       "  <tbody>\n",
       "    <tr>\n",
       "      <th>42</th>\n",
       "      <td>42 Coin</td>\n",
       "      <td>Scrypt</td>\n",
       "      <td>PoW/PoS</td>\n",
       "      <td>4.199995e+01</td>\n",
       "      <td>42</td>\n",
       "    </tr>\n",
       "    <tr>\n",
       "      <th>404</th>\n",
       "      <td>404Coin</td>\n",
       "      <td>Scrypt</td>\n",
       "      <td>PoW/PoS</td>\n",
       "      <td>1.055185e+09</td>\n",
       "      <td>532000000</td>\n",
       "    </tr>\n",
       "    <tr>\n",
       "      <th>1337</th>\n",
       "      <td>EliteCoin</td>\n",
       "      <td>X13</td>\n",
       "      <td>PoW/PoS</td>\n",
       "      <td>2.927942e+10</td>\n",
       "      <td>314159265359</td>\n",
       "    </tr>\n",
       "    <tr>\n",
       "      <th>BTC</th>\n",
       "      <td>Bitcoin</td>\n",
       "      <td>SHA-256</td>\n",
       "      <td>PoW</td>\n",
       "      <td>1.792718e+07</td>\n",
       "      <td>21000000</td>\n",
       "    </tr>\n",
       "    <tr>\n",
       "      <th>ETH</th>\n",
       "      <td>Ethereum</td>\n",
       "      <td>Ethash</td>\n",
       "      <td>PoW</td>\n",
       "      <td>1.076842e+08</td>\n",
       "      <td>0</td>\n",
       "    </tr>\n",
       "  </tbody>\n",
       "</table>\n",
       "</div>"
      ],
      "text/plain": [
       "       CoinName Algorithm ProofType  TotalCoinsMined TotalCoinSupply\n",
       "42      42 Coin    Scrypt   PoW/PoS     4.199995e+01              42\n",
       "404     404Coin    Scrypt   PoW/PoS     1.055185e+09       532000000\n",
       "1337  EliteCoin       X13   PoW/PoS     2.927942e+10    314159265359\n",
       "BTC     Bitcoin   SHA-256       PoW     1.792718e+07        21000000\n",
       "ETH    Ethereum    Ethash       PoW     1.076842e+08               0"
      ]
     },
     "execution_count": 92,
     "metadata": {},
     "output_type": "execute_result"
    }
   ],
   "source": [
    "# Remove rows with cryptocurrencies having no coins mined\n",
    "\n",
    "crypto_df.drop(crypto_df.loc[crypto_df[\"TotalCoinsMined\"]==0.000000e+00].index, inplace=True)\n",
    "crypto_df.head()\n"
   ]
  },
  {
   "cell_type": "code",
   "execution_count": 93,
   "metadata": {},
   "outputs": [],
   "source": [
    "# Drop rows where there are 'N/A' text values\n",
    "\n",
    "crypto_df = crypto_df.dropna().copy() \n"
   ]
  },
  {
   "cell_type": "code",
   "execution_count": 94,
   "metadata": {},
   "outputs": [
    {
     "data": {
      "text/html": [
       "<div>\n",
       "<style scoped>\n",
       "    .dataframe tbody tr th:only-of-type {\n",
       "        vertical-align: middle;\n",
       "    }\n",
       "\n",
       "    .dataframe tbody tr th {\n",
       "        vertical-align: top;\n",
       "    }\n",
       "\n",
       "    .dataframe thead th {\n",
       "        text-align: right;\n",
       "    }\n",
       "</style>\n",
       "<table border=\"1\" class=\"dataframe\">\n",
       "  <thead>\n",
       "    <tr style=\"text-align: right;\">\n",
       "      <th></th>\n",
       "      <th>CoinName</th>\n",
       "    </tr>\n",
       "  </thead>\n",
       "  <tbody>\n",
       "    <tr>\n",
       "      <th>42</th>\n",
       "      <td>42 Coin</td>\n",
       "    </tr>\n",
       "    <tr>\n",
       "      <th>404</th>\n",
       "      <td>404Coin</td>\n",
       "    </tr>\n",
       "    <tr>\n",
       "      <th>1337</th>\n",
       "      <td>EliteCoin</td>\n",
       "    </tr>\n",
       "    <tr>\n",
       "      <th>BTC</th>\n",
       "      <td>Bitcoin</td>\n",
       "    </tr>\n",
       "    <tr>\n",
       "      <th>ETH</th>\n",
       "      <td>Ethereum</td>\n",
       "    </tr>\n",
       "  </tbody>\n",
       "</table>\n",
       "</div>"
      ],
      "text/plain": [
       "       CoinName\n",
       "42      42 Coin\n",
       "404     404Coin\n",
       "1337  EliteCoin\n",
       "BTC     Bitcoin\n",
       "ETH    Ethereum"
      ]
     },
     "execution_count": 94,
     "metadata": {},
     "output_type": "execute_result"
    }
   ],
   "source": [
    "# Store the 'CoinName'column in its own DataFrame prior to dropping it from crypto_df\n",
    "\n",
    "coin_namedf = pd.DataFrame(crypto_df[\"CoinName\"])\n",
    "coin_namedf.head()\n",
    "\n"
   ]
  },
  {
   "cell_type": "code",
   "execution_count": 95,
   "metadata": {},
   "outputs": [
    {
     "data": {
      "text/html": [
       "<div>\n",
       "<style scoped>\n",
       "    .dataframe tbody tr th:only-of-type {\n",
       "        vertical-align: middle;\n",
       "    }\n",
       "\n",
       "    .dataframe tbody tr th {\n",
       "        vertical-align: top;\n",
       "    }\n",
       "\n",
       "    .dataframe thead th {\n",
       "        text-align: right;\n",
       "    }\n",
       "</style>\n",
       "<table border=\"1\" class=\"dataframe\">\n",
       "  <thead>\n",
       "    <tr style=\"text-align: right;\">\n",
       "      <th></th>\n",
       "      <th>Algorithm</th>\n",
       "      <th>ProofType</th>\n",
       "      <th>TotalCoinsMined</th>\n",
       "      <th>TotalCoinSupply</th>\n",
       "    </tr>\n",
       "  </thead>\n",
       "  <tbody>\n",
       "    <tr>\n",
       "      <th>42</th>\n",
       "      <td>Scrypt</td>\n",
       "      <td>PoW/PoS</td>\n",
       "      <td>4.199995e+01</td>\n",
       "      <td>42</td>\n",
       "    </tr>\n",
       "    <tr>\n",
       "      <th>404</th>\n",
       "      <td>Scrypt</td>\n",
       "      <td>PoW/PoS</td>\n",
       "      <td>1.055185e+09</td>\n",
       "      <td>532000000</td>\n",
       "    </tr>\n",
       "    <tr>\n",
       "      <th>1337</th>\n",
       "      <td>X13</td>\n",
       "      <td>PoW/PoS</td>\n",
       "      <td>2.927942e+10</td>\n",
       "      <td>314159265359</td>\n",
       "    </tr>\n",
       "    <tr>\n",
       "      <th>BTC</th>\n",
       "      <td>SHA-256</td>\n",
       "      <td>PoW</td>\n",
       "      <td>1.792718e+07</td>\n",
       "      <td>21000000</td>\n",
       "    </tr>\n",
       "    <tr>\n",
       "      <th>ETH</th>\n",
       "      <td>Ethash</td>\n",
       "      <td>PoW</td>\n",
       "      <td>1.076842e+08</td>\n",
       "      <td>0</td>\n",
       "    </tr>\n",
       "  </tbody>\n",
       "</table>\n",
       "</div>"
      ],
      "text/plain": [
       "     Algorithm ProofType  TotalCoinsMined TotalCoinSupply\n",
       "42      Scrypt   PoW/PoS     4.199995e+01              42\n",
       "404     Scrypt   PoW/PoS     1.055185e+09       532000000\n",
       "1337       X13   PoW/PoS     2.927942e+10    314159265359\n",
       "BTC    SHA-256       PoW     1.792718e+07        21000000\n",
       "ETH     Ethash       PoW     1.076842e+08               0"
      ]
     },
     "execution_count": 95,
     "metadata": {},
     "output_type": "execute_result"
    }
   ],
   "source": [
    "# Drop the 'CoinName' column since it's not going to be used on the clustering algorithm\n",
    "\n",
    "crypto_df.drop(['CoinName'], axis = 1, inplace = True)\n",
    "crypto_df.head()\n"
   ]
  },
  {
   "cell_type": "code",
   "execution_count": 96,
   "metadata": {},
   "outputs": [
    {
     "data": {
      "text/html": [
       "<div>\n",
       "<style scoped>\n",
       "    .dataframe tbody tr th:only-of-type {\n",
       "        vertical-align: middle;\n",
       "    }\n",
       "\n",
       "    .dataframe tbody tr th {\n",
       "        vertical-align: top;\n",
       "    }\n",
       "\n",
       "    .dataframe thead th {\n",
       "        text-align: right;\n",
       "    }\n",
       "</style>\n",
       "<table border=\"1\" class=\"dataframe\">\n",
       "  <thead>\n",
       "    <tr style=\"text-align: right;\">\n",
       "      <th></th>\n",
       "      <th>TotalCoinsMined</th>\n",
       "      <th>Algorithm_1GB AES Pattern Search</th>\n",
       "      <th>Algorithm_536</th>\n",
       "      <th>Algorithm_Argon2d</th>\n",
       "      <th>Algorithm_BLAKE256</th>\n",
       "      <th>Algorithm_Blake</th>\n",
       "      <th>Algorithm_Blake2S</th>\n",
       "      <th>Algorithm_Blake2b</th>\n",
       "      <th>Algorithm_C11</th>\n",
       "      <th>Algorithm_Cloverhash</th>\n",
       "      <th>...</th>\n",
       "      <th>TotalCoinSupply_91388946</th>\n",
       "      <th>TotalCoinSupply_92000000000</th>\n",
       "      <th>TotalCoinSupply_9354000</th>\n",
       "      <th>TotalCoinSupply_9507271</th>\n",
       "      <th>TotalCoinSupply_9736000</th>\n",
       "      <th>TotalCoinSupply_98000000</th>\n",
       "      <th>TotalCoinSupply_98100000000</th>\n",
       "      <th>TotalCoinSupply_990000000000</th>\n",
       "      <th>TotalCoinSupply_999481516</th>\n",
       "      <th>TotalCoinSupply_9999999</th>\n",
       "    </tr>\n",
       "  </thead>\n",
       "  <tbody>\n",
       "    <tr>\n",
       "      <th>42</th>\n",
       "      <td>4.199995e+01</td>\n",
       "      <td>0</td>\n",
       "      <td>0</td>\n",
       "      <td>0</td>\n",
       "      <td>0</td>\n",
       "      <td>0</td>\n",
       "      <td>0</td>\n",
       "      <td>0</td>\n",
       "      <td>0</td>\n",
       "      <td>0</td>\n",
       "      <td>...</td>\n",
       "      <td>0</td>\n",
       "      <td>0</td>\n",
       "      <td>0</td>\n",
       "      <td>0</td>\n",
       "      <td>0</td>\n",
       "      <td>0</td>\n",
       "      <td>0</td>\n",
       "      <td>0</td>\n",
       "      <td>0</td>\n",
       "      <td>0</td>\n",
       "    </tr>\n",
       "    <tr>\n",
       "      <th>404</th>\n",
       "      <td>1.055185e+09</td>\n",
       "      <td>0</td>\n",
       "      <td>0</td>\n",
       "      <td>0</td>\n",
       "      <td>0</td>\n",
       "      <td>0</td>\n",
       "      <td>0</td>\n",
       "      <td>0</td>\n",
       "      <td>0</td>\n",
       "      <td>0</td>\n",
       "      <td>...</td>\n",
       "      <td>0</td>\n",
       "      <td>0</td>\n",
       "      <td>0</td>\n",
       "      <td>0</td>\n",
       "      <td>0</td>\n",
       "      <td>0</td>\n",
       "      <td>0</td>\n",
       "      <td>0</td>\n",
       "      <td>0</td>\n",
       "      <td>0</td>\n",
       "    </tr>\n",
       "    <tr>\n",
       "      <th>1337</th>\n",
       "      <td>2.927942e+10</td>\n",
       "      <td>0</td>\n",
       "      <td>0</td>\n",
       "      <td>0</td>\n",
       "      <td>0</td>\n",
       "      <td>0</td>\n",
       "      <td>0</td>\n",
       "      <td>0</td>\n",
       "      <td>0</td>\n",
       "      <td>0</td>\n",
       "      <td>...</td>\n",
       "      <td>0</td>\n",
       "      <td>0</td>\n",
       "      <td>0</td>\n",
       "      <td>0</td>\n",
       "      <td>0</td>\n",
       "      <td>0</td>\n",
       "      <td>0</td>\n",
       "      <td>0</td>\n",
       "      <td>0</td>\n",
       "      <td>0</td>\n",
       "    </tr>\n",
       "    <tr>\n",
       "      <th>BTC</th>\n",
       "      <td>1.792718e+07</td>\n",
       "      <td>0</td>\n",
       "      <td>0</td>\n",
       "      <td>0</td>\n",
       "      <td>0</td>\n",
       "      <td>0</td>\n",
       "      <td>0</td>\n",
       "      <td>0</td>\n",
       "      <td>0</td>\n",
       "      <td>0</td>\n",
       "      <td>...</td>\n",
       "      <td>0</td>\n",
       "      <td>0</td>\n",
       "      <td>0</td>\n",
       "      <td>0</td>\n",
       "      <td>0</td>\n",
       "      <td>0</td>\n",
       "      <td>0</td>\n",
       "      <td>0</td>\n",
       "      <td>0</td>\n",
       "      <td>0</td>\n",
       "    </tr>\n",
       "    <tr>\n",
       "      <th>ETH</th>\n",
       "      <td>1.076842e+08</td>\n",
       "      <td>0</td>\n",
       "      <td>0</td>\n",
       "      <td>0</td>\n",
       "      <td>0</td>\n",
       "      <td>0</td>\n",
       "      <td>0</td>\n",
       "      <td>0</td>\n",
       "      <td>0</td>\n",
       "      <td>0</td>\n",
       "      <td>...</td>\n",
       "      <td>0</td>\n",
       "      <td>0</td>\n",
       "      <td>0</td>\n",
       "      <td>0</td>\n",
       "      <td>0</td>\n",
       "      <td>0</td>\n",
       "      <td>0</td>\n",
       "      <td>0</td>\n",
       "      <td>0</td>\n",
       "      <td>0</td>\n",
       "    </tr>\n",
       "  </tbody>\n",
       "</table>\n",
       "<p>5 rows × 379 columns</p>\n",
       "</div>"
      ],
      "text/plain": [
       "      TotalCoinsMined  Algorithm_1GB AES Pattern Search  Algorithm_536  \\\n",
       "42       4.199995e+01                                 0              0   \n",
       "404      1.055185e+09                                 0              0   \n",
       "1337     2.927942e+10                                 0              0   \n",
       "BTC      1.792718e+07                                 0              0   \n",
       "ETH      1.076842e+08                                 0              0   \n",
       "\n",
       "      Algorithm_Argon2d  Algorithm_BLAKE256  Algorithm_Blake  \\\n",
       "42                    0                   0                0   \n",
       "404                   0                   0                0   \n",
       "1337                  0                   0                0   \n",
       "BTC                   0                   0                0   \n",
       "ETH                   0                   0                0   \n",
       "\n",
       "      Algorithm_Blake2S  Algorithm_Blake2b  Algorithm_C11  \\\n",
       "42                    0                  0              0   \n",
       "404                   0                  0              0   \n",
       "1337                  0                  0              0   \n",
       "BTC                   0                  0              0   \n",
       "ETH                   0                  0              0   \n",
       "\n",
       "      Algorithm_Cloverhash  ...  TotalCoinSupply_91388946  \\\n",
       "42                       0  ...                         0   \n",
       "404                      0  ...                         0   \n",
       "1337                     0  ...                         0   \n",
       "BTC                      0  ...                         0   \n",
       "ETH                      0  ...                         0   \n",
       "\n",
       "      TotalCoinSupply_92000000000  TotalCoinSupply_9354000  \\\n",
       "42                              0                        0   \n",
       "404                             0                        0   \n",
       "1337                            0                        0   \n",
       "BTC                             0                        0   \n",
       "ETH                             0                        0   \n",
       "\n",
       "      TotalCoinSupply_9507271  TotalCoinSupply_9736000  \\\n",
       "42                          0                        0   \n",
       "404                         0                        0   \n",
       "1337                        0                        0   \n",
       "BTC                         0                        0   \n",
       "ETH                         0                        0   \n",
       "\n",
       "      TotalCoinSupply_98000000  TotalCoinSupply_98100000000  \\\n",
       "42                           0                            0   \n",
       "404                          0                            0   \n",
       "1337                         0                            0   \n",
       "BTC                          0                            0   \n",
       "ETH                          0                            0   \n",
       "\n",
       "      TotalCoinSupply_990000000000  TotalCoinSupply_999481516  \\\n",
       "42                               0                          0   \n",
       "404                              0                          0   \n",
       "1337                             0                          0   \n",
       "BTC                              0                          0   \n",
       "ETH                              0                          0   \n",
       "\n",
       "      TotalCoinSupply_9999999  \n",
       "42                          0  \n",
       "404                         0  \n",
       "1337                        0  \n",
       "BTC                         0  \n",
       "ETH                         0  \n",
       "\n",
       "[5 rows x 379 columns]"
      ]
     },
     "execution_count": 96,
     "metadata": {},
     "output_type": "execute_result"
    }
   ],
   "source": [
    "# Create dummy variables for text features\n",
    "\n",
    "X = pd.get_dummies(crypto_df)\n",
    "X.head()\n"
   ]
  },
  {
   "cell_type": "code",
   "execution_count": 97,
   "metadata": {},
   "outputs": [
    {
     "data": {
      "text/plain": [
       "array([[-0.11674788, -0.0433555 , -0.0433555 , ..., -0.0433555 ,\n",
       "        -0.0433555 , -0.0433555 ],\n",
       "       [-0.09358885, -0.0433555 , -0.0433555 , ..., -0.0433555 ,\n",
       "        -0.0433555 , -0.0433555 ],\n",
       "       [ 0.52587231, -0.0433555 , -0.0433555 , ..., -0.0433555 ,\n",
       "        -0.0433555 , -0.0433555 ],\n",
       "       ...,\n",
       "       [-0.09523411, -0.0433555 , -0.0433555 , ..., -0.0433555 ,\n",
       "        -0.0433555 , -0.0433555 ],\n",
       "       [-0.11658774, -0.0433555 , -0.0433555 , ..., -0.0433555 ,\n",
       "        -0.0433555 , -0.0433555 ],\n",
       "       [-0.11674507, -0.0433555 , -0.0433555 , ..., -0.0433555 ,\n",
       "        -0.0433555 , -0.0433555 ]])"
      ]
     },
     "execution_count": 97,
     "metadata": {},
     "output_type": "execute_result"
    }
   ],
   "source": [
    "# Standardize data\n",
    "\n",
    "ss_crypto_df = StandardScaler().fit_transform(X)\n",
    "ss_crypto_df\n"
   ]
  },
  {
   "cell_type": "markdown",
   "metadata": {},
   "source": [
    "### Reducing Dimensions Using PCA"
   ]
  },
  {
   "cell_type": "code",
   "execution_count": 98,
   "metadata": {},
   "outputs": [],
   "source": [
    "# Use PCA to reduce dimensions to 3 principal components\n",
    "\n",
    "pca = PCA(n_components=3)\n",
    "cryptodf_pca = pca.fit_transform(ss_crypto_df)\n",
    "\n"
   ]
  },
  {
   "cell_type": "code",
   "execution_count": 99,
   "metadata": {},
   "outputs": [
    {
     "data": {
      "text/html": [
       "<div>\n",
       "<style scoped>\n",
       "    .dataframe tbody tr th:only-of-type {\n",
       "        vertical-align: middle;\n",
       "    }\n",
       "\n",
       "    .dataframe tbody tr th {\n",
       "        vertical-align: top;\n",
       "    }\n",
       "\n",
       "    .dataframe thead th {\n",
       "        text-align: right;\n",
       "    }\n",
       "</style>\n",
       "<table border=\"1\" class=\"dataframe\">\n",
       "  <thead>\n",
       "    <tr style=\"text-align: right;\">\n",
       "      <th></th>\n",
       "      <th>PC 1</th>\n",
       "      <th>PC 2</th>\n",
       "      <th>PC 3</th>\n",
       "    </tr>\n",
       "  </thead>\n",
       "  <tbody>\n",
       "    <tr>\n",
       "      <th>42</th>\n",
       "      <td>-0.319884</td>\n",
       "      <td>0.031790</td>\n",
       "      <td>-0.000254</td>\n",
       "    </tr>\n",
       "    <tr>\n",
       "      <th>404</th>\n",
       "      <td>-0.305927</td>\n",
       "      <td>0.038662</td>\n",
       "      <td>-0.004613</td>\n",
       "    </tr>\n",
       "    <tr>\n",
       "      <th>1337</th>\n",
       "      <td>0.402812</td>\n",
       "      <td>0.083740</td>\n",
       "      <td>0.042561</td>\n",
       "    </tr>\n",
       "    <tr>\n",
       "      <th>BTC</th>\n",
       "      <td>-0.225843</td>\n",
       "      <td>-0.101184</td>\n",
       "      <td>-0.068309</td>\n",
       "    </tr>\n",
       "    <tr>\n",
       "      <th>ETH</th>\n",
       "      <td>-0.169229</td>\n",
       "      <td>-0.065328</td>\n",
       "      <td>-0.104012</td>\n",
       "    </tr>\n",
       "  </tbody>\n",
       "</table>\n",
       "</div>"
      ],
      "text/plain": [
       "          PC 1      PC 2      PC 3\n",
       "42   -0.319884  0.031790 -0.000254\n",
       "404  -0.305927  0.038662 -0.004613\n",
       "1337  0.402812  0.083740  0.042561\n",
       "BTC  -0.225843 -0.101184 -0.068309\n",
       "ETH  -0.169229 -0.065328 -0.104012"
      ]
     },
     "execution_count": 99,
     "metadata": {},
     "output_type": "execute_result"
    }
   ],
   "source": [
    "# Create a DataFrame with the principal components data\n",
    "\n",
    "pcs_df = pd.DataFrame(data = cryptodf_pca, columns = [\"PC 1\", \"PC 2\", \"PC 3\"], index = crypto_df.index)\n",
    "pcs_df.head()\n",
    "\n"
   ]
  },
  {
   "cell_type": "markdown",
   "metadata": {},
   "source": [
    "### Clustering Crytocurrencies Using K-Means\n",
    "\n",
    "#### Find the Best Value for `k` Using the Elbow Curve"
   ]
  },
  {
   "cell_type": "code",
   "execution_count": 100,
   "metadata": {},
   "outputs": [
    {
     "data": {
      "application/vnd.holoviews_exec.v0+json": "",
      "text/html": [
       "<div id='1359'>\n",
       "\n",
       "\n",
       "\n",
       "\n",
       "\n",
       "  <div class=\"bk-root\" id=\"52e900fa-28a1-4b0d-9fa8-02f8ae41f68c\" data-root-id=\"1359\"></div>\n",
       "</div>\n",
       "<script type=\"application/javascript\">(function(root) {\n",
       "  function embed_document(root) {\n",
       "    var docs_json = {\"44d85d9a-018c-4d77-9a7b-89d86a3ff633\":{\"roots\":{\"references\":[{\"attributes\":{\"axis\":{\"id\":\"1373\"},\"grid_line_color\":null,\"ticker\":null},\"id\":\"1376\",\"type\":\"Grid\"},{\"attributes\":{\"children\":[{\"id\":\"1360\"},{\"id\":\"1364\"},{\"id\":\"1423\"}],\"margin\":[0,0,0,0],\"name\":\"Row02273\",\"tags\":[\"embedded\"]},\"id\":\"1359\",\"type\":\"Row\"},{\"attributes\":{},\"id\":\"1371\",\"type\":\"LinearScale\"},{\"attributes\":{\"line_color\":\"#1f77b3\",\"line_width\":2,\"x\":{\"field\":\"k\"},\"y\":{\"field\":\"inertia\"}},\"id\":\"1397\",\"type\":\"Line\"},{\"attributes\":{\"margin\":[5,5,5,5],\"name\":\"HSpacer02277\",\"sizing_mode\":\"stretch_width\"},\"id\":\"1360\",\"type\":\"Spacer\"},{\"attributes\":{\"below\":[{\"id\":\"1373\"}],\"center\":[{\"id\":\"1376\"},{\"id\":\"1380\"}],\"left\":[{\"id\":\"1377\"}],\"margin\":[5,5,5,5],\"min_border_bottom\":10,\"min_border_left\":10,\"min_border_right\":10,\"min_border_top\":10,\"plot_height\":300,\"plot_width\":700,\"renderers\":[{\"id\":\"1400\"}],\"sizing_mode\":\"fixed\",\"title\":{\"id\":\"1365\"},\"toolbar\":{\"id\":\"1387\"},\"x_range\":{\"id\":\"1361\"},\"x_scale\":{\"id\":\"1369\"},\"y_range\":{\"id\":\"1362\"},\"y_scale\":{\"id\":\"1371\"}},\"id\":\"1364\",\"subtype\":\"Figure\",\"type\":\"Plot\"},{\"attributes\":{},\"id\":\"1382\",\"type\":\"PanTool\"},{\"attributes\":{\"ticks\":[1,2,3,4,5,6,7,8,9,10]},\"id\":\"1402\",\"type\":\"FixedTicker\"},{\"attributes\":{\"line_alpha\":0.1,\"line_color\":\"#1f77b3\",\"line_width\":2,\"x\":{\"field\":\"k\"},\"y\":{\"field\":\"inertia\"}},\"id\":\"1398\",\"type\":\"Line\"},{\"attributes\":{\"axis_label\":\"k\",\"bounds\":\"auto\",\"formatter\":{\"id\":\"1403\"},\"major_label_orientation\":\"horizontal\",\"ticker\":{\"id\":\"1402\"}},\"id\":\"1373\",\"type\":\"LinearAxis\"},{\"attributes\":{\"bottom_units\":\"screen\",\"fill_alpha\":0.5,\"fill_color\":\"lightgrey\",\"left_units\":\"screen\",\"level\":\"overlay\",\"line_alpha\":1.0,\"line_color\":\"black\",\"line_dash\":[4,4],\"line_width\":2,\"right_units\":\"screen\",\"top_units\":\"screen\"},\"id\":\"1386\",\"type\":\"BoxAnnotation\"},{\"attributes\":{},\"id\":\"1381\",\"type\":\"SaveTool\"},{\"attributes\":{\"line_alpha\":0.2,\"line_color\":\"#1f77b3\",\"line_width\":2,\"x\":{\"field\":\"k\"},\"y\":{\"field\":\"inertia\"}},\"id\":\"1399\",\"type\":\"Line\"},{\"attributes\":{\"margin\":[5,5,5,5],\"name\":\"HSpacer02278\",\"sizing_mode\":\"stretch_width\"},\"id\":\"1423\",\"type\":\"Spacer\"},{\"attributes\":{\"end\":5363.414334627674,\"reset_end\":5363.414334627674,\"reset_start\":-452.2832505227475,\"start\":-452.2832505227475,\"tags\":[[[\"inertia\",\"inertia\",null]]]},\"id\":\"1362\",\"type\":\"Range1d\"},{\"attributes\":{\"end\":10.0,\"reset_end\":10.0,\"reset_start\":1.0,\"start\":1.0,\"tags\":[[[\"k\",\"k\",null]]]},\"id\":\"1361\",\"type\":\"Range1d\"},{\"attributes\":{},\"id\":\"1403\",\"type\":\"BasicTickFormatter\"},{\"attributes\":{},\"id\":\"1385\",\"type\":\"ResetTool\"},{\"attributes\":{},\"id\":\"1378\",\"type\":\"BasicTicker\"},{\"attributes\":{},\"id\":\"1414\",\"type\":\"UnionRenderers\"},{\"attributes\":{},\"id\":\"1369\",\"type\":\"LinearScale\"},{\"attributes\":{\"source\":{\"id\":\"1394\"}},\"id\":\"1401\",\"type\":\"CDSView\"},{\"attributes\":{\"axis\":{\"id\":\"1377\"},\"dimension\":1,\"grid_line_color\":null,\"ticker\":null},\"id\":\"1380\",\"type\":\"Grid\"},{\"attributes\":{},\"id\":\"1383\",\"type\":\"WheelZoomTool\"},{\"attributes\":{\"active_drag\":\"auto\",\"active_inspect\":\"auto\",\"active_multi\":null,\"active_scroll\":\"auto\",\"active_tap\":\"auto\",\"tools\":[{\"id\":\"1363\"},{\"id\":\"1381\"},{\"id\":\"1382\"},{\"id\":\"1383\"},{\"id\":\"1384\"},{\"id\":\"1385\"}]},\"id\":\"1387\",\"type\":\"Toolbar\"},{\"attributes\":{\"overlay\":{\"id\":\"1386\"}},\"id\":\"1384\",\"type\":\"BoxZoomTool\"},{\"attributes\":{},\"id\":\"1407\",\"type\":\"BasicTickFormatter\"},{\"attributes\":{\"callback\":null,\"renderers\":[{\"id\":\"1400\"}],\"tags\":[\"hv_created\"],\"tooltips\":[[\"k\",\"@{k}\"],[\"inertia\",\"@{inertia}\"]]},\"id\":\"1363\",\"type\":\"HoverTool\"},{\"attributes\":{},\"id\":\"1395\",\"type\":\"Selection\"},{\"attributes\":{\"data_source\":{\"id\":\"1394\"},\"glyph\":{\"id\":\"1397\"},\"hover_glyph\":null,\"muted_glyph\":{\"id\":\"1399\"},\"nonselection_glyph\":{\"id\":\"1398\"},\"selection_glyph\":null,\"view\":{\"id\":\"1401\"}},\"id\":\"1400\",\"type\":\"GlyphRenderer\"},{\"attributes\":{\"text\":\"Elbow Curve\",\"text_color\":{\"value\":\"black\"},\"text_font_size\":{\"value\":\"12pt\"}},\"id\":\"1365\",\"type\":\"Title\"},{\"attributes\":{\"data\":{\"inertia\":{\"__ndarray__\":\"hnvB2sUOs0BpXGnYYNKqQJ8UkwtUHaBAdqNRKEEOkEA+6fyPukJ0QOJKtqJnImZAHKfNPMhbUUAYaVklb45HQGMLKzm8jEJAnRRu/NktQEA=\",\"dtype\":\"float64\",\"order\":\"little\",\"shape\":[10]},\"k\":[1,2,3,4,5,6,7,8,9,10]},\"selected\":{\"id\":\"1395\"},\"selection_policy\":{\"id\":\"1414\"}},\"id\":\"1394\",\"type\":\"ColumnDataSource\"},{\"attributes\":{\"axis_label\":\"inertia\",\"bounds\":\"auto\",\"formatter\":{\"id\":\"1407\"},\"major_label_orientation\":\"horizontal\",\"ticker\":{\"id\":\"1378\"}},\"id\":\"1377\",\"type\":\"LinearAxis\"}],\"root_ids\":[\"1359\"]},\"title\":\"Bokeh Application\",\"version\":\"2.2.3\"}};\n",
       "    var render_items = [{\"docid\":\"44d85d9a-018c-4d77-9a7b-89d86a3ff633\",\"root_ids\":[\"1359\"],\"roots\":{\"1359\":\"52e900fa-28a1-4b0d-9fa8-02f8ae41f68c\"}}];\n",
       "    root.Bokeh.embed.embed_items_notebook(docs_json, render_items);\n",
       "  }\n",
       "  if (root.Bokeh !== undefined && root.Bokeh.Panel !== undefined) {\n",
       "    embed_document(root);\n",
       "  } else {\n",
       "    var attempts = 0;\n",
       "    var timer = setInterval(function(root) {\n",
       "      if (root.Bokeh !== undefined && root.Bokeh.Panel !== undefined) {\n",
       "        clearInterval(timer);\n",
       "        embed_document(root);\n",
       "      } else if (document.readyState == \"complete\") {\n",
       "        attempts++;\n",
       "        if (attempts > 100) {\n",
       "          clearInterval(timer);\n",
       "          console.log(\"Bokeh: ERROR: Unable to run BokehJS code because BokehJS library is missing\");\n",
       "        }\n",
       "      }\n",
       "    }, 10, root)\n",
       "  }\n",
       "})(window);</script>"
      ],
      "text/plain": [
       ":Curve   [k]   (inertia)"
      ]
     },
     "execution_count": 100,
     "metadata": {
      "application/vnd.holoviews_exec.v0+json": {
       "id": "1359"
      }
     },
     "output_type": "execute_result"
    }
   ],
   "source": [
    "inertia = []\n",
    "k = list(range(1, 11))\n",
    "\n",
    "# Calculate the inertia for the range of k values\n",
    "for possible_k in k:\n",
    "    km_model = KMeans(n_clusters=possible_k, random_state=5)\n",
    "    km_model.fit(pcs_df)\n",
    "    inertia.append(km_model.inertia_)\n",
    "\n",
    "\n",
    "# Create the Elbow Curve using hvPlot\n",
    "elbow_data = {\"k\": k, \"inertia\": inertia}\n",
    "df_elbow = pd.DataFrame(elbow_data)\n",
    "df_elbow.hvplot.line(x=\"k\", y=\"inertia\", xticks=k, title=\"Elbow Curve\")"
   ]
  },
  {
   "cell_type": "markdown",
   "metadata": {},
   "source": [
    "Running K-Means with `k=<your best value for k here>`"
   ]
  },
  {
   "cell_type": "code",
   "execution_count": 101,
   "metadata": {},
   "outputs": [],
   "source": [
    "# Initialize the K-Means model\n",
    "#def get_clusters(k, pcs_df):\n",
    "model = KMeans(n_clusters=3, random_state=0)\n",
    "# Fit the model\n",
    "model.fit(pcs_df)\n",
    "# Predict clusters\n",
    "predictions = model.predict(pcs_df)\n",
    "\n",
    "# Create a new DataFrame including predicted clusters and cryptocurrencies features\n",
    "pcs_df[\"class\"] = model.labels_\n",
    "    \n",
    "    #return pcs_df"
   ]
  },
  {
   "cell_type": "code",
   "execution_count": 102,
   "metadata": {},
   "outputs": [
    {
     "data": {
      "text/html": [
       "<div>\n",
       "<style scoped>\n",
       "    .dataframe tbody tr th:only-of-type {\n",
       "        vertical-align: middle;\n",
       "    }\n",
       "\n",
       "    .dataframe tbody tr th {\n",
       "        vertical-align: top;\n",
       "    }\n",
       "\n",
       "    .dataframe thead th {\n",
       "        text-align: right;\n",
       "    }\n",
       "</style>\n",
       "<table border=\"1\" class=\"dataframe\">\n",
       "  <thead>\n",
       "    <tr style=\"text-align: right;\">\n",
       "      <th></th>\n",
       "      <th>Algorithm</th>\n",
       "      <th>ProofType</th>\n",
       "      <th>TotalCoinsMined</th>\n",
       "      <th>TotalCoinSupply</th>\n",
       "      <th>CoinName</th>\n",
       "      <th>PC 1</th>\n",
       "      <th>PC 2</th>\n",
       "      <th>PC 3</th>\n",
       "      <th>class</th>\n",
       "    </tr>\n",
       "  </thead>\n",
       "  <tbody>\n",
       "    <tr>\n",
       "      <th>42</th>\n",
       "      <td>Scrypt</td>\n",
       "      <td>PoW/PoS</td>\n",
       "      <td>4.199995e+01</td>\n",
       "      <td>42</td>\n",
       "      <td>42 Coin</td>\n",
       "      <td>-0.319884</td>\n",
       "      <td>0.031790</td>\n",
       "      <td>-0.000254</td>\n",
       "      <td>0</td>\n",
       "    </tr>\n",
       "    <tr>\n",
       "      <th>404</th>\n",
       "      <td>Scrypt</td>\n",
       "      <td>PoW/PoS</td>\n",
       "      <td>1.055185e+09</td>\n",
       "      <td>532000000</td>\n",
       "      <td>404Coin</td>\n",
       "      <td>-0.305927</td>\n",
       "      <td>0.038662</td>\n",
       "      <td>-0.004613</td>\n",
       "      <td>0</td>\n",
       "    </tr>\n",
       "    <tr>\n",
       "      <th>1337</th>\n",
       "      <td>X13</td>\n",
       "      <td>PoW/PoS</td>\n",
       "      <td>2.927942e+10</td>\n",
       "      <td>314159265359</td>\n",
       "      <td>EliteCoin</td>\n",
       "      <td>0.402812</td>\n",
       "      <td>0.083740</td>\n",
       "      <td>0.042561</td>\n",
       "      <td>0</td>\n",
       "    </tr>\n",
       "    <tr>\n",
       "      <th>BTC</th>\n",
       "      <td>SHA-256</td>\n",
       "      <td>PoW</td>\n",
       "      <td>1.792718e+07</td>\n",
       "      <td>21000000</td>\n",
       "      <td>Bitcoin</td>\n",
       "      <td>-0.225843</td>\n",
       "      <td>-0.101184</td>\n",
       "      <td>-0.068309</td>\n",
       "      <td>0</td>\n",
       "    </tr>\n",
       "    <tr>\n",
       "      <th>ETH</th>\n",
       "      <td>Ethash</td>\n",
       "      <td>PoW</td>\n",
       "      <td>1.076842e+08</td>\n",
       "      <td>0</td>\n",
       "      <td>Ethereum</td>\n",
       "      <td>-0.169229</td>\n",
       "      <td>-0.065328</td>\n",
       "      <td>-0.104012</td>\n",
       "      <td>0</td>\n",
       "    </tr>\n",
       "  </tbody>\n",
       "</table>\n",
       "</div>"
      ],
      "text/plain": [
       "     Algorithm ProofType  TotalCoinsMined TotalCoinSupply   CoinName  \\\n",
       "42      Scrypt   PoW/PoS     4.199995e+01              42    42 Coin   \n",
       "404     Scrypt   PoW/PoS     1.055185e+09       532000000    404Coin   \n",
       "1337       X13   PoW/PoS     2.927942e+10    314159265359  EliteCoin   \n",
       "BTC    SHA-256       PoW     1.792718e+07        21000000    Bitcoin   \n",
       "ETH     Ethash       PoW     1.076842e+08               0   Ethereum   \n",
       "\n",
       "          PC 1      PC 2      PC 3  class  \n",
       "42   -0.319884  0.031790 -0.000254      0  \n",
       "404  -0.305927  0.038662 -0.004613      0  \n",
       "1337  0.402812  0.083740  0.042561      0  \n",
       "BTC  -0.225843 -0.101184 -0.068309      0  \n",
       "ETH  -0.169229 -0.065328 -0.104012      0  "
      ]
     },
     "execution_count": 102,
     "metadata": {},
     "output_type": "execute_result"
    }
   ],
   "source": [
    "# Create a new DataFrame named clustered_df, that includes the following columns \"Algorithm\", \"ProofType\", \"TotalCoinsMined\", \"TotalCoinSupply\", \"PC 1\", \"PC 2\", \"PC 3\", \"CoinName\", \"Class\". You should maintain the index of the crypto_df\n",
    "\n",
    "clustered_df = pd.concat([crypto_df, coin_namedf, pcs_df], axis=\"columns\", sort=False)\n",
    "clustered_df.head()"
   ]
  },
  {
   "cell_type": "markdown",
   "metadata": {},
   "source": [
    "### Visualizing Results\n",
    "\n",
    "#### 3D-Scatter with Clusters"
   ]
  },
  {
   "cell_type": "code",
   "execution_count": 103,
   "metadata": {
    "scrolled": true
   },
   "outputs": [
    {
     "data": {
      "application/vnd.plotly.v1+json": {
       "config": {
        "plotlyServerURL": "https://plot.ly"
       },
       "data": [
        {
         "customdata": [
          [
           "Scrypt"
          ],
          [
           "Scrypt"
          ],
          [
           "Scrypt"
          ],
          [
           "Scrypt"
          ],
          [
           "Scrypt"
          ],
          [
           "Scrypt"
          ],
          [
           "Scrypt"
          ],
          [
           "Scrypt"
          ],
          [
           "Scrypt"
          ],
          [
           "Scrypt"
          ],
          [
           "Scrypt"
          ],
          [
           "Scrypt"
          ],
          [
           "Scrypt"
          ],
          [
           "Scrypt"
          ],
          [
           "Scrypt"
          ],
          [
           "Scrypt"
          ],
          [
           "Scrypt"
          ],
          [
           "Scrypt"
          ],
          [
           "Scrypt"
          ],
          [
           "Scrypt"
          ],
          [
           "Scrypt"
          ],
          [
           "Scrypt"
          ],
          [
           "Scrypt"
          ],
          [
           "Scrypt"
          ],
          [
           "Scrypt"
          ],
          [
           "Scrypt"
          ],
          [
           "Scrypt"
          ],
          [
           "Scrypt"
          ],
          [
           "Scrypt"
          ],
          [
           "Scrypt"
          ],
          [
           "Scrypt"
          ],
          [
           "Scrypt"
          ],
          [
           "Scrypt"
          ],
          [
           "Scrypt"
          ],
          [
           "Scrypt"
          ],
          [
           "Scrypt"
          ],
          [
           "Scrypt"
          ],
          [
           "Scrypt"
          ],
          [
           "Scrypt"
          ],
          [
           "Scrypt"
          ],
          [
           "Scrypt"
          ],
          [
           "Scrypt"
          ],
          [
           "Scrypt"
          ],
          [
           "Scrypt"
          ],
          [
           "Scrypt"
          ],
          [
           "Scrypt"
          ],
          [
           "Scrypt"
          ],
          [
           "Scrypt"
          ],
          [
           "Scrypt"
          ],
          [
           "Scrypt"
          ],
          [
           "Scrypt"
          ],
          [
           "Scrypt"
          ],
          [
           "Scrypt"
          ],
          [
           "Scrypt"
          ],
          [
           "Scrypt"
          ],
          [
           "Scrypt"
          ],
          [
           "Scrypt"
          ],
          [
           "Scrypt"
          ],
          [
           "Scrypt"
          ],
          [
           "Scrypt"
          ],
          [
           "Scrypt"
          ],
          [
           "Scrypt"
          ],
          [
           "Scrypt"
          ],
          [
           "Scrypt"
          ],
          [
           "Scrypt"
          ],
          [
           "Scrypt"
          ],
          [
           "Scrypt"
          ],
          [
           "Scrypt"
          ],
          [
           "Scrypt"
          ],
          [
           "Scrypt"
          ],
          [
           "Scrypt"
          ],
          [
           "Scrypt"
          ],
          [
           "Scrypt"
          ],
          [
           "Scrypt"
          ],
          [
           "Scrypt"
          ],
          [
           "Scrypt"
          ],
          [
           "Scrypt"
          ],
          [
           "Scrypt"
          ],
          [
           "Scrypt"
          ],
          [
           "Scrypt"
          ],
          [
           "Scrypt"
          ],
          [
           "Scrypt"
          ],
          [
           "Scrypt"
          ],
          [
           "Scrypt"
          ],
          [
           "Scrypt"
          ],
          [
           "Scrypt"
          ],
          [
           "Scrypt"
          ],
          [
           "Scrypt"
          ],
          [
           "Scrypt"
          ],
          [
           "Scrypt"
          ],
          [
           "Scrypt"
          ],
          [
           "Scrypt"
          ],
          [
           "Scrypt"
          ],
          [
           "Scrypt"
          ],
          [
           "Scrypt"
          ],
          [
           "Scrypt"
          ],
          [
           "Scrypt"
          ],
          [
           "Scrypt"
          ],
          [
           "Scrypt"
          ],
          [
           "Scrypt"
          ],
          [
           "Scrypt"
          ],
          [
           "Scrypt"
          ],
          [
           "Scrypt"
          ],
          [
           "Scrypt"
          ],
          [
           "Scrypt"
          ],
          [
           "Scrypt"
          ],
          [
           "Scrypt"
          ],
          [
           "Scrypt"
          ],
          [
           "Scrypt"
          ],
          [
           "Scrypt"
          ],
          [
           "Scrypt"
          ],
          [
           "Scrypt"
          ],
          [
           "Scrypt"
          ],
          [
           "Scrypt"
          ],
          [
           "Scrypt"
          ],
          [
           "Scrypt"
          ],
          [
           "Scrypt"
          ],
          [
           "Scrypt"
          ],
          [
           "Scrypt"
          ],
          [
           "Scrypt"
          ],
          [
           "Scrypt"
          ],
          [
           "Scrypt"
          ],
          [
           "Scrypt"
          ],
          [
           "Scrypt"
          ],
          [
           "Scrypt"
          ],
          [
           "Scrypt"
          ],
          [
           "Scrypt"
          ],
          [
           "Scrypt"
          ],
          [
           "Scrypt"
          ],
          [
           "Scrypt"
          ],
          [
           "Scrypt"
          ],
          [
           "Scrypt"
          ],
          [
           "Scrypt"
          ],
          [
           "Scrypt"
          ],
          [
           "Scrypt"
          ],
          [
           "Scrypt"
          ],
          [
           "Scrypt"
          ],
          [
           "Scrypt"
          ],
          [
           "Scrypt"
          ],
          [
           "Scrypt"
          ],
          [
           "Scrypt"
          ],
          [
           "Scrypt"
          ],
          [
           "Scrypt"
          ],
          [
           "Scrypt"
          ],
          [
           "Scrypt"
          ],
          [
           "Scrypt"
          ],
          [
           "Scrypt"
          ],
          [
           "Scrypt"
          ],
          [
           "Scrypt"
          ],
          [
           "Scrypt"
          ],
          [
           "Scrypt"
          ],
          [
           "Scrypt"
          ],
          [
           "Scrypt"
          ],
          [
           "Scrypt"
          ],
          [
           "Scrypt"
          ],
          [
           "Scrypt"
          ],
          [
           "Scrypt"
          ],
          [
           "Scrypt"
          ],
          [
           "Scrypt"
          ],
          [
           "Scrypt"
          ],
          [
           "Scrypt"
          ],
          [
           "Scrypt"
          ],
          [
           "Scrypt"
          ],
          [
           "Scrypt"
          ],
          [
           "Scrypt"
          ],
          [
           "Scrypt"
          ],
          [
           "Scrypt"
          ],
          [
           "Scrypt"
          ],
          [
           "Scrypt"
          ],
          [
           "Scrypt"
          ],
          [
           "Scrypt"
          ],
          [
           "Scrypt"
          ],
          [
           "Scrypt"
          ],
          [
           "Scrypt"
          ],
          [
           "Scrypt"
          ],
          [
           "Scrypt"
          ],
          [
           "Scrypt"
          ],
          [
           "Scrypt"
          ],
          [
           "Scrypt"
          ],
          [
           "Scrypt"
          ],
          [
           "Scrypt"
          ],
          [
           "Scrypt"
          ]
         ],
         "hovertemplate": "<b>%{hovertext}</b><br><br>Algorithm=%{customdata[0]}<br>class=0<br>PC 1=%{x}<br>PC 2=%{y}<br>PC 3=%{z}<extra></extra>",
         "hovertext": [
          "42 Coin",
          "404Coin",
          "Litecoin",
          "ProsperCoin",
          "Argentum",
          "Aurora Coin",
          "BlueCoin",
          "MoonCoin",
          "SexCoin",
          "Quatloo",
          "EnergyCoin",
          "Digitalcoin ",
          "BitBar",
          "Catcoin",
          "CryptoBullion",
          "CannaCoin",
          "CasinoCoin",
          "EarthCoin",
          "E-Gulden",
          "Einsteinium",
          "Emerald",
          "FlutterCoin",
          "Franko",
          "GrandCoin",
          "GlobalCoin",
          "GoldCoin",
          "HoboNickels",
          "Infinite Coin",
          "KrugerCoin",
          "LuckyCoin",
          "Litebar ",
          "MegaCoin",
          "MintCoin",
          "MinCoin",
          "Nautilus Coin",
          "NobleCoin",
          "NyanCoin",
          "PotCoin",
          "PhoenixCoin",
          "Reddcoin",
          "RonPaulCoin",
          "StableCoin",
          "SmartCoin",
          "UnitaryStatus Dollar",
          "UltraCoin",
          "ViaCoin",
          "VeriCoin",
          "WorldCoin",
          "ZCC Coin",
          "MonaCoin",
          "Gulden",
          "RubyCoin",
          "PesetaCoin",
          "Wild Beast Coin",
          "Dnotes",
          "Flo",
          "8BIT Coin",
          "ArtByte",
          "OmniCron",
          "Vtorrent",
          "GreenCoin",
          "MasterCoin",
          "1Credit",
          "Song Coin",
          "BitZeny",
          "Diggits",
          "Revolution VR",
          "Gamecredits",
          "BillaryCoin",
          "GPU Coin",
          "YoCoin",
          "ZeitCoin",
          "SafeExchangeCoin",
          "Francs",
          "Omni",
          "PutinCoin",
          "iBankCoin",
          "Frankywillcoin",
          "CarterCoin",
          "ZoneCoin",
          "RootCoin",
          "DopeCoin",
          "BitCurrency",
          "Swiscoin",
          "Shilling",
          "PesoBit",
          "KiloCoin",
          "PLNCoin",
          "AquariusCoin",
          "BitcoinFast",
          "BitConnect Coin",
          "MoneyCoin",
          "Russiacoin",
          "PandaCoin",
          "GameUnits",
          "GAKHcoin",
          "OsmiumCoin",
          "Klingon Empire Darsek",
          "Printerium",
          "Impeach",
          "Zilbercoin",
          "FirstCoin",
          "BeaverCoin",
          "OpenChat",
          "Canada eCoin",
          "RenosCoin",
          "EB3coin",
          "Independent Money System",
          "ArgusCoin",
          "LomoCoin",
          "BenjiRolls",
          "GrowthCoin",
          "Degas Coin",
          "EquiTrader",
          "Unify",
          "SocialCoin",
          "Linda",
          "gCn Coin",
          "Draftcoin",
          "Sojourn Coin",
          "NewYorkCoin",
          "FrazCoin",
          "Kronecoin",
          "AdCoin",
          "Linx",
          "CoinonatX",
          "Ethereum Dark",
          "TerraNovaCoin",
          "WomenCoin",
          "Xios",
          "eBoost",
          "BlackholeCoin",
          "Cash & Back Coin",
          "GermanCoin",
          "LiteCoin Ultra",
          "PopularCoin",
          "IrishCoin",
          "Trollcoin",
          "Litecoin Plus",
          "My Big Coin",
          "Unified Society USDEX",
          "ShareChain",
          "BitFlip",
          "LottoCoin",
          "Velox",
          "Poseidon",
          "Briacoin",
          "Ignition",
          "MedicCoin",
          "Abjcoin",
          "iDealCash",
          "HollyWoodCoin",
          "Swisscoin",
          "Xt3ch",
          "EmaratCoin",
          "Lynx",
          "Peony Coin",
          "HexCoin",
          "TPCash",
          "MMOCoin",
          "ThunderStake",
          "Block-Logic",
          "Oduwa",
          "Credit",
          "Nasdacoin",
          "LiteDoge",
          "SolarCoin",
          "OrangeCoin",
          "BitstarCoin",
          "HyperCoin",
          "Crypto Escudo",
          "AudioCoin",
          "Genstake",
          "SmileyCoin",
          "XiaoMiCoin",
          " ClubCoin",
          "Bata",
          "Pakcoin",
          "HiCoin",
          "WhiteCoin",
          "Gapcoin",
          "BitcoinPlus"
         ],
         "legendgroup": "Scrypt, 0",
         "marker": {
          "color": "#636efa",
          "symbol": "circle"
         },
         "mode": "markers",
         "name": "Scrypt, 0",
         "scene": "scene",
         "showlegend": true,
         "type": "scatter3d",
         "x": [
          -0.31988371124735754,
          -0.30592746943450283,
          -0.34233381893724624,
          -0.273972171390793,
          -0.2960361586048238,
          -0.31849735580661004,
          -0.14007234963802015,
          -0.3069962509455256,
          -0.30898181204893477,
          -0.19370483872754274,
          -0.14578181316801772,
          -0.31312776984181057,
          -0.3157632027025451,
          -0.302788700126722,
          -0.29353913895998385,
          -0.3128766927046199,
          0.9754388156854626,
          -0.1003645733749152,
          -0.3026361406581143,
          -0.30693300852016264,
          -0.3074543064331547,
          -0.06456425788720993,
          -0.3030003777460161,
          -0.29538367640026736,
          -0.28582486104043825,
          -0.3022499885146663,
          -0.2858725497155546,
          1.1751667442145755,
          -0.30478826847760665,
          -0.2678500787086229,
          -0.3082617278346483,
          -0.29417641492224483,
          0.18090571451205187,
          -0.28874403854072644,
          -0.17211420030042915,
          -0.26836990331187355,
          -0.30178208697716125,
          -0.3114200901210289,
          -0.32224385550488327,
          0.17952301462892015,
          -0.274024146080329,
          -0.31014881704343783,
          -0.2989484233634514,
          -0.30465634917155926,
          -0.20023086636540446,
          -0.2147938871915296,
          -0.06651219431038968,
          -0.305143083404156,
          -0.21933379464264083,
          -0.29980201454429245,
          -0.2996472563220824,
          -0.056078869509986765,
          -0.29834219159247116,
          -0.3069446818540951,
          -0.04862723579800551,
          -0.30736249502023383,
          -0.14713679892282258,
          -0.20514749632447035,
          -0.30884170772752445,
          -0.27493995325607556,
          -0.23806895226205493,
          -0.3052159824023216,
          0.09824453530935416,
          -0.31162834271255524,
          -0.3095760519880807,
          -0.10890495802998879,
          -0.2574074237844868,
          -0.3422580785940935,
          -0.3015051118143093,
          -0.1812211725453933,
          -0.3089599702180511,
          0.42707174593108804,
          0.3529604115242516,
          -0.2679922189448778,
          -0.30606030588917527,
          -0.05359130217421032,
          -0.3157857049456804,
          -0.1996763155853216,
          -0.3591518583285504,
          -0.28101150758683957,
          -0.14713153868576262,
          -0.19720458125381832,
          -0.05449188670019155,
          0.4728290157330715,
          -0.28908237152835276,
          -0.14677959476318775,
          -0.28725655783771364,
          -0.32472827770605145,
          -0.3015780920298585,
          -0.3134058903266721,
          -0.321631269779334,
          -0.3249278383359998,
          -0.31200607236853883,
          0.3707398192627296,
          -0.3223764482743083,
          -0.31945399762038945,
          -0.30341386480501836,
          -0.14107769467981332,
          -0.27493753506342683,
          -0.32594059056614466,
          -0.17578453003087854,
          -0.21152913906963644,
          -0.3117524098712545,
          -0.20983947769667954,
          -0.3066205422248878,
          -0.17849644452480382,
          -0.2846742665954591,
          -0.325259017148497,
          -0.3178791690121771,
          -0.2209773427898813,
          -0.3079588171462939,
          0.03140823570447015,
          -0.30218576375361905,
          -0.3035685871094913,
          -0.3096594221945316,
          -0.29998866598595775,
          -0.08150157795792018,
          2.3598476479517583,
          -0.18439234605741545,
          -0.3092573735649796,
          1.453436461606249,
          -0.26795730394595807,
          -0.34284179800800046,
          -0.19342303306417977,
          -0.19341111187189794,
          -0.3271912191025379,
          -0.32035638663730726,
          -0.3219664853307129,
          0.4667433912595379,
          -0.2810163246939914,
          -0.1926725975854508,
          -0.32360838188585345,
          -0.26551470999850935,
          -0.1275622014869319,
          -0.19142073190229708,
          -0.2492823466374392,
          -0.29566533562878233,
          -0.31306404229966894,
          -0.32008664748465504,
          -0.2860107889728459,
          -0.314291423672901,
          -0.17800962375772383,
          -0.2926825152366892,
          -0.07529144111430794,
          -0.17949957421003024,
          -0.2739910940368919,
          -0.3074572176204542,
          -0.3127644572788033,
          -0.04759477896715127,
          -0.29610000429469796,
          -0.30119830972377937,
          -0.1752378161390484,
          -0.15224906327019652,
          -0.18669258135054528,
          -0.34979943130239277,
          1.6256444045524325,
          -0.1829547064134488,
          -0.3071876987178041,
          -0.22092269757663163,
          -0.17503923028043653,
          -0.30447607948206745,
          -0.27947026771659583,
          -0.2808756069184808,
          0.17721243556994118,
          -0.34981116324044775,
          -0.0664621985767964,
          -0.3051939818122557,
          -0.2054710520788526,
          -0.3207416214330382,
          -0.14704583104771235,
          -0.20528485645550068,
          -0.3053378789683515,
          -0.2427831166805865,
          0.15437795068354523,
          -0.2682679069694156,
          -0.3149084391405987,
          -0.30571749827640593,
          -0.3023086062784115,
          -0.01984044853897063,
          -0.3702609906794213,
          -0.31725610363911266,
          -0.202777930731622
         ],
         "y": [
          0.03178971813306794,
          0.03866235059202989,
          -0.08437837293828292,
          -0.09516590101076475,
          -0.09010802953598691,
          0.03139162341885813,
          0.049562525605849964,
          -0.08617962061421525,
          -0.07743732965035444,
          -0.035119955191415836,
          0.049608466203275255,
          -0.08075817395111388,
          0.035067501056416664,
          -0.08866948708290602,
          0.03685102432761303,
          -0.08433289903169629,
          -0.05451042469214343,
          -0.09009922942633707,
          -0.08867071463661459,
          -0.09103765660185102,
          -0.09312874989422536,
          0.09715616265399829,
          -0.08381100547952125,
          -0.08931429233714222,
          -0.12519458816069293,
          -0.08954540813020695,
          0.01868545223823884,
          -0.10241489614884663,
          -0.08956951752214605,
          -0.06957338978253713,
          -0.08909063891885703,
          -0.07265469033834075,
          0.05602611380918211,
          -0.05780250856556522,
          0.048553283972166,
          -0.09377068595511333,
          -0.09071979970542926,
          0.02056449622497378,
          0.03847422712468906,
          0.046990935141763994,
          -0.09516548280189542,
          -0.07742793946748266,
          -0.08739990442861112,
          0.031850381560669654,
          0.04379745953094851,
          -0.11019115876011622,
          0.10086949818778279,
          -0.0895666625411805,
          0.009783014771681031,
          -0.09179523373475733,
          -0.08598333334754955,
          0.05793298532405639,
          -0.08724859000256113,
          -0.08539647014214567,
          0.04213900560782427,
          -0.06188414957017609,
          0.049619368953551436,
          -0.0691960375125388,
          -0.08574145500234288,
          0.009348561874645459,
          -0.10025525033940741,
          -0.08788501170352479,
          0.08505151050748033,
          -0.08978411802365263,
          -0.07743254816122232,
          0.052108919637254655,
          -0.08027783293414938,
          -0.0843789823749848,
          0.0062691829777038995,
          0.04795418417082461,
          -0.08301979499211602,
          0.04605430036319668,
          -0.046497920377799276,
          -0.069572246066085,
          -0.09228587277292202,
          0.03187554041250816,
          0.033295762914331554,
          0.043792997396457804,
          0.07764425584561041,
          -0.016244356005108384,
          0.04961932662760748,
          -0.14440514533958687,
          0.05792021583389269,
          -0.9589475626301716,
          -0.06511572829459851,
          0.04961649474787342,
          -0.09985946744768828,
          0.03780078740147055,
          0.006269770205327888,
          0.0029035282068153906,
          0.0365228579017645,
          0.03555475098747109,
          0.02367730348792246,
          0.04481472495384044,
          0.03837898285140625,
          0.03227510508409013,
          -0.08924353093304235,
          0.03383659407914082,
          0.009348542416912823,
          0.0351042721738893,
          0.03775528018632547,
          0.1660687267001729,
          -0.08374770350975937,
          0.009706619749565288,
          -0.09281390797634051,
          0.04846689952017682,
          -0.13193532493670893,
          0.036949547745260165,
          0.03465430161835557,
          0.009796239408879354,
          -0.08439296819054268,
          0.04023790499290198,
          0.013842881411967824,
          -0.08998600226318074,
          -0.0853997480511294,
          -0.08823983767974637,
          -0.019229000367462862,
          -0.11599166340509869,
          0.052989212153270716,
          -0.06644437812284226,
          -0.04212437906938603,
          -0.0695725270059493,
          -0.08437428553815196,
          -0.03512222271102843,
          -0.035122318633647634,
          0.03564782370300689,
          0.035570440406389854,
          0.041525952162195325,
          0.02758540090212858,
          -0.016244317244762576,
          -0.035128261011131715,
          0.03659228896364589,
          -0.00134769478106529,
          -0.01885837840769549,
          -0.05409275581060516,
          -0.0809560636533081,
          -0.09011101332403794,
          0.0408498236301086,
          0.03744683843360495,
          0.02616416275467765,
          0.033848397165302635,
          -0.10073851140552283,
          -0.06878317606456302,
          -0.08862011164072857,
          0.04741884844503269,
          -0.09516574875168449,
          0.020223248235688954,
          0.013039301739119552,
          0.04213069805259145,
          0.013805642076694921,
          0.035050460297579356,
          0.041454400023319044,
          0.03467076594698387,
          0.04754287979994111,
          -0.0054533979462950116,
          0.375538237926835,
          0.04626559473643665,
          -0.0855270571343134,
          0.009795799711921793,
          0.05332247403490873,
          0.03466630081510208,
          -0.06023096677786506,
          -0.016245449515533934,
          0.03556534022203158,
          -0.005453303546490144,
          0.030364910457736528,
          -0.09026499294803791,
          -0.06547372632428289,
          0.03904667169661893,
          0.04961863699011796,
          -0.06919493225870035,
          0.012388987804157585,
          -0.0028474110466369415,
          -0.09999188389829498,
          0.003664319884637963,
          0.017041471802827383,
          -0.06588230460264609,
          -0.08620767919893961,
          0.052860290610657466,
          -0.04789232664126434,
          0.0014941522939132183,
          0.04516702823390178
         ],
         "z": [
          -0.00025386811774422304,
          -0.004612522561780215,
          -0.13327025963987885,
          -0.10647125100106279,
          -0.1110332931875361,
          -0.002372625264224267,
          0.014075279921676717,
          -0.12412445556858577,
          -0.11462591527099253,
          -0.03583097454399809,
          0.013516372393246608,
          -0.1298304342574566,
          0.004061775319780834,
          -0.12720174199346976,
          -0.007599236813971479,
          -0.13203727466438475,
          0.11249876278796003,
          -0.10036962594046536,
          -0.12718680772948987,
          -0.12465395823998861,
          -0.12468496748101462,
          -0.010816474560123144,
          -0.12896224742500073,
          -0.12482363520795693,
          -0.14320734730955464,
          -0.1280203518406701,
          -0.027816880641234002,
          0.014073936771154559,
          -0.1250300697248934,
          -0.11146360739645397,
          -0.13200102561497357,
          -0.0942843538352143,
          0.015246821585075952,
          -0.11103151439101147,
          -0.046106565436510635,
          -0.11661359317641348,
          -0.1275818510208288,
          -0.003346433528811508,
          -0.00664457919125259,
          0.04536092597260279,
          -0.10647633887755381,
          -0.11474015505441827,
          -0.13049149045139066,
          -0.00045625816817817784,
          0.04552391318568197,
          -0.10963999403633524,
          -0.010139748291733279,
          -0.12506480306413031,
          0.07142776186822142,
          -0.1246662667485908,
          -0.1277793609489433,
          -0.007951937358895335,
          -0.12278019930286098,
          -0.13022883298481397,
          0.02219234402051416,
          -0.10960227063705678,
          0.013383730905075737,
          -0.009177251038624068,
          -0.1258363486204435,
          -0.03016391544497539,
          -0.12654155201219383,
          -0.12425727935297294,
          -0.1296276316686151,
          -0.12213734541286426,
          -0.1146840862662071,
          0.0242144777606639,
          -0.10181931459022962,
          -0.13326284530966154,
          -0.013008040543684976,
          -0.03787838201869726,
          -0.12758917999034605,
          0.012753800163861845,
          0.057358007264372644,
          -0.11147752170691726,
          -0.12714646405790714,
          0.04658845159661798,
          0.00021114873498237445,
          0.04557819895250676,
          0.016222937187459607,
          -0.025166611778281976,
          0.013384245837184198,
          -0.12949070039138244,
          -0.00779658534811108,
          0.8636492971808725,
          -0.10492866286767452,
          0.01341869812974718,
          -0.13135659687888743,
          -0.005472379507335835,
          -0.013015184681077577,
          -0.027576462076548833,
          0.0018655742320709979,
          -0.0005741280845630412,
          -0.005607813112337816,
          0.006557406286190717,
          -0.007527879564279104,
          0.001684203172989404,
          -0.12149195620546581,
          0.04339169558858524,
          -0.030163678724648008,
          0.007318144846054171,
          -0.04484815931198104,
          -0.17897216669022464,
          -0.13420025608377947,
          0.07235717409592352,
          -0.1246916856180998,
          -0.043066174707932225,
          -0.12496598005396074,
          0.004018256094300715,
          -0.004530611050575022,
          0.07126687259587484,
          -0.12776215578388783,
          0.02465971874420948,
          -0.05905738030386245,
          -0.12389504027093134,
          -0.12699121258104754,
          -0.12647337765353123,
          0.0226455623908462,
          0.13277964368919115,
          -0.04454639422282456,
          -0.10613545303009106,
          0.08807240041247294,
          -0.11147410382787334,
          -0.13331998643565512,
          -0.03580338818566868,
          -0.03580222120315303,
          -0.03671771847761461,
          0.0030251663346633644,
          -0.004293358225735346,
          0.08082549989933362,
          -0.025167083331771728,
          -0.03572992698630074,
          -0.00024256052466733213,
          -0.020619218517938548,
          0.01813662225675248,
          0.027396552833077056,
          -0.12043563993874301,
          -0.11099699279750196,
          -0.0014098084971577876,
          -0.003858217228221192,
          -0.054608999805642156,
          -0.002285439670198015,
          -0.12066225868153924,
          -0.08215486322463349,
          -0.10185182982984056,
          -0.04386614718502917,
          -0.1064731033658792,
          -0.0005633485634455382,
          -0.017797650743756322,
          0.02229341269229249,
          -0.023621899065204163,
          -0.002018812564839693,
          -0.0388285895070849,
          0.011804123894655126,
          -0.04046450142320933,
          -0.05200734919929754,
          -0.011896572361683856,
          -0.03669383338482592,
          -0.1252176573949785,
          0.07127222189374087,
          -0.04404852962775773,
          0.0002784360153665914,
          -0.10918388200800616,
          -0.025153308268019474,
          0.033719071791361827,
          -0.05200849765544689,
          0.023053926366541987,
          -0.13041723521537874,
          -0.0483061871277103,
          -0.005770611654079665,
          0.013392635880118919,
          -0.00919069741776916,
          -0.023758038230298276,
          -0.008323194112575823,
          -0.03625758399584504,
          -0.0134134843397211,
          -0.028347223986568856,
          -0.09910154375915113,
          -0.12581891250150792,
          -0.03138841673325455,
          -0.06004134677596713,
          -0.03344216759317517,
          -0.028963951537906693
         ]
        },
        {
         "customdata": [
          [
           "X13"
          ],
          [
           "X13"
          ],
          [
           "X13"
          ],
          [
           "X13"
          ],
          [
           "X13"
          ],
          [
           "X13"
          ],
          [
           "X13"
          ],
          [
           "X13"
          ],
          [
           "X13"
          ],
          [
           "X13"
          ],
          [
           "X13"
          ],
          [
           "X13"
          ],
          [
           "X13"
          ],
          [
           "X13"
          ],
          [
           "X13"
          ],
          [
           "X13"
          ],
          [
           "X13"
          ]
         ],
         "hovertemplate": "<b>%{hovertext}</b><br><br>Algorithm=%{customdata[0]}<br>class=0<br>PC 1=%{x}<br>PC 2=%{y}<br>PC 3=%{z}<extra></extra>",
         "hovertext": [
          "EliteCoin",
          "NavCoin",
          "OpalCoin",
          "StealthCoin",
          "Kore",
          "Sativa Coin",
          "Paycon",
          "MudraCoin",
          "RoyalCoin",
          "EmberCoin",
          "FindCoin",
          "BritCoin",
          "DeepOnion",
          "Bitcoin Diamond",
          "Tokyo Coin",
          "Bitcoin Rhodium",
          "Triangles Coin"
         ],
         "legendgroup": "X13, 0",
         "marker": {
          "color": "#EF553B",
          "symbol": "circle"
         },
         "mode": "markers",
         "name": "X13, 0",
         "scene": "scene",
         "showlegend": true,
         "type": "scatter3d",
         "x": [
          0.4028116894922622,
          -0.013761864356330053,
          -0.014329407748770792,
          -0.014129523898989709,
          -0.08204971163189938,
          -0.16307860964821952,
          -0.1288855468339311,
          0.01797146063229222,
          0.06219961086161139,
          1.4278025188803702,
          0.06066947156994672,
          -0.16331825342996698,
          -0.07839435616344291,
          -0.1320513211441091,
          0.0641012912205584,
          -0.060924180879577516,
          -0.07491789055535568
         ],
         "y": [
          0.08374045530002128,
          0.08418012346500453,
          0.08418469014318283,
          0.08418308179882157,
          0.09204225190893182,
          0.055685183399719305,
          0.05931312404387756,
          -0.022591386685071352,
          0.10685464851039084,
          0.07669967666981203,
          0.10620241431583716,
          0.04837116957837715,
          0.09313227548547573,
          0.033212347992269,
          0.10531362512417797,
          -0.039570419106979594,
          0.0882220530231831
         ],
         "z": [
          0.042561432130131235,
          0.022177919354723134,
          0.022122361722542616,
          0.022141928637694663,
          -0.007076900274856421,
          -0.020998290564649868,
          0.0043227718318082165,
          -0.06094461384022673,
          -0.042136101227363394,
          0.13900617035746993,
          -0.047103363788110246,
          -0.01488577821418754,
          -0.006971169761704152,
          -0.011816371151884737,
          -0.04254242889523183,
          -0.12920822461167447,
          -0.007644404787043495
         ]
        },
        {
         "customdata": [
          [
           "SHA-256"
          ],
          [
           "SHA-256"
          ],
          [
           "SHA-256"
          ],
          [
           "SHA-256"
          ],
          [
           "SHA-256"
          ],
          [
           "SHA-256"
          ],
          [
           "SHA-256"
          ],
          [
           "SHA-256"
          ],
          [
           "SHA-256"
          ],
          [
           "SHA-256"
          ],
          [
           "SHA-256"
          ],
          [
           "SHA-256"
          ],
          [
           "SHA-256"
          ],
          [
           "SHA-256"
          ],
          [
           "SHA-256"
          ],
          [
           "SHA-256"
          ],
          [
           "SHA-256"
          ],
          [
           "SHA-256"
          ],
          [
           "SHA-256"
          ],
          [
           "SHA-256"
          ],
          [
           "SHA-256"
          ],
          [
           "SHA-256"
          ],
          [
           "SHA-256"
          ],
          [
           "SHA-256"
          ],
          [
           "SHA-256"
          ],
          [
           "SHA-256"
          ],
          [
           "SHA-256"
          ],
          [
           "SHA-256"
          ],
          [
           "SHA-256"
          ],
          [
           "SHA-256"
          ],
          [
           "SHA-256"
          ],
          [
           "SHA-256"
          ],
          [
           "SHA-256"
          ],
          [
           "SHA-256"
          ],
          [
           "SHA-256"
          ],
          [
           "SHA-256"
          ],
          [
           "SHA-256"
          ],
          [
           "SHA-256"
          ],
          [
           "SHA-256"
          ],
          [
           "SHA-256"
          ],
          [
           "SHA-256"
          ],
          [
           "SHA-256"
          ],
          [
           "SHA-256"
          ],
          [
           "SHA-256"
          ],
          [
           "SHA-256"
          ],
          [
           "SHA-256"
          ],
          [
           "SHA-256"
          ],
          [
           "SHA-256"
          ]
         ],
         "hovertemplate": "<b>%{hovertext}</b><br><br>Algorithm=%{customdata[0]}<br>class=0<br>PC 1=%{x}<br>PC 2=%{y}<br>PC 3=%{z}<extra></extra>",
         "hovertext": [
          "Bitcoin",
          "BitcoinDark",
          "PayCoin",
          "ZetaCoin",
          "DevCoin",
          "IXcoin",
          "MazaCoin",
          "Namecoin",
          "SysCoin",
          "TigerCoin",
          "TerraCoin",
          "UnbreakableCoin",
          "Unobtanium",
          "JouleCoin",
          "Neutron",
          "SoonCoin",
          "Anarchists Prime",
          "Emercoin",
          "I0coin",
          "EDRCoin",
          "DubaiCoin",
          "CarpeDiemCoin",
          "SwingCoin",
          "Revenu",
          "Clockcoin",
          "BitTokens",
          "ZayedCoin",
          "DollarCoin",
          "Eurocoin",
          "Internet of People",
          "ProCurrency",
          "ILCoin",
          "Ultimate Secure Cash",
          "Bitcoin Cash",
          "Theresa May Coin",
          "Infinity Economics",
          "UnitedBitcoin",
          "BitcoinWSpectrum",
          "Project Pai",
          "Bitcoin SV",
          "BLAST",
          "GlobalToken",
          "NeosCoin",
          "IncaKoin",
          "Crown Coin",
          "OKCash",
          "TigerCash",
          "ZEPHYR"
         ],
         "legendgroup": "SHA-256, 0",
         "marker": {
          "color": "#00cc96",
          "symbol": "circle"
         },
         "mode": "markers",
         "name": "SHA-256, 0",
         "scene": "scene",
         "showlegend": true,
         "type": "scatter3d",
         "x": [
          -0.22584323863058045,
          -0.2464532278711661,
          -0.13221583769014503,
          -0.21405782076979946,
          0.05888254998933359,
          -0.2258080011444403,
          -0.2031604066078704,
          -0.22587879483017825,
          -0.20977168128014165,
          -0.21120203151153763,
          -0.24635253897094997,
          -0.18492539710090708,
          -0.22311571420664192,
          -0.2319246846824429,
          -0.23806676594266912,
          -0.2259041325539313,
          -0.2197348300298076,
          -0.17250963918938084,
          -0.22580902491575972,
          -0.24642669724422966,
          -0.3057084755051698,
          0.1370650548483708,
          -0.2517828200345038,
          -0.23185396084411092,
          -0.23864970376242264,
          -0.23304020326456823,
          -0.2156944905668954,
          -0.21616232609504005,
          -0.2269374654411033,
          -0.23301868919413535,
          -0.09162831329919963,
          -0.19528219711085865,
          -0.0906219769756183,
          -0.2258424762562906,
          -0.15177145577684611,
          0.05952732265788015,
          -0.22298657896478774,
          -0.09864229253102513,
          -0.3460778467833772,
          -0.2258425105223585,
          -0.24759599883462216,
          -0.18280653504204372,
          -0.14222653598244345,
          0.05883000655988834,
          -0.2463519647152692,
          -0.2535981845631513,
          -0.07107467892496906,
          2.466296421244269
         ],
         "y": [
          -0.10118389159996807,
          0.01469940907948557,
          0.0007603326875694071,
          -0.09610757653607938,
          -0.14601680174513998,
          -0.10118417513468868,
          0.020177921895226623,
          -0.10118360550074633,
          -0.0975534245458507,
          -0.09438434845078755,
          -0.07867022632003216,
          -0.07245397418243757,
          -0.0986003854095918,
          -0.09859538920712166,
          0.03020266714122309,
          -0.10118340162341924,
          -0.09635561870987668,
          0.0037755229357659954,
          -0.10118416689702049,
          0.01469919560358797,
          -0.05240573200045764,
          -0.0998250725195124,
          0.004121906373217863,
          0.0222366640106374,
          0.024446077585358616,
          -0.02226107825367087,
          -0.09595153504692526,
          -0.09408137369330809,
          0.0033315887113905675,
          -0.022261251364374467,
          0.04040517725611652,
          -0.10456589121053747,
          0.040579283651496406,
          -0.10118389773432938,
          0.03777680978668308,
          0.03694229544438686,
          -0.09460224721452831,
          0.04736163561277438,
          -0.10023856728625376,
          -0.10118389745861078,
          -0.09612852438056921,
          -0.09400501472287426,
          -0.013945496453637738,
          0.0281094789878191,
          -0.07867023094071995,
          0.007821200372535649,
          0.012005641619611112,
          0.24377616088963305
         ],
         "z": [
          -0.06830909819227848,
          0.05293704278669093,
          0.005761539531455059,
          -0.04956467557159692,
          -0.06078694047002312,
          -0.06830564874449861,
          0.08352676002326365,
          -0.06831257883936953,
          -0.04744857695085086,
          -0.042642674038181345,
          -0.056152063472558904,
          -0.07015688648826353,
          -0.04458558044274081,
          -0.05782647752028706,
          0.07972806297032534,
          -0.06831505918528726,
          -0.051037598473126576,
          0.10946218816540984,
          -0.06830574896293325,
          0.05293963990760268,
          -0.004069536996573896,
          -0.009400162218005893,
          0.03729333909175079,
          0.085103929575098,
          0.08364536850415227,
          0.012980110557886807,
          -0.04611307241050056,
          -0.0424517938558515,
          0.007985859487771205,
          0.012982216600927264,
          0.04468321742735815,
          -0.04323701641423449,
          0.03898971497168224,
          -0.06830902356236995,
          0.0837184169404499,
          0.05753353353255021,
          -0.048593503884179046,
          0.03792717801406051,
          -0.021134828105480424,
          -0.06830902691672404,
          -0.07284067392283469,
          -0.042613512358891284,
          -0.00837946887445305,
          0.10792821137926002,
          -0.0561520072578514,
          -0.020850329941845505,
          0.08914234225238754,
          0.6193247577035449
         ]
        },
        {
         "customdata": [
          [
           "Ethash"
          ],
          [
           "Ethash"
          ],
          [
           "Ethash"
          ],
          [
           "Ethash"
          ],
          [
           "Ethash"
          ],
          [
           "Ethash"
          ],
          [
           "Ethash"
          ],
          [
           "Ethash"
          ],
          [
           "Ethash"
          ]
         ],
         "hovertemplate": "<b>%{hovertext}</b><br><br>Algorithm=%{customdata[0]}<br>class=0<br>PC 1=%{x}<br>PC 2=%{y}<br>PC 3=%{z}<extra></extra>",
         "hovertext": [
          "Ethereum",
          "Ethereum Classic",
          "Expanse",
          "Elementrem",
          "Ellaism",
          "DaxxCoin",
          "1717 Masonic Commemorative Token",
          "Callisto Network",
          "Reality Clash"
         ],
         "legendgroup": "Ethash, 0",
         "marker": {
          "color": "#ab63fa",
          "symbol": "circle"
         },
         "mode": "markers",
         "name": "Ethash, 0",
         "scene": "scene",
         "showlegend": true,
         "type": "scatter3d",
         "x": [
          -0.1692285846359589,
          -0.2887635594959696,
          -0.37636148557235954,
          -0.378004114187808,
          -0.3698266157901759,
          -0.31391869790609306,
          -0.24666206353041453,
          -0.3651132956931051,
          -0.3708907951402138
         ],
         "y": [
          -0.06532794958737351,
          -0.11628570313002003,
          -0.1428605590612672,
          -0.14961024719242402,
          -0.1508947289285211,
          -0.1359051073855016,
          -0.017811513305003687,
          -0.1548900233301976,
          -0.14376010235265088
         ],
         "z": [
          -0.1040119748586894,
          -0.13812819090588666,
          -0.19402160936705784,
          -0.18363407842473758,
          -0.1850793748578487,
          -0.16720597126593734,
          -0.0960689550515036,
          -0.17995859044553866,
          -0.18720246625553813
         ]
        },
        {
         "customdata": [
          [
           "X11"
          ],
          [
           "X11"
          ],
          [
           "X11"
          ],
          [
           "X11"
          ],
          [
           "X11"
          ],
          [
           "X11"
          ],
          [
           "X11"
          ],
          [
           "X11"
          ],
          [
           "X11"
          ],
          [
           "X11"
          ],
          [
           "X11"
          ],
          [
           "X11"
          ],
          [
           "X11"
          ],
          [
           "X11"
          ],
          [
           "X11"
          ],
          [
           "X11"
          ],
          [
           "X11"
          ],
          [
           "X11"
          ],
          [
           "X11"
          ],
          [
           "X11"
          ],
          [
           "X11"
          ],
          [
           "X11"
          ],
          [
           "X11"
          ],
          [
           "X11"
          ],
          [
           "X11"
          ],
          [
           "X11"
          ],
          [
           "X11"
          ],
          [
           "X11"
          ],
          [
           "X11"
          ],
          [
           "X11"
          ],
          [
           "X11"
          ],
          [
           "X11"
          ],
          [
           "X11"
          ],
          [
           "X11"
          ],
          [
           "X11"
          ],
          [
           "X11"
          ],
          [
           "X11"
          ],
          [
           "X11"
          ],
          [
           "X11"
          ],
          [
           "X11"
          ],
          [
           "X11"
          ],
          [
           "X11"
          ],
          [
           "X11"
          ],
          [
           "X11"
          ],
          [
           "X11"
          ],
          [
           "X11"
          ],
          [
           "X11"
          ],
          [
           "X11"
          ],
          [
           "X11"
          ],
          [
           "X11"
          ],
          [
           "X11"
          ],
          [
           "X11"
          ],
          [
           "X11"
          ],
          [
           "X11"
          ],
          [
           "X11"
          ],
          [
           "X11"
          ],
          [
           "X11"
          ],
          [
           "X11"
          ],
          [
           "X11"
          ],
          [
           "X11"
          ],
          [
           "X11"
          ],
          [
           "X11"
          ],
          [
           "X11"
          ],
          [
           "X11"
          ],
          [
           "X11"
          ],
          [
           "X11"
          ],
          [
           "X11"
          ],
          [
           "X11"
          ],
          [
           "X11"
          ],
          [
           "X11"
          ],
          [
           "X11"
          ],
          [
           "X11"
          ],
          [
           "X11"
          ]
         ],
         "hovertemplate": "<b>%{hovertext}</b><br><br>Algorithm=%{customdata[0]}<br>class=0<br>PC 1=%{x}<br>PC 2=%{y}<br>PC 3=%{z}<extra></extra>",
         "hovertext": [
          "Dash",
          "Spreadcoin",
          "CryptCoin",
          "HyperStake",
          "IOCoin",
          "SuperCoin",
          "SyncCoin",
          "TorCoin",
          "UroCoin",
          "X11 Coin",
          "Ucoin",
          "IslaCoin",
          "MarsCoin ",
          "BowsCoin",
          "Squall Coin",
          "MindCoin",
          "Hitcoin",
          "Adzcoin",
          "EuropeCoin",
          "BolivarCoin",
          "Ratecoin",
          "BitSend",
          "PizzaCoin",
          "Lutetium Coin",
          "GoldBlocks",
          "MustangCoin",
          "Halloween Coin",
          "InsaneCoin",
          "ArtexCoin",
          "XenixCoin",
          "Kurrent",
          "Eternity",
          "Stakenet",
          "Enigma",
          "KushCoin",
          "PacCoin",
          "VaultCoin",
          "VirtacoinPlus",
          "Impact",
          "HappyCoin",
          "Condensate",
          "GoldReserve",
          "DigitalPrice",
          "ArcticCoin",
          "DAS",
          "Onix",
          "Monoeci",
          "Regalcoin",
          "Elements",
          "Pura",
          "Magnet",
          "AC3",
          "PhantomX",
          "Sucre",
          "Monkey Project",
          "Pioneer Coin",
          "Crypto Improvement Fund",
          "Pushi",
          "FuturoCoin",
          "Axe",
          "ARENON",
          "EUNO",
          "PAXEX",
          "Azart",
          "Junson Ming Chan Coin",
          "Dash Platinum",
          "Award",
          "Insane Coin",
          "TruckCoin",
          "PinkCoin",
          "Piggy Coin",
          "CapriCoin",
          "Creditbit "
         ],
         "legendgroup": "X11, 0",
         "marker": {
          "color": "#FFA15A",
          "symbol": "circle"
         },
         "mode": "markers",
         "name": "X11, 0",
         "scene": "scene",
         "showlegend": true,
         "type": "scatter3d",
         "x": [
          -0.2885916366718288,
          -0.26217243885876607,
          -0.1392922636446491,
          -0.03190856048263266,
          -0.2884955844854924,
          -0.05004798542658808,
          -0.30595592870048954,
          -0.29002783589782344,
          -0.13436711760619413,
          -0.3015614291749036,
          -0.1784991833272422,
          -0.14136753274161304,
          -0.30049983471457287,
          -0.26809091740824925,
          -0.016842880942605765,
          -0.2907923168019461,
          -0.1226920083262392,
          -0.33676485360680014,
          -0.3128037530960207,
          -0.2655243320475117,
          -0.30909634427178,
          -0.30494898947615534,
          -0.26566113072203623,
          -0.15009926359217285,
          -0.25585498446976557,
          -0.3016905574931652,
          -0.2983074408857291,
          -0.29023694996116456,
          -0.11938997482823306,
          -0.30840964539325744,
          -0.2852592773110111,
          -0.24943447625209061,
          -0.03831943230572186,
          -0.3069997971870537,
          -0.3094184497735452,
          -0.27916845416475183,
          -0.20787173063594627,
          -0.19487522589401,
          -0.2667409824054824,
          -0.19478208266479502,
          -0.13422022490604468,
          -0.2938649336631648,
          -0.1876265057915812,
          -0.24220808028267923,
          -0.29379995328371483,
          -0.3576463374805993,
          -0.2989754614253155,
          -0.29959137512545636,
          -0.24457724427279387,
          -0.3664667175052467,
          -0.30590501192933467,
          -0.29510608275003636,
          -0.25552502350465983,
          -0.28548873086693516,
          -0.18445105500710998,
          -0.2091886373657769,
          -0.1262175848779257,
          -0.2726561578263464,
          -0.18766369716586678,
          -0.2682120555569456,
          -0.16983361431874,
          -0.25568552340714823,
          -0.10420034944132738,
          -0.26562059129592125,
          0.14116465454803565,
          -0.15732864983388445,
          -0.3079608901995296,
          -0.29017640602730754,
          -0.13868129139279434,
          -0.1307135171365704,
          -0.20970661976690344,
          -0.2978201652718001,
          -0.3737435670523292
         ],
         "y": [
          0.015508956281009864,
          -0.0747793155811509,
          -0.12132178911560022,
          0.052578260209090066,
          0.015508183407201968,
          0.05272421718289322,
          0.013198317731903405,
          0.015912483835459925,
          -0.034508525938133326,
          0.007195512104879681,
          0.012458624518351485,
          0.044412705893305385,
          -0.08122546400628555,
          -0.10037346516906874,
          0.00745375433569856,
          -0.11440956320929443,
          0.004799299952877298,
          -0.08958342429881487,
          0.004834500379253027,
          -0.10783796985472834,
          0.00943633797014329,
          0.00759949921672872,
          -0.1078368691185905,
          0.022959171168671723,
          0.01954058710841046,
          0.015016606144781229,
          0.012543145113135859,
          0.008598224359951367,
          -0.05036305887107337,
          0.010103479673327864,
          -0.11860775521124013,
          -0.043052612105398645,
          0.2901572326682681,
          0.00783267574128734,
          0.0057709941325383715,
          -0.11416606179365174,
          -0.07433435851493422,
          0.038594124666445746,
          0.07479474642776905,
          0.03859337519925441,
          0.02862117490321046,
          0.0049310006015660735,
          -0.040329105124777595,
          -0.12197566226783536,
          -0.11478018751293692,
          -0.11594478256964277,
          0.014642588673902874,
          -0.04296587595526887,
          -0.11439984934205163,
          -0.05064178214698908,
          0.018467970680097198,
          -0.11237264329677346,
          0.019537932112230056,
          -0.11114467334192557,
          -0.013135256375257183,
          -0.11539650208001942,
          -0.050308121225352,
          -0.028915680641377565,
          -0.04032880586829842,
          -0.10037249044370421,
          0.03254715550224602,
          0.01953922355780429,
          0.046910823232282135,
          -0.10783719531481654,
          0.051185644798718025,
          0.016813458370856252,
          0.015376420869772922,
          0.008597737199559325,
          0.044391091334994415,
          0.028592958548192403,
          0.004545309455133957,
          0.005120584596412286,
          0.10599925767408017
         ],
         "z": [
          0.011277210332808624,
          -0.11499191571331562,
          -0.19892333870534484,
          -0.009669971913648318,
          0.011286613018332087,
          -0.011445666093899064,
          -0.021269118481954202,
          -0.03324755784194176,
          -0.07144405724044177,
          -0.01227591187309422,
          -0.055056750353075556,
          0.009864392020477416,
          -0.11239090034777026,
          -0.10997962724005843,
          0.0359308391729701,
          -0.13586826750988598,
          0.00416402052731981,
          -0.13680920626045268,
          -0.013803596506536646,
          -0.11496505021822331,
          -0.009924406621108977,
          -0.005820952636276944,
          -0.11497844163559015,
          -0.05160717927969799,
          -0.007928473966909657,
          -0.004082942558379096,
          -0.017048141949494524,
          -0.027132056893800032,
          -0.04056309304483659,
          -0.012521571791575467,
          -0.13328169482755117,
          0.010138052054533333,
          -0.2648408278155916,
          -0.021317440525021245,
          -0.009623599740676815,
          -0.13852371263248855,
          -0.013528030800837004,
          0.04196408389039083,
          -0.07392362875806181,
          0.0419732018139499,
          0.03997888250578119,
          -0.004360982547447099,
          -0.039320058443147676,
          -0.0711482756202271,
          -0.13646055917983915,
          -0.13283231922901678,
          -0.011241277324380513,
          -0.030960694004931382,
          -0.12857350854940844,
          -0.05508394804961191,
          -0.009094672183778789,
          -0.13666243529085373,
          -0.00789617361740814,
          -0.13641603361389817,
          -0.05004773078098104,
          -0.11317538871590696,
          -0.041231457530906124,
          -0.033669464932620456,
          -0.0393236991598231,
          -0.10999148562621541,
          -0.04834971626490733,
          -0.00791188518178553,
          0.02059091802579749,
          -0.11497447317334597,
          0.007272411962179014,
          -0.042942479346429134,
          -0.0070919080944487735,
          -0.02712613016176011,
          0.010127352017532773,
          0.04032215913099606,
          0.06828607916831392,
          -0.0031986078596375417,
          -0.727099753453075
         ]
        },
        {
         "customdata": [
          [
           "CryptoNight-V7"
          ],
          [
           "CryptoNight-V7"
          ],
          [
           "CryptoNight-V7"
          ],
          [
           "CryptoNight-V7"
          ],
          [
           "CryptoNight-V7"
          ]
         ],
         "hovertemplate": "<b>%{hovertext}</b><br><br>Algorithm=%{customdata[0]}<br>class=0<br>PC 1=%{x}<br>PC 2=%{y}<br>PC 3=%{z}<extra></extra>",
         "hovertext": [
          "Monero",
          "Citadel",
          "Quantum Resistant Ledger",
          "Lethean",
          "Webchain"
         ],
         "legendgroup": "CryptoNight-V7, 0",
         "marker": {
          "color": "#19d3f3",
          "symbol": "circle"
         },
         "mode": "markers",
         "name": "CryptoNight-V7, 0",
         "scene": "scene",
         "showlegend": true,
         "type": "scatter3d",
         "x": [
          -0.13725792982016666,
          -0.2924043308060793,
          -0.291950929254945,
          -0.2967225238217537,
          -0.2981107465393209
         ],
         "y": [
          -0.08813354059518055,
          -0.20193555396800852,
          -0.12391289237486097,
          -0.20547755323581263,
          -0.19875871754913954
         ],
         "z": [
          -0.18714027175544654,
          -0.3762319581590631,
          -0.2595465370040487,
          -0.3650844918526886,
          -0.36946996941014854
         ]
        },
        {
         "customdata": [
          [
           "Equihash"
          ],
          [
           "Equihash"
          ],
          [
           "Equihash"
          ],
          [
           "Equihash"
          ],
          [
           "Equihash"
          ],
          [
           "Equihash"
          ],
          [
           "Equihash"
          ],
          [
           "Equihash"
          ],
          [
           "Equihash"
          ],
          [
           "Equihash"
          ],
          [
           "Equihash"
          ],
          [
           "Equihash"
          ]
         ],
         "hovertemplate": "<b>%{hovertext}</b><br><br>Algorithm=%{customdata[0]}<br>class=0<br>PC 1=%{x}<br>PC 2=%{y}<br>PC 3=%{z}<extra></extra>",
         "hovertext": [
          "ZCash",
          "Komodo",
          "ZClassic",
          "Zero",
          "BitcoinZ",
          "Bitcoin Gold",
          "Bitrolium",
          "CrypticCoin",
          "PirateCash",
          "Beam",
          "Bithereum",
          "Horizen"
         ],
         "legendgroup": "Equihash, 0",
         "marker": {
          "color": "#FF6692",
          "symbol": "circle"
         },
         "mode": "markers",
         "name": "Equihash, 0",
         "scene": "scene",
         "showlegend": true,
         "type": "scatter3d",
         "x": [
          -0.2295858911917181,
          0.016680197499188656,
          -0.22960560957280263,
          -0.21571193883990733,
          -0.09587328519112763,
          -0.22947647038871077,
          -0.24139324922586933,
          -0.1501041816579976,
          -0.16713396179602688,
          -0.22124114168431755,
          -0.2174762394983861,
          -0.2295868553079419
         ],
         "y": [
          -0.1825022117456386,
          -0.33021967020299176,
          -0.18250205308376125,
          -0.25450109906231466,
          -0.2261200102096244,
          -0.18250309218861518,
          -0.21253126365164074,
          -0.24803929249432266,
          -0.06517665548550797,
          -0.2589647920729816,
          -0.25473636454238435,
          -0.18250220398797956
         ],
         "z": [
          -0.1507051739354439,
          -0.19144580870339212,
          -0.15070710419589406,
          -0.2102495844619686,
          -0.15796591205177327,
          -0.15069446257697025,
          -0.18743683266743866,
          -0.19755074589822777,
          -0.12466538484719243,
          -0.20071226326267014,
          -0.20377546964192922,
          -0.1507052683141571
         ]
        },
        {
         "customdata": [
          [
           "SHA-512"
          ],
          [
           "SHA-512"
          ],
          [
           "SHA-512"
          ]
         ],
         "hovertemplate": "<b>%{hovertext}</b><br><br>Algorithm=%{customdata[0]}<br>class=0<br>PC 1=%{x}<br>PC 2=%{y}<br>PC 3=%{z}<extra></extra>",
         "hovertext": [
          "Bitshares",
          "Obsidian",
          "Kcash"
         ],
         "legendgroup": "SHA-512, 0",
         "marker": {
          "color": "#B6E880",
          "symbol": "circle"
         },
         "mode": "markers",
         "name": "SHA-512, 0",
         "scene": "scene",
         "showlegend": true,
         "type": "scatter3d",
         "x": [
          0.0036765170420769025,
          -0.03989335381773554,
          -0.041779191936270374
         ],
         "y": [
          0.062428010550516194,
          0.06517237669430227,
          0.02294811844907197
         ],
         "z": [
          0.23875168149703244,
          0.23143562986107083,
          0.39491903278311163
         ]
        },
        {
         "customdata": [
          [
           "Multiple"
          ],
          [
           "Multiple"
          ],
          [
           "Multiple"
          ],
          [
           "Multiple"
          ],
          [
           "Multiple"
          ],
          [
           "Multiple"
          ],
          [
           "Multiple"
          ],
          [
           "Multiple"
          ],
          [
           "Multiple"
          ]
         ],
         "hovertemplate": "<b>%{hovertext}</b><br><br>Algorithm=%{customdata[0]}<br>class=0<br>PC 1=%{x}<br>PC 2=%{y}<br>PC 3=%{z}<extra></extra>",
         "hovertext": [
          "DigiByte",
          "MyriadCoin",
          "Verge",
          "TeslaCoin",
          "Crypti",
          "Unitus",
          "Circuits of Value",
          "SHIELD",
          "JoinCoin"
         ],
         "legendgroup": "Multiple, 0",
         "marker": {
          "color": "#FF97FF",
          "symbol": "circle"
         },
         "mode": "markers",
         "name": "Multiple, 0",
         "scene": "scene",
         "showlegend": true,
         "type": "scatter3d",
         "x": [
          -0.0017814819466951913,
          0.032595060487910395,
          0.0648523065470859,
          -0.039694702520427935,
          0.014162767304878636,
          -0.06999351854758556,
          -0.21878275008675252,
          -0.18836200672779563,
          -0.18966662958210528
         ],
         "y": [
          -0.1858463433025511,
          -0.09363124731503132,
          -0.1960720660457513,
          0.005603632097119343,
          0.011419398882790902,
          -0.0758146545640684,
          -0.11491408489266151,
          -0.19888218118987347,
          -0.19811242547762056
         ],
         "z": [
          -0.11312540187369,
          -0.039917602174604896,
          -0.10896430730219785,
          0.018040338530349677,
          -0.01402511320216126,
          -0.07400756308947083,
          -0.12703076816016978,
          -0.13166308395855275,
          -0.13631895541405373
         ]
        },
        {
         "customdata": [
          [
           "X15"
          ],
          [
           "X15"
          ],
          [
           "X15"
          ],
          [
           "X15"
          ]
         ],
         "hovertemplate": "<b>%{hovertext}</b><br><br>Algorithm=%{customdata[0]}<br>class=0<br>PC 1=%{x}<br>PC 2=%{y}<br>PC 3=%{z}<extra></extra>",
         "hovertext": [
          "KoboCoin",
          "EverGreenCoin",
          "HTML5 Coin",
          "Dekado"
         ],
         "legendgroup": "X15, 0",
         "marker": {
          "color": "#FECB52",
          "symbol": "circle"
         },
         "mode": "markers",
         "name": "X15, 0",
         "scene": "scene",
         "showlegend": true,
         "type": "scatter3d",
         "x": [
          -0.4560212324172116,
          -0.5349494252456639,
          0.1251322803004676,
          -0.3436380979290585
         ],
         "y": [
          0.1115138825781332,
          0.17894629814314764,
          0.17028092512342557,
          0.16397565917256302
         ],
         "z": [
          0.1417044459129486,
          0.2181860290117549,
          0.28018610818875433,
          0.1069693251660389
         ]
        },
        {
         "customdata": [
          [
           "Quark"
          ],
          [
           "Quark"
          ],
          [
           "Quark"
          ],
          [
           "Quark"
          ],
          [
           "Quark"
          ],
          [
           "Quark"
          ],
          [
           "Quark"
          ],
          [
           "Quark"
          ],
          [
           "Quark"
          ],
          [
           "Quark"
          ],
          [
           "Quark"
          ],
          [
           "Quark"
          ],
          [
           "Quark"
          ]
         ],
         "hovertemplate": "<b>%{hovertext}</b><br><br>Algorithm=%{customdata[0]}<br>class=0<br>PC 1=%{x}<br>PC 2=%{y}<br>PC 3=%{z}<extra></extra>",
         "hovertext": [
          "QuarkCoin",
          "Allsafe",
          "Bitcloud 2.0",
          "Kalkulus",
          "Digiwage",
          "Carebit",
          "Poseidon Quark",
          "Dystem",
          "Giant",
          "Vitae",
          "HerbCoin",
          "Galilel",
          "Crypto Sports"
         ],
         "legendgroup": "Quark, 0",
         "marker": {
          "color": "#636efa",
          "symbol": "circle"
         },
         "mode": "markers",
         "name": "Quark, 0",
         "scene": "scene",
         "showlegend": true,
         "type": "scatter3d",
         "x": [
          -0.09908863229091794,
          -0.058169094961359906,
          -0.11077416962698705,
          -0.08971490045561543,
          -0.10139765409937385,
          -0.10955922248594607,
          0.020205273207860384,
          -0.09579593362389384,
          -0.12322408170823382,
          -0.01488916826299516,
          -0.16574891277504192,
          -0.1217960818594391,
          0.023802453437910508
         ],
         "y": [
          -0.20498570194341995,
          -0.036820981619923046,
          -0.10777009251592154,
          -0.024629925295930166,
          -0.015286998871500649,
          -0.10777986846022974,
          -0.06186372595414427,
          -0.050222766905216064,
          -0.08176941087625075,
          0.009818033786226478,
          -0.08317576773729023,
          -0.07703209143342603,
          -0.06957402342080399
         ],
         "z": [
          -0.13435722050470614,
          -0.02773139025875576,
          -0.046267041435455826,
          -0.049512296887092196,
          -0.04723869604007817,
          -0.04614810852692512,
          -0.0478799950731743,
          -0.04451592111732276,
          -0.009534211345921176,
          0.026186950318545458,
          -0.026121374709293037,
          -0.011913563883699749,
          -0.04351818448207018
         ]
        },
        {
         "customdata": [
          [
           "Groestl"
          ],
          [
           "Groestl"
          ],
          [
           "Groestl"
          ],
          [
           "Groestl"
          ]
         ],
         "hovertemplate": "<b>%{hovertext}</b><br><br>Algorithm=%{customdata[0]}<br>class=0<br>PC 1=%{x}<br>PC 2=%{y}<br>PC 3=%{z}<extra></extra>",
         "hovertext": [
          "Riecoin",
          "Diamond",
          "FairCoin",
          "Groestlcoin"
         ],
         "legendgroup": "Groestl, 0",
         "marker": {
          "color": "#EF553B",
          "symbol": "circle"
         },
         "mode": "markers",
         "name": "Groestl, 0",
         "scene": "scene",
         "showlegend": true,
         "type": "scatter3d",
         "x": [
          -0.37696752300366426,
          -0.404352823204771,
          -0.1810437653914181,
          -0.3290865222392859
         ],
         "y": [
          -0.0203391711268858,
          0.2109846660550453,
          0.11365272314735161,
          -0.0010450428372080327
         ],
         "z": [
          -0.17147196151001484,
          -0.10738405626383109,
          -0.024746829585051502,
          -0.1784958229848043
         ]
        },
        {
         "customdata": [
          [
           "PoS"
          ],
          [
           "PoS"
          ],
          [
           "PoS"
          ],
          [
           "PoS"
          ],
          [
           "PoS"
          ],
          [
           "PoS"
          ],
          [
           "PoS"
          ],
          [
           "PoS"
          ],
          [
           "PoS"
          ],
          [
           "PoS"
          ],
          [
           "PoS"
          ],
          [
           "PoS"
          ],
          [
           "PoS"
          ],
          [
           "PoS"
          ],
          [
           "PoS"
          ],
          [
           "PoS"
          ],
          [
           "PoS"
          ]
         ],
         "hovertemplate": "<b>%{hovertext}</b><br><br>Algorithm=%{customdata[0]}<br>class=0<br>PC 1=%{x}<br>PC 2=%{y}<br>PC 3=%{z}<extra></extra>",
         "hovertext": [
          "Exclusive Coin",
          "Nebuchadnezzar",
          "Opair",
          "CoffeeCoin",
          "TeamUP",
          "FreeCoin",
          "Creatio",
          "Atmos",
          "MacronCoin",
          "Phreak",
          "Stakecoin",
          "Deviant Coin",
          "Zealium",
          "Ketan",
          "Radium",
          "Particl",
          "Nxt"
         ],
         "legendgroup": "PoS, 0",
         "marker": {
          "color": "#00cc96",
          "symbol": "circle"
         },
         "mode": "markers",
         "name": "PoS, 0",
         "scene": "scene",
         "showlegend": true,
         "type": "scatter3d",
         "x": [
          0.028379601983302426,
          -0.09937693474038421,
          -0.030066183803222037,
          -0.029774567486472205,
          -0.030710767377627516,
          -0.08577053650848908,
          -0.09937693474038421,
          -0.025464454907609246,
          -0.09283070178389559,
          -0.12061371451934799,
          -0.03255144742661004,
          -0.02652211469797288,
          -0.06435517149551406,
          -0.09117797236515261,
          -0.03305218053426114,
          -0.025414526764032972,
          -0.03170722188187846
         ],
         "y": [
          0.07576678436850509,
          0.0354956021859094,
          0.06085474621942415,
          0.05949366757316382,
          0.05961281565088703,
          0.05089195142815227,
          0.0354956021859094,
          0.05355397085985863,
          0.029812372539621834,
          0.03995329977769323,
          0.06038493352557022,
          0.060277614888957186,
          0.038631189774146,
          0.02480921267026361,
          0.05418924218456676,
          0.05664719735004059,
          0.021549207592937894
         ],
         "z": [
          -0.014593805937983774,
          -0.05813688882374298,
          -0.07005190331776238,
          -0.07560368365946621,
          -0.0674253278798781,
          -0.032353651851549634,
          -0.05813688882374298,
          -0.06386837575740861,
          -0.04139877376482856,
          -0.05160238352980264,
          -0.07328574211270374,
          -0.07289920551994035,
          -0.054970195852614305,
          -0.04871223428133792,
          -0.06603576153454559,
          -0.0611846951838344,
          0.09194133857091372
         ]
        },
        {
         "customdata": [
          [
           "NeoScrypt"
          ],
          [
           "NeoScrypt"
          ],
          [
           "NeoScrypt"
          ],
          [
           "NeoScrypt"
          ],
          [
           "NeoScrypt"
          ],
          [
           "NeoScrypt"
          ],
          [
           "NeoScrypt"
          ],
          [
           "NeoScrypt"
          ],
          [
           "NeoScrypt"
          ],
          [
           "NeoScrypt"
          ]
         ],
         "hovertemplate": "<b>%{hovertext}</b><br><br>Algorithm=%{customdata[0]}<br>class=0<br>PC 1=%{x}<br>PC 2=%{y}<br>PC 3=%{z}<extra></extra>",
         "hovertext": [
          "FeatherCoin",
          "Orbitcoin",
          "TrezarCoin",
          "VIVO Coin",
          "Innova",
          "GoByte",
          "SparksPay",
          "GunCoin",
          "UFO Coin",
          "FriendshipCoin"
         ],
         "legendgroup": "NeoScrypt, 0",
         "marker": {
          "color": "#ab63fa",
          "symbol": "circle"
         },
         "mode": "markers",
         "name": "NeoScrypt, 0",
         "scene": "scene",
         "showlegend": true,
         "type": "scatter3d",
         "x": [
          -0.29031104055644646,
          -0.29720586921310493,
          -0.26410344027622384,
          -0.2917560834189074,
          -0.27364913652686534,
          -0.2784377583794224,
          -0.26731428066904495,
          -0.12436542000470825,
          -0.23613365882471837,
          -0.29618186599456364
         ],
         "y": [
          -0.2144357961188168,
          -0.11628690668566355,
          -0.0660102249264683,
          -0.18637462013422398,
          -0.1622699674677298,
          -0.2434637578345325,
          -0.1648605088959077,
          -0.11480381907613137,
          -0.20196693769681343,
          -0.11597530511125956
         ],
         "z": [
          -0.12652869937380795,
          -0.0047242184955166916,
          -0.015630799812021,
          -0.11072829648438269,
          -0.09798666761416346,
          -0.12016230013126498,
          -0.10844448163880627,
          -0.03959102694657567,
          -0.12283925178193833,
          -0.006555287359981649
         ]
        },
        {
         "customdata": [
          [
           "SHA3"
          ],
          [
           "SHA3"
          ]
         ],
         "hovertemplate": "<b>%{hovertext}</b><br><br>Algorithm=%{customdata[0]}<br>class=0<br>PC 1=%{x}<br>PC 2=%{y}<br>PC 3=%{z}<extra></extra>",
         "hovertext": [
          "MaxCoin",
          "Nexus"
         ],
         "legendgroup": "SHA3, 0",
         "marker": {
          "color": "#FFA15A",
          "symbol": "circle"
         },
         "mode": "markers",
         "name": "SHA3, 0",
         "scene": "scene",
         "showlegend": true,
         "type": "scatter3d",
         "x": [
          -0.23487399982265122,
          -0.4827871205148593
         ],
         "y": [
          0.003949746802119461,
          -0.2065984311403931
         ],
         "z": [
          0.2440172588033799,
          0.694858768338648
         ]
        },
        {
         "customdata": [
          [
           "HybridScryptHash256"
          ]
         ],
         "hovertemplate": "<b>%{hovertext}</b><br><br>Algorithm=%{customdata[0]}<br>class=0<br>PC 1=%{x}<br>PC 2=%{y}<br>PC 3=%{z}<extra></extra>",
         "hovertext": [
          "MediterraneanCoin"
         ],
         "legendgroup": "HybridScryptHash256, 0",
         "marker": {
          "color": "#19d3f3",
          "symbol": "circle"
         },
         "mode": "markers",
         "name": "HybridScryptHash256, 0",
         "scene": "scene",
         "showlegend": true,
         "type": "scatter3d",
         "x": [
          -0.08629783846441404
         ],
         "y": [
          -0.2812620155461847
         ],
         "z": [
          -0.1843346404489477
         ]
        },
        {
         "customdata": [
          [
           "PHI1612"
          ],
          [
           "PHI1612"
          ]
         ],
         "hovertemplate": "<b>%{hovertext}</b><br><br>Algorithm=%{customdata[0]}<br>class=0<br>PC 1=%{x}<br>PC 2=%{y}<br>PC 3=%{z}<extra></extra>",
         "hovertext": [
          "TittieCoin",
          "LUXCoin"
         ],
         "legendgroup": "PHI1612, 0",
         "marker": {
          "color": "#FF6692",
          "symbol": "circle"
         },
         "mode": "markers",
         "name": "PHI1612, 0",
         "scene": "scene",
         "showlegend": true,
         "type": "scatter3d",
         "x": [
          0.06841438685363951,
          -0.14582834654713853
         ],
         "y": [
          -0.12506262633170334,
          -0.10654169587185781
         ],
         "z": [
          0.01325198025972719,
          0.045961685240783985
         ]
        },
        {
         "customdata": [
          [
           "Lyra2REv2"
          ],
          [
           "Lyra2REv2"
          ],
          [
           "Lyra2REv2"
          ],
          [
           "Lyra2REv2"
          ]
         ],
         "hovertemplate": "<b>%{hovertext}</b><br><br>Algorithm=%{customdata[0]}<br>class=0<br>PC 1=%{x}<br>PC 2=%{y}<br>PC 3=%{z}<extra></extra>",
         "hovertext": [
          "Vertcoin",
          "Rupee",
          "KREDS",
          "Absolute Coin"
         ],
         "legendgroup": "Lyra2REv2, 0",
         "marker": {
          "color": "#B6E880",
          "symbol": "circle"
         },
         "mode": "markers",
         "name": "Lyra2REv2, 0",
         "scene": "scene",
         "showlegend": true,
         "type": "scatter3d",
         "x": [
          -0.44599051455291505,
          -0.39672037070125893,
          -0.46113026601697404,
          -0.549771042320053
         ],
         "y": [
          -0.10873474544402358,
          -0.04237319491102396,
          -0.1351423039604213,
          -0.014234094896480535
         ],
         "z": [
          -0.15691310544963874,
          -0.19137917652453063,
          -0.15237415204310908,
          -0.01654361433570663
         ]
        },
        {
         "customdata": [
          [
           "CryptoNight"
          ],
          [
           "CryptoNight"
          ],
          [
           "CryptoNight"
          ],
          [
           "CryptoNight"
          ],
          [
           "CryptoNight"
          ],
          [
           "CryptoNight"
          ],
          [
           "CryptoNight"
          ],
          [
           "CryptoNight"
          ],
          [
           "CryptoNight"
          ],
          [
           "CryptoNight"
          ],
          [
           "CryptoNight"
          ],
          [
           "CryptoNight"
          ],
          [
           "CryptoNight"
          ],
          [
           "CryptoNight"
          ],
          [
           "CryptoNight"
          ],
          [
           "CryptoNight"
          ],
          [
           "CryptoNight"
          ],
          [
           "CryptoNight"
          ],
          [
           "CryptoNight"
          ]
         ],
         "hovertemplate": "<b>%{hovertext}</b><br><br>Algorithm=%{customdata[0]}<br>class=0<br>PC 1=%{x}<br>PC 2=%{y}<br>PC 3=%{z}<extra></extra>",
         "hovertext": [
          "ByteCoin",
          "DigitalNote ",
          "Karbo",
          "Cannabis Industry Coin",
          "Bikercoins",
          "Dinastycoin",
          "LeviarCoin",
          "Sumokoin",
          "UltraNote",
          "BitCoal",
          "TurtleCoin",
          "Niobio Cash",
          "BitTube",
          "Monero Classic",
          "PlatinCoin",
          "Newton Coin",
          "PluraCoin",
          "FREDEnergy",
          "Beldex"
         ],
         "legendgroup": "CryptoNight, 0",
         "marker": {
          "color": "#FF97FF",
          "symbol": "circle"
         },
         "mode": "markers",
         "name": "CryptoNight, 0",
         "scene": "scene",
         "showlegend": true,
         "type": "scatter3d",
         "x": [
          2.7866711947908356,
          -0.12182907891016227,
          -0.19806975820285527,
          -0.1833737599482841,
          -0.18068918010045243,
          0.0551673572606703,
          -0.16272304720426028,
          -0.212053590236495,
          0.10299581460549036,
          -0.17340854049142543,
          0.651181112013586,
          -0.2071267953942987,
          -0.12243527284999978,
          -0.2143181610924132,
          -0.21824795620701049,
          0.460016320584621,
          -0.11708601232749687,
          -0.1859141523090476,
          -0.19381024785433582
         ],
         "y": [
          -0.2020705639160585,
          -0.15123695425473838,
          -0.10857850162725491,
          -0.14594128360137168,
          -0.1534067377172541,
          -0.09791087043015023,
          -0.17057701308856035,
          -0.17032887816238268,
          -0.17196861794660356,
          -0.13123508851950197,
          -0.17963929407013723,
          -0.19551048553258996,
          -0.1199079647216098,
          -0.17151043469147356,
          -0.16611291423346147,
          -0.17034805154969088,
          -0.11995100698344342,
          -0.16832621613058218,
          -0.16965584459934677
         ],
         "z": [
          0.16729239514145322,
          -0.12571788693632835,
          -0.11271050167981282,
          -0.10815766520424325,
          -0.11313153753376959,
          -0.03531395991170668,
          -0.11114325301867313,
          -0.12839412480754292,
          -0.08834627580229364,
          -0.09402110878640349,
          -0.037221617308381444,
          -0.12631591583236323,
          -0.011635655430163466,
          -0.1184155312663538,
          -0.12397276152176298,
          -0.057707028624012426,
          -0.011112008687899067,
          -0.11638599860572608,
          -0.12309877630302633
         ]
        },
        {
         "customdata": [
          [
           "Shabal256"
          ]
         ],
         "hovertemplate": "<b>%{hovertext}</b><br><br>Algorithm=%{customdata[0]}<br>class=0<br>PC 1=%{x}<br>PC 2=%{y}<br>PC 3=%{z}<extra></extra>",
         "hovertext": [
          "BurstCoin"
         ],
         "legendgroup": "Shabal256, 0",
         "marker": {
          "color": "#FECB52",
          "symbol": "circle"
         },
         "mode": "markers",
         "name": "Shabal256, 0",
         "scene": "scene",
         "showlegend": true,
         "type": "scatter3d",
         "x": [
          1.2539304274049439
         ],
         "y": [
          -0.31501826348093925
         ],
         "z": [
          0.33529657932473733
         ]
        },
        {
         "customdata": [
          [
           "Counterparty"
          ]
         ],
         "hovertemplate": "<b>%{hovertext}</b><br><br>Algorithm=%{customdata[0]}<br>class=0<br>PC 1=%{x}<br>PC 2=%{y}<br>PC 3=%{z}<extra></extra>",
         "hovertext": [
          "StorjCoin"
         ],
         "legendgroup": "Counterparty, 0",
         "marker": {
          "color": "#636efa",
          "symbol": "circle"
         },
         "mode": "markers",
         "name": "Counterparty, 0",
         "scene": "scene",
         "showlegend": true,
         "type": "scatter3d",
         "x": [
          0.032441722174372134
         ],
         "y": [
          0.06789890001210741
         ],
         "z": [
          0.05795072704857685
         ]
        },
        {
         "customdata": [
          [
           "Stanford Folding"
          ]
         ],
         "hovertemplate": "<b>%{hovertext}</b><br><br>Algorithm=%{customdata[0]}<br>class=0<br>PC 1=%{x}<br>PC 2=%{y}<br>PC 3=%{z}<extra></extra>",
         "hovertext": [
          "Folding Coin"
         ],
         "legendgroup": "Stanford Folding, 0",
         "marker": {
          "color": "#EF553B",
          "symbol": "circle"
         },
         "mode": "markers",
         "name": "Stanford Folding, 0",
         "scene": "scene",
         "showlegend": true,
         "type": "scatter3d",
         "x": [
          -0.19558684647633337
         ],
         "y": [
          -0.09710959404599868
         ],
         "z": [
          0.04258966719803516
         ]
        },
        {
         "customdata": [
          [
           "QuBit"
          ],
          [
           "QuBit"
          ],
          [
           "QuBit"
          ]
         ],
         "hovertemplate": "<b>%{hovertext}</b><br><br>Algorithm=%{customdata[0]}<br>class=0<br>PC 1=%{x}<br>PC 2=%{y}<br>PC 3=%{z}<extra></extra>",
         "hovertext": [
          "CypherPunkCoin",
          "LiteCreed",
          "SLICE"
         ],
         "legendgroup": "QuBit, 0",
         "marker": {
          "color": "#00cc96",
          "symbol": "circle"
         },
         "mode": "markers",
         "name": "QuBit, 0",
         "scene": "scene",
         "showlegend": true,
         "type": "scatter3d",
         "x": [
          -0.10019539906254926,
          -0.2463437902263799,
          -0.15375979603514556
         ],
         "y": [
          -0.07006323110945145,
          -0.0916194560882658,
          -0.07588135607498935
         ],
         "z": [
          -0.0055871095783963974,
          0.14344879619446685,
          0.026507031473680123
         ]
        },
        {
         "customdata": [
          [
           "M7 POW"
          ]
         ],
         "hovertemplate": "<b>%{hovertext}</b><br><br>Algorithm=%{customdata[0]}<br>class=0<br>PC 1=%{x}<br>PC 2=%{y}<br>PC 3=%{z}<extra></extra>",
         "hovertext": [
          "Cryptonite"
         ],
         "legendgroup": "M7 POW, 0",
         "marker": {
          "color": "#ab63fa",
          "symbol": "circle"
         },
         "mode": "markers",
         "name": "M7 POW, 0",
         "scene": "scene",
         "showlegend": true,
         "type": "scatter3d",
         "x": [
          -0.7931251252734965
         ],
         "y": [
          -0.1515537755416469
         ],
         "z": [
          -0.47652631167552567
         ]
        },
        {
         "customdata": [
          [
           "Lyra2RE"
          ],
          [
           "Lyra2RE"
          ],
          [
           "Lyra2RE"
          ],
          [
           "Lyra2RE"
          ]
         ],
         "hovertemplate": "<b>%{hovertext}</b><br><br>Algorithm=%{customdata[0]}<br>class=0<br>PC 1=%{x}<br>PC 2=%{y}<br>PC 3=%{z}<extra></extra>",
         "hovertext": [
          "Crypto",
          "HexxCoin",
          "Zoin",
          "Infinex"
         ],
         "legendgroup": "Lyra2RE, 0",
         "marker": {
          "color": "#FFA15A",
          "symbol": "circle"
         },
         "mode": "markers",
         "name": "Lyra2RE, 0",
         "scene": "scene",
         "showlegend": true,
         "type": "scatter3d",
         "x": [
          -0.1287247132929787,
          -0.13220485297624268,
          -0.19806979912345524,
          -0.1379477285212922
         ],
         "y": [
          -0.2556768471363108,
          -0.2502303354737373,
          -0.18424647501090732,
          -0.24968697760498296
         ],
         "z": [
          -0.4427030436882484,
          -0.44426324309158727,
          -0.26605485354076536,
          -0.45362136255329033
         ]
        },
        {
         "customdata": [
          [
           "QUAIT"
          ]
         ],
         "hovertemplate": "<b>%{hovertext}</b><br><br>Algorithm=%{customdata[0]}<br>class=0<br>PC 1=%{x}<br>PC 2=%{y}<br>PC 3=%{z}<extra></extra>",
         "hovertext": [
          "Droidz"
         ],
         "legendgroup": "QUAIT, 0",
         "marker": {
          "color": "#19d3f3",
          "symbol": "circle"
         },
         "mode": "markers",
         "name": "QUAIT, 0",
         "scene": "scene",
         "showlegend": true,
         "type": "scatter3d",
         "x": [
          -0.7494001169083533
         ],
         "y": [
          -0.8064259821055868
         ],
         "z": [
          0.31300971758712204
         ]
        },
        {
         "customdata": [
          [
           "Blake2b"
          ],
          [
           "Blake2b"
          ]
         ],
         "hovertemplate": "<b>%{hovertext}</b><br><br>Algorithm=%{customdata[0]}<br>class=0<br>PC 1=%{x}<br>PC 2=%{y}<br>PC 3=%{z}<extra></extra>",
         "hovertext": [
          "Siacoin",
          "Nano"
         ],
         "legendgroup": "Blake2b, 0",
         "marker": {
          "color": "#FF6692",
          "symbol": "circle"
         },
         "mode": "markers",
         "name": "Blake2b, 0",
         "scene": "scene",
         "showlegend": true,
         "type": "scatter3d",
         "x": [
          0.41449973069331325,
          0.029722779376897646
         ],
         "y": [
          -0.05308445422882346,
          -0.12163860323633964
         ],
         "z": [
          -0.003428434047461363,
          -0.04777311638033667
         ]
        },
        {
         "customdata": [
          [
           "BLAKE256"
          ],
          [
           "BLAKE256"
          ]
         ],
         "hovertemplate": "<b>%{hovertext}</b><br><br>Algorithm=%{customdata[0]}<br>class=0<br>PC 1=%{x}<br>PC 2=%{y}<br>PC 3=%{z}<extra></extra>",
         "hovertext": [
          "Decred",
          "Photon"
         ],
         "legendgroup": "BLAKE256, 0",
         "marker": {
          "color": "#B6E880",
          "symbol": "circle"
         },
         "mode": "markers",
         "name": "BLAKE256, 0",
         "scene": "scene",
         "showlegend": true,
         "type": "scatter3d",
         "x": [
          -0.19129810274475995,
          0.2891277958185104
         ],
         "y": [
          0.09246786574266284,
          0.18679366925042037
         ],
         "z": [
          0.03618557233193612,
          0.06007025068665305
         ]
        },
        {
         "customdata": [
          [
           "1GB AES Pattern Search"
          ]
         ],
         "hovertemplate": "<b>%{hovertext}</b><br><br>Algorithm=%{customdata[0]}<br>class=0<br>PC 1=%{x}<br>PC 2=%{y}<br>PC 3=%{z}<extra></extra>",
         "hovertext": [
          "HOdlcoin"
         ],
         "legendgroup": "1GB AES Pattern Search, 0",
         "marker": {
          "color": "#FF97FF",
          "symbol": "circle"
         },
         "mode": "markers",
         "name": "1GB AES Pattern Search, 0",
         "scene": "scene",
         "showlegend": true,
         "type": "scatter3d",
         "x": [
          0.49224308255589777
         ],
         "y": [
          -0.7320947048777002
         ],
         "z": [
          -0.28956513212889917
         ]
        },
        {
         "customdata": [
          [
           "NIST5"
          ],
          [
           "NIST5"
          ],
          [
           "NIST5"
          ],
          [
           "NIST5"
          ],
          [
           "NIST5"
          ],
          [
           "NIST5"
          ],
          [
           "NIST5"
          ],
          [
           "NIST5"
          ],
          [
           "NIST5"
          ],
          [
           "NIST5"
          ]
         ],
         "hovertemplate": "<b>%{hovertext}</b><br><br>Algorithm=%{customdata[0]}<br>class=0<br>PC 1=%{x}<br>PC 2=%{y}<br>PC 3=%{z}<extra></extra>",
         "hovertext": [
          "PWR Coin",
          "VIP Tokens",
          "Coinonat",
          "Denarius",
          "Virta Unique Coin",
          "NamoCoin",
          "Electra",
          "Bulwark",
          "Bitspace",
          "Jumpcoin"
         ],
         "legendgroup": "NIST5, 0",
         "marker": {
          "color": "#FECB52",
          "symbol": "circle"
         },
         "mode": "markers",
         "name": "NIST5, 0",
         "scene": "scene",
         "showlegend": true,
         "type": "scatter3d",
         "x": [
          -0.031153648537167945,
          -0.35491170789338045,
          -0.31650108244548575,
          -0.29197482505287164,
          -0.28237466095075364,
          -0.2963223991154887,
          0.12545783311039393,
          -0.198510070215941,
          -0.2578522923639124,
          -0.2700104270960363
         ],
         "y": [
          0.09290422572622391,
          0.12182824090745593,
          0.0009150059017396517,
          0.06530649433195977,
          0.06287540983049868,
          0.05474123094969963,
          0.12575371467459637,
          0.14352119907872893,
          0.06893500248934874,
          -0.05097967578320971
         ],
         "z": [
          0.021470026769674258,
          0.013370551406477688,
          -0.12093243579094587,
          -0.032621510962351795,
          -0.030741927475825475,
          -0.04294573541331953,
          0.006029169595822706,
          -0.07206914528930852,
          -0.0073073528604603215,
          -0.10935089035622411
         ]
        },
        {
         "customdata": [
          [
           "Dagger"
          ],
          [
           "Dagger"
          ],
          [
           "Dagger"
          ]
         ],
         "hovertemplate": "<b>%{hovertext}</b><br><br>Algorithm=%{customdata[0]}<br>class=0<br>PC 1=%{x}<br>PC 2=%{y}<br>PC 3=%{z}<extra></extra>",
         "hovertext": [
          "SoilCoin",
          "Pirl",
          "Travelflex"
         ],
         "legendgroup": "Dagger, 0",
         "marker": {
          "color": "#636efa",
          "symbol": "circle"
         },
         "mode": "markers",
         "name": "Dagger, 0",
         "scene": "scene",
         "showlegend": true,
         "type": "scatter3d",
         "x": [
          -0.26644395122916065,
          -0.2525445929802748,
          -0.16989207153841324
         ],
         "y": [
          -0.10411271111217851,
          -0.16719261152151108,
          -0.07412638726765614
         ],
         "z": [
          -0.10435514282781579,
          -0.11368360317152393,
          -0.03514249601209779
         ]
        },
        {
         "customdata": [
          [
           "X11GOST"
          ]
         ],
         "hovertemplate": "<b>%{hovertext}</b><br><br>Algorithm=%{customdata[0]}<br>class=0<br>PC 1=%{x}<br>PC 2=%{y}<br>PC 3=%{z}<extra></extra>",
         "hovertext": [
          "SibCoin"
         ],
         "legendgroup": "X11GOST, 0",
         "marker": {
          "color": "#EF553B",
          "symbol": "circle"
         },
         "mode": "markers",
         "name": "X11GOST, 0",
         "scene": "scene",
         "showlegend": true,
         "type": "scatter3d",
         "x": [
          -0.4659469391846893
         ],
         "y": [
          -0.16753760897858644
         ],
         "z": [
          -0.4030800134071882
         ]
        },
        {
         "customdata": [
          [
           "POS 3.0"
          ],
          [
           "POS 3.0"
          ],
          [
           "POS 3.0"
          ]
         ],
         "hovertemplate": "<b>%{hovertext}</b><br><br>Algorithm=%{customdata[0]}<br>class=0<br>PC 1=%{x}<br>PC 2=%{y}<br>PC 3=%{z}<extra></extra>",
         "hovertext": [
          "Let it Ride",
          "QTUM",
          "TokenPay"
         ],
         "legendgroup": "POS 3.0, 0",
         "marker": {
          "color": "#00cc96",
          "symbol": "circle"
         },
         "mode": "markers",
         "name": "POS 3.0, 0",
         "scene": "scene",
         "showlegend": true,
         "type": "scatter3d",
         "x": [
          0.06658423377148587,
          0.01248823932657259,
          -0.06605667790245973
         ],
         "y": [
          0.044708792104264504,
          0.06390945384597153,
          -0.0035942041345645836
         ],
         "z": [
          0.022067849519285157,
          0.058638125261500064,
          -0.017070211171887173
         ]
        },
        {
         "customdata": [
          [
           "SHA-256D"
          ],
          [
           "SHA-256D"
          ],
          [
           "SHA-256D"
          ],
          [
           "SHA-256D"
          ]
         ],
         "hovertemplate": "<b>%{hovertext}</b><br><br>Algorithm=%{customdata[0]}<br>class=0<br>PC 1=%{x}<br>PC 2=%{y}<br>PC 3=%{z}<extra></extra>",
         "hovertext": [
          "BuzzCoin",
          "LanaCoin",
          "TheVig",
          "Titan Coin"
         ],
         "legendgroup": "SHA-256D, 0",
         "marker": {
          "color": "#ab63fa",
          "symbol": "circle"
         },
         "mode": "markers",
         "name": "SHA-256D, 0",
         "scene": "scene",
         "showlegend": true,
         "type": "scatter3d",
         "x": [
          -0.0003167870132295196,
          -0.30400785359603255,
          -0.1862125311788064,
          -0.2726346705812317
         ],
         "y": [
          -0.09321223741488095,
          -0.09416568504181484,
          -0.004196237907016939,
          -0.15637119511692107
         ],
         "z": [
          0.12092443684727314,
          0.08544684280063285,
          0.10507025184602062,
          0.09461405073541153
         ]
        },
        {
         "customdata": [
          [
           "Lyra2Z"
          ],
          [
           "Lyra2Z"
          ],
          [
           "Lyra2Z"
          ],
          [
           "Lyra2Z"
          ]
         ],
         "hovertemplate": "<b>%{hovertext}</b><br><br>Algorithm=%{customdata[0]}<br>class=0<br>PC 1=%{x}<br>PC 2=%{y}<br>PC 3=%{z}<extra></extra>",
         "hovertext": [
          "ZCoin",
          "Alpenschillling",
          "GINcoin",
          "Actinium"
         ],
         "legendgroup": "Lyra2Z, 0",
         "marker": {
          "color": "#FFA15A",
          "symbol": "circle"
         },
         "mode": "markers",
         "name": "Lyra2Z, 0",
         "scene": "scene",
         "showlegend": true,
         "type": "scatter3d",
         "x": [
          -0.525796407890258,
          -0.4664496646855222,
          -0.4473663521392155,
          -0.44357331616769646
         ],
         "y": [
          -0.30707244971671993,
          -0.22977436841016785,
          -0.22829118441875834,
          -0.18735487006188534
         ],
         "z": [
          -0.2756162339673346,
          -0.21347350733568135,
          -0.19540348558882004,
          -0.2052031226057754
         ]
        },
        {
         "customdata": [
          [
           "X14"
          ]
         ],
         "hovertemplate": "<b>%{hovertext}</b><br><br>Algorithm=%{customdata[0]}<br>class=0<br>PC 1=%{x}<br>PC 2=%{y}<br>PC 3=%{z}<extra></extra>",
         "hovertext": [
          "GanjaCoin V2"
         ],
         "legendgroup": "X14, 0",
         "marker": {
          "color": "#19d3f3",
          "symbol": "circle"
         },
         "mode": "markers",
         "name": "X14, 0",
         "scene": "scene",
         "showlegend": true,
         "type": "scatter3d",
         "x": [
          -0.1477823346718115
         ],
         "y": [
          0.08493135913475694
         ],
         "z": [
          0.12604492530403444
         ]
        },
        {
         "customdata": [
          [
           "DPoS"
          ],
          [
           "DPoS"
          ],
          [
           "DPoS"
          ],
          [
           "DPoS"
          ],
          [
           "DPoS"
          ],
          [
           "DPoS"
          ],
          [
           "DPoS"
          ]
         ],
         "hovertemplate": "<b>%{hovertext}</b><br><br>Algorithm=%{customdata[0]}<br>class=0<br>PC 1=%{x}<br>PC 2=%{y}<br>PC 3=%{z}<extra></extra>",
         "hovertext": [
          "ARK",
          "Lamden Tau",
          "Muse",
          "ALAX",
          "Lisk",
          "EOS",
          "Oxycoin"
         ],
         "legendgroup": "DPoS, 0",
         "marker": {
          "color": "#FF6692",
          "symbol": "circle"
         },
         "mode": "markers",
         "name": "DPoS, 0",
         "scene": "scene",
         "showlegend": true,
         "type": "scatter3d",
         "x": [
          4.980170829631999,
          3.5376808335556262,
          1.5578614097546717,
          3.46597578811242,
          4.984685336452319,
          3.5400344834991313,
          3.5411693061460445
         ],
         "y": [
          0.90432784682712,
          0.5339226858209709,
          0.5443309034725392,
          0.5098163941427575,
          0.9003434175977566,
          0.5496377683541851,
          0.549628637123186
         ],
         "z": [
          1.5991755697827357,
          1.0383250631610748,
          0.7192374277016491,
          1.0670024215114868,
          1.6016696835621151,
          1.0091406349840988,
          1.0092517243916166
         ]
        },
        {
         "customdata": [
          [
           "Dagger-Hashimoto"
          ]
         ],
         "hovertemplate": "<b>%{hovertext}</b><br><br>Algorithm=%{customdata[0]}<br>class=0<br>PC 1=%{x}<br>PC 2=%{y}<br>PC 3=%{z}<extra></extra>",
         "hovertext": [
          "DubaiCoin"
         ],
         "legendgroup": "Dagger-Hashimoto, 0",
         "marker": {
          "color": "#B6E880",
          "symbol": "circle"
         },
         "mode": "markers",
         "name": "Dagger-Hashimoto, 0",
         "scene": "scene",
         "showlegend": true,
         "type": "scatter3d",
         "x": [
          0.3103710471772553
         ],
         "y": [
          0.029267332247206977
         ],
         "z": [
          0.1898031773973404
         ]
        },
        {
         "customdata": [
          [
           "Blake2S"
          ]
         ],
         "hovertemplate": "<b>%{hovertext}</b><br><br>Algorithm=%{customdata[0]}<br>class=0<br>PC 1=%{x}<br>PC 2=%{y}<br>PC 3=%{z}<extra></extra>",
         "hovertext": [
          "TajCoin"
         ],
         "legendgroup": "Blake2S, 0",
         "marker": {
          "color": "#FF97FF",
          "symbol": "circle"
         },
         "mode": "markers",
         "name": "Blake2S, 0",
         "scene": "scene",
         "showlegend": true,
         "type": "scatter3d",
         "x": [
          -0.7756882404016638
         ],
         "y": [
          -0.7029992692974593
         ],
         "z": [
          0.16476547619944337
         ]
        },
        {
         "customdata": [
          [
           "536"
          ]
         ],
         "hovertemplate": "<b>%{hovertext}</b><br><br>Algorithm=%{customdata[0]}<br>class=0<br>PC 1=%{x}<br>PC 2=%{y}<br>PC 3=%{z}<extra></extra>",
         "hovertext": [
          "Espers"
         ],
         "legendgroup": "536, 0",
         "marker": {
          "color": "#FECB52",
          "symbol": "circle"
         },
         "mode": "markers",
         "name": "536, 0",
         "scene": "scene",
         "showlegend": true,
         "type": "scatter3d",
         "x": [
          0.27792354887628684
         ],
         "y": [
          -0.08236648645901479
         ],
         "z": [
          0.10748113137974863
         ]
        },
        {
         "customdata": [
          [
           "Argon2d"
          ]
         ],
         "hovertemplate": "<b>%{hovertext}</b><br><br>Algorithm=%{customdata[0]}<br>class=0<br>PC 1=%{x}<br>PC 2=%{y}<br>PC 3=%{z}<extra></extra>",
         "hovertext": [
          "Dynamic"
         ],
         "legendgroup": "Argon2d, 0",
         "marker": {
          "color": "#636efa",
          "symbol": "circle"
         },
         "mode": "markers",
         "name": "Argon2d, 0",
         "scene": "scene",
         "showlegend": true,
         "type": "scatter3d",
         "x": [
          -0.0788884822593074
         ],
         "y": [
          -0.018953518077899502
         ],
         "z": [
          -0.08132453284446156
         ]
        },
        {
         "customdata": [
          [
           "Cloverhash"
          ]
         ],
         "hovertemplate": "<b>%{hovertext}</b><br><br>Algorithm=%{customdata[0]}<br>class=0<br>PC 1=%{x}<br>PC 2=%{y}<br>PC 3=%{z}<extra></extra>",
         "hovertext": [
          "ChanCoin"
         ],
         "legendgroup": "Cloverhash, 0",
         "marker": {
          "color": "#EF553B",
          "symbol": "circle"
         },
         "mode": "markers",
         "name": "Cloverhash, 0",
         "scene": "scene",
         "showlegend": true,
         "type": "scatter3d",
         "x": [
          -0.3088769465418455
         ],
         "y": [
          -0.09188722370975554
         ],
         "z": [
          -0.12249781376881695
         ]
        },
        {
         "customdata": [
          [
           "Skein"
          ],
          [
           "Skein"
          ]
         ],
         "hovertemplate": "<b>%{hovertext}</b><br><br>Algorithm=%{customdata[0]}<br>class=0<br>PC 1=%{x}<br>PC 2=%{y}<br>PC 3=%{z}<extra></extra>",
         "hovertext": [
          "Bitcoin Planet",
          "Cream"
         ],
         "legendgroup": "Skein, 0",
         "marker": {
          "color": "#00cc96",
          "symbol": "circle"
         },
         "mode": "markers",
         "name": "Skein, 0",
         "scene": "scene",
         "showlegend": true,
         "type": "scatter3d",
         "x": [
          -0.15104309455759388,
          -0.15059147958549762
         ],
         "y": [
          0.0845513776947482,
          0.08454774382240342
         ],
         "z": [
          0.12279331672920002,
          0.12283752596296243
         ]
        },
        {
         "customdata": [
          [
           "Time Travel"
          ]
         ],
         "hovertemplate": "<b>%{hovertext}</b><br><br>Algorithm=%{customdata[0]}<br>class=0<br>PC 1=%{x}<br>PC 2=%{y}<br>PC 3=%{z}<extra></extra>",
         "hovertext": [
          "Bitcore"
         ],
         "legendgroup": "Time Travel, 0",
         "marker": {
          "color": "#ab63fa",
          "symbol": "circle"
         },
         "mode": "markers",
         "name": "Time Travel, 0",
         "scene": "scene",
         "showlegend": true,
         "type": "scatter3d",
         "x": [
          -0.25553233692130883
         ],
         "y": [
          -0.14407277194228288
         ],
         "z": [
          -0.11932086435925748
         ]
        },
        {
         "customdata": [
          [
           "Keccak"
          ],
          [
           "Keccak"
          ]
         ],
         "hovertemplate": "<b>%{hovertext}</b><br><br>Algorithm=%{customdata[0]}<br>class=0<br>PC 1=%{x}<br>PC 2=%{y}<br>PC 3=%{z}<extra></extra>",
         "hovertext": [
          "SmartCash",
          "XDNA"
         ],
         "legendgroup": "Keccak, 0",
         "marker": {
          "color": "#FFA15A",
          "symbol": "circle"
         },
         "mode": "markers",
         "name": "Keccak, 0",
         "scene": "scene",
         "showlegend": true,
         "type": "scatter3d",
         "x": [
          -0.37251160751854856,
          -0.5673004366739999
         ],
         "y": [
          -0.24893193283635784,
          -0.0775705202631945
         ],
         "z": [
          0.016114154524311166,
          0.11930061438733716
         ]
        },
        {
         "customdata": [
          [
           "SkunkHash v2 Raptor"
          ]
         ],
         "hovertemplate": "<b>%{hovertext}</b><br><br>Algorithm=%{customdata[0]}<br>class=0<br>PC 1=%{x}<br>PC 2=%{y}<br>PC 3=%{z}<extra></extra>",
         "hovertext": [
          "Signatum"
         ],
         "legendgroup": "SkunkHash v2 Raptor, 0",
         "marker": {
          "color": "#19d3f3",
          "symbol": "circle"
         },
         "mode": "markers",
         "name": "SkunkHash v2 Raptor, 0",
         "scene": "scene",
         "showlegend": true,
         "type": "scatter3d",
         "x": [
          -1.0332719238627166
         ],
         "y": [
          0.1495924517622795
         ],
         "z": [
          -0.4905127510247696
         ]
        },
        {
         "customdata": [
          [
           "VeChainThor Authority"
          ]
         ],
         "hovertemplate": "<b>%{hovertext}</b><br><br>Algorithm=%{customdata[0]}<br>class=0<br>PC 1=%{x}<br>PC 2=%{y}<br>PC 3=%{z}<extra></extra>",
         "hovertext": [
          "Vechain"
         ],
         "legendgroup": "VeChainThor Authority, 0",
         "marker": {
          "color": "#FF6692",
          "symbol": "circle"
         },
         "mode": "markers",
         "name": "VeChainThor Authority, 0",
         "scene": "scene",
         "showlegend": true,
         "type": "scatter3d",
         "x": [
          12.256407084760982
         ],
         "y": [
          -4.19641452297537
         ],
         "z": [
          -17.290403481401146
         ]
        },
        {
         "customdata": [
          [
           "Ouroboros"
          ]
         ],
         "hovertemplate": "<b>%{hovertext}</b><br><br>Algorithm=%{customdata[0]}<br>class=0<br>PC 1=%{x}<br>PC 2=%{y}<br>PC 3=%{z}<extra></extra>",
         "hovertext": [
          "Cardano"
         ],
         "legendgroup": "Ouroboros, 0",
         "marker": {
          "color": "#B6E880",
          "symbol": "circle"
         },
         "mode": "markers",
         "name": "Ouroboros, 0",
         "scene": "scene",
         "showlegend": true,
         "type": "scatter3d",
         "x": [
          0.1446832152818989
         ],
         "y": [
          -0.4748861178200326
         ],
         "z": [
          0.22855343893816016
         ]
        },
        {
         "customdata": [
          [
           "POS 2.0"
          ]
         ],
         "hovertemplate": "<b>%{hovertext}</b><br><br>Algorithm=%{customdata[0]}<br>class=0<br>PC 1=%{x}<br>PC 2=%{y}<br>PC 3=%{z}<extra></extra>",
         "hovertext": [
          "KekCoin"
         ],
         "legendgroup": "POS 2.0, 0",
         "marker": {
          "color": "#FF97FF",
          "symbol": "circle"
         },
         "mode": "markers",
         "name": "POS 2.0, 0",
         "scene": "scene",
         "showlegend": true,
         "type": "scatter3d",
         "x": [
          -0.13653848162140067
         ],
         "y": [
          -0.001419166895890074
         ],
         "z": [
          -0.03176414965819649
         ]
        },
        {
         "customdata": [
          [
           "C11"
          ],
          [
           "C11"
          ]
         ],
         "hovertemplate": "<b>%{hovertext}</b><br><br>Algorithm=%{customdata[0]}<br>class=0<br>PC 1=%{x}<br>PC 2=%{y}<br>PC 3=%{z}<extra></extra>",
         "hovertext": [
          "Interzone",
          "Stipend"
         ],
         "legendgroup": "C11, 0",
         "marker": {
          "color": "#FECB52",
          "symbol": "circle"
         },
         "mode": "markers",
         "name": "C11, 0",
         "scene": "scene",
         "showlegend": true,
         "type": "scatter3d",
         "x": [
          -0.01197744175984457,
          0.15164878421842679
         ],
         "y": [
          -0.15738887576866228,
          -0.07061544699252417
         ],
         "z": [
          -0.05246696514909902,
          0.1287086656577736
         ]
        },
        {
         "customdata": [
          [
           "SkunkHash"
          ]
         ],
         "hovertemplate": "<b>%{hovertext}</b><br><br>Algorithm=%{customdata[0]}<br>class=0<br>PC 1=%{x}<br>PC 2=%{y}<br>PC 3=%{z}<extra></extra>",
         "hovertext": [
          "MUNcoin"
         ],
         "legendgroup": "SkunkHash, 0",
         "marker": {
          "color": "#636efa",
          "symbol": "circle"
         },
         "mode": "markers",
         "name": "SkunkHash, 0",
         "scene": "scene",
         "showlegend": true,
         "type": "scatter3d",
         "x": [
          -0.2460613998297291
         ],
         "y": [
          -0.5056358655955667
         ],
         "z": [
          -0.9334840199970906
         ]
        },
        {
         "customdata": [
          [
           "Proof-of-BibleHash"
          ]
         ],
         "hovertemplate": "<b>%{hovertext}</b><br><br>Algorithm=%{customdata[0]}<br>class=1<br>PC 1=%{x}<br>PC 2=%{y}<br>PC 3=%{z}<extra></extra>",
         "hovertext": [
          "BiblePay"
         ],
         "legendgroup": "Proof-of-BibleHash, 1",
         "marker": {
          "color": "#EF553B",
          "symbol": "diamond"
         },
         "mode": "markers",
         "name": "Proof-of-BibleHash, 1",
         "scene": "scene",
         "showlegend": true,
         "type": "scatter3d",
         "x": [
          0.6280206152808515
         ],
         "y": [
          35.53724737257147
         ],
         "z": [
          13.400790753622621
         ]
        },
        {
         "customdata": [
          [
           "SHA-256 + Hive"
          ]
         ],
         "hovertemplate": "<b>%{hovertext}</b><br><br>Algorithm=%{customdata[0]}<br>class=0<br>PC 1=%{x}<br>PC 2=%{y}<br>PC 3=%{z}<extra></extra>",
         "hovertext": [
          "LitecoinCash"
         ],
         "legendgroup": "SHA-256 + Hive, 0",
         "marker": {
          "color": "#00cc96",
          "symbol": "circle"
         },
         "mode": "markers",
         "name": "SHA-256 + Hive, 0",
         "scene": "scene",
         "showlegend": true,
         "type": "scatter3d",
         "x": [
          0.42612809953637154
         ],
         "y": [
          -16.493463035767498
         ],
         "z": [
          27.589989272381338
         ]
        },
        {
         "customdata": [
          [
           "Proof-of-Authority"
          ]
         ],
         "hovertemplate": "<b>%{hovertext}</b><br><br>Algorithm=%{customdata[0]}<br>class=0<br>PC 1=%{x}<br>PC 2=%{y}<br>PC 3=%{z}<extra></extra>",
         "hovertext": [
          "Poa Network"
         ],
         "legendgroup": "Proof-of-Authority, 0",
         "marker": {
          "color": "#ab63fa",
          "symbol": "circle"
         },
         "mode": "markers",
         "name": "Proof-of-Authority, 0",
         "scene": "scene",
         "showlegend": true,
         "type": "scatter3d",
         "x": [
          1.4697698661720702
         ],
         "y": [
          5.744619372493985
         ],
         "z": [
          -17.616610787574476
         ]
        },
        {
         "customdata": [
          [
           "XEVAN"
          ],
          [
           "XEVAN"
          ],
          [
           "XEVAN"
          ],
          [
           "XEVAN"
          ],
          [
           "XEVAN"
          ],
          [
           "XEVAN"
          ]
         ],
         "hovertemplate": "<b>%{hovertext}</b><br><br>Algorithm=%{customdata[0]}<br>class=0<br>PC 1=%{x}<br>PC 2=%{y}<br>PC 3=%{z}<extra></extra>",
         "hovertext": [
          "Ellerium",
          "Bitcoin Incognito",
          "Urals Coin",
          "Bettex coin",
          "BitMoney",
          "Beetle Coin"
         ],
         "legendgroup": "XEVAN, 0",
         "marker": {
          "color": "#FFA15A",
          "symbol": "circle"
         },
         "mode": "markers",
         "name": "XEVAN, 0",
         "scene": "scene",
         "showlegend": true,
         "type": "scatter3d",
         "x": [
          -0.10943359235823762,
          -0.010548307870006084,
          -0.11375062096475654,
          -0.025117580313856983,
          0.6733041054818043,
          0.006704705077693865
         ],
         "y": [
          -0.14378406199503377,
          -0.15914277550811642,
          -0.18619894105775256,
          -0.07287466022581415,
          -0.8389825826075286,
          -0.07211771022603974
         ],
         "z": [
          0.1646340698012582,
          0.15189299894135208,
          0.04895048569477777,
          0.12520041231564386,
          1.09051855922531,
          0.194565356442223
         ]
        },
        {
         "customdata": [
          [
           "VBFT"
          ]
         ],
         "hovertemplate": "<b>%{hovertext}</b><br><br>Algorithm=%{customdata[0]}<br>class=0<br>PC 1=%{x}<br>PC 2=%{y}<br>PC 3=%{z}<extra></extra>",
         "hovertext": [
          "Ontology"
         ],
         "legendgroup": "VBFT, 0",
         "marker": {
          "color": "#19d3f3",
          "symbol": "circle"
         },
         "mode": "markers",
         "name": "VBFT, 0",
         "scene": "scene",
         "showlegend": true,
         "type": "scatter3d",
         "x": [
          -0.07433240753962363
         ],
         "y": [
          0.034052686238186136
         ],
         "z": [
          0.13502667388136688
         ]
        },
        {
         "customdata": [
          [
           "IMesh"
          ]
         ],
         "hovertemplate": "<b>%{hovertext}</b><br><br>Algorithm=%{customdata[0]}<br>class=0<br>PC 1=%{x}<br>PC 2=%{y}<br>PC 3=%{z}<extra></extra>",
         "hovertext": [
          "Aidos Kuneen"
         ],
         "legendgroup": "IMesh, 0",
         "marker": {
          "color": "#FF6692",
          "symbol": "circle"
         },
         "mode": "markers",
         "name": "IMesh, 0",
         "scene": "scene",
         "showlegend": true,
         "type": "scatter3d",
         "x": [
          -0.25236435439691957
         ],
         "y": [
          -0.1657392152815011
         ],
         "z": [
          -0.12101935534063231
         ]
        },
        {
         "customdata": [
          [
           "Green Protocol"
          ]
         ],
         "hovertemplate": "<b>%{hovertext}</b><br><br>Algorithm=%{customdata[0]}<br>class=0<br>PC 1=%{x}<br>PC 2=%{y}<br>PC 3=%{z}<extra></extra>",
         "hovertext": [
          "Bitcoin Green"
         ],
         "legendgroup": "Green Protocol, 0",
         "marker": {
          "color": "#B6E880",
          "symbol": "circle"
         },
         "mode": "markers",
         "name": "Green Protocol, 0",
         "scene": "scene",
         "showlegend": true,
         "type": "scatter3d",
         "x": [
          -0.13496687742875682
         ],
         "y": [
          -0.006480445959411099
         ],
         "z": [
          -0.034972109054340665
         ]
        },
        {
         "customdata": [
          [
           "Semux BFT consensus"
          ]
         ],
         "hovertemplate": "<b>%{hovertext}</b><br><br>Algorithm=%{customdata[0]}<br>class=0<br>PC 1=%{x}<br>PC 2=%{y}<br>PC 3=%{z}<extra></extra>",
         "hovertext": [
          "Semux"
         ],
         "legendgroup": "Semux BFT consensus, 0",
         "marker": {
          "color": "#FF97FF",
          "symbol": "circle"
         },
         "mode": "markers",
         "name": "Semux BFT consensus, 0",
         "scene": "scene",
         "showlegend": true,
         "type": "scatter3d",
         "x": [
          3.4127536504733715
         ],
         "y": [
          0.4639674953055578
         ],
         "z": [
          0.9591671322287768
         ]
        },
        {
         "customdata": [
          [
           "X16R"
          ],
          [
           "X16R"
          ],
          [
           "X16R"
          ],
          [
           "X16R"
          ]
         ],
         "hovertemplate": "<b>%{hovertext}</b><br><br>Algorithm=%{customdata[0]}<br>class=0<br>PC 1=%{x}<br>PC 2=%{y}<br>PC 3=%{z}<extra></extra>",
         "hovertext": [
          "Proton",
          "Motion",
          "Trivechain",
          "Xchange"
         ],
         "legendgroup": "X16R, 0",
         "marker": {
          "color": "#FECB52",
          "symbol": "circle"
         },
         "mode": "markers",
         "name": "X16R, 0",
         "scene": "scene",
         "showlegend": true,
         "type": "scatter3d",
         "x": [
          -0.20882692906625455,
          -0.3446166208323504,
          -0.3611498160981611,
          -0.20596676903913222
         ],
         "y": [
          0.014094059362436146,
          -0.039285278158718274,
          0.07774582675063423,
          -0.015687922971490662
         ],
         "z": [
          -0.011981248629058085,
          -0.08592445083110149,
          0.04959081860407764,
          -0.011740683840259952
         ]
        },
        {
         "customdata": [
          [
           "Tribus"
          ]
         ],
         "hovertemplate": "<b>%{hovertext}</b><br><br>Algorithm=%{customdata[0]}<br>class=0<br>PC 1=%{x}<br>PC 2=%{y}<br>PC 3=%{z}<extra></extra>",
         "hovertext": [
          "KEYCO"
         ],
         "legendgroup": "Tribus, 0",
         "marker": {
          "color": "#636efa",
          "symbol": "circle"
         },
         "mode": "markers",
         "name": "Tribus, 0",
         "scene": "scene",
         "showlegend": true,
         "type": "scatter3d",
         "x": [
          0.06509926948258715
         ],
         "y": [
          -0.17360429736652563
         ],
         "z": [
          -0.3127996846566436
         ]
        },
        {
         "customdata": [
          [
           "CryptoNight Heavy"
          ],
          [
           "CryptoNight Heavy"
          ]
         ],
         "hovertemplate": "<b>%{hovertext}</b><br><br>Algorithm=%{customdata[0]}<br>class=0<br>PC 1=%{x}<br>PC 2=%{y}<br>PC 3=%{z}<extra></extra>",
         "hovertext": [
          "Loki",
          "Qwertycoin"
         ],
         "legendgroup": "CryptoNight Heavy, 0",
         "marker": {
          "color": "#EF553B",
          "symbol": "circle"
         },
         "mode": "markers",
         "name": "CryptoNight Heavy, 0",
         "scene": "scene",
         "showlegend": true,
         "type": "scatter3d",
         "x": [
          0.2892525617657882,
          2.04317646171685
         ],
         "y": [
          -0.27531342862707103,
          -0.38707645461213996
         ],
         "z": [
          0.04191327609996598,
          0.22829069907215296
         ]
        },
        {
         "customdata": [
          [
           "Jump Consistent Hash"
          ]
         ],
         "hovertemplate": "<b>%{hovertext}</b><br><br>Algorithm=%{customdata[0]}<br>class=0<br>PC 1=%{x}<br>PC 2=%{y}<br>PC 3=%{z}<extra></extra>",
         "hovertext": [
          "MassGrid"
         ],
         "legendgroup": "Jump Consistent Hash, 0",
         "marker": {
          "color": "#00cc96",
          "symbol": "circle"
         },
         "mode": "markers",
         "name": "Jump Consistent Hash, 0",
         "scene": "scene",
         "showlegend": true,
         "type": "scatter3d",
         "x": [
          -0.15465434761917293
         ],
         "y": [
          -0.11013567697242858
         ],
         "z": [
          -0.05590235350819522
         ]
        },
        {
         "customdata": [
          [
           "HMQ1725"
          ]
         ],
         "hovertemplate": "<b>%{hovertext}</b><br><br>Algorithm=%{customdata[0]}<br>class=0<br>PC 1=%{x}<br>PC 2=%{y}<br>PC 3=%{z}<extra></extra>",
         "hovertext": [
          "PlusOneCoin"
         ],
         "legendgroup": "HMQ1725, 0",
         "marker": {
          "color": "#ab63fa",
          "symbol": "circle"
         },
         "mode": "markers",
         "name": "HMQ1725, 0",
         "scene": "scene",
         "showlegend": true,
         "type": "scatter3d",
         "x": [
          -0.26075367238666336
         ],
         "y": [
          -0.14134529582734803
         ],
         "z": [
          -0.114185498967158
         ]
        },
        {
         "customdata": [
          [
           "Cryptonight-GPU"
          ]
         ],
         "hovertemplate": "<b>%{hovertext}</b><br><br>Algorithm=%{customdata[0]}<br>class=0<br>PC 1=%{x}<br>PC 2=%{y}<br>PC 3=%{z}<extra></extra>",
         "hovertext": [
          "Ryo"
         ],
         "legendgroup": "Cryptonight-GPU, 0",
         "marker": {
          "color": "#FFA15A",
          "symbol": "circle"
         },
         "mode": "markers",
         "name": "Cryptonight-GPU, 0",
         "scene": "scene",
         "showlegend": true,
         "type": "scatter3d",
         "x": [
          -0.8126892494386879
         ],
         "y": [
          0.42016129409519615
         ],
         "z": [
          -1.4222107006136737
         ]
        },
        {
         "customdata": [
          [
           "ECC 256K1"
          ]
         ],
         "hovertemplate": "<b>%{hovertext}</b><br><br>Algorithm=%{customdata[0]}<br>class=0<br>PC 1=%{x}<br>PC 2=%{y}<br>PC 3=%{z}<extra></extra>",
         "hovertext": [
          "Acute Angle Cloud"
         ],
         "legendgroup": "ECC 256K1, 0",
         "marker": {
          "color": "#19d3f3",
          "symbol": "circle"
         },
         "mode": "markers",
         "name": "ECC 256K1, 0",
         "scene": "scene",
         "showlegend": true,
         "type": "scatter3d",
         "x": [
          -0.4471143396907827
         ],
         "y": [
          -0.3683683311072668
         ],
         "z": [
          0.6280011996124127
         ]
        },
        {
         "customdata": [
          [
           "Blake"
          ],
          [
           "Blake"
          ],
          [
           "Blake"
          ]
         ],
         "hovertemplate": "<b>%{hovertext}</b><br><br>Algorithm=%{customdata[0]}<br>class=0<br>PC 1=%{x}<br>PC 2=%{y}<br>PC 3=%{z}<extra></extra>",
         "hovertext": [
          "Universal Molecule",
          "Lithium",
          "BlakeCoin"
         ],
         "legendgroup": "Blake, 0",
         "marker": {
          "color": "#FF6692",
          "symbol": "circle"
         },
         "mode": "markers",
         "name": "Blake, 0",
         "scene": "scene",
         "showlegend": true,
         "type": "scatter3d",
         "x": [
          -0.02714259745073157,
          -0.027404806941616237,
          -0.026041892722547432
         ],
         "y": [
          -0.1489743940611895,
          -0.1528352433128434,
          -0.14994714599678033
         ],
         "z": [
          0.5815722584026748,
          0.590404883203524,
          0.5851573305055796
         ]
        },
        {
         "customdata": [
          [
           "Exosis"
          ]
         ],
         "hovertemplate": "<b>%{hovertext}</b><br><br>Algorithm=%{customdata[0]}<br>class=0<br>PC 1=%{x}<br>PC 2=%{y}<br>PC 3=%{z}<extra></extra>",
         "hovertext": [
          "Exosis"
         ],
         "legendgroup": "Exosis, 0",
         "marker": {
          "color": "#B6E880",
          "symbol": "circle"
         },
         "mode": "markers",
         "name": "Exosis, 0",
         "scene": "scene",
         "showlegend": true,
         "type": "scatter3d",
         "x": [
          -0.26978044542121743
         ],
         "y": [
          -0.1366640799036243
         ],
         "z": [
          -0.12273737168026085
         ]
        },
        {
         "customdata": [
          [
           "SHA3-256"
          ]
         ],
         "hovertemplate": "<b>%{hovertext}</b><br><br>Algorithm=%{customdata[0]}<br>class=0<br>PC 1=%{x}<br>PC 2=%{y}<br>PC 3=%{z}<extra></extra>",
         "hovertext": [
          "Fiii"
         ],
         "legendgroup": "SHA3-256, 0",
         "marker": {
          "color": "#FF97FF",
          "symbol": "circle"
         },
         "mode": "markers",
         "name": "SHA3-256, 0",
         "scene": "scene",
         "showlegend": true,
         "type": "scatter3d",
         "x": [
          -0.19190084597778978
         ],
         "y": [
          -0.5083553565438703
         ],
         "z": [
          0.14841756521142685
         ]
        },
        {
         "customdata": [
          [
           "Equihash+Scrypt"
          ]
         ],
         "hovertemplate": "<b>%{hovertext}</b><br><br>Algorithm=%{customdata[0]}<br>class=0<br>PC 1=%{x}<br>PC 2=%{y}<br>PC 3=%{z}<extra></extra>",
         "hovertext": [
          "Vollar"
         ],
         "legendgroup": "Equihash+Scrypt, 0",
         "marker": {
          "color": "#FECB52",
          "symbol": "circle"
         },
         "mode": "markers",
         "name": "Equihash+Scrypt, 0",
         "scene": "scene",
         "showlegend": true,
         "type": "scatter3d",
         "x": [
          -0.6084575816363725
         ],
         "y": [
          -0.12464336383560203
         ],
         "z": [
          -0.009998482422426984
         ]
        },
        {
         "customdata": [
          [
           "Leased POS"
          ]
         ],
         "hovertemplate": "<b>%{hovertext}</b><br><br>Algorithm=%{customdata[0]}<br>class=0<br>PC 1=%{x}<br>PC 2=%{y}<br>PC 3=%{z}<extra></extra>",
         "hovertext": [
          "Waves"
         ],
         "legendgroup": "Leased POS, 0",
         "marker": {
          "color": "#636efa",
          "symbol": "circle"
         },
         "mode": "markers",
         "name": "Leased POS, 0",
         "scene": "scene",
         "showlegend": true,
         "type": "scatter3d",
         "x": [
          0.5125639195742869
         ],
         "y": [
          0.7082987159781359
         ],
         "z": [
          0.7316369388985574
         ]
        },
        {
         "customdata": [
          [
           "TRC10"
          ]
         ],
         "hovertemplate": "<b>%{hovertext}</b><br><br>Algorithm=%{customdata[0]}<br>class=2<br>PC 1=%{x}<br>PC 2=%{y}<br>PC 3=%{z}<extra></extra>",
         "hovertext": [
          "BitTorrent"
         ],
         "legendgroup": "TRC10, 2",
         "marker": {
          "color": "#EF553B",
          "symbol": "square"
         },
         "mode": "markers",
         "name": "TRC10, 2",
         "scene": "scene",
         "showlegend": true,
         "type": "scatter3d",
         "x": [
          36.6911609818302
         ],
         "y": [
          0.12584543965090794
         ],
         "z": [
          4.620646397822024
         ]
        }
       ],
       "layout": {
        "legend": {
         "title": {
          "text": "Algorithm, class"
         },
         "tracegroupgap": 0,
         "x": 0,
         "y": 1
        },
        "margin": {
         "t": 60
        },
        "scene": {
         "domain": {
          "x": [
           0,
           1
          ],
          "y": [
           0,
           1
          ]
         },
         "xaxis": {
          "title": {
           "text": "PC 1"
          }
         },
         "yaxis": {
          "title": {
           "text": "PC 2"
          }
         },
         "zaxis": {
          "title": {
           "text": "PC 3"
          }
         }
        },
        "template": {
         "data": {
          "bar": [
           {
            "error_x": {
             "color": "#2a3f5f"
            },
            "error_y": {
             "color": "#2a3f5f"
            },
            "marker": {
             "line": {
              "color": "#E5ECF6",
              "width": 0.5
             }
            },
            "type": "bar"
           }
          ],
          "barpolar": [
           {
            "marker": {
             "line": {
              "color": "#E5ECF6",
              "width": 0.5
             }
            },
            "type": "barpolar"
           }
          ],
          "carpet": [
           {
            "aaxis": {
             "endlinecolor": "#2a3f5f",
             "gridcolor": "white",
             "linecolor": "white",
             "minorgridcolor": "white",
             "startlinecolor": "#2a3f5f"
            },
            "baxis": {
             "endlinecolor": "#2a3f5f",
             "gridcolor": "white",
             "linecolor": "white",
             "minorgridcolor": "white",
             "startlinecolor": "#2a3f5f"
            },
            "type": "carpet"
           }
          ],
          "choropleth": [
           {
            "colorbar": {
             "outlinewidth": 0,
             "ticks": ""
            },
            "type": "choropleth"
           }
          ],
          "contour": [
           {
            "colorbar": {
             "outlinewidth": 0,
             "ticks": ""
            },
            "colorscale": [
             [
              0,
              "#0d0887"
             ],
             [
              0.1111111111111111,
              "#46039f"
             ],
             [
              0.2222222222222222,
              "#7201a8"
             ],
             [
              0.3333333333333333,
              "#9c179e"
             ],
             [
              0.4444444444444444,
              "#bd3786"
             ],
             [
              0.5555555555555556,
              "#d8576b"
             ],
             [
              0.6666666666666666,
              "#ed7953"
             ],
             [
              0.7777777777777778,
              "#fb9f3a"
             ],
             [
              0.8888888888888888,
              "#fdca26"
             ],
             [
              1,
              "#f0f921"
             ]
            ],
            "type": "contour"
           }
          ],
          "contourcarpet": [
           {
            "colorbar": {
             "outlinewidth": 0,
             "ticks": ""
            },
            "type": "contourcarpet"
           }
          ],
          "heatmap": [
           {
            "colorbar": {
             "outlinewidth": 0,
             "ticks": ""
            },
            "colorscale": [
             [
              0,
              "#0d0887"
             ],
             [
              0.1111111111111111,
              "#46039f"
             ],
             [
              0.2222222222222222,
              "#7201a8"
             ],
             [
              0.3333333333333333,
              "#9c179e"
             ],
             [
              0.4444444444444444,
              "#bd3786"
             ],
             [
              0.5555555555555556,
              "#d8576b"
             ],
             [
              0.6666666666666666,
              "#ed7953"
             ],
             [
              0.7777777777777778,
              "#fb9f3a"
             ],
             [
              0.8888888888888888,
              "#fdca26"
             ],
             [
              1,
              "#f0f921"
             ]
            ],
            "type": "heatmap"
           }
          ],
          "heatmapgl": [
           {
            "colorbar": {
             "outlinewidth": 0,
             "ticks": ""
            },
            "colorscale": [
             [
              0,
              "#0d0887"
             ],
             [
              0.1111111111111111,
              "#46039f"
             ],
             [
              0.2222222222222222,
              "#7201a8"
             ],
             [
              0.3333333333333333,
              "#9c179e"
             ],
             [
              0.4444444444444444,
              "#bd3786"
             ],
             [
              0.5555555555555556,
              "#d8576b"
             ],
             [
              0.6666666666666666,
              "#ed7953"
             ],
             [
              0.7777777777777778,
              "#fb9f3a"
             ],
             [
              0.8888888888888888,
              "#fdca26"
             ],
             [
              1,
              "#f0f921"
             ]
            ],
            "type": "heatmapgl"
           }
          ],
          "histogram": [
           {
            "marker": {
             "colorbar": {
              "outlinewidth": 0,
              "ticks": ""
             }
            },
            "type": "histogram"
           }
          ],
          "histogram2d": [
           {
            "colorbar": {
             "outlinewidth": 0,
             "ticks": ""
            },
            "colorscale": [
             [
              0,
              "#0d0887"
             ],
             [
              0.1111111111111111,
              "#46039f"
             ],
             [
              0.2222222222222222,
              "#7201a8"
             ],
             [
              0.3333333333333333,
              "#9c179e"
             ],
             [
              0.4444444444444444,
              "#bd3786"
             ],
             [
              0.5555555555555556,
              "#d8576b"
             ],
             [
              0.6666666666666666,
              "#ed7953"
             ],
             [
              0.7777777777777778,
              "#fb9f3a"
             ],
             [
              0.8888888888888888,
              "#fdca26"
             ],
             [
              1,
              "#f0f921"
             ]
            ],
            "type": "histogram2d"
           }
          ],
          "histogram2dcontour": [
           {
            "colorbar": {
             "outlinewidth": 0,
             "ticks": ""
            },
            "colorscale": [
             [
              0,
              "#0d0887"
             ],
             [
              0.1111111111111111,
              "#46039f"
             ],
             [
              0.2222222222222222,
              "#7201a8"
             ],
             [
              0.3333333333333333,
              "#9c179e"
             ],
             [
              0.4444444444444444,
              "#bd3786"
             ],
             [
              0.5555555555555556,
              "#d8576b"
             ],
             [
              0.6666666666666666,
              "#ed7953"
             ],
             [
              0.7777777777777778,
              "#fb9f3a"
             ],
             [
              0.8888888888888888,
              "#fdca26"
             ],
             [
              1,
              "#f0f921"
             ]
            ],
            "type": "histogram2dcontour"
           }
          ],
          "mesh3d": [
           {
            "colorbar": {
             "outlinewidth": 0,
             "ticks": ""
            },
            "type": "mesh3d"
           }
          ],
          "parcoords": [
           {
            "line": {
             "colorbar": {
              "outlinewidth": 0,
              "ticks": ""
             }
            },
            "type": "parcoords"
           }
          ],
          "pie": [
           {
            "automargin": true,
            "type": "pie"
           }
          ],
          "scatter": [
           {
            "marker": {
             "colorbar": {
              "outlinewidth": 0,
              "ticks": ""
             }
            },
            "type": "scatter"
           }
          ],
          "scatter3d": [
           {
            "line": {
             "colorbar": {
              "outlinewidth": 0,
              "ticks": ""
             }
            },
            "marker": {
             "colorbar": {
              "outlinewidth": 0,
              "ticks": ""
             }
            },
            "type": "scatter3d"
           }
          ],
          "scattercarpet": [
           {
            "marker": {
             "colorbar": {
              "outlinewidth": 0,
              "ticks": ""
             }
            },
            "type": "scattercarpet"
           }
          ],
          "scattergeo": [
           {
            "marker": {
             "colorbar": {
              "outlinewidth": 0,
              "ticks": ""
             }
            },
            "type": "scattergeo"
           }
          ],
          "scattergl": [
           {
            "marker": {
             "colorbar": {
              "outlinewidth": 0,
              "ticks": ""
             }
            },
            "type": "scattergl"
           }
          ],
          "scattermapbox": [
           {
            "marker": {
             "colorbar": {
              "outlinewidth": 0,
              "ticks": ""
             }
            },
            "type": "scattermapbox"
           }
          ],
          "scatterpolar": [
           {
            "marker": {
             "colorbar": {
              "outlinewidth": 0,
              "ticks": ""
             }
            },
            "type": "scatterpolar"
           }
          ],
          "scatterpolargl": [
           {
            "marker": {
             "colorbar": {
              "outlinewidth": 0,
              "ticks": ""
             }
            },
            "type": "scatterpolargl"
           }
          ],
          "scatterternary": [
           {
            "marker": {
             "colorbar": {
              "outlinewidth": 0,
              "ticks": ""
             }
            },
            "type": "scatterternary"
           }
          ],
          "surface": [
           {
            "colorbar": {
             "outlinewidth": 0,
             "ticks": ""
            },
            "colorscale": [
             [
              0,
              "#0d0887"
             ],
             [
              0.1111111111111111,
              "#46039f"
             ],
             [
              0.2222222222222222,
              "#7201a8"
             ],
             [
              0.3333333333333333,
              "#9c179e"
             ],
             [
              0.4444444444444444,
              "#bd3786"
             ],
             [
              0.5555555555555556,
              "#d8576b"
             ],
             [
              0.6666666666666666,
              "#ed7953"
             ],
             [
              0.7777777777777778,
              "#fb9f3a"
             ],
             [
              0.8888888888888888,
              "#fdca26"
             ],
             [
              1,
              "#f0f921"
             ]
            ],
            "type": "surface"
           }
          ],
          "table": [
           {
            "cells": {
             "fill": {
              "color": "#EBF0F8"
             },
             "line": {
              "color": "white"
             }
            },
            "header": {
             "fill": {
              "color": "#C8D4E3"
             },
             "line": {
              "color": "white"
             }
            },
            "type": "table"
           }
          ]
         },
         "layout": {
          "annotationdefaults": {
           "arrowcolor": "#2a3f5f",
           "arrowhead": 0,
           "arrowwidth": 1
          },
          "autotypenumbers": "strict",
          "coloraxis": {
           "colorbar": {
            "outlinewidth": 0,
            "ticks": ""
           }
          },
          "colorscale": {
           "diverging": [
            [
             0,
             "#8e0152"
            ],
            [
             0.1,
             "#c51b7d"
            ],
            [
             0.2,
             "#de77ae"
            ],
            [
             0.3,
             "#f1b6da"
            ],
            [
             0.4,
             "#fde0ef"
            ],
            [
             0.5,
             "#f7f7f7"
            ],
            [
             0.6,
             "#e6f5d0"
            ],
            [
             0.7,
             "#b8e186"
            ],
            [
             0.8,
             "#7fbc41"
            ],
            [
             0.9,
             "#4d9221"
            ],
            [
             1,
             "#276419"
            ]
           ],
           "sequential": [
            [
             0,
             "#0d0887"
            ],
            [
             0.1111111111111111,
             "#46039f"
            ],
            [
             0.2222222222222222,
             "#7201a8"
            ],
            [
             0.3333333333333333,
             "#9c179e"
            ],
            [
             0.4444444444444444,
             "#bd3786"
            ],
            [
             0.5555555555555556,
             "#d8576b"
            ],
            [
             0.6666666666666666,
             "#ed7953"
            ],
            [
             0.7777777777777778,
             "#fb9f3a"
            ],
            [
             0.8888888888888888,
             "#fdca26"
            ],
            [
             1,
             "#f0f921"
            ]
           ],
           "sequentialminus": [
            [
             0,
             "#0d0887"
            ],
            [
             0.1111111111111111,
             "#46039f"
            ],
            [
             0.2222222222222222,
             "#7201a8"
            ],
            [
             0.3333333333333333,
             "#9c179e"
            ],
            [
             0.4444444444444444,
             "#bd3786"
            ],
            [
             0.5555555555555556,
             "#d8576b"
            ],
            [
             0.6666666666666666,
             "#ed7953"
            ],
            [
             0.7777777777777778,
             "#fb9f3a"
            ],
            [
             0.8888888888888888,
             "#fdca26"
            ],
            [
             1,
             "#f0f921"
            ]
           ]
          },
          "colorway": [
           "#636efa",
           "#EF553B",
           "#00cc96",
           "#ab63fa",
           "#FFA15A",
           "#19d3f3",
           "#FF6692",
           "#B6E880",
           "#FF97FF",
           "#FECB52"
          ],
          "font": {
           "color": "#2a3f5f"
          },
          "geo": {
           "bgcolor": "white",
           "lakecolor": "white",
           "landcolor": "#E5ECF6",
           "showlakes": true,
           "showland": true,
           "subunitcolor": "white"
          },
          "hoverlabel": {
           "align": "left"
          },
          "hovermode": "closest",
          "mapbox": {
           "style": "light"
          },
          "paper_bgcolor": "white",
          "plot_bgcolor": "#E5ECF6",
          "polar": {
           "angularaxis": {
            "gridcolor": "white",
            "linecolor": "white",
            "ticks": ""
           },
           "bgcolor": "#E5ECF6",
           "radialaxis": {
            "gridcolor": "white",
            "linecolor": "white",
            "ticks": ""
           }
          },
          "scene": {
           "xaxis": {
            "backgroundcolor": "#E5ECF6",
            "gridcolor": "white",
            "gridwidth": 2,
            "linecolor": "white",
            "showbackground": true,
            "ticks": "",
            "zerolinecolor": "white"
           },
           "yaxis": {
            "backgroundcolor": "#E5ECF6",
            "gridcolor": "white",
            "gridwidth": 2,
            "linecolor": "white",
            "showbackground": true,
            "ticks": "",
            "zerolinecolor": "white"
           },
           "zaxis": {
            "backgroundcolor": "#E5ECF6",
            "gridcolor": "white",
            "gridwidth": 2,
            "linecolor": "white",
            "showbackground": true,
            "ticks": "",
            "zerolinecolor": "white"
           }
          },
          "shapedefaults": {
           "line": {
            "color": "#2a3f5f"
           }
          },
          "ternary": {
           "aaxis": {
            "gridcolor": "white",
            "linecolor": "white",
            "ticks": ""
           },
           "baxis": {
            "gridcolor": "white",
            "linecolor": "white",
            "ticks": ""
           },
           "bgcolor": "#E5ECF6",
           "caxis": {
            "gridcolor": "white",
            "linecolor": "white",
            "ticks": ""
           }
          },
          "title": {
           "x": 0.05
          },
          "xaxis": {
           "automargin": true,
           "gridcolor": "white",
           "linecolor": "white",
           "ticks": "",
           "title": {
            "standoff": 15
           },
           "zerolinecolor": "white",
           "zerolinewidth": 2
          },
          "yaxis": {
           "automargin": true,
           "gridcolor": "white",
           "linecolor": "white",
           "ticks": "",
           "title": {
            "standoff": 15
           },
           "zerolinecolor": "white",
           "zerolinewidth": 2
          }
         }
        },
        "width": 800
       }
      },
      "text/html": [
       "<div>                            <div id=\"64deae8d-d509-4220-9788-ba02d563f8b3\" class=\"plotly-graph-div\" style=\"height:525px; width:800px;\"></div>            <script type=\"text/javascript\">                require([\"plotly\"], function(Plotly) {                    window.PLOTLYENV=window.PLOTLYENV || {};                                    if (document.getElementById(\"64deae8d-d509-4220-9788-ba02d563f8b3\")) {                    Plotly.newPlot(                        \"64deae8d-d509-4220-9788-ba02d563f8b3\",                        [{\"customdata\": [[\"Scrypt\"], [\"Scrypt\"], [\"Scrypt\"], [\"Scrypt\"], [\"Scrypt\"], [\"Scrypt\"], [\"Scrypt\"], [\"Scrypt\"], [\"Scrypt\"], [\"Scrypt\"], [\"Scrypt\"], [\"Scrypt\"], [\"Scrypt\"], [\"Scrypt\"], [\"Scrypt\"], [\"Scrypt\"], [\"Scrypt\"], [\"Scrypt\"], [\"Scrypt\"], [\"Scrypt\"], [\"Scrypt\"], [\"Scrypt\"], [\"Scrypt\"], [\"Scrypt\"], [\"Scrypt\"], [\"Scrypt\"], [\"Scrypt\"], [\"Scrypt\"], [\"Scrypt\"], [\"Scrypt\"], [\"Scrypt\"], [\"Scrypt\"], [\"Scrypt\"], [\"Scrypt\"], [\"Scrypt\"], [\"Scrypt\"], [\"Scrypt\"], [\"Scrypt\"], [\"Scrypt\"], [\"Scrypt\"], [\"Scrypt\"], [\"Scrypt\"], [\"Scrypt\"], [\"Scrypt\"], [\"Scrypt\"], [\"Scrypt\"], [\"Scrypt\"], [\"Scrypt\"], [\"Scrypt\"], [\"Scrypt\"], [\"Scrypt\"], [\"Scrypt\"], [\"Scrypt\"], [\"Scrypt\"], [\"Scrypt\"], [\"Scrypt\"], [\"Scrypt\"], [\"Scrypt\"], [\"Scrypt\"], [\"Scrypt\"], [\"Scrypt\"], [\"Scrypt\"], [\"Scrypt\"], [\"Scrypt\"], [\"Scrypt\"], [\"Scrypt\"], [\"Scrypt\"], [\"Scrypt\"], [\"Scrypt\"], [\"Scrypt\"], [\"Scrypt\"], [\"Scrypt\"], [\"Scrypt\"], [\"Scrypt\"], [\"Scrypt\"], [\"Scrypt\"], [\"Scrypt\"], [\"Scrypt\"], [\"Scrypt\"], [\"Scrypt\"], [\"Scrypt\"], [\"Scrypt\"], [\"Scrypt\"], [\"Scrypt\"], [\"Scrypt\"], [\"Scrypt\"], [\"Scrypt\"], [\"Scrypt\"], [\"Scrypt\"], [\"Scrypt\"], [\"Scrypt\"], [\"Scrypt\"], [\"Scrypt\"], [\"Scrypt\"], [\"Scrypt\"], [\"Scrypt\"], [\"Scrypt\"], [\"Scrypt\"], [\"Scrypt\"], [\"Scrypt\"], [\"Scrypt\"], [\"Scrypt\"], [\"Scrypt\"], [\"Scrypt\"], [\"Scrypt\"], [\"Scrypt\"], [\"Scrypt\"], [\"Scrypt\"], [\"Scrypt\"], [\"Scrypt\"], [\"Scrypt\"], [\"Scrypt\"], [\"Scrypt\"], [\"Scrypt\"], [\"Scrypt\"], [\"Scrypt\"], [\"Scrypt\"], [\"Scrypt\"], [\"Scrypt\"], [\"Scrypt\"], [\"Scrypt\"], [\"Scrypt\"], [\"Scrypt\"], [\"Scrypt\"], [\"Scrypt\"], [\"Scrypt\"], [\"Scrypt\"], [\"Scrypt\"], [\"Scrypt\"], [\"Scrypt\"], [\"Scrypt\"], [\"Scrypt\"], [\"Scrypt\"], [\"Scrypt\"], [\"Scrypt\"], [\"Scrypt\"], [\"Scrypt\"], [\"Scrypt\"], [\"Scrypt\"], [\"Scrypt\"], [\"Scrypt\"], [\"Scrypt\"], [\"Scrypt\"], [\"Scrypt\"], [\"Scrypt\"], [\"Scrypt\"], [\"Scrypt\"], [\"Scrypt\"], [\"Scrypt\"], [\"Scrypt\"], [\"Scrypt\"], [\"Scrypt\"], [\"Scrypt\"], [\"Scrypt\"], [\"Scrypt\"], [\"Scrypt\"], [\"Scrypt\"], [\"Scrypt\"], [\"Scrypt\"], [\"Scrypt\"], [\"Scrypt\"], [\"Scrypt\"], [\"Scrypt\"], [\"Scrypt\"], [\"Scrypt\"], [\"Scrypt\"], [\"Scrypt\"], [\"Scrypt\"], [\"Scrypt\"], [\"Scrypt\"], [\"Scrypt\"], [\"Scrypt\"], [\"Scrypt\"], [\"Scrypt\"], [\"Scrypt\"], [\"Scrypt\"], [\"Scrypt\"], [\"Scrypt\"], [\"Scrypt\"], [\"Scrypt\"], [\"Scrypt\"], [\"Scrypt\"]], \"hovertemplate\": \"<b>%{hovertext}</b><br><br>Algorithm=%{customdata[0]}<br>class=0<br>PC 1=%{x}<br>PC 2=%{y}<br>PC 3=%{z}<extra></extra>\", \"hovertext\": [\"42 Coin\", \"404Coin\", \"Litecoin\", \"ProsperCoin\", \"Argentum\", \"Aurora Coin\", \"BlueCoin\", \"MoonCoin\", \"SexCoin\", \"Quatloo\", \"EnergyCoin\", \"Digitalcoin \", \"BitBar\", \"Catcoin\", \"CryptoBullion\", \"CannaCoin\", \"CasinoCoin\", \"EarthCoin\", \"E-Gulden\", \"Einsteinium\", \"Emerald\", \"FlutterCoin\", \"Franko\", \"GrandCoin\", \"GlobalCoin\", \"GoldCoin\", \"HoboNickels\", \"Infinite Coin\", \"KrugerCoin\", \"LuckyCoin\", \"Litebar \", \"MegaCoin\", \"MintCoin\", \"MinCoin\", \"Nautilus Coin\", \"NobleCoin\", \"NyanCoin\", \"PotCoin\", \"PhoenixCoin\", \"Reddcoin\", \"RonPaulCoin\", \"StableCoin\", \"SmartCoin\", \"UnitaryStatus Dollar\", \"UltraCoin\", \"ViaCoin\", \"VeriCoin\", \"WorldCoin\", \"ZCC Coin\", \"MonaCoin\", \"Gulden\", \"RubyCoin\", \"PesetaCoin\", \"Wild Beast Coin\", \"Dnotes\", \"Flo\", \"8BIT Coin\", \"ArtByte\", \"OmniCron\", \"Vtorrent\", \"GreenCoin\", \"MasterCoin\", \"1Credit\", \"Song Coin\", \"BitZeny\", \"Diggits\", \"Revolution VR\", \"Gamecredits\", \"BillaryCoin\", \"GPU Coin\", \"YoCoin\", \"ZeitCoin\", \"SafeExchangeCoin\", \"Francs\", \"Omni\", \"PutinCoin\", \"iBankCoin\", \"Frankywillcoin\", \"CarterCoin\", \"ZoneCoin\", \"RootCoin\", \"DopeCoin\", \"BitCurrency\", \"Swiscoin\", \"Shilling\", \"PesoBit\", \"KiloCoin\", \"PLNCoin\", \"AquariusCoin\", \"BitcoinFast\", \"BitConnect Coin\", \"MoneyCoin\", \"Russiacoin\", \"PandaCoin\", \"GameUnits\", \"GAKHcoin\", \"OsmiumCoin\", \"Klingon Empire Darsek\", \"Printerium\", \"Impeach\", \"Zilbercoin\", \"FirstCoin\", \"BeaverCoin\", \"OpenChat\", \"Canada eCoin\", \"RenosCoin\", \"EB3coin\", \"Independent Money System\", \"ArgusCoin\", \"LomoCoin\", \"BenjiRolls\", \"GrowthCoin\", \"Degas Coin\", \"EquiTrader\", \"Unify\", \"SocialCoin\", \"Linda\", \"gCn Coin\", \"Draftcoin\", \"Sojourn Coin\", \"NewYorkCoin\", \"FrazCoin\", \"Kronecoin\", \"AdCoin\", \"Linx\", \"CoinonatX\", \"Ethereum Dark\", \"TerraNovaCoin\", \"WomenCoin\", \"Xios\", \"eBoost\", \"BlackholeCoin\", \"Cash & Back Coin\", \"GermanCoin\", \"LiteCoin Ultra\", \"PopularCoin\", \"IrishCoin\", \"Trollcoin\", \"Litecoin Plus\", \"My Big Coin\", \"Unified Society USDEX\", \"ShareChain\", \"BitFlip\", \"LottoCoin\", \"Velox\", \"Poseidon\", \"Briacoin\", \"Ignition\", \"MedicCoin\", \"Abjcoin\", \"iDealCash\", \"HollyWoodCoin\", \"Swisscoin\", \"Xt3ch\", \"EmaratCoin\", \"Lynx\", \"Peony Coin\", \"HexCoin\", \"TPCash\", \"MMOCoin\", \"ThunderStake\", \"Block-Logic\", \"Oduwa\", \"Credit\", \"Nasdacoin\", \"LiteDoge\", \"SolarCoin\", \"OrangeCoin\", \"BitstarCoin\", \"HyperCoin\", \"Crypto Escudo\", \"AudioCoin\", \"Genstake\", \"SmileyCoin\", \"XiaoMiCoin\", \" ClubCoin\", \"Bata\", \"Pakcoin\", \"HiCoin\", \"WhiteCoin\", \"Gapcoin\", \"BitcoinPlus\"], \"legendgroup\": \"Scrypt, 0\", \"marker\": {\"color\": \"#636efa\", \"symbol\": \"circle\"}, \"mode\": \"markers\", \"name\": \"Scrypt, 0\", \"scene\": \"scene\", \"showlegend\": true, \"type\": \"scatter3d\", \"x\": [-0.31988371124735754, -0.30592746943450283, -0.34233381893724624, -0.273972171390793, -0.2960361586048238, -0.31849735580661004, -0.14007234963802015, -0.3069962509455256, -0.30898181204893477, -0.19370483872754274, -0.14578181316801772, -0.31312776984181057, -0.3157632027025451, -0.302788700126722, -0.29353913895998385, -0.3128766927046199, 0.9754388156854626, -0.1003645733749152, -0.3026361406581143, -0.30693300852016264, -0.3074543064331547, -0.06456425788720993, -0.3030003777460161, -0.29538367640026736, -0.28582486104043825, -0.3022499885146663, -0.2858725497155546, 1.1751667442145755, -0.30478826847760665, -0.2678500787086229, -0.3082617278346483, -0.29417641492224483, 0.18090571451205187, -0.28874403854072644, -0.17211420030042915, -0.26836990331187355, -0.30178208697716125, -0.3114200901210289, -0.32224385550488327, 0.17952301462892015, -0.274024146080329, -0.31014881704343783, -0.2989484233634514, -0.30465634917155926, -0.20023086636540446, -0.2147938871915296, -0.06651219431038968, -0.305143083404156, -0.21933379464264083, -0.29980201454429245, -0.2996472563220824, -0.056078869509986765, -0.29834219159247116, -0.3069446818540951, -0.04862723579800551, -0.30736249502023383, -0.14713679892282258, -0.20514749632447035, -0.30884170772752445, -0.27493995325607556, -0.23806895226205493, -0.3052159824023216, 0.09824453530935416, -0.31162834271255524, -0.3095760519880807, -0.10890495802998879, -0.2574074237844868, -0.3422580785940935, -0.3015051118143093, -0.1812211725453933, -0.3089599702180511, 0.42707174593108804, 0.3529604115242516, -0.2679922189448778, -0.30606030588917527, -0.05359130217421032, -0.3157857049456804, -0.1996763155853216, -0.3591518583285504, -0.28101150758683957, -0.14713153868576262, -0.19720458125381832, -0.05449188670019155, 0.4728290157330715, -0.28908237152835276, -0.14677959476318775, -0.28725655783771364, -0.32472827770605145, -0.3015780920298585, -0.3134058903266721, -0.321631269779334, -0.3249278383359998, -0.31200607236853883, 0.3707398192627296, -0.3223764482743083, -0.31945399762038945, -0.30341386480501836, -0.14107769467981332, -0.27493753506342683, -0.32594059056614466, -0.17578453003087854, -0.21152913906963644, -0.3117524098712545, -0.20983947769667954, -0.3066205422248878, -0.17849644452480382, -0.2846742665954591, -0.325259017148497, -0.3178791690121771, -0.2209773427898813, -0.3079588171462939, 0.03140823570447015, -0.30218576375361905, -0.3035685871094913, -0.3096594221945316, -0.29998866598595775, -0.08150157795792018, 2.3598476479517583, -0.18439234605741545, -0.3092573735649796, 1.453436461606249, -0.26795730394595807, -0.34284179800800046, -0.19342303306417977, -0.19341111187189794, -0.3271912191025379, -0.32035638663730726, -0.3219664853307129, 0.4667433912595379, -0.2810163246939914, -0.1926725975854508, -0.32360838188585345, -0.26551470999850935, -0.1275622014869319, -0.19142073190229708, -0.2492823466374392, -0.29566533562878233, -0.31306404229966894, -0.32008664748465504, -0.2860107889728459, -0.314291423672901, -0.17800962375772383, -0.2926825152366892, -0.07529144111430794, -0.17949957421003024, -0.2739910940368919, -0.3074572176204542, -0.3127644572788033, -0.04759477896715127, -0.29610000429469796, -0.30119830972377937, -0.1752378161390484, -0.15224906327019652, -0.18669258135054528, -0.34979943130239277, 1.6256444045524325, -0.1829547064134488, -0.3071876987178041, -0.22092269757663163, -0.17503923028043653, -0.30447607948206745, -0.27947026771659583, -0.2808756069184808, 0.17721243556994118, -0.34981116324044775, -0.0664621985767964, -0.3051939818122557, -0.2054710520788526, -0.3207416214330382, -0.14704583104771235, -0.20528485645550068, -0.3053378789683515, -0.2427831166805865, 0.15437795068354523, -0.2682679069694156, -0.3149084391405987, -0.30571749827640593, -0.3023086062784115, -0.01984044853897063, -0.3702609906794213, -0.31725610363911266, -0.202777930731622], \"y\": [0.03178971813306794, 0.03866235059202989, -0.08437837293828292, -0.09516590101076475, -0.09010802953598691, 0.03139162341885813, 0.049562525605849964, -0.08617962061421525, -0.07743732965035444, -0.035119955191415836, 0.049608466203275255, -0.08075817395111388, 0.035067501056416664, -0.08866948708290602, 0.03685102432761303, -0.08433289903169629, -0.05451042469214343, -0.09009922942633707, -0.08867071463661459, -0.09103765660185102, -0.09312874989422536, 0.09715616265399829, -0.08381100547952125, -0.08931429233714222, -0.12519458816069293, -0.08954540813020695, 0.01868545223823884, -0.10241489614884663, -0.08956951752214605, -0.06957338978253713, -0.08909063891885703, -0.07265469033834075, 0.05602611380918211, -0.05780250856556522, 0.048553283972166, -0.09377068595511333, -0.09071979970542926, 0.02056449622497378, 0.03847422712468906, 0.046990935141763994, -0.09516548280189542, -0.07742793946748266, -0.08739990442861112, 0.031850381560669654, 0.04379745953094851, -0.11019115876011622, 0.10086949818778279, -0.0895666625411805, 0.009783014771681031, -0.09179523373475733, -0.08598333334754955, 0.05793298532405639, -0.08724859000256113, -0.08539647014214567, 0.04213900560782427, -0.06188414957017609, 0.049619368953551436, -0.0691960375125388, -0.08574145500234288, 0.009348561874645459, -0.10025525033940741, -0.08788501170352479, 0.08505151050748033, -0.08978411802365263, -0.07743254816122232, 0.052108919637254655, -0.08027783293414938, -0.0843789823749848, 0.0062691829777038995, 0.04795418417082461, -0.08301979499211602, 0.04605430036319668, -0.046497920377799276, -0.069572246066085, -0.09228587277292202, 0.03187554041250816, 0.033295762914331554, 0.043792997396457804, 0.07764425584561041, -0.016244356005108384, 0.04961932662760748, -0.14440514533958687, 0.05792021583389269, -0.9589475626301716, -0.06511572829459851, 0.04961649474787342, -0.09985946744768828, 0.03780078740147055, 0.006269770205327888, 0.0029035282068153906, 0.0365228579017645, 0.03555475098747109, 0.02367730348792246, 0.04481472495384044, 0.03837898285140625, 0.03227510508409013, -0.08924353093304235, 0.03383659407914082, 0.009348542416912823, 0.0351042721738893, 0.03775528018632547, 0.1660687267001729, -0.08374770350975937, 0.009706619749565288, -0.09281390797634051, 0.04846689952017682, -0.13193532493670893, 0.036949547745260165, 0.03465430161835557, 0.009796239408879354, -0.08439296819054268, 0.04023790499290198, 0.013842881411967824, -0.08998600226318074, -0.0853997480511294, -0.08823983767974637, -0.019229000367462862, -0.11599166340509869, 0.052989212153270716, -0.06644437812284226, -0.04212437906938603, -0.0695725270059493, -0.08437428553815196, -0.03512222271102843, -0.035122318633647634, 0.03564782370300689, 0.035570440406389854, 0.041525952162195325, 0.02758540090212858, -0.016244317244762576, -0.035128261011131715, 0.03659228896364589, -0.00134769478106529, -0.01885837840769549, -0.05409275581060516, -0.0809560636533081, -0.09011101332403794, 0.0408498236301086, 0.03744683843360495, 0.02616416275467765, 0.033848397165302635, -0.10073851140552283, -0.06878317606456302, -0.08862011164072857, 0.04741884844503269, -0.09516574875168449, 0.020223248235688954, 0.013039301739119552, 0.04213069805259145, 0.013805642076694921, 0.035050460297579356, 0.041454400023319044, 0.03467076594698387, 0.04754287979994111, -0.0054533979462950116, 0.375538237926835, 0.04626559473643665, -0.0855270571343134, 0.009795799711921793, 0.05332247403490873, 0.03466630081510208, -0.06023096677786506, -0.016245449515533934, 0.03556534022203158, -0.005453303546490144, 0.030364910457736528, -0.09026499294803791, -0.06547372632428289, 0.03904667169661893, 0.04961863699011796, -0.06919493225870035, 0.012388987804157585, -0.0028474110466369415, -0.09999188389829498, 0.003664319884637963, 0.017041471802827383, -0.06588230460264609, -0.08620767919893961, 0.052860290610657466, -0.04789232664126434, 0.0014941522939132183, 0.04516702823390178], \"z\": [-0.00025386811774422304, -0.004612522561780215, -0.13327025963987885, -0.10647125100106279, -0.1110332931875361, -0.002372625264224267, 0.014075279921676717, -0.12412445556858577, -0.11462591527099253, -0.03583097454399809, 0.013516372393246608, -0.1298304342574566, 0.004061775319780834, -0.12720174199346976, -0.007599236813971479, -0.13203727466438475, 0.11249876278796003, -0.10036962594046536, -0.12718680772948987, -0.12465395823998861, -0.12468496748101462, -0.010816474560123144, -0.12896224742500073, -0.12482363520795693, -0.14320734730955464, -0.1280203518406701, -0.027816880641234002, 0.014073936771154559, -0.1250300697248934, -0.11146360739645397, -0.13200102561497357, -0.0942843538352143, 0.015246821585075952, -0.11103151439101147, -0.046106565436510635, -0.11661359317641348, -0.1275818510208288, -0.003346433528811508, -0.00664457919125259, 0.04536092597260279, -0.10647633887755381, -0.11474015505441827, -0.13049149045139066, -0.00045625816817817784, 0.04552391318568197, -0.10963999403633524, -0.010139748291733279, -0.12506480306413031, 0.07142776186822142, -0.1246662667485908, -0.1277793609489433, -0.007951937358895335, -0.12278019930286098, -0.13022883298481397, 0.02219234402051416, -0.10960227063705678, 0.013383730905075737, -0.009177251038624068, -0.1258363486204435, -0.03016391544497539, -0.12654155201219383, -0.12425727935297294, -0.1296276316686151, -0.12213734541286426, -0.1146840862662071, 0.0242144777606639, -0.10181931459022962, -0.13326284530966154, -0.013008040543684976, -0.03787838201869726, -0.12758917999034605, 0.012753800163861845, 0.057358007264372644, -0.11147752170691726, -0.12714646405790714, 0.04658845159661798, 0.00021114873498237445, 0.04557819895250676, 0.016222937187459607, -0.025166611778281976, 0.013384245837184198, -0.12949070039138244, -0.00779658534811108, 0.8636492971808725, -0.10492866286767452, 0.01341869812974718, -0.13135659687888743, -0.005472379507335835, -0.013015184681077577, -0.027576462076548833, 0.0018655742320709979, -0.0005741280845630412, -0.005607813112337816, 0.006557406286190717, -0.007527879564279104, 0.001684203172989404, -0.12149195620546581, 0.04339169558858524, -0.030163678724648008, 0.007318144846054171, -0.04484815931198104, -0.17897216669022464, -0.13420025608377947, 0.07235717409592352, -0.1246916856180998, -0.043066174707932225, -0.12496598005396074, 0.004018256094300715, -0.004530611050575022, 0.07126687259587484, -0.12776215578388783, 0.02465971874420948, -0.05905738030386245, -0.12389504027093134, -0.12699121258104754, -0.12647337765353123, 0.0226455623908462, 0.13277964368919115, -0.04454639422282456, -0.10613545303009106, 0.08807240041247294, -0.11147410382787334, -0.13331998643565512, -0.03580338818566868, -0.03580222120315303, -0.03671771847761461, 0.0030251663346633644, -0.004293358225735346, 0.08082549989933362, -0.025167083331771728, -0.03572992698630074, -0.00024256052466733213, -0.020619218517938548, 0.01813662225675248, 0.027396552833077056, -0.12043563993874301, -0.11099699279750196, -0.0014098084971577876, -0.003858217228221192, -0.054608999805642156, -0.002285439670198015, -0.12066225868153924, -0.08215486322463349, -0.10185182982984056, -0.04386614718502917, -0.1064731033658792, -0.0005633485634455382, -0.017797650743756322, 0.02229341269229249, -0.023621899065204163, -0.002018812564839693, -0.0388285895070849, 0.011804123894655126, -0.04046450142320933, -0.05200734919929754, -0.011896572361683856, -0.03669383338482592, -0.1252176573949785, 0.07127222189374087, -0.04404852962775773, 0.0002784360153665914, -0.10918388200800616, -0.025153308268019474, 0.033719071791361827, -0.05200849765544689, 0.023053926366541987, -0.13041723521537874, -0.0483061871277103, -0.005770611654079665, 0.013392635880118919, -0.00919069741776916, -0.023758038230298276, -0.008323194112575823, -0.03625758399584504, -0.0134134843397211, -0.028347223986568856, -0.09910154375915113, -0.12581891250150792, -0.03138841673325455, -0.06004134677596713, -0.03344216759317517, -0.028963951537906693]}, {\"customdata\": [[\"X13\"], [\"X13\"], [\"X13\"], [\"X13\"], [\"X13\"], [\"X13\"], [\"X13\"], [\"X13\"], [\"X13\"], [\"X13\"], [\"X13\"], [\"X13\"], [\"X13\"], [\"X13\"], [\"X13\"], [\"X13\"], [\"X13\"]], \"hovertemplate\": \"<b>%{hovertext}</b><br><br>Algorithm=%{customdata[0]}<br>class=0<br>PC 1=%{x}<br>PC 2=%{y}<br>PC 3=%{z}<extra></extra>\", \"hovertext\": [\"EliteCoin\", \"NavCoin\", \"OpalCoin\", \"StealthCoin\", \"Kore\", \"Sativa Coin\", \"Paycon\", \"MudraCoin\", \"RoyalCoin\", \"EmberCoin\", \"FindCoin\", \"BritCoin\", \"DeepOnion\", \"Bitcoin Diamond\", \"Tokyo Coin\", \"Bitcoin Rhodium\", \"Triangles Coin\"], \"legendgroup\": \"X13, 0\", \"marker\": {\"color\": \"#EF553B\", \"symbol\": \"circle\"}, \"mode\": \"markers\", \"name\": \"X13, 0\", \"scene\": \"scene\", \"showlegend\": true, \"type\": \"scatter3d\", \"x\": [0.4028116894922622, -0.013761864356330053, -0.014329407748770792, -0.014129523898989709, -0.08204971163189938, -0.16307860964821952, -0.1288855468339311, 0.01797146063229222, 0.06219961086161139, 1.4278025188803702, 0.06066947156994672, -0.16331825342996698, -0.07839435616344291, -0.1320513211441091, 0.0641012912205584, -0.060924180879577516, -0.07491789055535568], \"y\": [0.08374045530002128, 0.08418012346500453, 0.08418469014318283, 0.08418308179882157, 0.09204225190893182, 0.055685183399719305, 0.05931312404387756, -0.022591386685071352, 0.10685464851039084, 0.07669967666981203, 0.10620241431583716, 0.04837116957837715, 0.09313227548547573, 0.033212347992269, 0.10531362512417797, -0.039570419106979594, 0.0882220530231831], \"z\": [0.042561432130131235, 0.022177919354723134, 0.022122361722542616, 0.022141928637694663, -0.007076900274856421, -0.020998290564649868, 0.0043227718318082165, -0.06094461384022673, -0.042136101227363394, 0.13900617035746993, -0.047103363788110246, -0.01488577821418754, -0.006971169761704152, -0.011816371151884737, -0.04254242889523183, -0.12920822461167447, -0.007644404787043495]}, {\"customdata\": [[\"SHA-256\"], [\"SHA-256\"], [\"SHA-256\"], [\"SHA-256\"], [\"SHA-256\"], [\"SHA-256\"], [\"SHA-256\"], [\"SHA-256\"], [\"SHA-256\"], [\"SHA-256\"], [\"SHA-256\"], [\"SHA-256\"], [\"SHA-256\"], [\"SHA-256\"], [\"SHA-256\"], [\"SHA-256\"], [\"SHA-256\"], [\"SHA-256\"], [\"SHA-256\"], [\"SHA-256\"], [\"SHA-256\"], [\"SHA-256\"], [\"SHA-256\"], [\"SHA-256\"], [\"SHA-256\"], [\"SHA-256\"], [\"SHA-256\"], [\"SHA-256\"], [\"SHA-256\"], [\"SHA-256\"], [\"SHA-256\"], [\"SHA-256\"], [\"SHA-256\"], [\"SHA-256\"], [\"SHA-256\"], [\"SHA-256\"], [\"SHA-256\"], [\"SHA-256\"], [\"SHA-256\"], [\"SHA-256\"], [\"SHA-256\"], [\"SHA-256\"], [\"SHA-256\"], [\"SHA-256\"], [\"SHA-256\"], [\"SHA-256\"], [\"SHA-256\"], [\"SHA-256\"]], \"hovertemplate\": \"<b>%{hovertext}</b><br><br>Algorithm=%{customdata[0]}<br>class=0<br>PC 1=%{x}<br>PC 2=%{y}<br>PC 3=%{z}<extra></extra>\", \"hovertext\": [\"Bitcoin\", \"BitcoinDark\", \"PayCoin\", \"ZetaCoin\", \"DevCoin\", \"IXcoin\", \"MazaCoin\", \"Namecoin\", \"SysCoin\", \"TigerCoin\", \"TerraCoin\", \"UnbreakableCoin\", \"Unobtanium\", \"JouleCoin\", \"Neutron\", \"SoonCoin\", \"Anarchists Prime\", \"Emercoin\", \"I0coin\", \"EDRCoin\", \"DubaiCoin\", \"CarpeDiemCoin\", \"SwingCoin\", \"Revenu\", \"Clockcoin\", \"BitTokens\", \"ZayedCoin\", \"DollarCoin\", \"Eurocoin\", \"Internet of People\", \"ProCurrency\", \"ILCoin\", \"Ultimate Secure Cash\", \"Bitcoin Cash\", \"Theresa May Coin\", \"Infinity Economics\", \"UnitedBitcoin\", \"BitcoinWSpectrum\", \"Project Pai\", \"Bitcoin SV\", \"BLAST\", \"GlobalToken\", \"NeosCoin\", \"IncaKoin\", \"Crown Coin\", \"OKCash\", \"TigerCash\", \"ZEPHYR\"], \"legendgroup\": \"SHA-256, 0\", \"marker\": {\"color\": \"#00cc96\", \"symbol\": \"circle\"}, \"mode\": \"markers\", \"name\": \"SHA-256, 0\", \"scene\": \"scene\", \"showlegend\": true, \"type\": \"scatter3d\", \"x\": [-0.22584323863058045, -0.2464532278711661, -0.13221583769014503, -0.21405782076979946, 0.05888254998933359, -0.2258080011444403, -0.2031604066078704, -0.22587879483017825, -0.20977168128014165, -0.21120203151153763, -0.24635253897094997, -0.18492539710090708, -0.22311571420664192, -0.2319246846824429, -0.23806676594266912, -0.2259041325539313, -0.2197348300298076, -0.17250963918938084, -0.22580902491575972, -0.24642669724422966, -0.3057084755051698, 0.1370650548483708, -0.2517828200345038, -0.23185396084411092, -0.23864970376242264, -0.23304020326456823, -0.2156944905668954, -0.21616232609504005, -0.2269374654411033, -0.23301868919413535, -0.09162831329919963, -0.19528219711085865, -0.0906219769756183, -0.2258424762562906, -0.15177145577684611, 0.05952732265788015, -0.22298657896478774, -0.09864229253102513, -0.3460778467833772, -0.2258425105223585, -0.24759599883462216, -0.18280653504204372, -0.14222653598244345, 0.05883000655988834, -0.2463519647152692, -0.2535981845631513, -0.07107467892496906, 2.466296421244269], \"y\": [-0.10118389159996807, 0.01469940907948557, 0.0007603326875694071, -0.09610757653607938, -0.14601680174513998, -0.10118417513468868, 0.020177921895226623, -0.10118360550074633, -0.0975534245458507, -0.09438434845078755, -0.07867022632003216, -0.07245397418243757, -0.0986003854095918, -0.09859538920712166, 0.03020266714122309, -0.10118340162341924, -0.09635561870987668, 0.0037755229357659954, -0.10118416689702049, 0.01469919560358797, -0.05240573200045764, -0.0998250725195124, 0.004121906373217863, 0.0222366640106374, 0.024446077585358616, -0.02226107825367087, -0.09595153504692526, -0.09408137369330809, 0.0033315887113905675, -0.022261251364374467, 0.04040517725611652, -0.10456589121053747, 0.040579283651496406, -0.10118389773432938, 0.03777680978668308, 0.03694229544438686, -0.09460224721452831, 0.04736163561277438, -0.10023856728625376, -0.10118389745861078, -0.09612852438056921, -0.09400501472287426, -0.013945496453637738, 0.0281094789878191, -0.07867023094071995, 0.007821200372535649, 0.012005641619611112, 0.24377616088963305], \"z\": [-0.06830909819227848, 0.05293704278669093, 0.005761539531455059, -0.04956467557159692, -0.06078694047002312, -0.06830564874449861, 0.08352676002326365, -0.06831257883936953, -0.04744857695085086, -0.042642674038181345, -0.056152063472558904, -0.07015688648826353, -0.04458558044274081, -0.05782647752028706, 0.07972806297032534, -0.06831505918528726, -0.051037598473126576, 0.10946218816540984, -0.06830574896293325, 0.05293963990760268, -0.004069536996573896, -0.009400162218005893, 0.03729333909175079, 0.085103929575098, 0.08364536850415227, 0.012980110557886807, -0.04611307241050056, -0.0424517938558515, 0.007985859487771205, 0.012982216600927264, 0.04468321742735815, -0.04323701641423449, 0.03898971497168224, -0.06830902356236995, 0.0837184169404499, 0.05753353353255021, -0.048593503884179046, 0.03792717801406051, -0.021134828105480424, -0.06830902691672404, -0.07284067392283469, -0.042613512358891284, -0.00837946887445305, 0.10792821137926002, -0.0561520072578514, -0.020850329941845505, 0.08914234225238754, 0.6193247577035449]}, {\"customdata\": [[\"Ethash\"], [\"Ethash\"], [\"Ethash\"], [\"Ethash\"], [\"Ethash\"], [\"Ethash\"], [\"Ethash\"], [\"Ethash\"], [\"Ethash\"]], \"hovertemplate\": \"<b>%{hovertext}</b><br><br>Algorithm=%{customdata[0]}<br>class=0<br>PC 1=%{x}<br>PC 2=%{y}<br>PC 3=%{z}<extra></extra>\", \"hovertext\": [\"Ethereum\", \"Ethereum Classic\", \"Expanse\", \"Elementrem\", \"Ellaism\", \"DaxxCoin\", \"1717 Masonic Commemorative Token\", \"Callisto Network\", \"Reality Clash\"], \"legendgroup\": \"Ethash, 0\", \"marker\": {\"color\": \"#ab63fa\", \"symbol\": \"circle\"}, \"mode\": \"markers\", \"name\": \"Ethash, 0\", \"scene\": \"scene\", \"showlegend\": true, \"type\": \"scatter3d\", \"x\": [-0.1692285846359589, -0.2887635594959696, -0.37636148557235954, -0.378004114187808, -0.3698266157901759, -0.31391869790609306, -0.24666206353041453, -0.3651132956931051, -0.3708907951402138], \"y\": [-0.06532794958737351, -0.11628570313002003, -0.1428605590612672, -0.14961024719242402, -0.1508947289285211, -0.1359051073855016, -0.017811513305003687, -0.1548900233301976, -0.14376010235265088], \"z\": [-0.1040119748586894, -0.13812819090588666, -0.19402160936705784, -0.18363407842473758, -0.1850793748578487, -0.16720597126593734, -0.0960689550515036, -0.17995859044553866, -0.18720246625553813]}, {\"customdata\": [[\"X11\"], [\"X11\"], [\"X11\"], [\"X11\"], [\"X11\"], [\"X11\"], [\"X11\"], [\"X11\"], [\"X11\"], [\"X11\"], [\"X11\"], [\"X11\"], [\"X11\"], [\"X11\"], [\"X11\"], [\"X11\"], [\"X11\"], [\"X11\"], [\"X11\"], [\"X11\"], [\"X11\"], [\"X11\"], [\"X11\"], [\"X11\"], [\"X11\"], [\"X11\"], [\"X11\"], [\"X11\"], [\"X11\"], [\"X11\"], [\"X11\"], [\"X11\"], [\"X11\"], [\"X11\"], [\"X11\"], [\"X11\"], [\"X11\"], [\"X11\"], [\"X11\"], [\"X11\"], [\"X11\"], [\"X11\"], [\"X11\"], [\"X11\"], [\"X11\"], [\"X11\"], [\"X11\"], [\"X11\"], [\"X11\"], [\"X11\"], [\"X11\"], [\"X11\"], [\"X11\"], [\"X11\"], [\"X11\"], [\"X11\"], [\"X11\"], [\"X11\"], [\"X11\"], [\"X11\"], [\"X11\"], [\"X11\"], [\"X11\"], [\"X11\"], [\"X11\"], [\"X11\"], [\"X11\"], [\"X11\"], [\"X11\"], [\"X11\"], [\"X11\"], [\"X11\"], [\"X11\"]], \"hovertemplate\": \"<b>%{hovertext}</b><br><br>Algorithm=%{customdata[0]}<br>class=0<br>PC 1=%{x}<br>PC 2=%{y}<br>PC 3=%{z}<extra></extra>\", \"hovertext\": [\"Dash\", \"Spreadcoin\", \"CryptCoin\", \"HyperStake\", \"IOCoin\", \"SuperCoin\", \"SyncCoin\", \"TorCoin\", \"UroCoin\", \"X11 Coin\", \"Ucoin\", \"IslaCoin\", \"MarsCoin \", \"BowsCoin\", \"Squall Coin\", \"MindCoin\", \"Hitcoin\", \"Adzcoin\", \"EuropeCoin\", \"BolivarCoin\", \"Ratecoin\", \"BitSend\", \"PizzaCoin\", \"Lutetium Coin\", \"GoldBlocks\", \"MustangCoin\", \"Halloween Coin\", \"InsaneCoin\", \"ArtexCoin\", \"XenixCoin\", \"Kurrent\", \"Eternity\", \"Stakenet\", \"Enigma\", \"KushCoin\", \"PacCoin\", \"VaultCoin\", \"VirtacoinPlus\", \"Impact\", \"HappyCoin\", \"Condensate\", \"GoldReserve\", \"DigitalPrice\", \"ArcticCoin\", \"DAS\", \"Onix\", \"Monoeci\", \"Regalcoin\", \"Elements\", \"Pura\", \"Magnet\", \"AC3\", \"PhantomX\", \"Sucre\", \"Monkey Project\", \"Pioneer Coin\", \"Crypto Improvement Fund\", \"Pushi\", \"FuturoCoin\", \"Axe\", \"ARENON\", \"EUNO\", \"PAXEX\", \"Azart\", \"Junson Ming Chan Coin\", \"Dash Platinum\", \"Award\", \"Insane Coin\", \"TruckCoin\", \"PinkCoin\", \"Piggy Coin\", \"CapriCoin\", \"Creditbit \"], \"legendgroup\": \"X11, 0\", \"marker\": {\"color\": \"#FFA15A\", \"symbol\": \"circle\"}, \"mode\": \"markers\", \"name\": \"X11, 0\", \"scene\": \"scene\", \"showlegend\": true, \"type\": \"scatter3d\", \"x\": [-0.2885916366718288, -0.26217243885876607, -0.1392922636446491, -0.03190856048263266, -0.2884955844854924, -0.05004798542658808, -0.30595592870048954, -0.29002783589782344, -0.13436711760619413, -0.3015614291749036, -0.1784991833272422, -0.14136753274161304, -0.30049983471457287, -0.26809091740824925, -0.016842880942605765, -0.2907923168019461, -0.1226920083262392, -0.33676485360680014, -0.3128037530960207, -0.2655243320475117, -0.30909634427178, -0.30494898947615534, -0.26566113072203623, -0.15009926359217285, -0.25585498446976557, -0.3016905574931652, -0.2983074408857291, -0.29023694996116456, -0.11938997482823306, -0.30840964539325744, -0.2852592773110111, -0.24943447625209061, -0.03831943230572186, -0.3069997971870537, -0.3094184497735452, -0.27916845416475183, -0.20787173063594627, -0.19487522589401, -0.2667409824054824, -0.19478208266479502, -0.13422022490604468, -0.2938649336631648, -0.1876265057915812, -0.24220808028267923, -0.29379995328371483, -0.3576463374805993, -0.2989754614253155, -0.29959137512545636, -0.24457724427279387, -0.3664667175052467, -0.30590501192933467, -0.29510608275003636, -0.25552502350465983, -0.28548873086693516, -0.18445105500710998, -0.2091886373657769, -0.1262175848779257, -0.2726561578263464, -0.18766369716586678, -0.2682120555569456, -0.16983361431874, -0.25568552340714823, -0.10420034944132738, -0.26562059129592125, 0.14116465454803565, -0.15732864983388445, -0.3079608901995296, -0.29017640602730754, -0.13868129139279434, -0.1307135171365704, -0.20970661976690344, -0.2978201652718001, -0.3737435670523292], \"y\": [0.015508956281009864, -0.0747793155811509, -0.12132178911560022, 0.052578260209090066, 0.015508183407201968, 0.05272421718289322, 0.013198317731903405, 0.015912483835459925, -0.034508525938133326, 0.007195512104879681, 0.012458624518351485, 0.044412705893305385, -0.08122546400628555, -0.10037346516906874, 0.00745375433569856, -0.11440956320929443, 0.004799299952877298, -0.08958342429881487, 0.004834500379253027, -0.10783796985472834, 0.00943633797014329, 0.00759949921672872, -0.1078368691185905, 0.022959171168671723, 0.01954058710841046, 0.015016606144781229, 0.012543145113135859, 0.008598224359951367, -0.05036305887107337, 0.010103479673327864, -0.11860775521124013, -0.043052612105398645, 0.2901572326682681, 0.00783267574128734, 0.0057709941325383715, -0.11416606179365174, -0.07433435851493422, 0.038594124666445746, 0.07479474642776905, 0.03859337519925441, 0.02862117490321046, 0.0049310006015660735, -0.040329105124777595, -0.12197566226783536, -0.11478018751293692, -0.11594478256964277, 0.014642588673902874, -0.04296587595526887, -0.11439984934205163, -0.05064178214698908, 0.018467970680097198, -0.11237264329677346, 0.019537932112230056, -0.11114467334192557, -0.013135256375257183, -0.11539650208001942, -0.050308121225352, -0.028915680641377565, -0.04032880586829842, -0.10037249044370421, 0.03254715550224602, 0.01953922355780429, 0.046910823232282135, -0.10783719531481654, 0.051185644798718025, 0.016813458370856252, 0.015376420869772922, 0.008597737199559325, 0.044391091334994415, 0.028592958548192403, 0.004545309455133957, 0.005120584596412286, 0.10599925767408017], \"z\": [0.011277210332808624, -0.11499191571331562, -0.19892333870534484, -0.009669971913648318, 0.011286613018332087, -0.011445666093899064, -0.021269118481954202, -0.03324755784194176, -0.07144405724044177, -0.01227591187309422, -0.055056750353075556, 0.009864392020477416, -0.11239090034777026, -0.10997962724005843, 0.0359308391729701, -0.13586826750988598, 0.00416402052731981, -0.13680920626045268, -0.013803596506536646, -0.11496505021822331, -0.009924406621108977, -0.005820952636276944, -0.11497844163559015, -0.05160717927969799, -0.007928473966909657, -0.004082942558379096, -0.017048141949494524, -0.027132056893800032, -0.04056309304483659, -0.012521571791575467, -0.13328169482755117, 0.010138052054533333, -0.2648408278155916, -0.021317440525021245, -0.009623599740676815, -0.13852371263248855, -0.013528030800837004, 0.04196408389039083, -0.07392362875806181, 0.0419732018139499, 0.03997888250578119, -0.004360982547447099, -0.039320058443147676, -0.0711482756202271, -0.13646055917983915, -0.13283231922901678, -0.011241277324380513, -0.030960694004931382, -0.12857350854940844, -0.05508394804961191, -0.009094672183778789, -0.13666243529085373, -0.00789617361740814, -0.13641603361389817, -0.05004773078098104, -0.11317538871590696, -0.041231457530906124, -0.033669464932620456, -0.0393236991598231, -0.10999148562621541, -0.04834971626490733, -0.00791188518178553, 0.02059091802579749, -0.11497447317334597, 0.007272411962179014, -0.042942479346429134, -0.0070919080944487735, -0.02712613016176011, 0.010127352017532773, 0.04032215913099606, 0.06828607916831392, -0.0031986078596375417, -0.727099753453075]}, {\"customdata\": [[\"CryptoNight-V7\"], [\"CryptoNight-V7\"], [\"CryptoNight-V7\"], [\"CryptoNight-V7\"], [\"CryptoNight-V7\"]], \"hovertemplate\": \"<b>%{hovertext}</b><br><br>Algorithm=%{customdata[0]}<br>class=0<br>PC 1=%{x}<br>PC 2=%{y}<br>PC 3=%{z}<extra></extra>\", \"hovertext\": [\"Monero\", \"Citadel\", \"Quantum Resistant Ledger\", \"Lethean\", \"Webchain\"], \"legendgroup\": \"CryptoNight-V7, 0\", \"marker\": {\"color\": \"#19d3f3\", \"symbol\": \"circle\"}, \"mode\": \"markers\", \"name\": \"CryptoNight-V7, 0\", \"scene\": \"scene\", \"showlegend\": true, \"type\": \"scatter3d\", \"x\": [-0.13725792982016666, -0.2924043308060793, -0.291950929254945, -0.2967225238217537, -0.2981107465393209], \"y\": [-0.08813354059518055, -0.20193555396800852, -0.12391289237486097, -0.20547755323581263, -0.19875871754913954], \"z\": [-0.18714027175544654, -0.3762319581590631, -0.2595465370040487, -0.3650844918526886, -0.36946996941014854]}, {\"customdata\": [[\"Equihash\"], [\"Equihash\"], [\"Equihash\"], [\"Equihash\"], [\"Equihash\"], [\"Equihash\"], [\"Equihash\"], [\"Equihash\"], [\"Equihash\"], [\"Equihash\"], [\"Equihash\"], [\"Equihash\"]], \"hovertemplate\": \"<b>%{hovertext}</b><br><br>Algorithm=%{customdata[0]}<br>class=0<br>PC 1=%{x}<br>PC 2=%{y}<br>PC 3=%{z}<extra></extra>\", \"hovertext\": [\"ZCash\", \"Komodo\", \"ZClassic\", \"Zero\", \"BitcoinZ\", \"Bitcoin Gold\", \"Bitrolium\", \"CrypticCoin\", \"PirateCash\", \"Beam\", \"Bithereum\", \"Horizen\"], \"legendgroup\": \"Equihash, 0\", \"marker\": {\"color\": \"#FF6692\", \"symbol\": \"circle\"}, \"mode\": \"markers\", \"name\": \"Equihash, 0\", \"scene\": \"scene\", \"showlegend\": true, \"type\": \"scatter3d\", \"x\": [-0.2295858911917181, 0.016680197499188656, -0.22960560957280263, -0.21571193883990733, -0.09587328519112763, -0.22947647038871077, -0.24139324922586933, -0.1501041816579976, -0.16713396179602688, -0.22124114168431755, -0.2174762394983861, -0.2295868553079419], \"y\": [-0.1825022117456386, -0.33021967020299176, -0.18250205308376125, -0.25450109906231466, -0.2261200102096244, -0.18250309218861518, -0.21253126365164074, -0.24803929249432266, -0.06517665548550797, -0.2589647920729816, -0.25473636454238435, -0.18250220398797956], \"z\": [-0.1507051739354439, -0.19144580870339212, -0.15070710419589406, -0.2102495844619686, -0.15796591205177327, -0.15069446257697025, -0.18743683266743866, -0.19755074589822777, -0.12466538484719243, -0.20071226326267014, -0.20377546964192922, -0.1507052683141571]}, {\"customdata\": [[\"SHA-512\"], [\"SHA-512\"], [\"SHA-512\"]], \"hovertemplate\": \"<b>%{hovertext}</b><br><br>Algorithm=%{customdata[0]}<br>class=0<br>PC 1=%{x}<br>PC 2=%{y}<br>PC 3=%{z}<extra></extra>\", \"hovertext\": [\"Bitshares\", \"Obsidian\", \"Kcash\"], \"legendgroup\": \"SHA-512, 0\", \"marker\": {\"color\": \"#B6E880\", \"symbol\": \"circle\"}, \"mode\": \"markers\", \"name\": \"SHA-512, 0\", \"scene\": \"scene\", \"showlegend\": true, \"type\": \"scatter3d\", \"x\": [0.0036765170420769025, -0.03989335381773554, -0.041779191936270374], \"y\": [0.062428010550516194, 0.06517237669430227, 0.02294811844907197], \"z\": [0.23875168149703244, 0.23143562986107083, 0.39491903278311163]}, {\"customdata\": [[\"Multiple\"], [\"Multiple\"], [\"Multiple\"], [\"Multiple\"], [\"Multiple\"], [\"Multiple\"], [\"Multiple\"], [\"Multiple\"], [\"Multiple\"]], \"hovertemplate\": \"<b>%{hovertext}</b><br><br>Algorithm=%{customdata[0]}<br>class=0<br>PC 1=%{x}<br>PC 2=%{y}<br>PC 3=%{z}<extra></extra>\", \"hovertext\": [\"DigiByte\", \"MyriadCoin\", \"Verge\", \"TeslaCoin\", \"Crypti\", \"Unitus\", \"Circuits of Value\", \"SHIELD\", \"JoinCoin\"], \"legendgroup\": \"Multiple, 0\", \"marker\": {\"color\": \"#FF97FF\", \"symbol\": \"circle\"}, \"mode\": \"markers\", \"name\": \"Multiple, 0\", \"scene\": \"scene\", \"showlegend\": true, \"type\": \"scatter3d\", \"x\": [-0.0017814819466951913, 0.032595060487910395, 0.0648523065470859, -0.039694702520427935, 0.014162767304878636, -0.06999351854758556, -0.21878275008675252, -0.18836200672779563, -0.18966662958210528], \"y\": [-0.1858463433025511, -0.09363124731503132, -0.1960720660457513, 0.005603632097119343, 0.011419398882790902, -0.0758146545640684, -0.11491408489266151, -0.19888218118987347, -0.19811242547762056], \"z\": [-0.11312540187369, -0.039917602174604896, -0.10896430730219785, 0.018040338530349677, -0.01402511320216126, -0.07400756308947083, -0.12703076816016978, -0.13166308395855275, -0.13631895541405373]}, {\"customdata\": [[\"X15\"], [\"X15\"], [\"X15\"], [\"X15\"]], \"hovertemplate\": \"<b>%{hovertext}</b><br><br>Algorithm=%{customdata[0]}<br>class=0<br>PC 1=%{x}<br>PC 2=%{y}<br>PC 3=%{z}<extra></extra>\", \"hovertext\": [\"KoboCoin\", \"EverGreenCoin\", \"HTML5 Coin\", \"Dekado\"], \"legendgroup\": \"X15, 0\", \"marker\": {\"color\": \"#FECB52\", \"symbol\": \"circle\"}, \"mode\": \"markers\", \"name\": \"X15, 0\", \"scene\": \"scene\", \"showlegend\": true, \"type\": \"scatter3d\", \"x\": [-0.4560212324172116, -0.5349494252456639, 0.1251322803004676, -0.3436380979290585], \"y\": [0.1115138825781332, 0.17894629814314764, 0.17028092512342557, 0.16397565917256302], \"z\": [0.1417044459129486, 0.2181860290117549, 0.28018610818875433, 0.1069693251660389]}, {\"customdata\": [[\"Quark\"], [\"Quark\"], [\"Quark\"], [\"Quark\"], [\"Quark\"], [\"Quark\"], [\"Quark\"], [\"Quark\"], [\"Quark\"], [\"Quark\"], [\"Quark\"], [\"Quark\"], [\"Quark\"]], \"hovertemplate\": \"<b>%{hovertext}</b><br><br>Algorithm=%{customdata[0]}<br>class=0<br>PC 1=%{x}<br>PC 2=%{y}<br>PC 3=%{z}<extra></extra>\", \"hovertext\": [\"QuarkCoin\", \"Allsafe\", \"Bitcloud 2.0\", \"Kalkulus\", \"Digiwage\", \"Carebit\", \"Poseidon Quark\", \"Dystem\", \"Giant\", \"Vitae\", \"HerbCoin\", \"Galilel\", \"Crypto Sports\"], \"legendgroup\": \"Quark, 0\", \"marker\": {\"color\": \"#636efa\", \"symbol\": \"circle\"}, \"mode\": \"markers\", \"name\": \"Quark, 0\", \"scene\": \"scene\", \"showlegend\": true, \"type\": \"scatter3d\", \"x\": [-0.09908863229091794, -0.058169094961359906, -0.11077416962698705, -0.08971490045561543, -0.10139765409937385, -0.10955922248594607, 0.020205273207860384, -0.09579593362389384, -0.12322408170823382, -0.01488916826299516, -0.16574891277504192, -0.1217960818594391, 0.023802453437910508], \"y\": [-0.20498570194341995, -0.036820981619923046, -0.10777009251592154, -0.024629925295930166, -0.015286998871500649, -0.10777986846022974, -0.06186372595414427, -0.050222766905216064, -0.08176941087625075, 0.009818033786226478, -0.08317576773729023, -0.07703209143342603, -0.06957402342080399], \"z\": [-0.13435722050470614, -0.02773139025875576, -0.046267041435455826, -0.049512296887092196, -0.04723869604007817, -0.04614810852692512, -0.0478799950731743, -0.04451592111732276, -0.009534211345921176, 0.026186950318545458, -0.026121374709293037, -0.011913563883699749, -0.04351818448207018]}, {\"customdata\": [[\"Groestl\"], [\"Groestl\"], [\"Groestl\"], [\"Groestl\"]], \"hovertemplate\": \"<b>%{hovertext}</b><br><br>Algorithm=%{customdata[0]}<br>class=0<br>PC 1=%{x}<br>PC 2=%{y}<br>PC 3=%{z}<extra></extra>\", \"hovertext\": [\"Riecoin\", \"Diamond\", \"FairCoin\", \"Groestlcoin\"], \"legendgroup\": \"Groestl, 0\", \"marker\": {\"color\": \"#EF553B\", \"symbol\": \"circle\"}, \"mode\": \"markers\", \"name\": \"Groestl, 0\", \"scene\": \"scene\", \"showlegend\": true, \"type\": \"scatter3d\", \"x\": [-0.37696752300366426, -0.404352823204771, -0.1810437653914181, -0.3290865222392859], \"y\": [-0.0203391711268858, 0.2109846660550453, 0.11365272314735161, -0.0010450428372080327], \"z\": [-0.17147196151001484, -0.10738405626383109, -0.024746829585051502, -0.1784958229848043]}, {\"customdata\": [[\"PoS\"], [\"PoS\"], [\"PoS\"], [\"PoS\"], [\"PoS\"], [\"PoS\"], [\"PoS\"], [\"PoS\"], [\"PoS\"], [\"PoS\"], [\"PoS\"], [\"PoS\"], [\"PoS\"], [\"PoS\"], [\"PoS\"], [\"PoS\"], [\"PoS\"]], \"hovertemplate\": \"<b>%{hovertext}</b><br><br>Algorithm=%{customdata[0]}<br>class=0<br>PC 1=%{x}<br>PC 2=%{y}<br>PC 3=%{z}<extra></extra>\", \"hovertext\": [\"Exclusive Coin\", \"Nebuchadnezzar\", \"Opair\", \"CoffeeCoin\", \"TeamUP\", \"FreeCoin\", \"Creatio\", \"Atmos\", \"MacronCoin\", \"Phreak\", \"Stakecoin\", \"Deviant Coin\", \"Zealium\", \"Ketan\", \"Radium\", \"Particl\", \"Nxt\"], \"legendgroup\": \"PoS, 0\", \"marker\": {\"color\": \"#00cc96\", \"symbol\": \"circle\"}, \"mode\": \"markers\", \"name\": \"PoS, 0\", \"scene\": \"scene\", \"showlegend\": true, \"type\": \"scatter3d\", \"x\": [0.028379601983302426, -0.09937693474038421, -0.030066183803222037, -0.029774567486472205, -0.030710767377627516, -0.08577053650848908, -0.09937693474038421, -0.025464454907609246, -0.09283070178389559, -0.12061371451934799, -0.03255144742661004, -0.02652211469797288, -0.06435517149551406, -0.09117797236515261, -0.03305218053426114, -0.025414526764032972, -0.03170722188187846], \"y\": [0.07576678436850509, 0.0354956021859094, 0.06085474621942415, 0.05949366757316382, 0.05961281565088703, 0.05089195142815227, 0.0354956021859094, 0.05355397085985863, 0.029812372539621834, 0.03995329977769323, 0.06038493352557022, 0.060277614888957186, 0.038631189774146, 0.02480921267026361, 0.05418924218456676, 0.05664719735004059, 0.021549207592937894], \"z\": [-0.014593805937983774, -0.05813688882374298, -0.07005190331776238, -0.07560368365946621, -0.0674253278798781, -0.032353651851549634, -0.05813688882374298, -0.06386837575740861, -0.04139877376482856, -0.05160238352980264, -0.07328574211270374, -0.07289920551994035, -0.054970195852614305, -0.04871223428133792, -0.06603576153454559, -0.0611846951838344, 0.09194133857091372]}, {\"customdata\": [[\"NeoScrypt\"], [\"NeoScrypt\"], [\"NeoScrypt\"], [\"NeoScrypt\"], [\"NeoScrypt\"], [\"NeoScrypt\"], [\"NeoScrypt\"], [\"NeoScrypt\"], [\"NeoScrypt\"], [\"NeoScrypt\"]], \"hovertemplate\": \"<b>%{hovertext}</b><br><br>Algorithm=%{customdata[0]}<br>class=0<br>PC 1=%{x}<br>PC 2=%{y}<br>PC 3=%{z}<extra></extra>\", \"hovertext\": [\"FeatherCoin\", \"Orbitcoin\", \"TrezarCoin\", \"VIVO Coin\", \"Innova\", \"GoByte\", \"SparksPay\", \"GunCoin\", \"UFO Coin\", \"FriendshipCoin\"], \"legendgroup\": \"NeoScrypt, 0\", \"marker\": {\"color\": \"#ab63fa\", \"symbol\": \"circle\"}, \"mode\": \"markers\", \"name\": \"NeoScrypt, 0\", \"scene\": \"scene\", \"showlegend\": true, \"type\": \"scatter3d\", \"x\": [-0.29031104055644646, -0.29720586921310493, -0.26410344027622384, -0.2917560834189074, -0.27364913652686534, -0.2784377583794224, -0.26731428066904495, -0.12436542000470825, -0.23613365882471837, -0.29618186599456364], \"y\": [-0.2144357961188168, -0.11628690668566355, -0.0660102249264683, -0.18637462013422398, -0.1622699674677298, -0.2434637578345325, -0.1648605088959077, -0.11480381907613137, -0.20196693769681343, -0.11597530511125956], \"z\": [-0.12652869937380795, -0.0047242184955166916, -0.015630799812021, -0.11072829648438269, -0.09798666761416346, -0.12016230013126498, -0.10844448163880627, -0.03959102694657567, -0.12283925178193833, -0.006555287359981649]}, {\"customdata\": [[\"SHA3\"], [\"SHA3\"]], \"hovertemplate\": \"<b>%{hovertext}</b><br><br>Algorithm=%{customdata[0]}<br>class=0<br>PC 1=%{x}<br>PC 2=%{y}<br>PC 3=%{z}<extra></extra>\", \"hovertext\": [\"MaxCoin\", \"Nexus\"], \"legendgroup\": \"SHA3, 0\", \"marker\": {\"color\": \"#FFA15A\", \"symbol\": \"circle\"}, \"mode\": \"markers\", \"name\": \"SHA3, 0\", \"scene\": \"scene\", \"showlegend\": true, \"type\": \"scatter3d\", \"x\": [-0.23487399982265122, -0.4827871205148593], \"y\": [0.003949746802119461, -0.2065984311403931], \"z\": [0.2440172588033799, 0.694858768338648]}, {\"customdata\": [[\"HybridScryptHash256\"]], \"hovertemplate\": \"<b>%{hovertext}</b><br><br>Algorithm=%{customdata[0]}<br>class=0<br>PC 1=%{x}<br>PC 2=%{y}<br>PC 3=%{z}<extra></extra>\", \"hovertext\": [\"MediterraneanCoin\"], \"legendgroup\": \"HybridScryptHash256, 0\", \"marker\": {\"color\": \"#19d3f3\", \"symbol\": \"circle\"}, \"mode\": \"markers\", \"name\": \"HybridScryptHash256, 0\", \"scene\": \"scene\", \"showlegend\": true, \"type\": \"scatter3d\", \"x\": [-0.08629783846441404], \"y\": [-0.2812620155461847], \"z\": [-0.1843346404489477]}, {\"customdata\": [[\"PHI1612\"], [\"PHI1612\"]], \"hovertemplate\": \"<b>%{hovertext}</b><br><br>Algorithm=%{customdata[0]}<br>class=0<br>PC 1=%{x}<br>PC 2=%{y}<br>PC 3=%{z}<extra></extra>\", \"hovertext\": [\"TittieCoin\", \"LUXCoin\"], \"legendgroup\": \"PHI1612, 0\", \"marker\": {\"color\": \"#FF6692\", \"symbol\": \"circle\"}, \"mode\": \"markers\", \"name\": \"PHI1612, 0\", \"scene\": \"scene\", \"showlegend\": true, \"type\": \"scatter3d\", \"x\": [0.06841438685363951, -0.14582834654713853], \"y\": [-0.12506262633170334, -0.10654169587185781], \"z\": [0.01325198025972719, 0.045961685240783985]}, {\"customdata\": [[\"Lyra2REv2\"], [\"Lyra2REv2\"], [\"Lyra2REv2\"], [\"Lyra2REv2\"]], \"hovertemplate\": \"<b>%{hovertext}</b><br><br>Algorithm=%{customdata[0]}<br>class=0<br>PC 1=%{x}<br>PC 2=%{y}<br>PC 3=%{z}<extra></extra>\", \"hovertext\": [\"Vertcoin\", \"Rupee\", \"KREDS\", \"Absolute Coin\"], \"legendgroup\": \"Lyra2REv2, 0\", \"marker\": {\"color\": \"#B6E880\", \"symbol\": \"circle\"}, \"mode\": \"markers\", \"name\": \"Lyra2REv2, 0\", \"scene\": \"scene\", \"showlegend\": true, \"type\": \"scatter3d\", \"x\": [-0.44599051455291505, -0.39672037070125893, -0.46113026601697404, -0.549771042320053], \"y\": [-0.10873474544402358, -0.04237319491102396, -0.1351423039604213, -0.014234094896480535], \"z\": [-0.15691310544963874, -0.19137917652453063, -0.15237415204310908, -0.01654361433570663]}, {\"customdata\": [[\"CryptoNight\"], [\"CryptoNight\"], [\"CryptoNight\"], [\"CryptoNight\"], [\"CryptoNight\"], [\"CryptoNight\"], [\"CryptoNight\"], [\"CryptoNight\"], [\"CryptoNight\"], [\"CryptoNight\"], [\"CryptoNight\"], [\"CryptoNight\"], [\"CryptoNight\"], [\"CryptoNight\"], [\"CryptoNight\"], [\"CryptoNight\"], [\"CryptoNight\"], [\"CryptoNight\"], [\"CryptoNight\"]], \"hovertemplate\": \"<b>%{hovertext}</b><br><br>Algorithm=%{customdata[0]}<br>class=0<br>PC 1=%{x}<br>PC 2=%{y}<br>PC 3=%{z}<extra></extra>\", \"hovertext\": [\"ByteCoin\", \"DigitalNote \", \"Karbo\", \"Cannabis Industry Coin\", \"Bikercoins\", \"Dinastycoin\", \"LeviarCoin\", \"Sumokoin\", \"UltraNote\", \"BitCoal\", \"TurtleCoin\", \"Niobio Cash\", \"BitTube\", \"Monero Classic\", \"PlatinCoin\", \"Newton Coin\", \"PluraCoin\", \"FREDEnergy\", \"Beldex\"], \"legendgroup\": \"CryptoNight, 0\", \"marker\": {\"color\": \"#FF97FF\", \"symbol\": \"circle\"}, \"mode\": \"markers\", \"name\": \"CryptoNight, 0\", \"scene\": \"scene\", \"showlegend\": true, \"type\": \"scatter3d\", \"x\": [2.7866711947908356, -0.12182907891016227, -0.19806975820285527, -0.1833737599482841, -0.18068918010045243, 0.0551673572606703, -0.16272304720426028, -0.212053590236495, 0.10299581460549036, -0.17340854049142543, 0.651181112013586, -0.2071267953942987, -0.12243527284999978, -0.2143181610924132, -0.21824795620701049, 0.460016320584621, -0.11708601232749687, -0.1859141523090476, -0.19381024785433582], \"y\": [-0.2020705639160585, -0.15123695425473838, -0.10857850162725491, -0.14594128360137168, -0.1534067377172541, -0.09791087043015023, -0.17057701308856035, -0.17032887816238268, -0.17196861794660356, -0.13123508851950197, -0.17963929407013723, -0.19551048553258996, -0.1199079647216098, -0.17151043469147356, -0.16611291423346147, -0.17034805154969088, -0.11995100698344342, -0.16832621613058218, -0.16965584459934677], \"z\": [0.16729239514145322, -0.12571788693632835, -0.11271050167981282, -0.10815766520424325, -0.11313153753376959, -0.03531395991170668, -0.11114325301867313, -0.12839412480754292, -0.08834627580229364, -0.09402110878640349, -0.037221617308381444, -0.12631591583236323, -0.011635655430163466, -0.1184155312663538, -0.12397276152176298, -0.057707028624012426, -0.011112008687899067, -0.11638599860572608, -0.12309877630302633]}, {\"customdata\": [[\"Shabal256\"]], \"hovertemplate\": \"<b>%{hovertext}</b><br><br>Algorithm=%{customdata[0]}<br>class=0<br>PC 1=%{x}<br>PC 2=%{y}<br>PC 3=%{z}<extra></extra>\", \"hovertext\": [\"BurstCoin\"], \"legendgroup\": \"Shabal256, 0\", \"marker\": {\"color\": \"#FECB52\", \"symbol\": \"circle\"}, \"mode\": \"markers\", \"name\": \"Shabal256, 0\", \"scene\": \"scene\", \"showlegend\": true, \"type\": \"scatter3d\", \"x\": [1.2539304274049439], \"y\": [-0.31501826348093925], \"z\": [0.33529657932473733]}, {\"customdata\": [[\"Counterparty\"]], \"hovertemplate\": \"<b>%{hovertext}</b><br><br>Algorithm=%{customdata[0]}<br>class=0<br>PC 1=%{x}<br>PC 2=%{y}<br>PC 3=%{z}<extra></extra>\", \"hovertext\": [\"StorjCoin\"], \"legendgroup\": \"Counterparty, 0\", \"marker\": {\"color\": \"#636efa\", \"symbol\": \"circle\"}, \"mode\": \"markers\", \"name\": \"Counterparty, 0\", \"scene\": \"scene\", \"showlegend\": true, \"type\": \"scatter3d\", \"x\": [0.032441722174372134], \"y\": [0.06789890001210741], \"z\": [0.05795072704857685]}, {\"customdata\": [[\"Stanford Folding\"]], \"hovertemplate\": \"<b>%{hovertext}</b><br><br>Algorithm=%{customdata[0]}<br>class=0<br>PC 1=%{x}<br>PC 2=%{y}<br>PC 3=%{z}<extra></extra>\", \"hovertext\": [\"Folding Coin\"], \"legendgroup\": \"Stanford Folding, 0\", \"marker\": {\"color\": \"#EF553B\", \"symbol\": \"circle\"}, \"mode\": \"markers\", \"name\": \"Stanford Folding, 0\", \"scene\": \"scene\", \"showlegend\": true, \"type\": \"scatter3d\", \"x\": [-0.19558684647633337], \"y\": [-0.09710959404599868], \"z\": [0.04258966719803516]}, {\"customdata\": [[\"QuBit\"], [\"QuBit\"], [\"QuBit\"]], \"hovertemplate\": \"<b>%{hovertext}</b><br><br>Algorithm=%{customdata[0]}<br>class=0<br>PC 1=%{x}<br>PC 2=%{y}<br>PC 3=%{z}<extra></extra>\", \"hovertext\": [\"CypherPunkCoin\", \"LiteCreed\", \"SLICE\"], \"legendgroup\": \"QuBit, 0\", \"marker\": {\"color\": \"#00cc96\", \"symbol\": \"circle\"}, \"mode\": \"markers\", \"name\": \"QuBit, 0\", \"scene\": \"scene\", \"showlegend\": true, \"type\": \"scatter3d\", \"x\": [-0.10019539906254926, -0.2463437902263799, -0.15375979603514556], \"y\": [-0.07006323110945145, -0.0916194560882658, -0.07588135607498935], \"z\": [-0.0055871095783963974, 0.14344879619446685, 0.026507031473680123]}, {\"customdata\": [[\"M7 POW\"]], \"hovertemplate\": \"<b>%{hovertext}</b><br><br>Algorithm=%{customdata[0]}<br>class=0<br>PC 1=%{x}<br>PC 2=%{y}<br>PC 3=%{z}<extra></extra>\", \"hovertext\": [\"Cryptonite\"], \"legendgroup\": \"M7 POW, 0\", \"marker\": {\"color\": \"#ab63fa\", \"symbol\": \"circle\"}, \"mode\": \"markers\", \"name\": \"M7 POW, 0\", \"scene\": \"scene\", \"showlegend\": true, \"type\": \"scatter3d\", \"x\": [-0.7931251252734965], \"y\": [-0.1515537755416469], \"z\": [-0.47652631167552567]}, {\"customdata\": [[\"Lyra2RE\"], [\"Lyra2RE\"], [\"Lyra2RE\"], [\"Lyra2RE\"]], \"hovertemplate\": \"<b>%{hovertext}</b><br><br>Algorithm=%{customdata[0]}<br>class=0<br>PC 1=%{x}<br>PC 2=%{y}<br>PC 3=%{z}<extra></extra>\", \"hovertext\": [\"Crypto\", \"HexxCoin\", \"Zoin\", \"Infinex\"], \"legendgroup\": \"Lyra2RE, 0\", \"marker\": {\"color\": \"#FFA15A\", \"symbol\": \"circle\"}, \"mode\": \"markers\", \"name\": \"Lyra2RE, 0\", \"scene\": \"scene\", \"showlegend\": true, \"type\": \"scatter3d\", \"x\": [-0.1287247132929787, -0.13220485297624268, -0.19806979912345524, -0.1379477285212922], \"y\": [-0.2556768471363108, -0.2502303354737373, -0.18424647501090732, -0.24968697760498296], \"z\": [-0.4427030436882484, -0.44426324309158727, -0.26605485354076536, -0.45362136255329033]}, {\"customdata\": [[\"QUAIT\"]], \"hovertemplate\": \"<b>%{hovertext}</b><br><br>Algorithm=%{customdata[0]}<br>class=0<br>PC 1=%{x}<br>PC 2=%{y}<br>PC 3=%{z}<extra></extra>\", \"hovertext\": [\"Droidz\"], \"legendgroup\": \"QUAIT, 0\", \"marker\": {\"color\": \"#19d3f3\", \"symbol\": \"circle\"}, \"mode\": \"markers\", \"name\": \"QUAIT, 0\", \"scene\": \"scene\", \"showlegend\": true, \"type\": \"scatter3d\", \"x\": [-0.7494001169083533], \"y\": [-0.8064259821055868], \"z\": [0.31300971758712204]}, {\"customdata\": [[\"Blake2b\"], [\"Blake2b\"]], \"hovertemplate\": \"<b>%{hovertext}</b><br><br>Algorithm=%{customdata[0]}<br>class=0<br>PC 1=%{x}<br>PC 2=%{y}<br>PC 3=%{z}<extra></extra>\", \"hovertext\": [\"Siacoin\", \"Nano\"], \"legendgroup\": \"Blake2b, 0\", \"marker\": {\"color\": \"#FF6692\", \"symbol\": \"circle\"}, \"mode\": \"markers\", \"name\": \"Blake2b, 0\", \"scene\": \"scene\", \"showlegend\": true, \"type\": \"scatter3d\", \"x\": [0.41449973069331325, 0.029722779376897646], \"y\": [-0.05308445422882346, -0.12163860323633964], \"z\": [-0.003428434047461363, -0.04777311638033667]}, {\"customdata\": [[\"BLAKE256\"], [\"BLAKE256\"]], \"hovertemplate\": \"<b>%{hovertext}</b><br><br>Algorithm=%{customdata[0]}<br>class=0<br>PC 1=%{x}<br>PC 2=%{y}<br>PC 3=%{z}<extra></extra>\", \"hovertext\": [\"Decred\", \"Photon\"], \"legendgroup\": \"BLAKE256, 0\", \"marker\": {\"color\": \"#B6E880\", \"symbol\": \"circle\"}, \"mode\": \"markers\", \"name\": \"BLAKE256, 0\", \"scene\": \"scene\", \"showlegend\": true, \"type\": \"scatter3d\", \"x\": [-0.19129810274475995, 0.2891277958185104], \"y\": [0.09246786574266284, 0.18679366925042037], \"z\": [0.03618557233193612, 0.06007025068665305]}, {\"customdata\": [[\"1GB AES Pattern Search\"]], \"hovertemplate\": \"<b>%{hovertext}</b><br><br>Algorithm=%{customdata[0]}<br>class=0<br>PC 1=%{x}<br>PC 2=%{y}<br>PC 3=%{z}<extra></extra>\", \"hovertext\": [\"HOdlcoin\"], \"legendgroup\": \"1GB AES Pattern Search, 0\", \"marker\": {\"color\": \"#FF97FF\", \"symbol\": \"circle\"}, \"mode\": \"markers\", \"name\": \"1GB AES Pattern Search, 0\", \"scene\": \"scene\", \"showlegend\": true, \"type\": \"scatter3d\", \"x\": [0.49224308255589777], \"y\": [-0.7320947048777002], \"z\": [-0.28956513212889917]}, {\"customdata\": [[\"NIST5\"], [\"NIST5\"], [\"NIST5\"], [\"NIST5\"], [\"NIST5\"], [\"NIST5\"], [\"NIST5\"], [\"NIST5\"], [\"NIST5\"], [\"NIST5\"]], \"hovertemplate\": \"<b>%{hovertext}</b><br><br>Algorithm=%{customdata[0]}<br>class=0<br>PC 1=%{x}<br>PC 2=%{y}<br>PC 3=%{z}<extra></extra>\", \"hovertext\": [\"PWR Coin\", \"VIP Tokens\", \"Coinonat\", \"Denarius\", \"Virta Unique Coin\", \"NamoCoin\", \"Electra\", \"Bulwark\", \"Bitspace\", \"Jumpcoin\"], \"legendgroup\": \"NIST5, 0\", \"marker\": {\"color\": \"#FECB52\", \"symbol\": \"circle\"}, \"mode\": \"markers\", \"name\": \"NIST5, 0\", \"scene\": \"scene\", \"showlegend\": true, \"type\": \"scatter3d\", \"x\": [-0.031153648537167945, -0.35491170789338045, -0.31650108244548575, -0.29197482505287164, -0.28237466095075364, -0.2963223991154887, 0.12545783311039393, -0.198510070215941, -0.2578522923639124, -0.2700104270960363], \"y\": [0.09290422572622391, 0.12182824090745593, 0.0009150059017396517, 0.06530649433195977, 0.06287540983049868, 0.05474123094969963, 0.12575371467459637, 0.14352119907872893, 0.06893500248934874, -0.05097967578320971], \"z\": [0.021470026769674258, 0.013370551406477688, -0.12093243579094587, -0.032621510962351795, -0.030741927475825475, -0.04294573541331953, 0.006029169595822706, -0.07206914528930852, -0.0073073528604603215, -0.10935089035622411]}, {\"customdata\": [[\"Dagger\"], [\"Dagger\"], [\"Dagger\"]], \"hovertemplate\": \"<b>%{hovertext}</b><br><br>Algorithm=%{customdata[0]}<br>class=0<br>PC 1=%{x}<br>PC 2=%{y}<br>PC 3=%{z}<extra></extra>\", \"hovertext\": [\"SoilCoin\", \"Pirl\", \"Travelflex\"], \"legendgroup\": \"Dagger, 0\", \"marker\": {\"color\": \"#636efa\", \"symbol\": \"circle\"}, \"mode\": \"markers\", \"name\": \"Dagger, 0\", \"scene\": \"scene\", \"showlegend\": true, \"type\": \"scatter3d\", \"x\": [-0.26644395122916065, -0.2525445929802748, -0.16989207153841324], \"y\": [-0.10411271111217851, -0.16719261152151108, -0.07412638726765614], \"z\": [-0.10435514282781579, -0.11368360317152393, -0.03514249601209779]}, {\"customdata\": [[\"X11GOST\"]], \"hovertemplate\": \"<b>%{hovertext}</b><br><br>Algorithm=%{customdata[0]}<br>class=0<br>PC 1=%{x}<br>PC 2=%{y}<br>PC 3=%{z}<extra></extra>\", \"hovertext\": [\"SibCoin\"], \"legendgroup\": \"X11GOST, 0\", \"marker\": {\"color\": \"#EF553B\", \"symbol\": \"circle\"}, \"mode\": \"markers\", \"name\": \"X11GOST, 0\", \"scene\": \"scene\", \"showlegend\": true, \"type\": \"scatter3d\", \"x\": [-0.4659469391846893], \"y\": [-0.16753760897858644], \"z\": [-0.4030800134071882]}, {\"customdata\": [[\"POS 3.0\"], [\"POS 3.0\"], [\"POS 3.0\"]], \"hovertemplate\": \"<b>%{hovertext}</b><br><br>Algorithm=%{customdata[0]}<br>class=0<br>PC 1=%{x}<br>PC 2=%{y}<br>PC 3=%{z}<extra></extra>\", \"hovertext\": [\"Let it Ride\", \"QTUM\", \"TokenPay\"], \"legendgroup\": \"POS 3.0, 0\", \"marker\": {\"color\": \"#00cc96\", \"symbol\": \"circle\"}, \"mode\": \"markers\", \"name\": \"POS 3.0, 0\", \"scene\": \"scene\", \"showlegend\": true, \"type\": \"scatter3d\", \"x\": [0.06658423377148587, 0.01248823932657259, -0.06605667790245973], \"y\": [0.044708792104264504, 0.06390945384597153, -0.0035942041345645836], \"z\": [0.022067849519285157, 0.058638125261500064, -0.017070211171887173]}, {\"customdata\": [[\"SHA-256D\"], [\"SHA-256D\"], [\"SHA-256D\"], [\"SHA-256D\"]], \"hovertemplate\": \"<b>%{hovertext}</b><br><br>Algorithm=%{customdata[0]}<br>class=0<br>PC 1=%{x}<br>PC 2=%{y}<br>PC 3=%{z}<extra></extra>\", \"hovertext\": [\"BuzzCoin\", \"LanaCoin\", \"TheVig\", \"Titan Coin\"], \"legendgroup\": \"SHA-256D, 0\", \"marker\": {\"color\": \"#ab63fa\", \"symbol\": \"circle\"}, \"mode\": \"markers\", \"name\": \"SHA-256D, 0\", \"scene\": \"scene\", \"showlegend\": true, \"type\": \"scatter3d\", \"x\": [-0.0003167870132295196, -0.30400785359603255, -0.1862125311788064, -0.2726346705812317], \"y\": [-0.09321223741488095, -0.09416568504181484, -0.004196237907016939, -0.15637119511692107], \"z\": [0.12092443684727314, 0.08544684280063285, 0.10507025184602062, 0.09461405073541153]}, {\"customdata\": [[\"Lyra2Z\"], [\"Lyra2Z\"], [\"Lyra2Z\"], [\"Lyra2Z\"]], \"hovertemplate\": \"<b>%{hovertext}</b><br><br>Algorithm=%{customdata[0]}<br>class=0<br>PC 1=%{x}<br>PC 2=%{y}<br>PC 3=%{z}<extra></extra>\", \"hovertext\": [\"ZCoin\", \"Alpenschillling\", \"GINcoin\", \"Actinium\"], \"legendgroup\": \"Lyra2Z, 0\", \"marker\": {\"color\": \"#FFA15A\", \"symbol\": \"circle\"}, \"mode\": \"markers\", \"name\": \"Lyra2Z, 0\", \"scene\": \"scene\", \"showlegend\": true, \"type\": \"scatter3d\", \"x\": [-0.525796407890258, -0.4664496646855222, -0.4473663521392155, -0.44357331616769646], \"y\": [-0.30707244971671993, -0.22977436841016785, -0.22829118441875834, -0.18735487006188534], \"z\": [-0.2756162339673346, -0.21347350733568135, -0.19540348558882004, -0.2052031226057754]}, {\"customdata\": [[\"X14\"]], \"hovertemplate\": \"<b>%{hovertext}</b><br><br>Algorithm=%{customdata[0]}<br>class=0<br>PC 1=%{x}<br>PC 2=%{y}<br>PC 3=%{z}<extra></extra>\", \"hovertext\": [\"GanjaCoin V2\"], \"legendgroup\": \"X14, 0\", \"marker\": {\"color\": \"#19d3f3\", \"symbol\": \"circle\"}, \"mode\": \"markers\", \"name\": \"X14, 0\", \"scene\": \"scene\", \"showlegend\": true, \"type\": \"scatter3d\", \"x\": [-0.1477823346718115], \"y\": [0.08493135913475694], \"z\": [0.12604492530403444]}, {\"customdata\": [[\"DPoS\"], [\"DPoS\"], [\"DPoS\"], [\"DPoS\"], [\"DPoS\"], [\"DPoS\"], [\"DPoS\"]], \"hovertemplate\": \"<b>%{hovertext}</b><br><br>Algorithm=%{customdata[0]}<br>class=0<br>PC 1=%{x}<br>PC 2=%{y}<br>PC 3=%{z}<extra></extra>\", \"hovertext\": [\"ARK\", \"Lamden Tau\", \"Muse\", \"ALAX\", \"Lisk\", \"EOS\", \"Oxycoin\"], \"legendgroup\": \"DPoS, 0\", \"marker\": {\"color\": \"#FF6692\", \"symbol\": \"circle\"}, \"mode\": \"markers\", \"name\": \"DPoS, 0\", \"scene\": \"scene\", \"showlegend\": true, \"type\": \"scatter3d\", \"x\": [4.980170829631999, 3.5376808335556262, 1.5578614097546717, 3.46597578811242, 4.984685336452319, 3.5400344834991313, 3.5411693061460445], \"y\": [0.90432784682712, 0.5339226858209709, 0.5443309034725392, 0.5098163941427575, 0.9003434175977566, 0.5496377683541851, 0.549628637123186], \"z\": [1.5991755697827357, 1.0383250631610748, 0.7192374277016491, 1.0670024215114868, 1.6016696835621151, 1.0091406349840988, 1.0092517243916166]}, {\"customdata\": [[\"Dagger-Hashimoto\"]], \"hovertemplate\": \"<b>%{hovertext}</b><br><br>Algorithm=%{customdata[0]}<br>class=0<br>PC 1=%{x}<br>PC 2=%{y}<br>PC 3=%{z}<extra></extra>\", \"hovertext\": [\"DubaiCoin\"], \"legendgroup\": \"Dagger-Hashimoto, 0\", \"marker\": {\"color\": \"#B6E880\", \"symbol\": \"circle\"}, \"mode\": \"markers\", \"name\": \"Dagger-Hashimoto, 0\", \"scene\": \"scene\", \"showlegend\": true, \"type\": \"scatter3d\", \"x\": [0.3103710471772553], \"y\": [0.029267332247206977], \"z\": [0.1898031773973404]}, {\"customdata\": [[\"Blake2S\"]], \"hovertemplate\": \"<b>%{hovertext}</b><br><br>Algorithm=%{customdata[0]}<br>class=0<br>PC 1=%{x}<br>PC 2=%{y}<br>PC 3=%{z}<extra></extra>\", \"hovertext\": [\"TajCoin\"], \"legendgroup\": \"Blake2S, 0\", \"marker\": {\"color\": \"#FF97FF\", \"symbol\": \"circle\"}, \"mode\": \"markers\", \"name\": \"Blake2S, 0\", \"scene\": \"scene\", \"showlegend\": true, \"type\": \"scatter3d\", \"x\": [-0.7756882404016638], \"y\": [-0.7029992692974593], \"z\": [0.16476547619944337]}, {\"customdata\": [[\"536\"]], \"hovertemplate\": \"<b>%{hovertext}</b><br><br>Algorithm=%{customdata[0]}<br>class=0<br>PC 1=%{x}<br>PC 2=%{y}<br>PC 3=%{z}<extra></extra>\", \"hovertext\": [\"Espers\"], \"legendgroup\": \"536, 0\", \"marker\": {\"color\": \"#FECB52\", \"symbol\": \"circle\"}, \"mode\": \"markers\", \"name\": \"536, 0\", \"scene\": \"scene\", \"showlegend\": true, \"type\": \"scatter3d\", \"x\": [0.27792354887628684], \"y\": [-0.08236648645901479], \"z\": [0.10748113137974863]}, {\"customdata\": [[\"Argon2d\"]], \"hovertemplate\": \"<b>%{hovertext}</b><br><br>Algorithm=%{customdata[0]}<br>class=0<br>PC 1=%{x}<br>PC 2=%{y}<br>PC 3=%{z}<extra></extra>\", \"hovertext\": [\"Dynamic\"], \"legendgroup\": \"Argon2d, 0\", \"marker\": {\"color\": \"#636efa\", \"symbol\": \"circle\"}, \"mode\": \"markers\", \"name\": \"Argon2d, 0\", \"scene\": \"scene\", \"showlegend\": true, \"type\": \"scatter3d\", \"x\": [-0.0788884822593074], \"y\": [-0.018953518077899502], \"z\": [-0.08132453284446156]}, {\"customdata\": [[\"Cloverhash\"]], \"hovertemplate\": \"<b>%{hovertext}</b><br><br>Algorithm=%{customdata[0]}<br>class=0<br>PC 1=%{x}<br>PC 2=%{y}<br>PC 3=%{z}<extra></extra>\", \"hovertext\": [\"ChanCoin\"], \"legendgroup\": \"Cloverhash, 0\", \"marker\": {\"color\": \"#EF553B\", \"symbol\": \"circle\"}, \"mode\": \"markers\", \"name\": \"Cloverhash, 0\", \"scene\": \"scene\", \"showlegend\": true, \"type\": \"scatter3d\", \"x\": [-0.3088769465418455], \"y\": [-0.09188722370975554], \"z\": [-0.12249781376881695]}, {\"customdata\": [[\"Skein\"], [\"Skein\"]], \"hovertemplate\": \"<b>%{hovertext}</b><br><br>Algorithm=%{customdata[0]}<br>class=0<br>PC 1=%{x}<br>PC 2=%{y}<br>PC 3=%{z}<extra></extra>\", \"hovertext\": [\"Bitcoin Planet\", \"Cream\"], \"legendgroup\": \"Skein, 0\", \"marker\": {\"color\": \"#00cc96\", \"symbol\": \"circle\"}, \"mode\": \"markers\", \"name\": \"Skein, 0\", \"scene\": \"scene\", \"showlegend\": true, \"type\": \"scatter3d\", \"x\": [-0.15104309455759388, -0.15059147958549762], \"y\": [0.0845513776947482, 0.08454774382240342], \"z\": [0.12279331672920002, 0.12283752596296243]}, {\"customdata\": [[\"Time Travel\"]], \"hovertemplate\": \"<b>%{hovertext}</b><br><br>Algorithm=%{customdata[0]}<br>class=0<br>PC 1=%{x}<br>PC 2=%{y}<br>PC 3=%{z}<extra></extra>\", \"hovertext\": [\"Bitcore\"], \"legendgroup\": \"Time Travel, 0\", \"marker\": {\"color\": \"#ab63fa\", \"symbol\": \"circle\"}, \"mode\": \"markers\", \"name\": \"Time Travel, 0\", \"scene\": \"scene\", \"showlegend\": true, \"type\": \"scatter3d\", \"x\": [-0.25553233692130883], \"y\": [-0.14407277194228288], \"z\": [-0.11932086435925748]}, {\"customdata\": [[\"Keccak\"], [\"Keccak\"]], \"hovertemplate\": \"<b>%{hovertext}</b><br><br>Algorithm=%{customdata[0]}<br>class=0<br>PC 1=%{x}<br>PC 2=%{y}<br>PC 3=%{z}<extra></extra>\", \"hovertext\": [\"SmartCash\", \"XDNA\"], \"legendgroup\": \"Keccak, 0\", \"marker\": {\"color\": \"#FFA15A\", \"symbol\": \"circle\"}, \"mode\": \"markers\", \"name\": \"Keccak, 0\", \"scene\": \"scene\", \"showlegend\": true, \"type\": \"scatter3d\", \"x\": [-0.37251160751854856, -0.5673004366739999], \"y\": [-0.24893193283635784, -0.0775705202631945], \"z\": [0.016114154524311166, 0.11930061438733716]}, {\"customdata\": [[\"SkunkHash v2 Raptor\"]], \"hovertemplate\": \"<b>%{hovertext}</b><br><br>Algorithm=%{customdata[0]}<br>class=0<br>PC 1=%{x}<br>PC 2=%{y}<br>PC 3=%{z}<extra></extra>\", \"hovertext\": [\"Signatum\"], \"legendgroup\": \"SkunkHash v2 Raptor, 0\", \"marker\": {\"color\": \"#19d3f3\", \"symbol\": \"circle\"}, \"mode\": \"markers\", \"name\": \"SkunkHash v2 Raptor, 0\", \"scene\": \"scene\", \"showlegend\": true, \"type\": \"scatter3d\", \"x\": [-1.0332719238627166], \"y\": [0.1495924517622795], \"z\": [-0.4905127510247696]}, {\"customdata\": [[\"VeChainThor Authority\"]], \"hovertemplate\": \"<b>%{hovertext}</b><br><br>Algorithm=%{customdata[0]}<br>class=0<br>PC 1=%{x}<br>PC 2=%{y}<br>PC 3=%{z}<extra></extra>\", \"hovertext\": [\"Vechain\"], \"legendgroup\": \"VeChainThor Authority, 0\", \"marker\": {\"color\": \"#FF6692\", \"symbol\": \"circle\"}, \"mode\": \"markers\", \"name\": \"VeChainThor Authority, 0\", \"scene\": \"scene\", \"showlegend\": true, \"type\": \"scatter3d\", \"x\": [12.256407084760982], \"y\": [-4.19641452297537], \"z\": [-17.290403481401146]}, {\"customdata\": [[\"Ouroboros\"]], \"hovertemplate\": \"<b>%{hovertext}</b><br><br>Algorithm=%{customdata[0]}<br>class=0<br>PC 1=%{x}<br>PC 2=%{y}<br>PC 3=%{z}<extra></extra>\", \"hovertext\": [\"Cardano\"], \"legendgroup\": \"Ouroboros, 0\", \"marker\": {\"color\": \"#B6E880\", \"symbol\": \"circle\"}, \"mode\": \"markers\", \"name\": \"Ouroboros, 0\", \"scene\": \"scene\", \"showlegend\": true, \"type\": \"scatter3d\", \"x\": [0.1446832152818989], \"y\": [-0.4748861178200326], \"z\": [0.22855343893816016]}, {\"customdata\": [[\"POS 2.0\"]], \"hovertemplate\": \"<b>%{hovertext}</b><br><br>Algorithm=%{customdata[0]}<br>class=0<br>PC 1=%{x}<br>PC 2=%{y}<br>PC 3=%{z}<extra></extra>\", \"hovertext\": [\"KekCoin\"], \"legendgroup\": \"POS 2.0, 0\", \"marker\": {\"color\": \"#FF97FF\", \"symbol\": \"circle\"}, \"mode\": \"markers\", \"name\": \"POS 2.0, 0\", \"scene\": \"scene\", \"showlegend\": true, \"type\": \"scatter3d\", \"x\": [-0.13653848162140067], \"y\": [-0.001419166895890074], \"z\": [-0.03176414965819649]}, {\"customdata\": [[\"C11\"], [\"C11\"]], \"hovertemplate\": \"<b>%{hovertext}</b><br><br>Algorithm=%{customdata[0]}<br>class=0<br>PC 1=%{x}<br>PC 2=%{y}<br>PC 3=%{z}<extra></extra>\", \"hovertext\": [\"Interzone\", \"Stipend\"], \"legendgroup\": \"C11, 0\", \"marker\": {\"color\": \"#FECB52\", \"symbol\": \"circle\"}, \"mode\": \"markers\", \"name\": \"C11, 0\", \"scene\": \"scene\", \"showlegend\": true, \"type\": \"scatter3d\", \"x\": [-0.01197744175984457, 0.15164878421842679], \"y\": [-0.15738887576866228, -0.07061544699252417], \"z\": [-0.05246696514909902, 0.1287086656577736]}, {\"customdata\": [[\"SkunkHash\"]], \"hovertemplate\": \"<b>%{hovertext}</b><br><br>Algorithm=%{customdata[0]}<br>class=0<br>PC 1=%{x}<br>PC 2=%{y}<br>PC 3=%{z}<extra></extra>\", \"hovertext\": [\"MUNcoin\"], \"legendgroup\": \"SkunkHash, 0\", \"marker\": {\"color\": \"#636efa\", \"symbol\": \"circle\"}, \"mode\": \"markers\", \"name\": \"SkunkHash, 0\", \"scene\": \"scene\", \"showlegend\": true, \"type\": \"scatter3d\", \"x\": [-0.2460613998297291], \"y\": [-0.5056358655955667], \"z\": [-0.9334840199970906]}, {\"customdata\": [[\"Proof-of-BibleHash\"]], \"hovertemplate\": \"<b>%{hovertext}</b><br><br>Algorithm=%{customdata[0]}<br>class=1<br>PC 1=%{x}<br>PC 2=%{y}<br>PC 3=%{z}<extra></extra>\", \"hovertext\": [\"BiblePay\"], \"legendgroup\": \"Proof-of-BibleHash, 1\", \"marker\": {\"color\": \"#EF553B\", \"symbol\": \"diamond\"}, \"mode\": \"markers\", \"name\": \"Proof-of-BibleHash, 1\", \"scene\": \"scene\", \"showlegend\": true, \"type\": \"scatter3d\", \"x\": [0.6280206152808515], \"y\": [35.53724737257147], \"z\": [13.400790753622621]}, {\"customdata\": [[\"SHA-256 + Hive\"]], \"hovertemplate\": \"<b>%{hovertext}</b><br><br>Algorithm=%{customdata[0]}<br>class=0<br>PC 1=%{x}<br>PC 2=%{y}<br>PC 3=%{z}<extra></extra>\", \"hovertext\": [\"LitecoinCash\"], \"legendgroup\": \"SHA-256 + Hive, 0\", \"marker\": {\"color\": \"#00cc96\", \"symbol\": \"circle\"}, \"mode\": \"markers\", \"name\": \"SHA-256 + Hive, 0\", \"scene\": \"scene\", \"showlegend\": true, \"type\": \"scatter3d\", \"x\": [0.42612809953637154], \"y\": [-16.493463035767498], \"z\": [27.589989272381338]}, {\"customdata\": [[\"Proof-of-Authority\"]], \"hovertemplate\": \"<b>%{hovertext}</b><br><br>Algorithm=%{customdata[0]}<br>class=0<br>PC 1=%{x}<br>PC 2=%{y}<br>PC 3=%{z}<extra></extra>\", \"hovertext\": [\"Poa Network\"], \"legendgroup\": \"Proof-of-Authority, 0\", \"marker\": {\"color\": \"#ab63fa\", \"symbol\": \"circle\"}, \"mode\": \"markers\", \"name\": \"Proof-of-Authority, 0\", \"scene\": \"scene\", \"showlegend\": true, \"type\": \"scatter3d\", \"x\": [1.4697698661720702], \"y\": [5.744619372493985], \"z\": [-17.616610787574476]}, {\"customdata\": [[\"XEVAN\"], [\"XEVAN\"], [\"XEVAN\"], [\"XEVAN\"], [\"XEVAN\"], [\"XEVAN\"]], \"hovertemplate\": \"<b>%{hovertext}</b><br><br>Algorithm=%{customdata[0]}<br>class=0<br>PC 1=%{x}<br>PC 2=%{y}<br>PC 3=%{z}<extra></extra>\", \"hovertext\": [\"Ellerium\", \"Bitcoin Incognito\", \"Urals Coin\", \"Bettex coin\", \"BitMoney\", \"Beetle Coin\"], \"legendgroup\": \"XEVAN, 0\", \"marker\": {\"color\": \"#FFA15A\", \"symbol\": \"circle\"}, \"mode\": \"markers\", \"name\": \"XEVAN, 0\", \"scene\": \"scene\", \"showlegend\": true, \"type\": \"scatter3d\", \"x\": [-0.10943359235823762, -0.010548307870006084, -0.11375062096475654, -0.025117580313856983, 0.6733041054818043, 0.006704705077693865], \"y\": [-0.14378406199503377, -0.15914277550811642, -0.18619894105775256, -0.07287466022581415, -0.8389825826075286, -0.07211771022603974], \"z\": [0.1646340698012582, 0.15189299894135208, 0.04895048569477777, 0.12520041231564386, 1.09051855922531, 0.194565356442223]}, {\"customdata\": [[\"VBFT\"]], \"hovertemplate\": \"<b>%{hovertext}</b><br><br>Algorithm=%{customdata[0]}<br>class=0<br>PC 1=%{x}<br>PC 2=%{y}<br>PC 3=%{z}<extra></extra>\", \"hovertext\": [\"Ontology\"], \"legendgroup\": \"VBFT, 0\", \"marker\": {\"color\": \"#19d3f3\", \"symbol\": \"circle\"}, \"mode\": \"markers\", \"name\": \"VBFT, 0\", \"scene\": \"scene\", \"showlegend\": true, \"type\": \"scatter3d\", \"x\": [-0.07433240753962363], \"y\": [0.034052686238186136], \"z\": [0.13502667388136688]}, {\"customdata\": [[\"IMesh\"]], \"hovertemplate\": \"<b>%{hovertext}</b><br><br>Algorithm=%{customdata[0]}<br>class=0<br>PC 1=%{x}<br>PC 2=%{y}<br>PC 3=%{z}<extra></extra>\", \"hovertext\": [\"Aidos Kuneen\"], \"legendgroup\": \"IMesh, 0\", \"marker\": {\"color\": \"#FF6692\", \"symbol\": \"circle\"}, \"mode\": \"markers\", \"name\": \"IMesh, 0\", \"scene\": \"scene\", \"showlegend\": true, \"type\": \"scatter3d\", \"x\": [-0.25236435439691957], \"y\": [-0.1657392152815011], \"z\": [-0.12101935534063231]}, {\"customdata\": [[\"Green Protocol\"]], \"hovertemplate\": \"<b>%{hovertext}</b><br><br>Algorithm=%{customdata[0]}<br>class=0<br>PC 1=%{x}<br>PC 2=%{y}<br>PC 3=%{z}<extra></extra>\", \"hovertext\": [\"Bitcoin Green\"], \"legendgroup\": \"Green Protocol, 0\", \"marker\": {\"color\": \"#B6E880\", \"symbol\": \"circle\"}, \"mode\": \"markers\", \"name\": \"Green Protocol, 0\", \"scene\": \"scene\", \"showlegend\": true, \"type\": \"scatter3d\", \"x\": [-0.13496687742875682], \"y\": [-0.006480445959411099], \"z\": [-0.034972109054340665]}, {\"customdata\": [[\"Semux BFT consensus\"]], \"hovertemplate\": \"<b>%{hovertext}</b><br><br>Algorithm=%{customdata[0]}<br>class=0<br>PC 1=%{x}<br>PC 2=%{y}<br>PC 3=%{z}<extra></extra>\", \"hovertext\": [\"Semux\"], \"legendgroup\": \"Semux BFT consensus, 0\", \"marker\": {\"color\": \"#FF97FF\", \"symbol\": \"circle\"}, \"mode\": \"markers\", \"name\": \"Semux BFT consensus, 0\", \"scene\": \"scene\", \"showlegend\": true, \"type\": \"scatter3d\", \"x\": [3.4127536504733715], \"y\": [0.4639674953055578], \"z\": [0.9591671322287768]}, {\"customdata\": [[\"X16R\"], [\"X16R\"], [\"X16R\"], [\"X16R\"]], \"hovertemplate\": \"<b>%{hovertext}</b><br><br>Algorithm=%{customdata[0]}<br>class=0<br>PC 1=%{x}<br>PC 2=%{y}<br>PC 3=%{z}<extra></extra>\", \"hovertext\": [\"Proton\", \"Motion\", \"Trivechain\", \"Xchange\"], \"legendgroup\": \"X16R, 0\", \"marker\": {\"color\": \"#FECB52\", \"symbol\": \"circle\"}, \"mode\": \"markers\", \"name\": \"X16R, 0\", \"scene\": \"scene\", \"showlegend\": true, \"type\": \"scatter3d\", \"x\": [-0.20882692906625455, -0.3446166208323504, -0.3611498160981611, -0.20596676903913222], \"y\": [0.014094059362436146, -0.039285278158718274, 0.07774582675063423, -0.015687922971490662], \"z\": [-0.011981248629058085, -0.08592445083110149, 0.04959081860407764, -0.011740683840259952]}, {\"customdata\": [[\"Tribus\"]], \"hovertemplate\": \"<b>%{hovertext}</b><br><br>Algorithm=%{customdata[0]}<br>class=0<br>PC 1=%{x}<br>PC 2=%{y}<br>PC 3=%{z}<extra></extra>\", \"hovertext\": [\"KEYCO\"], \"legendgroup\": \"Tribus, 0\", \"marker\": {\"color\": \"#636efa\", \"symbol\": \"circle\"}, \"mode\": \"markers\", \"name\": \"Tribus, 0\", \"scene\": \"scene\", \"showlegend\": true, \"type\": \"scatter3d\", \"x\": [0.06509926948258715], \"y\": [-0.17360429736652563], \"z\": [-0.3127996846566436]}, {\"customdata\": [[\"CryptoNight Heavy\"], [\"CryptoNight Heavy\"]], \"hovertemplate\": \"<b>%{hovertext}</b><br><br>Algorithm=%{customdata[0]}<br>class=0<br>PC 1=%{x}<br>PC 2=%{y}<br>PC 3=%{z}<extra></extra>\", \"hovertext\": [\"Loki\", \"Qwertycoin\"], \"legendgroup\": \"CryptoNight Heavy, 0\", \"marker\": {\"color\": \"#EF553B\", \"symbol\": \"circle\"}, \"mode\": \"markers\", \"name\": \"CryptoNight Heavy, 0\", \"scene\": \"scene\", \"showlegend\": true, \"type\": \"scatter3d\", \"x\": [0.2892525617657882, 2.04317646171685], \"y\": [-0.27531342862707103, -0.38707645461213996], \"z\": [0.04191327609996598, 0.22829069907215296]}, {\"customdata\": [[\"Jump Consistent Hash\"]], \"hovertemplate\": \"<b>%{hovertext}</b><br><br>Algorithm=%{customdata[0]}<br>class=0<br>PC 1=%{x}<br>PC 2=%{y}<br>PC 3=%{z}<extra></extra>\", \"hovertext\": [\"MassGrid\"], \"legendgroup\": \"Jump Consistent Hash, 0\", \"marker\": {\"color\": \"#00cc96\", \"symbol\": \"circle\"}, \"mode\": \"markers\", \"name\": \"Jump Consistent Hash, 0\", \"scene\": \"scene\", \"showlegend\": true, \"type\": \"scatter3d\", \"x\": [-0.15465434761917293], \"y\": [-0.11013567697242858], \"z\": [-0.05590235350819522]}, {\"customdata\": [[\"HMQ1725\"]], \"hovertemplate\": \"<b>%{hovertext}</b><br><br>Algorithm=%{customdata[0]}<br>class=0<br>PC 1=%{x}<br>PC 2=%{y}<br>PC 3=%{z}<extra></extra>\", \"hovertext\": [\"PlusOneCoin\"], \"legendgroup\": \"HMQ1725, 0\", \"marker\": {\"color\": \"#ab63fa\", \"symbol\": \"circle\"}, \"mode\": \"markers\", \"name\": \"HMQ1725, 0\", \"scene\": \"scene\", \"showlegend\": true, \"type\": \"scatter3d\", \"x\": [-0.26075367238666336], \"y\": [-0.14134529582734803], \"z\": [-0.114185498967158]}, {\"customdata\": [[\"Cryptonight-GPU\"]], \"hovertemplate\": \"<b>%{hovertext}</b><br><br>Algorithm=%{customdata[0]}<br>class=0<br>PC 1=%{x}<br>PC 2=%{y}<br>PC 3=%{z}<extra></extra>\", \"hovertext\": [\"Ryo\"], \"legendgroup\": \"Cryptonight-GPU, 0\", \"marker\": {\"color\": \"#FFA15A\", \"symbol\": \"circle\"}, \"mode\": \"markers\", \"name\": \"Cryptonight-GPU, 0\", \"scene\": \"scene\", \"showlegend\": true, \"type\": \"scatter3d\", \"x\": [-0.8126892494386879], \"y\": [0.42016129409519615], \"z\": [-1.4222107006136737]}, {\"customdata\": [[\"ECC 256K1\"]], \"hovertemplate\": \"<b>%{hovertext}</b><br><br>Algorithm=%{customdata[0]}<br>class=0<br>PC 1=%{x}<br>PC 2=%{y}<br>PC 3=%{z}<extra></extra>\", \"hovertext\": [\"Acute Angle Cloud\"], \"legendgroup\": \"ECC 256K1, 0\", \"marker\": {\"color\": \"#19d3f3\", \"symbol\": \"circle\"}, \"mode\": \"markers\", \"name\": \"ECC 256K1, 0\", \"scene\": \"scene\", \"showlegend\": true, \"type\": \"scatter3d\", \"x\": [-0.4471143396907827], \"y\": [-0.3683683311072668], \"z\": [0.6280011996124127]}, {\"customdata\": [[\"Blake\"], [\"Blake\"], [\"Blake\"]], \"hovertemplate\": \"<b>%{hovertext}</b><br><br>Algorithm=%{customdata[0]}<br>class=0<br>PC 1=%{x}<br>PC 2=%{y}<br>PC 3=%{z}<extra></extra>\", \"hovertext\": [\"Universal Molecule\", \"Lithium\", \"BlakeCoin\"], \"legendgroup\": \"Blake, 0\", \"marker\": {\"color\": \"#FF6692\", \"symbol\": \"circle\"}, \"mode\": \"markers\", \"name\": \"Blake, 0\", \"scene\": \"scene\", \"showlegend\": true, \"type\": \"scatter3d\", \"x\": [-0.02714259745073157, -0.027404806941616237, -0.026041892722547432], \"y\": [-0.1489743940611895, -0.1528352433128434, -0.14994714599678033], \"z\": [0.5815722584026748, 0.590404883203524, 0.5851573305055796]}, {\"customdata\": [[\"Exosis\"]], \"hovertemplate\": \"<b>%{hovertext}</b><br><br>Algorithm=%{customdata[0]}<br>class=0<br>PC 1=%{x}<br>PC 2=%{y}<br>PC 3=%{z}<extra></extra>\", \"hovertext\": [\"Exosis\"], \"legendgroup\": \"Exosis, 0\", \"marker\": {\"color\": \"#B6E880\", \"symbol\": \"circle\"}, \"mode\": \"markers\", \"name\": \"Exosis, 0\", \"scene\": \"scene\", \"showlegend\": true, \"type\": \"scatter3d\", \"x\": [-0.26978044542121743], \"y\": [-0.1366640799036243], \"z\": [-0.12273737168026085]}, {\"customdata\": [[\"SHA3-256\"]], \"hovertemplate\": \"<b>%{hovertext}</b><br><br>Algorithm=%{customdata[0]}<br>class=0<br>PC 1=%{x}<br>PC 2=%{y}<br>PC 3=%{z}<extra></extra>\", \"hovertext\": [\"Fiii\"], \"legendgroup\": \"SHA3-256, 0\", \"marker\": {\"color\": \"#FF97FF\", \"symbol\": \"circle\"}, \"mode\": \"markers\", \"name\": \"SHA3-256, 0\", \"scene\": \"scene\", \"showlegend\": true, \"type\": \"scatter3d\", \"x\": [-0.19190084597778978], \"y\": [-0.5083553565438703], \"z\": [0.14841756521142685]}, {\"customdata\": [[\"Equihash+Scrypt\"]], \"hovertemplate\": \"<b>%{hovertext}</b><br><br>Algorithm=%{customdata[0]}<br>class=0<br>PC 1=%{x}<br>PC 2=%{y}<br>PC 3=%{z}<extra></extra>\", \"hovertext\": [\"Vollar\"], \"legendgroup\": \"Equihash+Scrypt, 0\", \"marker\": {\"color\": \"#FECB52\", \"symbol\": \"circle\"}, \"mode\": \"markers\", \"name\": \"Equihash+Scrypt, 0\", \"scene\": \"scene\", \"showlegend\": true, \"type\": \"scatter3d\", \"x\": [-0.6084575816363725], \"y\": [-0.12464336383560203], \"z\": [-0.009998482422426984]}, {\"customdata\": [[\"Leased POS\"]], \"hovertemplate\": \"<b>%{hovertext}</b><br><br>Algorithm=%{customdata[0]}<br>class=0<br>PC 1=%{x}<br>PC 2=%{y}<br>PC 3=%{z}<extra></extra>\", \"hovertext\": [\"Waves\"], \"legendgroup\": \"Leased POS, 0\", \"marker\": {\"color\": \"#636efa\", \"symbol\": \"circle\"}, \"mode\": \"markers\", \"name\": \"Leased POS, 0\", \"scene\": \"scene\", \"showlegend\": true, \"type\": \"scatter3d\", \"x\": [0.5125639195742869], \"y\": [0.7082987159781359], \"z\": [0.7316369388985574]}, {\"customdata\": [[\"TRC10\"]], \"hovertemplate\": \"<b>%{hovertext}</b><br><br>Algorithm=%{customdata[0]}<br>class=2<br>PC 1=%{x}<br>PC 2=%{y}<br>PC 3=%{z}<extra></extra>\", \"hovertext\": [\"BitTorrent\"], \"legendgroup\": \"TRC10, 2\", \"marker\": {\"color\": \"#EF553B\", \"symbol\": \"square\"}, \"mode\": \"markers\", \"name\": \"TRC10, 2\", \"scene\": \"scene\", \"showlegend\": true, \"type\": \"scatter3d\", \"x\": [36.6911609818302], \"y\": [0.12584543965090794], \"z\": [4.620646397822024]}],                        {\"legend\": {\"title\": {\"text\": \"Algorithm, class\"}, \"tracegroupgap\": 0, \"x\": 0, \"y\": 1}, \"margin\": {\"t\": 60}, \"scene\": {\"domain\": {\"x\": [0.0, 1.0], \"y\": [0.0, 1.0]}, \"xaxis\": {\"title\": {\"text\": \"PC 1\"}}, \"yaxis\": {\"title\": {\"text\": \"PC 2\"}}, \"zaxis\": {\"title\": {\"text\": \"PC 3\"}}}, \"template\": {\"data\": {\"bar\": [{\"error_x\": {\"color\": \"#2a3f5f\"}, \"error_y\": {\"color\": \"#2a3f5f\"}, \"marker\": {\"line\": {\"color\": \"#E5ECF6\", \"width\": 0.5}}, \"type\": \"bar\"}], \"barpolar\": [{\"marker\": {\"line\": {\"color\": \"#E5ECF6\", \"width\": 0.5}}, \"type\": \"barpolar\"}], \"carpet\": [{\"aaxis\": {\"endlinecolor\": \"#2a3f5f\", \"gridcolor\": \"white\", \"linecolor\": \"white\", \"minorgridcolor\": \"white\", \"startlinecolor\": \"#2a3f5f\"}, \"baxis\": {\"endlinecolor\": \"#2a3f5f\", \"gridcolor\": \"white\", \"linecolor\": \"white\", \"minorgridcolor\": \"white\", \"startlinecolor\": \"#2a3f5f\"}, \"type\": \"carpet\"}], \"choropleth\": [{\"colorbar\": {\"outlinewidth\": 0, \"ticks\": \"\"}, \"type\": \"choropleth\"}], \"contour\": [{\"colorbar\": {\"outlinewidth\": 0, \"ticks\": \"\"}, \"colorscale\": [[0.0, \"#0d0887\"], [0.1111111111111111, \"#46039f\"], [0.2222222222222222, \"#7201a8\"], [0.3333333333333333, \"#9c179e\"], [0.4444444444444444, \"#bd3786\"], [0.5555555555555556, \"#d8576b\"], [0.6666666666666666, \"#ed7953\"], [0.7777777777777778, \"#fb9f3a\"], [0.8888888888888888, \"#fdca26\"], [1.0, \"#f0f921\"]], \"type\": \"contour\"}], \"contourcarpet\": [{\"colorbar\": {\"outlinewidth\": 0, \"ticks\": \"\"}, \"type\": \"contourcarpet\"}], \"heatmap\": [{\"colorbar\": {\"outlinewidth\": 0, \"ticks\": \"\"}, \"colorscale\": [[0.0, \"#0d0887\"], [0.1111111111111111, \"#46039f\"], [0.2222222222222222, \"#7201a8\"], [0.3333333333333333, \"#9c179e\"], [0.4444444444444444, \"#bd3786\"], [0.5555555555555556, \"#d8576b\"], [0.6666666666666666, \"#ed7953\"], [0.7777777777777778, \"#fb9f3a\"], [0.8888888888888888, \"#fdca26\"], [1.0, \"#f0f921\"]], \"type\": \"heatmap\"}], \"heatmapgl\": [{\"colorbar\": {\"outlinewidth\": 0, \"ticks\": \"\"}, \"colorscale\": [[0.0, \"#0d0887\"], [0.1111111111111111, \"#46039f\"], [0.2222222222222222, \"#7201a8\"], [0.3333333333333333, \"#9c179e\"], [0.4444444444444444, \"#bd3786\"], [0.5555555555555556, \"#d8576b\"], [0.6666666666666666, \"#ed7953\"], [0.7777777777777778, \"#fb9f3a\"], [0.8888888888888888, \"#fdca26\"], [1.0, \"#f0f921\"]], \"type\": \"heatmapgl\"}], \"histogram\": [{\"marker\": {\"colorbar\": {\"outlinewidth\": 0, \"ticks\": \"\"}}, \"type\": \"histogram\"}], \"histogram2d\": [{\"colorbar\": {\"outlinewidth\": 0, \"ticks\": \"\"}, \"colorscale\": [[0.0, \"#0d0887\"], [0.1111111111111111, \"#46039f\"], [0.2222222222222222, \"#7201a8\"], [0.3333333333333333, \"#9c179e\"], [0.4444444444444444, \"#bd3786\"], [0.5555555555555556, \"#d8576b\"], [0.6666666666666666, \"#ed7953\"], [0.7777777777777778, \"#fb9f3a\"], [0.8888888888888888, \"#fdca26\"], [1.0, \"#f0f921\"]], \"type\": \"histogram2d\"}], \"histogram2dcontour\": [{\"colorbar\": {\"outlinewidth\": 0, \"ticks\": \"\"}, \"colorscale\": [[0.0, \"#0d0887\"], [0.1111111111111111, \"#46039f\"], [0.2222222222222222, \"#7201a8\"], [0.3333333333333333, \"#9c179e\"], [0.4444444444444444, \"#bd3786\"], [0.5555555555555556, \"#d8576b\"], [0.6666666666666666, \"#ed7953\"], [0.7777777777777778, \"#fb9f3a\"], [0.8888888888888888, \"#fdca26\"], [1.0, \"#f0f921\"]], \"type\": \"histogram2dcontour\"}], \"mesh3d\": [{\"colorbar\": {\"outlinewidth\": 0, \"ticks\": \"\"}, \"type\": \"mesh3d\"}], \"parcoords\": [{\"line\": {\"colorbar\": {\"outlinewidth\": 0, \"ticks\": \"\"}}, \"type\": \"parcoords\"}], \"pie\": [{\"automargin\": true, \"type\": \"pie\"}], \"scatter\": [{\"marker\": {\"colorbar\": {\"outlinewidth\": 0, \"ticks\": \"\"}}, \"type\": \"scatter\"}], \"scatter3d\": [{\"line\": {\"colorbar\": {\"outlinewidth\": 0, \"ticks\": \"\"}}, \"marker\": {\"colorbar\": {\"outlinewidth\": 0, \"ticks\": \"\"}}, \"type\": \"scatter3d\"}], \"scattercarpet\": [{\"marker\": {\"colorbar\": {\"outlinewidth\": 0, \"ticks\": \"\"}}, \"type\": \"scattercarpet\"}], \"scattergeo\": [{\"marker\": {\"colorbar\": {\"outlinewidth\": 0, \"ticks\": \"\"}}, \"type\": \"scattergeo\"}], \"scattergl\": [{\"marker\": {\"colorbar\": {\"outlinewidth\": 0, \"ticks\": \"\"}}, \"type\": \"scattergl\"}], \"scattermapbox\": [{\"marker\": {\"colorbar\": {\"outlinewidth\": 0, \"ticks\": \"\"}}, \"type\": \"scattermapbox\"}], \"scatterpolar\": [{\"marker\": {\"colorbar\": {\"outlinewidth\": 0, \"ticks\": \"\"}}, \"type\": \"scatterpolar\"}], \"scatterpolargl\": [{\"marker\": {\"colorbar\": {\"outlinewidth\": 0, \"ticks\": \"\"}}, \"type\": \"scatterpolargl\"}], \"scatterternary\": [{\"marker\": {\"colorbar\": {\"outlinewidth\": 0, \"ticks\": \"\"}}, \"type\": \"scatterternary\"}], \"surface\": [{\"colorbar\": {\"outlinewidth\": 0, \"ticks\": \"\"}, \"colorscale\": [[0.0, \"#0d0887\"], [0.1111111111111111, \"#46039f\"], [0.2222222222222222, \"#7201a8\"], [0.3333333333333333, \"#9c179e\"], [0.4444444444444444, \"#bd3786\"], [0.5555555555555556, \"#d8576b\"], [0.6666666666666666, \"#ed7953\"], [0.7777777777777778, \"#fb9f3a\"], [0.8888888888888888, \"#fdca26\"], [1.0, \"#f0f921\"]], \"type\": \"surface\"}], \"table\": [{\"cells\": {\"fill\": {\"color\": \"#EBF0F8\"}, \"line\": {\"color\": \"white\"}}, \"header\": {\"fill\": {\"color\": \"#C8D4E3\"}, \"line\": {\"color\": \"white\"}}, \"type\": \"table\"}]}, \"layout\": {\"annotationdefaults\": {\"arrowcolor\": \"#2a3f5f\", \"arrowhead\": 0, \"arrowwidth\": 1}, \"autotypenumbers\": \"strict\", \"coloraxis\": {\"colorbar\": {\"outlinewidth\": 0, \"ticks\": \"\"}}, \"colorscale\": {\"diverging\": [[0, \"#8e0152\"], [0.1, \"#c51b7d\"], [0.2, \"#de77ae\"], [0.3, \"#f1b6da\"], [0.4, \"#fde0ef\"], [0.5, \"#f7f7f7\"], [0.6, \"#e6f5d0\"], [0.7, \"#b8e186\"], [0.8, \"#7fbc41\"], [0.9, \"#4d9221\"], [1, \"#276419\"]], \"sequential\": [[0.0, \"#0d0887\"], [0.1111111111111111, \"#46039f\"], [0.2222222222222222, \"#7201a8\"], [0.3333333333333333, \"#9c179e\"], [0.4444444444444444, \"#bd3786\"], [0.5555555555555556, \"#d8576b\"], [0.6666666666666666, \"#ed7953\"], [0.7777777777777778, \"#fb9f3a\"], [0.8888888888888888, \"#fdca26\"], [1.0, \"#f0f921\"]], \"sequentialminus\": [[0.0, \"#0d0887\"], [0.1111111111111111, \"#46039f\"], [0.2222222222222222, \"#7201a8\"], [0.3333333333333333, \"#9c179e\"], [0.4444444444444444, \"#bd3786\"], [0.5555555555555556, \"#d8576b\"], [0.6666666666666666, \"#ed7953\"], [0.7777777777777778, \"#fb9f3a\"], [0.8888888888888888, \"#fdca26\"], [1.0, \"#f0f921\"]]}, \"colorway\": [\"#636efa\", \"#EF553B\", \"#00cc96\", \"#ab63fa\", \"#FFA15A\", \"#19d3f3\", \"#FF6692\", \"#B6E880\", \"#FF97FF\", \"#FECB52\"], \"font\": {\"color\": \"#2a3f5f\"}, \"geo\": {\"bgcolor\": \"white\", \"lakecolor\": \"white\", \"landcolor\": \"#E5ECF6\", \"showlakes\": true, \"showland\": true, \"subunitcolor\": \"white\"}, \"hoverlabel\": {\"align\": \"left\"}, \"hovermode\": \"closest\", \"mapbox\": {\"style\": \"light\"}, \"paper_bgcolor\": \"white\", \"plot_bgcolor\": \"#E5ECF6\", \"polar\": {\"angularaxis\": {\"gridcolor\": \"white\", \"linecolor\": \"white\", \"ticks\": \"\"}, \"bgcolor\": \"#E5ECF6\", \"radialaxis\": {\"gridcolor\": \"white\", \"linecolor\": \"white\", \"ticks\": \"\"}}, \"scene\": {\"xaxis\": {\"backgroundcolor\": \"#E5ECF6\", \"gridcolor\": \"white\", \"gridwidth\": 2, \"linecolor\": \"white\", \"showbackground\": true, \"ticks\": \"\", \"zerolinecolor\": \"white\"}, \"yaxis\": {\"backgroundcolor\": \"#E5ECF6\", \"gridcolor\": \"white\", \"gridwidth\": 2, \"linecolor\": \"white\", \"showbackground\": true, \"ticks\": \"\", \"zerolinecolor\": \"white\"}, \"zaxis\": {\"backgroundcolor\": \"#E5ECF6\", \"gridcolor\": \"white\", \"gridwidth\": 2, \"linecolor\": \"white\", \"showbackground\": true, \"ticks\": \"\", \"zerolinecolor\": \"white\"}}, \"shapedefaults\": {\"line\": {\"color\": \"#2a3f5f\"}}, \"ternary\": {\"aaxis\": {\"gridcolor\": \"white\", \"linecolor\": \"white\", \"ticks\": \"\"}, \"baxis\": {\"gridcolor\": \"white\", \"linecolor\": \"white\", \"ticks\": \"\"}, \"bgcolor\": \"#E5ECF6\", \"caxis\": {\"gridcolor\": \"white\", \"linecolor\": \"white\", \"ticks\": \"\"}}, \"title\": {\"x\": 0.05}, \"xaxis\": {\"automargin\": true, \"gridcolor\": \"white\", \"linecolor\": \"white\", \"ticks\": \"\", \"title\": {\"standoff\": 15}, \"zerolinecolor\": \"white\", \"zerolinewidth\": 2}, \"yaxis\": {\"automargin\": true, \"gridcolor\": \"white\", \"linecolor\": \"white\", \"ticks\": \"\", \"title\": {\"standoff\": 15}, \"zerolinecolor\": \"white\", \"zerolinewidth\": 2}}}, \"width\": 800},                        {\"responsive\": true}                    ).then(function(){\n",
       "                            \n",
       "var gd = document.getElementById('64deae8d-d509-4220-9788-ba02d563f8b3');\n",
       "var x = new MutationObserver(function (mutations, observer) {{\n",
       "        var display = window.getComputedStyle(gd).display;\n",
       "        if (!display || display === 'none') {{\n",
       "            console.log([gd, 'removed!']);\n",
       "            Plotly.purge(gd);\n",
       "            observer.disconnect();\n",
       "        }}\n",
       "}});\n",
       "\n",
       "// Listen for the removal of the full notebook cells\n",
       "var notebookContainer = gd.closest('#notebook-container');\n",
       "if (notebookContainer) {{\n",
       "    x.observe(notebookContainer, {childList: true});\n",
       "}}\n",
       "\n",
       "// Listen for the clearing of the current output cell\n",
       "var outputEl = gd.closest('.output');\n",
       "if (outputEl) {{\n",
       "    x.observe(outputEl, {childList: true});\n",
       "}}\n",
       "\n",
       "                        })                };                });            </script>        </div>"
      ]
     },
     "metadata": {},
     "output_type": "display_data"
    }
   ],
   "source": [
    "# Create a 3D-Scatter with the PCA data and the clusters\n",
    "\n",
    "\n",
    "fig = px.scatter_3d(clustered_df, \n",
    "                    x='PC 1', \n",
    "                    y='PC 2', \n",
    "                    z='PC 3',\n",
    "                    color='Algorithm',\n",
    "                    symbol='class', \n",
    "                    hover_name = \"CoinName\",\n",
    "                    hover_data = [\"Algorithm\"],\n",
    "                    width=800,\n",
    ")\n",
    "fig.update_layout(legend=dict(x=0, y=1))\n",
    "fig.show()\n"
   ]
  },
  {
   "cell_type": "markdown",
   "metadata": {},
   "source": [
    "#### Table of Tradable Cryptocurrencies"
   ]
  },
  {
   "cell_type": "code",
   "execution_count": 104,
   "metadata": {},
   "outputs": [
    {
     "data": {
      "application/vnd.holoviews_exec.v0+json": "",
      "text/html": [
       "<div id='1460'>\n",
       "\n",
       "\n",
       "\n",
       "\n",
       "\n",
       "  <div class=\"bk-root\" id=\"b123c8af-88f9-4b63-877d-c93c2b81cd0f\" data-root-id=\"1460\"></div>\n",
       "</div>\n",
       "<script type=\"application/javascript\">(function(root) {\n",
       "  function embed_document(root) {\n",
       "    var docs_json = {\"6ef7a745-38f9-45fd-badf-1f81760bc1d6\":{\"roots\":{\"references\":[{\"attributes\":{},\"id\":\"1489\",\"type\":\"NumberFormatter\"},{\"attributes\":{\"margin\":[5,5,5,5],\"name\":\"HSpacer02447\",\"sizing_mode\":\"stretch_width\"},\"id\":\"1500\",\"type\":\"Spacer\"},{\"attributes\":{},\"id\":\"1480\",\"type\":\"StringEditor\"},{\"attributes\":{},\"id\":\"1463\",\"type\":\"Selection\"},{\"attributes\":{},\"id\":\"1474\",\"type\":\"StringFormatter\"},{\"attributes\":{\"source\":{\"id\":\"1462\"}},\"id\":\"1495\",\"type\":\"CDSView\"},{\"attributes\":{},\"id\":\"1490\",\"type\":\"IntEditor\"},{\"attributes\":{\"editor\":{\"id\":\"1475\"},\"field\":\"ProofType\",\"formatter\":{\"id\":\"1474\"},\"title\":\"ProofType\"},\"id\":\"1476\",\"type\":\"TableColumn\"},{\"attributes\":{\"editor\":{\"id\":\"1490\"},\"field\":\"class\",\"formatter\":{\"id\":\"1489\"},\"title\":\"class\"},\"id\":\"1491\",\"type\":\"TableColumn\"},{\"attributes\":{},\"id\":\"1479\",\"type\":\"StringFormatter\"},{\"attributes\":{},\"id\":\"1496\",\"type\":\"UnionRenderers\"},{\"attributes\":{},\"id\":\"1465\",\"type\":\"StringEditor\"},{\"attributes\":{\"editor\":{\"id\":\"1480\"},\"field\":\"TotalCoinSupply\",\"formatter\":{\"id\":\"1479\"},\"title\":\"TotalCoinSupply\"},\"id\":\"1481\",\"type\":\"TableColumn\"},{\"attributes\":{\"editor\":{\"id\":\"1465\"},\"field\":\"CoinName\",\"formatter\":{\"id\":\"1464\"},\"title\":\"CoinName\"},\"id\":\"1466\",\"type\":\"TableColumn\"},{\"attributes\":{},\"id\":\"1469\",\"type\":\"StringFormatter\"},{\"attributes\":{},\"id\":\"1485\",\"type\":\"NumberEditor\"},{\"attributes\":{\"editor\":{\"id\":\"1470\"},\"field\":\"Algorithm\",\"formatter\":{\"id\":\"1469\"},\"title\":\"Algorithm\"},\"id\":\"1471\",\"type\":\"TableColumn\"},{\"attributes\":{},\"id\":\"1475\",\"type\":\"StringEditor\"},{\"attributes\":{\"margin\":[5,5,5,5],\"name\":\"HSpacer02446\",\"sizing_mode\":\"stretch_width\"},\"id\":\"1461\",\"type\":\"Spacer\"},{\"attributes\":{\"editor\":{\"id\":\"1485\"},\"field\":\"TotalCoinsMined\",\"formatter\":{\"id\":\"1484\"},\"title\":\"TotalCoinsMined\"},\"id\":\"1486\",\"type\":\"TableColumn\"},{\"attributes\":{\"columns\":[{\"id\":\"1466\"},{\"id\":\"1471\"},{\"id\":\"1476\"},{\"id\":\"1481\"},{\"id\":\"1486\"},{\"id\":\"1491\"}],\"height\":300,\"reorderable\":false,\"source\":{\"id\":\"1462\"},\"view\":{\"id\":\"1495\"},\"width\":700},\"id\":\"1494\",\"type\":\"DataTable\"},{\"attributes\":{},\"id\":\"1470\",\"type\":\"StringEditor\"},{\"attributes\":{\"format\":\"0,0.0[00000]\"},\"id\":\"1484\",\"type\":\"NumberFormatter\"},{\"attributes\":{},\"id\":\"1464\",\"type\":\"StringFormatter\"},{\"attributes\":{\"children\":[{\"id\":\"1461\"},{\"id\":\"1494\"},{\"id\":\"1500\"}],\"margin\":[0,0,0,0],\"name\":\"Row02442\",\"tags\":[\"embedded\"]},\"id\":\"1460\",\"type\":\"Row\"},{\"attributes\":{\"data\":{\"Algorithm\":[\"Scrypt\",\"Scrypt\",\"X13\",\"SHA-256\",\"Ethash\",\"Scrypt\",\"X11\",\"CryptoNight-V7\",\"Ethash\",\"Equihash\",\"SHA-512\",\"Multiple\",\"SHA-256\",\"SHA-256\",\"Scrypt\",\"X15\",\"X11\",\"Scrypt\",\"Scrypt\",\"Scrypt\",\"Multiple\",\"Scrypt\",\"SHA-256\",\"Scrypt\",\"Scrypt\",\"Scrypt\",\"Quark\",\"Groestl\",\"Scrypt\",\"Scrypt\",\"Scrypt\",\"Scrypt\",\"Scrypt\",\"X11\",\"Scrypt\",\"Groestl\",\"Multiple\",\"SHA-256\",\"Scrypt\",\"Scrypt\",\"Scrypt\",\"Scrypt\",\"PoS\",\"Scrypt\",\"Scrypt\",\"NeoScrypt\",\"Scrypt\",\"Scrypt\",\"Scrypt\",\"Scrypt\",\"X11\",\"Scrypt\",\"X11\",\"SHA-256\",\"Scrypt\",\"Scrypt\",\"Scrypt\",\"SHA3\",\"Scrypt\",\"HybridScryptHash256\",\"Scrypt\",\"Scrypt\",\"SHA-256\",\"Scrypt\",\"X13\",\"Scrypt\",\"SHA-256\",\"Scrypt\",\"X13\",\"NeoScrypt\",\"Scrypt\",\"Scrypt\",\"Scrypt\",\"Scrypt\",\"Scrypt\",\"Scrypt\",\"X11\",\"X11\",\"SHA-256\",\"Multiple\",\"SHA-256\",\"PHI1612\",\"X11\",\"SHA-256\",\"SHA-256\",\"SHA-256\",\"X11\",\"Scrypt\",\"Scrypt\",\"Scrypt\",\"Scrypt\",\"Lyra2REv2\",\"Scrypt\",\"X11\",\"Multiple\",\"SHA-256\",\"X13\",\"Scrypt\",\"CryptoNight\",\"CryptoNight\",\"Shabal256\",\"Counterparty\",\"Scrypt\",\"SHA-256\",\"Groestl\",\"Scrypt\",\"Scrypt\",\"Scrypt\",\"X13\",\"Scrypt\",\"Scrypt\",\"Scrypt\",\"Scrypt\",\"X13\",\"Scrypt\",\"Stanford Folding\",\"X11\",\"Multiple\",\"QuBit\",\"Scrypt\",\"Scrypt\",\"Scrypt\",\"M7 POW\",\"Scrypt\",\"SHA-256\",\"Scrypt\",\"X11\",\"SHA3\",\"X11\",\"Lyra2RE\",\"SHA-256\",\"QUAIT\",\"X11\",\"X11\",\"Scrypt\",\"Scrypt\",\"Scrypt\",\"Ethash\",\"X13\",\"Blake2b\",\"SHA-256\",\"X15\",\"X11\",\"SHA-256\",\"BLAKE256\",\"Scrypt\",\"1GB AES Pattern Search\",\"SHA-256\",\"X11\",\"Scrypt\",\"SHA-256\",\"SHA-256\",\"NIST5\",\"Scrypt\",\"Scrypt\",\"X11\",\"Dagger\",\"Scrypt\",\"X11GOST\",\"X11\",\"Scrypt\",\"SHA-256\",\"Scrypt\",\"PoS\",\"Scrypt\",\"X11\",\"X11\",\"SHA-256\",\"SHA-256\",\"NIST5\",\"X11\",\"Scrypt\",\"POS 3.0\",\"Scrypt\",\"Scrypt\",\"Scrypt\",\"X13\",\"X11\",\"X11\",\"Equihash\",\"X11\",\"Scrypt\",\"CryptoNight\",\"SHA-256\",\"SHA-256\",\"X11\",\"Scrypt\",\"Multiple\",\"Scrypt\",\"Scrypt\",\"Scrypt\",\"SHA-256\",\"Scrypt\",\"Scrypt\",\"SHA-256D\",\"PoS\",\"Scrypt\",\"X11\",\"Lyra2Z\",\"PoS\",\"X13\",\"X14\",\"PoS\",\"SHA-256D\",\"Ethash\",\"Equihash\",\"DPoS\",\"X11\",\"Scrypt\",\"X11\",\"X13\",\"X11\",\"PoS\",\"Scrypt\",\"Scrypt\",\"X11\",\"PoS\",\"X11\",\"SHA-256\",\"Scrypt\",\"X11\",\"Scrypt\",\"Scrypt\",\"X11\",\"CryptoNight\",\"Scrypt\",\"Scrypt\",\"Scrypt\",\"Scrypt\",\"Quark\",\"QuBit\",\"Scrypt\",\"CryptoNight\",\"Lyra2RE\",\"Scrypt\",\"SHA-256\",\"X11\",\"Scrypt\",\"X11\",\"Scrypt\",\"CryptoNight-V7\",\"Scrypt\",\"Scrypt\",\"Scrypt\",\"X13\",\"X11\",\"Equihash\",\"Scrypt\",\"Scrypt\",\"Lyra2RE\",\"Scrypt\",\"Dagger-Hashimoto\",\"X11\",\"Blake2S\",\"X11\",\"Scrypt\",\"PoS\",\"X11\",\"NIST5\",\"PoS\",\"X11\",\"Scrypt\",\"Scrypt\",\"Scrypt\",\"SHA-256\",\"X11\",\"Scrypt\",\"Scrypt\",\"SHA-256\",\"PoS\",\"Scrypt\",\"X15\",\"SHA-256\",\"Scrypt\",\"POS 3.0\",\"CryptoNight-V7\",\"536\",\"Argon2d\",\"Blake2b\",\"Cloverhash\",\"CryptoNight\",\"NIST5\",\"X11\",\"NIST5\",\"Skein\",\"Scrypt\",\"X13\",\"Scrypt\",\"X11\",\"X11\",\"Scrypt\",\"CryptoNight\",\"X13\",\"Time Travel\",\"Scrypt\",\"Keccak\",\"SkunkHash v2 Raptor\",\"X11\",\"Skein\",\"SHA-256\",\"X11\",\"Scrypt\",\"VeChainThor Authority\",\"Scrypt\",\"PoS\",\"Scrypt\",\"Scrypt\",\"Scrypt\",\"Scrypt\",\"Scrypt\",\"Scrypt\",\"Scrypt\",\"CryptoNight\",\"SHA-512\",\"Ouroboros\",\"X11\",\"Equihash\",\"NeoScrypt\",\"X11\",\"Scrypt\",\"NeoScrypt\",\"Lyra2REv2\",\"Equihash\",\"Scrypt\",\"SHA-256\",\"NIST5\",\"PHI1612\",\"Dagger\",\"Scrypt\",\"Quark\",\"Scrypt\",\"POS 2.0\",\"Scrypt\",\"SHA-256\",\"X11\",\"NeoScrypt\",\"Ethash\",\"NeoScrypt\",\"X11\",\"DPoS\",\"NIST5\",\"X13\",\"Multiple\",\"Scrypt\",\"CryptoNight\",\"CryptoNight\",\"Ethash\",\"NIST5\",\"Quark\",\"X11\",\"CryptoNight-V7\",\"Scrypt\",\"Scrypt\",\"Scrypt\",\"X11\",\"BLAKE256\",\"X11\",\"NeoScrypt\",\"Quark\",\"NeoScrypt\",\"Scrypt\",\"Scrypt\",\"Scrypt\",\"X11\",\"X11\",\"SHA-256\",\"C11\",\"POS 3.0\",\"Ethash\",\"Scrypt\",\"CryptoNight\",\"SkunkHash\",\"Scrypt\",\"CryptoNight\",\"Scrypt\",\"Dagger\",\"Lyra2REv2\",\"X13\",\"Proof-of-BibleHash\",\"SHA-256 + Hive\",\"Scrypt\",\"Scrypt\",\"X11\",\"C11\",\"Proof-of-Authority\",\"X11\",\"XEVAN\",\"Scrypt\",\"VBFT\",\"Ethash\",\"CryptoNight\",\"Scrypt\",\"IMesh\",\"NIST5\",\"Scrypt\",\"Scrypt\",\"Equihash\",\"Scrypt\",\"Lyra2Z\",\"Green Protocol\",\"PoS\",\"Scrypt\",\"Semux BFT consensus\",\"X11\",\"Quark\",\"PoS\",\"CryptoNight\",\"X16R\",\"Scrypt\",\"NIST5\",\"Lyra2RE\",\"XEVAN\",\"Tribus\",\"Scrypt\",\"Lyra2Z\",\"CryptoNight\",\"CryptoNight Heavy\",\"CryptoNight\",\"Scrypt\",\"Scrypt\",\"Jump Consistent Hash\",\"SHA-256D\",\"CryptoNight\",\"Scrypt\",\"X15\",\"Scrypt\",\"Quark\",\"SHA-256\",\"DPoS\",\"X16R\",\"HMQ1725\",\"X11\",\"X16R\",\"Quark\",\"Quark\",\"Scrypt\",\"Lyra2REv2\",\"Quark\",\"Scrypt\",\"Scrypt\",\"CryptoNight-V7\",\"Cryptonight-GPU\",\"XEVAN\",\"CryptoNight Heavy\",\"X11\",\"X11\",\"Scrypt\",\"PoS\",\"SHA-256\",\"Keccak\",\"X11\",\"X11\",\"Scrypt\",\"SHA-512\",\"X16R\",\"ECC 256K1\",\"Equihash\",\"XEVAN\",\"Lyra2Z\",\"SHA-256\",\"XEVAN\",\"X11\",\"CryptoNight\",\"Quark\",\"Blake\",\"Blake\",\"Equihash\",\"Exosis\",\"Scrypt\",\"Scrypt\",\"Equihash\",\"Quark\",\"Equihash\",\"Quark\",\"Scrypt\",\"QuBit\",\"X11\",\"Scrypt\",\"XEVAN\",\"SHA-256D\",\"X11\",\"SHA-256\",\"X13\",\"SHA-256\",\"X11\",\"DPoS\",\"Scrypt\",\"Scrypt\",\"X11\",\"NeoScrypt\",\"Scrypt\",\"Blake\",\"Scrypt\",\"SHA-256\",\"Scrypt\",\"X11\",\"Scrypt\",\"Scrypt\",\"SHA-256\",\"X11\",\"SHA-256\",\"Scrypt\",\"Scrypt\",\"Scrypt\",\"Groestl\",\"X11\",\"Scrypt\",\"PoS\",\"Scrypt\",\"Scrypt\",\"X11\",\"SHA-256\",\"DPoS\",\"Scrypt\",\"Scrypt\",\"NeoScrypt\",\"SHA3-256\",\"Multiple\",\"X13\",\"Equihash+Scrypt\",\"DPoS\",\"Ethash\",\"DPoS\",\"SHA-256\",\"Leased POS\",\"PoS\",\"TRC10\",\"PoS\",\"SHA-256\",\"Scrypt\",\"CryptoNight\",\"Equihash\",\"Scrypt\"],\"CoinName\":[\"42 Coin\",\"404Coin\",\"EliteCoin\",\"Bitcoin\",\"Ethereum\",\"Litecoin\",\"Dash\",\"Monero\",\"Ethereum Classic\",\"ZCash\",\"Bitshares\",\"DigiByte\",\"BitcoinDark\",\"PayCoin\",\"ProsperCoin\",\"KoboCoin\",\"Spreadcoin\",\"Argentum\",\"Aurora Coin\",\"BlueCoin\",\"MyriadCoin\",\"MoonCoin\",\"ZetaCoin\",\"SexCoin\",\"Quatloo\",\"EnergyCoin\",\"QuarkCoin\",\"Riecoin\",\"Digitalcoin \",\"BitBar\",\"Catcoin\",\"CryptoBullion\",\"CannaCoin\",\"CryptCoin\",\"CasinoCoin\",\"Diamond\",\"Verge\",\"DevCoin\",\"EarthCoin\",\"E-Gulden\",\"Einsteinium\",\"Emerald\",\"Exclusive Coin\",\"FlutterCoin\",\"Franko\",\"FeatherCoin\",\"GrandCoin\",\"GlobalCoin\",\"GoldCoin\",\"HoboNickels\",\"HyperStake\",\"Infinite Coin\",\"IOCoin\",\"IXcoin\",\"KrugerCoin\",\"LuckyCoin\",\"Litebar \",\"MaxCoin\",\"MegaCoin\",\"MediterraneanCoin\",\"MintCoin\",\"MinCoin\",\"MazaCoin\",\"Nautilus Coin\",\"NavCoin\",\"NobleCoin\",\"Namecoin\",\"NyanCoin\",\"OpalCoin\",\"Orbitcoin\",\"PotCoin\",\"PhoenixCoin\",\"Reddcoin\",\"RonPaulCoin\",\"StableCoin\",\"SmartCoin\",\"SuperCoin\",\"SyncCoin\",\"SysCoin\",\"TeslaCoin\",\"TigerCoin\",\"TittieCoin\",\"TorCoin\",\"TerraCoin\",\"UnbreakableCoin\",\"Unobtanium\",\"UroCoin\",\"UnitaryStatus Dollar\",\"UltraCoin\",\"ViaCoin\",\"VeriCoin\",\"Vertcoin\",\"WorldCoin\",\"X11 Coin\",\"Crypti\",\"JouleCoin\",\"StealthCoin\",\"ZCC Coin\",\"ByteCoin\",\"DigitalNote \",\"BurstCoin\",\"StorjCoin\",\"MonaCoin\",\"Neutron\",\"FairCoin\",\"Gulden\",\"RubyCoin\",\"PesetaCoin\",\"Kore\",\"Wild Beast Coin\",\"Dnotes\",\"Flo\",\"8BIT Coin\",\"Sativa Coin\",\"ArtByte\",\"Folding Coin\",\"Ucoin\",\"Unitus\",\"CypherPunkCoin\",\"OmniCron\",\"Vtorrent\",\"GreenCoin\",\"Cryptonite\",\"MasterCoin\",\"SoonCoin\",\"1Credit\",\"IslaCoin\",\"Nexus\",\"MarsCoin \",\"Crypto\",\"Anarchists Prime\",\"Droidz\",\"BowsCoin\",\"Squall Coin\",\"Song Coin\",\"BitZeny\",\"Diggits\",\"Expanse\",\"Paycon\",\"Siacoin\",\"Emercoin\",\"EverGreenCoin\",\"MindCoin\",\"I0coin\",\"Decred\",\"Revolution VR\",\"HOdlcoin\",\"EDRCoin\",\"Hitcoin\",\"Gamecredits\",\"DubaiCoin\",\"CarpeDiemCoin\",\"PWR Coin\",\"BillaryCoin\",\"GPU Coin\",\"Adzcoin\",\"SoilCoin\",\"YoCoin\",\"SibCoin\",\"EuropeCoin\",\"ZeitCoin\",\"SwingCoin\",\"SafeExchangeCoin\",\"Nebuchadnezzar\",\"Francs\",\"BolivarCoin\",\"Ratecoin\",\"Revenu\",\"Clockcoin\",\"VIP Tokens\",\"BitSend\",\"Omni\",\"Let it Ride\",\"PutinCoin\",\"iBankCoin\",\"Frankywillcoin\",\"MudraCoin\",\"PizzaCoin\",\"Lutetium Coin\",\"Komodo\",\"GoldBlocks\",\"CarterCoin\",\"Karbo\",\"BitTokens\",\"ZayedCoin\",\"MustangCoin\",\"ZoneCoin\",\"Circuits of Value\",\"RootCoin\",\"DopeCoin\",\"BitCurrency\",\"DollarCoin\",\"Swiscoin\",\"Shilling\",\"BuzzCoin\",\"Opair\",\"PesoBit\",\"Halloween Coin\",\"ZCoin\",\"CoffeeCoin\",\"RoyalCoin\",\"GanjaCoin V2\",\"TeamUP\",\"LanaCoin\",\"Elementrem\",\"ZClassic\",\"ARK\",\"InsaneCoin\",\"KiloCoin\",\"ArtexCoin\",\"EmberCoin\",\"XenixCoin\",\"FreeCoin\",\"PLNCoin\",\"AquariusCoin\",\"Kurrent\",\"Creatio\",\"Eternity\",\"Eurocoin\",\"BitcoinFast\",\"Stakenet\",\"BitConnect Coin\",\"MoneyCoin\",\"Enigma\",\"Cannabis Industry Coin\",\"Russiacoin\",\"PandaCoin\",\"GameUnits\",\"GAKHcoin\",\"Allsafe\",\"LiteCreed\",\"OsmiumCoin\",\"Bikercoins\",\"HexxCoin\",\"Klingon Empire Darsek\",\"Internet of People\",\"KushCoin\",\"Printerium\",\"PacCoin\",\"Impeach\",\"Citadel\",\"Zilbercoin\",\"FirstCoin\",\"BeaverCoin\",\"FindCoin\",\"VaultCoin\",\"Zero\",\"OpenChat\",\"Canada eCoin\",\"Zoin\",\"RenosCoin\",\"DubaiCoin\",\"VirtacoinPlus\",\"TajCoin\",\"Impact\",\"EB3coin\",\"Atmos\",\"HappyCoin\",\"Coinonat\",\"MacronCoin\",\"Condensate\",\"Independent Money System\",\"ArgusCoin\",\"LomoCoin\",\"ProCurrency\",\"GoldReserve\",\"BenjiRolls\",\"GrowthCoin\",\"ILCoin\",\"Phreak\",\"Degas Coin\",\"HTML5 Coin\",\"Ultimate Secure Cash\",\"EquiTrader\",\"QTUM\",\"Quantum Resistant Ledger\",\"Espers\",\"Dynamic\",\"Nano\",\"ChanCoin\",\"Dinastycoin\",\"Denarius\",\"DigitalPrice\",\"Virta Unique Coin\",\"Bitcoin Planet\",\"Unify\",\"BritCoin\",\"SocialCoin\",\"ArcticCoin\",\"DAS\",\"Linda\",\"LeviarCoin\",\"DeepOnion\",\"Bitcore\",\"gCn Coin\",\"SmartCash\",\"Signatum\",\"Onix\",\"Cream\",\"Bitcoin Cash\",\"Monoeci\",\"Draftcoin\",\"Vechain\",\"Sojourn Coin\",\"Stakecoin\",\"NewYorkCoin\",\"FrazCoin\",\"Kronecoin\",\"AdCoin\",\"Linx\",\"CoinonatX\",\"Ethereum Dark\",\"Sumokoin\",\"Obsidian\",\"Cardano\",\"Regalcoin\",\"BitcoinZ\",\"TrezarCoin\",\"Elements\",\"TerraNovaCoin\",\"VIVO Coin\",\"Rupee\",\"Bitcoin Gold\",\"WomenCoin\",\"Theresa May Coin\",\"NamoCoin\",\"LUXCoin\",\"Pirl\",\"Xios\",\"Bitcloud 2.0\",\"eBoost\",\"KekCoin\",\"BlackholeCoin\",\"Infinity Economics\",\"Pura\",\"Innova\",\"Ellaism\",\"GoByte\",\"Magnet\",\"Lamden Tau\",\"Electra\",\"Bitcoin Diamond\",\"SHIELD\",\"Cash & Back Coin\",\"UltraNote\",\"BitCoal\",\"DaxxCoin\",\"Bulwark\",\"Kalkulus\",\"AC3\",\"Lethean\",\"GermanCoin\",\"LiteCoin Ultra\",\"PopularCoin\",\"PhantomX\",\"Photon\",\"Sucre\",\"SparksPay\",\"Digiwage\",\"GunCoin\",\"IrishCoin\",\"Trollcoin\",\"Litecoin Plus\",\"Monkey Project\",\"Pioneer Coin\",\"UnitedBitcoin\",\"Interzone\",\"TokenPay\",\"1717 Masonic Commemorative Token\",\"My Big Coin\",\"TurtleCoin\",\"MUNcoin\",\"Unified Society USDEX\",\"Niobio Cash\",\"ShareChain\",\"Travelflex\",\"KREDS\",\"Tokyo Coin\",\"BiblePay\",\"LitecoinCash\",\"BitFlip\",\"LottoCoin\",\"Crypto Improvement Fund\",\"Stipend\",\"Poa Network\",\"Pushi\",\"Ellerium\",\"Velox\",\"Ontology\",\"Callisto Network\",\"BitTube\",\"Poseidon\",\"Aidos Kuneen\",\"Bitspace\",\"Briacoin\",\"Ignition\",\"Bitrolium\",\"MedicCoin\",\"Alpenschillling\",\"Bitcoin Green\",\"Deviant Coin\",\"Abjcoin\",\"Semux\",\"FuturoCoin\",\"Carebit\",\"Zealium\",\"Monero Classic\",\"Proton\",\"iDealCash\",\"Jumpcoin\",\"Infinex\",\"Bitcoin Incognito\",\"KEYCO\",\"HollyWoodCoin\",\"GINcoin\",\"PlatinCoin\",\"Loki\",\"Newton Coin\",\"Swisscoin\",\"Xt3ch\",\"MassGrid\",\"TheVig\",\"PluraCoin\",\"EmaratCoin\",\"Dekado\",\"Lynx\",\"Poseidon Quark\",\"BitcoinWSpectrum\",\"Muse\",\"Motion\",\"PlusOneCoin\",\"Axe\",\"Trivechain\",\"Dystem\",\"Giant\",\"Peony Coin\",\"Absolute Coin\",\"Vitae\",\"HexCoin\",\"TPCash\",\"Webchain\",\"Ryo\",\"Urals Coin\",\"Qwertycoin\",\"ARENON\",\"EUNO\",\"MMOCoin\",\"Ketan\",\"Project Pai\",\"XDNA\",\"PAXEX\",\"Azart\",\"ThunderStake\",\"Kcash\",\"Xchange\",\"Acute Angle Cloud\",\"CrypticCoin\",\"Bettex coin\",\"Actinium\",\"Bitcoin SV\",\"BitMoney\",\"Junson Ming Chan Coin\",\"FREDEnergy\",\"HerbCoin\",\"Universal Molecule\",\"Lithium\",\"PirateCash\",\"Exosis\",\"Block-Logic\",\"Oduwa\",\"Beam\",\"Galilel\",\"Bithereum\",\"Crypto Sports\",\"Credit\",\"SLICE\",\"Dash Platinum\",\"Nasdacoin\",\"Beetle Coin\",\"Titan Coin\",\"Award\",\"BLAST\",\"Bitcoin Rhodium\",\"GlobalToken\",\"Insane Coin\",\"ALAX\",\"LiteDoge\",\"SolarCoin\",\"TruckCoin\",\"UFO Coin\",\"OrangeCoin\",\"BlakeCoin\",\"BitstarCoin\",\"NeosCoin\",\"HyperCoin\",\"PinkCoin\",\"Crypto Escudo\",\"AudioCoin\",\"IncaKoin\",\"Piggy Coin\",\"Crown Coin\",\"Genstake\",\"SmileyCoin\",\"XiaoMiCoin\",\"Groestlcoin\",\"CapriCoin\",\" ClubCoin\",\"Radium\",\"Bata\",\"Pakcoin\",\"Creditbit \",\"OKCash\",\"Lisk\",\"HiCoin\",\"WhiteCoin\",\"FriendshipCoin\",\"Fiii\",\"JoinCoin\",\"Triangles Coin\",\"Vollar\",\"EOS\",\"Reality Clash\",\"Oxycoin\",\"TigerCash\",\"Waves\",\"Particl\",\"BitTorrent\",\"Nxt\",\"ZEPHYR\",\"Gapcoin\",\"Beldex\",\"Horizen\",\"BitcoinPlus\"],\"ProofType\":[\"PoW/PoS\",\"PoW/PoS\",\"PoW/PoS\",\"PoW\",\"PoW\",\"PoW\",\"PoW/PoS\",\"PoW\",\"PoW\",\"PoW\",\"PoS\",\"PoW\",\"PoW/PoS\",\"PoS\",\"PoW\",\"PoW/PoS\",\"PoW\",\"PoW\",\"PoW/PoS\",\"PoW/PoS\",\"PoW\",\"PoW\",\"PoW\",\"PoW\",\"PoW\",\"PoW/PoS\",\"PoW\",\"PoW\",\"PoW\",\"PoW/PoS\",\"PoW\",\"PoW/PoS\",\"PoW\",\"PoW\",\"PoC\",\"PoW/PoS\",\"PoW\",\"PoW\",\"PoW\",\"PoW\",\"PoW\",\"PoW\",\"PoS\",\"PoS/PoW/PoT\",\"PoW\",\"PoW\",\"PoW\",\"PoW\",\"PoW\",\"PoW/PoS\",\"PoS\",\"PoW\",\"PoW/PoS\",\"PoW\",\"PoW\",\"PoW\",\"PoW\",\"PoW/PoS\",\"PoW\",\"PoW\",\"PoS\",\"PoW\",\"PoW/PoS\",\"PoS\",\"PoW/PoS\",\"PoW\",\"PoW\",\"PoW\",\"PoW/PoS\",\"PoW/PoS\",\"PoW/PoS\",\"PoW/PoS\",\"PoW/PoS\",\"PoW\",\"PoW\",\"PoW\",\"PoS\",\"PoW/PoS\",\"PoW\",\"PoS\",\"PoW\",\"PoS\",\"PoW/PoS\",\"PoW\",\"PoW\",\"PoW\",\"PoW\",\"PoW/PoS\",\"PoW/PoS\",\"PoW\",\"PoST\",\"PoW\",\"PoW\",\"PoW/PoS\",\"PoS\",\"PoW\",\"PoW/PoS\",\"PoW/PoS\",\"PoW\",\"PoW\",\"PoC\",\"PoS\",\"PoW\",\"PoW/PoS\",\"PoW/PoS\",\"PoW\",\"PoS\",\"PoW\",\"PoW/PoS\",\"PoW\",\"PoS\",\"PoW\",\"PoW/PoS\",\"PoW/PoS\",\"PoW\",\"PoW\",\"PoS\",\"PoW\",\"PoW\",\"PoW\",\"PoW/PoS\",\"PoW\",\"PoW\",\"PoW\",\"PoW\",\"PoW\",\"PoW/PoS\",\"PoW/nPoS\",\"PoW\",\"PoW\",\"PoW\",\"PoW/PoS\",\"PoW\",\"PoS/PoW\",\"PoW\",\"PoW\",\"PoS\",\"PoW\",\"PoW/PoS\",\"PoW\",\"PoW/PoS\",\"PoW/PoS\",\"PoW\",\"PoW\",\"PoW/PoS\",\"PoW\",\"PoW\",\"PoW/PoS\",\"PoW/PoS\",\"PoW\",\"PoW/PoS\",\"PoW\",\"PoW/PoS\",\"PoW/PoS\",\"PoS\",\"PoW\",\"PoW\",\"PoW\",\"PoW\",\"PoW/PoS\",\"PoS\",\"PoW/PoS\",\"PoC\",\"PoS\",\"PoW\",\"PoW\",\"PoW/PoS\",\"PoW/PoS\",\"PoW/PoS\",\"PoW/PoS\",\"PoW/PoS\",\"PoW\",\"PoS\",\"PoW/PoS\",\"PoW/PoS\",\"PoW/PoS\",\"PoS\",\"PoW\",\"PoS\",\"dPoW/PoW\",\"PoW/PoS\",\"PoW/PoS\",\"PoW\",\"PoW/PoS\",\"PoW\",\"PoW/PoS\",\"PoW/PoS\",\"PoW\",\"PoW/PoS\",\"PoW\",\"PoS\",\"PoW\",\"PoW/PoW\",\"PoW\",\"PoW/PoS\",\"PoS\",\"PoW/PoS\",\"PoW/PoS\",\"PoW\",\"PoS\",\"PoS\",\"PoW/PoS\",\"PoS\",\"PoW/PoS\",\"PoW\",\"PoW\",\"DPoS\",\"PoW/PoS\",\"PoW\",\"PoW\",\"PoW/PoS\",\"PoW/PoS\",\"PoS\",\"PoW/PoS\",\"PoW/PoS\",\"PoW\",\"PoS\",\"PoW/PoS\",\"PoW/PoS\",\"PoW/PoS\",\"TPoS\",\"PoW/PoS\",\"PoW/PoS\",\"PoW/PoS\",\"PoW\",\"PoW/PoS\",\"PoS\",\"PoW/PoS\",\"PoW/PoS\",\"PoS\",\"PoW/PoS\",\"PoW\",\"PoW\",\"PoW\",\"PoW/PoS\",\"PoW/PoS\",\"PoW/PoS\",\"PoW/PoS\",\"PoW\",\"PoW/PoS\",\"PoW\",\"PoS\",\"PoW/PoS \",\"PoW\",\"PoS\",\"PoW\",\"PoW\",\"PoW/PoS\",\"PoW\",\"PoW\",\"PoS\",\"PoW\",\"PoW/PoS\",\"PoW/PoS\",\"PoW/PoS\",\"PoW\",\"PoS\",\"PoW/PoS\",\"PoW\",\"PoS\",\"PoW/PoS\",\"PoW/PoS\",\"PoW/PoS\",\"PoW/PoS\",\"PoS\",\"PoW/PoS\",\"PoW\",\"PoS\",\"PoW\",\"PoS\",\"PoW/PoS\",\"PoW/PoS\",\"PoS\",\"PoW\",\"PoS\",\"PoW\",\"PoW/PoS\",\"PoW\",\"PoW\",\"PoW\",\"PoW\",\"PoW/PoS\",\"PoW\",\"PoW/PoS\",\"PoW/PoS\",\"PoW\",\"PoW/PoS\",\"PoW\",\"PoW\",\"PoW\",\"PoW/PoS\",\"PoW\",\"PoW/PoS\",\"PoW\",\"PoW\",\"PoW\",\"PoS\",\"PoW\",\"PoW/PoS\",\"PoW\",\"PoW/PoS\",\"PoS\",\"Proof of Authority\",\"PoW\",\"PoS\",\"PoW\",\"PoW\",\"PoW\",\"PoW\",\"PoW\",\"PoW/PoS\",\"PoW/PoS\",\"PoW\",\"PoS\",\"PoS\",\"PoW/PoS\",\"PoW\",\"PoW/PoS\",\"PoW\",\"PoW/PoS\",\"PoW\",\"PoS\",\"PoW\",\"PoW/PoS\",\"PoW/PoS\",\"PoW/PoS\",\"PoW/PoS\",\"PoW\",\"PoW/PoS\",\"PoW/PoS\",\"PoW\",\"PoS\",\"PoW/PoS\",\"PoS\",\"PoW\",\"PoW\",\"PoW\",\"PoW\",\"PoW/PoS\",\"DPoS\",\"PoW/PoS\",\"PoW/PoS\",\"PoW\",\"PoW/PoS\",\"PoW\",\"PoW\",\"PoW\",\"PoS\",\"PoS\",\"PoW\",\"PoW\",\"PoW/PoS\",\"PoW/PoS\",\"PoW\",\"PoW/PoS\",\"PoW\",\"PoW\",\"PoW\",\"PoS\",\"PoW\",\"PoW\",\"PoW/PoS\",\"PoW/PoS\",\"PoS\",\"PoW\",\"PoW\",\"PoW\",\"PoS\",\"PoS\",\"PoW and PoS\",\"PoW\",\"PoW\",\"PoW/PoS\",\"PoW\",\"PoW\",\"PoW\",\"PoW\",\"PoS\",\"POBh\",\"PoW + Hive\",\"PoW\",\"PoW\",\"PoW\",\"PoW/PoS\",\"PoA\",\"PoW/PoS\",\"PoW/PoS\",\"PoS\",\"PoS\",\"PoW\",\"PoW\",\"PoW\",\"PoW\",\"PoW/PoS\",\"PoW/PoS\",\"PoW/PoS\",\"PoW\",\"PoS\",\"PoW\",\"PoS\",\"PoS\",\"PoW/PoS\",\"DPoS\",\"PoW\",\"PoW/PoS\",\"PoS\",\"PoW\",\"PoS\",\"PoW/PoS\",\"PoW\",\"PoW\",\"PoS/PoW\",\"PoW\",\"PoS\",\"PoW\",\"PoW\",\"PoW\",\"PoW\",\"PoW/PoS\",\"PoS\",\"PoW\",\"PoW/PoS\",\"PoW\",\"PoW/PoS\",\"PoS\",\"HPoW\",\"PoS\",\"PoS\",\"PoS\",\"PoW\",\"PoW\",\"PoW\",\"PoW/PoS\",\"PoS\",\"PoW/PoS\",\"PoS\",\"PoW/PoS\",\"PoS\",\"PoW\",\"PoW/PoS\",\"PoW\",\"PoW\",\"PoW\",\"PoW\",\"PoS\",\"PoW/PoS\",\"PoS\",\"PoS\",\"PoW\",\"PoW/PoS\",\"PoS\",\"PoW\",\"PoW/PoS\",\"Zero-Knowledge Proof\",\"PoW\",\"DPOS\",\"PoW\",\"PoS\",\"PoW\",\"PoW\",\"Pos\",\"PoS\",\"PoW\",\"PoW/PoS\",\"PoW\",\"PoW\",\"PoS\",\"PoW\",\"PoW\",\"PoW/PoS\",\"PoW\",\"PoW/PoS\",\"PoW\",\"PoS\",\"PoW/PoS\",\"PoW\",\"PoS\",\"PoW/PoS\",\"PoW/PoS\",\"PoW/PoS\",\"PoW/PoS\",\"PoW\",\"PoW\",\"PoW\",\"PoW/PoS\",\"DPoS\",\"PoW/PoS\",\"PoW\",\"PoW/PoS\",\"PoW\",\"PoW/PoS\",\"PoW\",\"PoW/PoS\",\"PoS\",\"PoW/PoS\",\"PoW/PoS\",\"PoW\",\"PoW/PoS\",\"PoW/PoS\",\"PoW/PoS\",\"PoW\",\"PoW/PoS\",\"PoW\",\"PoW/PoS\",\"PoW\",\"PoW/PoS\",\"PoW/PoS\",\"PoS\",\"PoW\",\"PoW\",\"Proof of Trust\",\"PoW/PoS\",\"DPoS\",\"PoS\",\"PoW/PoS\",\"PoW/PoS\",\"DPoC\",\"PoW\",\"PoW/PoS\",\"PoW\",\"DPoS\",\"PoW\",\"DPoS\",\"PoS\",\"LPoS\",\"PoS\",\"DPoS\",\"PoS/LPoS\",\"DPoS\",\"PoW/PoS\",\"PoW\",\"PoW\",\"PoS\"],\"TotalCoinSupply\":[\"42\",\"532000000\",\"314159265359\",\"21000000\",\"0\",\"84000000\",\"22000000\",\"0\",\"210000000\",\"21000000\",\"3600570502\",\"21000000000\",\"22000000\",\"12500000\",\"21000000\",\"350000000\",\"20000000\",\"64000000\",\"16768584\",\"0\",\"2000000000\",\"384000000000\",\"169795588\",\"250000000\",\"100000000\",\"0\",\"247000000\",\"84000000\",\"48166000\",\"500000\",\"21000000 \",\"1000000\",\"13140000\",\"18000000\",\"40000000000\",\"4380000\",\"16555000000\",\"21000000000\",\"13500000000\",\"21000000 \",\"299792458\",\"32000000\",\"0\",\"0\",\"11235813\",\"336000000\",\"1420609614\",\"70000000\",\"72245700\",\"120000000\",\"0\",\"90600000000\",\"22000000\",\"21000000\",\"265420800\",\"20000000\",\"1350000\",\"100000000\",\"42000000\",\"200000000\",\"0\",\"10000000\",\"2419200000\",\"16180000\",\"0\",\"15000000000\",\"21000000\",\"337000000\",\"0\",\"3770000\",\"420000000\",\"98000000\",\"0\",\"21000000\",\"250000000\",\"51200000\",\"0\",\"1000\",\"888000000\",\"100000000\",\"47011968\",\"2300000000\",\"10000000\",\"42000000\",\"80000000\",\"250000\",\"0\",\"1600000000\",\"100000000\",\"23000000\",\"0\",\"84000000\",\"265420800\",\"5500000\",\"0\",\"45000000\",\"0\",\"1000000000\",\"184467440735\",\"10000000000\",\"2158812800\",\"500000000\",\"105120000\",\"68000000\",\"0\",\"1680000000\",\"0\",\"166386000\",\"12000000\",\"2628000\",\"500000000\",\"160000000\",\"0\",\"10000000\",\"1000000000\",\"1000000000\",\"20000000\",\"0\",\"0\",\"3371337\",\"20000000\",\"10000000000\",\"1840000000\",\"619478\",\"21000000\",\"92000000000\",\"0\",\"78000000\",\"33000000\",\"65789100\",\"53760000\",\"5060000\",\"21000000\",\"0\",\"210240000\",\"250000000\",\"100000000\",\"16906397\",\"50000000\",\"0\",\"1000000000\",\"26298000\",\"16000000\",\"21000000\",\"21000000\",\"210000000\",\"81962100\",\"22000000\",\"26550000000\",\"84000000\",\"10500000\",\"21626280000 \",\"0\",\"42000000\",\"221052632\",\"84000000\",\"30000000\",\"168351300\",\"24000000\",\"384000000\",\" 99000000000\",\"40000000\",\"2147483647\",\"20000000\",\"20000000\",\"25000000\",\"75000000\",\"222725000\",\"525000000\",\"90000000\",\"139000000\",\"616448\",\"33500000\",\"2000000000\",\"44333333\",\"100000000\",\"200000000\",\"25000000\",\"657000000\",\"200000000\",\"50000000\",\"90000000\",\"10000000\",\"21000000\",\"9736000\",\"3000000\",\"21000000\",\"1200000000\",\"0\",\"200000000\",\"0\",\"10638298\",\"3100000000\",\"30000000\",\"20000000000\",\"74000000\",\"0\",\"1500000000\",\"21400000\",\"39999898\",\"2500124\",\"100000000\",\"301000000\",\"7506000000\",\"26205539\",\"21000000\",\"125000000\",\"30000000\",\"10000000000\",\"500000000\",\"850000000\",\"3853326.77707314\",\"50000000\",\"38540000 \",\"42000000\",\"228000000\",\"20000000\",\"60000000\",\"20000000\",\"33000000\",\"76500000\",\"28000000\",\"650659833\",\"5000000\",\"21000000\",\"144000000\",\"32514916898\",\"13000000\",\"3315789\",\"15000000\",\"78835200\",\"2714286\",\"25000000\",\"9999999\",\"500000000\",\"21000000\",\"9354000\",\"20000000\",\"100000000000\",\"21933333\",\"185000000\",\"55000000\",\"110000000\",\"3360000\",\"14524851.4827\",\"1000000000\",\"17000000\",\"1000000000\",\"100000000 \",\"21000000\",\"34426423\",\"2232901\",\"100000000\",\"36900000\",\"110000000\",\"4000000000\",\"110290030\",\"100000000\",\"48252000\",\"400000000\",\"500000000\",\"21212121\",\"28600000\",\"1000000000\",\"75000000000\",\"40000000\",\"35520400\",\"2000000000\",\"2500000000\",\"30000000\",\"105000000\",\"90000000000\",\"200084200\",\"72000000\",\"100000000\",\"105000000\",\"50000000000\",\"0\",\"340282367\",\"30000000\",\"2000000000\",\"10000000\",\"100000000\",\"120000000\",\"100000000\",\"19276800\",\"30000000\",\" 75000000\",\"60000000\",\"18900000\",\"50000000000\",\"54000000\",\"18898187.6216583\",\"21000000\",\"200000000000\",\"5000000000\",\"137500000\",\"1100000000\",\"100000000\",\"21000000\",\"9507271\",\"17405891.19707116\",\"86712634466\",\"10500000000\",\"61599965\",\"0\",\"20000000\",\"84000000\",\"100000000\",\"100000000\",\"48252000\",\"4200000\",\"88888888\",\"91388946\",\"45000000000\",\"27000000\",\"21000000000\",\"400000000\",\"1800000000\",\"15733333\",\"27000000\",\"24000000\",\"21000000\",\"25000000000\",\"100000000\",\"1200000000\",\"60000000\",\"156306732.71\",\"21000000\",\"200000000\",\"100000000\",\"21000000\",\"14788275.991\",\"9000000000\",\"350000000\",\"45000000\",\"280000000\",\"31800000\",\"144000000\",\"500000000\",\"30000000000\",\"210000000\",\"660000000\",\"210000000\",\"85000000000\",\"12500000\",\"10000000000\",\"27716121\",\"20000000\",\"550000000\",\"999481516\",\"50000000000\",\"150000000\",\"4999999999\",\"50000000\",\" 90000000000\",\"19800000\",\"21000000\",\"120000000\",\"500000000\",\"64000000\",\"900000000\",\"4000000\",\"21000000\",\"23000000\",\"20166000\",\"23000000\",\"25000000\",\"1618033\",\"30000000\",\"1000000000000\",\"16600000\",\"232000000\",\"336000000\",\"10000000000\",\"100000000\",\"1100000000\",\"800000000\",\"5200000000\",\"840000000\",\"40000000\",\"18406979840\",\"500000000\",\"19340594\",\"252460800\",\"25000000\",\"60000000\",\"124000000\",\"1000000000\",\"6500000000\",\"1000000000\",\"21000000\",\"25000000\",\"50000000\",\"3000000\",\"5000000\",\"70000000\",\"500000000\",\"300000000\",\"21000000\",\"88000000\",\"30000000\",\"100000000\",\"100000000\",\"200000000\",\"80000000\",\"18400000\",\"45000000\",\"5121951220\",\"21000000\",\"26280000\",\"21000000\",\"18000000\",\"26000000\",\"10500000\",\"600000518\",\"150000000\",\"184000000000\",\"10200000000\",\"44000000\",\"168000000\",\"100000000\",\"1000000000\",\"84000000\",\"90000000\",\"92000000000\",\"650000000 \",\"100262205\",\"18081806 \",\"22075700\",\"21000000\",\"21000000\",\"82546564\",\"21000000\",\"5151000\",\"16880000000\",\"52500000\",\"100000000\",\"22105263\",\"1000000000\",\"1750000000\",\"88188888\",\"210000000\",\"184470000000\",\"55000000\",\"50000000\",\"260000000\",\"210000000\",\"2100000000\",\"366000000\",\"100000000\",\"25000000\",\"18000000000\",\"1000000000\",\"100000000\",\"1000000000\",\"7600000000\",\"50000000\",\"84000000\",\"21000000\",\"70000000000\",\"0\",\"8080000000\",\"54000000\",\"105120001.44\",\"25228800\",\"105000000\",\"21000000\",\"120000000\",\"21000000\",\"262800000\",\"19035999\",\"30886000\",\"13370000\",\"74800000000\",\"100000000\",\"19700000\",\"84000000\",\"500000000\",\"5000000000\",\"420000000\",\"64000000\",\"2100000\",\"168000000\",\"30000000\",\"1000000000\",\"35000000000\",\"98100000000\",\"0\",\"4000000000\",\"200000000\",\"7000000000\",\"54256119\",\"21000000\",\"0\",\"500000000\",\"1000000000\",\"10500000000\",\"190000000\",\"1000000000\",\"42000000\",\"15000000\",\"50000000000\",\"400000000\",\"105000000\",\"208000000\",\"160000000\",\"9000000\",\"5000000\",\"182000000\",\"16504333\",\"105000000\",\"159918400\",\"10008835635\",\"300000000\",\"60168145\",\"5000000000\",\"2800000\",\"120000\",\"2100000000\",\"0\",\"24487944\",\"0\",\"1000000000\",\"100000000\",\"8634140\",\"990000000000\",\"1000000000\",\"2000000000\",\"250000000\",\"1400222610\",\"21000000\",\"1000000\"],\"TotalCoinsMined\":{\"__ndarray__\":\"E66yfP7/REC4HgUDbHLPQcQCukHCRBtCAAAAcMAYcUHb+b76hayZQfdoZlo4D45BczEFzM85YUFmkFFyf2dwQQAAAFztBptBAAAAEAQqXEEAAAA6IW3kQQAAKLzoPgVCAAAAAJ6qM0Epu0/cGOFmQQAAAIAdAVZBuzNpefhbeEFogey/NERlQRASPW7cR2dB+ijjv4NLcUEAAABO5u/CQQAAgMotKNlBAAAAAAAAVkCRe4LLOUqkQWlwu1zuvZ5B7FG4slgRXEES3YNEKFedQbxc1FkO8a5BjF0hSWmgh0FQLIHFyuR/Qc7ixUJvyuRAZlhcKb2KW0HCR4pNGbYvQdDqKuGh8VFBQQ4rjd4PU0GutucKX6AiQqBfqd8TNklB/fZoycqrDUIAAHBTCXwRQnSTloARWwdCS2bm7Bjxc0He//+wcBeqQbTI9iT1l3JBAAAAQJaqVUHBNFQR94a7QaQ8LSbMbzFBMPUDShPgqEEAAAA1WFnKQQFaxIOwUI9BD/H/v0jdg0EMI73Wa0iVQftcscYLA9lBo6E6fO0XNUJq65YfTtVwQW3n+0/EHHRBmpmZw9ANokHNzEzyVm5yQeu2uDrY2TBBAAAAaLVMjUFC3vH/OTGCQTMzM4eHR4NB0/wVEd7UE0K3KNQ4KyRWQdb//9BLDNhBAAAAAGTcbkFGZKnBRYOPQWh5ONDpoOFBAAAAAIIbbEHurnvnQfOzQWC5lIqR6GxBEqW9I0SSSEECRgfUkYuqQQAAgKodopFB7loEOWBNG0KzdfRrHdkwQZqZmdvoF3dBqQYrknhoeEEnrP5t5i2IQQAAAAAAZJJASWWmrurJwEEmvO6+tSKTQQAAAACNwoRBsaedNq8s2EHonwEAK9k1QQAAAEB233VBAAAAAINhQUF75AdVfoYIQQAAAAAObDJBZmYm5Ctg0EHqsCJZOvSHQfL/r8ISFHZBBWSeRqeJfkHHd4jeymaIQQAAAHQ6hJxBqj02xuuDWkEAAAAAhNeXQWWO5dqisIJBhvyY1oWPf0HN5/S7TaShQQAAB3WebUVCcSCmnaK6+UEAAADwLATbQQAAAMC4ZohBcBN8y0VCkEEAAADwmKeCQQAAADhjXYlBAAAAZOS8uEGF80Sm1ux5QeDz06y0ZKBBm6kQ40DcPkGTMePy+TQGQRqL3sPG0aRB26a4ke4mokEAAAAAwWU2QQAAAICAEltBAAAAUZSex0EAAABPt3DFQQAAAACKhURBAAAAsGYMj0EAAABAGUhYQclLLY4xV2NBAAAAQF4iZkFxPQ5ywyzxQQAAAMx5HcVBAAAAAKznIkEAAACAQ8VnQQAAAABQifVAAAAAAOgYN0EAAAAgqFqOQbTMIm2Yun5BAAAAQFI2akFuowEAyCBsQb/Mf8ucV2BBAAAAsANCbkFIisgQwBcUQQAAAECDDn9BAAAAkCQHkkEAAAAAhNeXQQAAAMClBGRBAAAAwKL5dUEAAEizP9MeQnMvcJZSiIRBdN9gjbfOaUEAAADg5UNuQXci101WBnRBZImz3Q7FY0EAAAAAsQipQQAAAKBO1mVB0TYn7F3/S0EAAJj8c3sEQgAAABB1ppBBAAAAgM2QU0EAAGSVNj8UQs9mP8p8wQJCZta35+opYUEAAACQC02DQQAAAKChgoVBAAAAAGjAVUEVe6IeXWwjQQAAALCvdnBBh9M4uazZY0FWnZ2VUDchQsSzAmd+slBBAADA////30EAAAAA0BJzQfWeCOrNEFlBACv2TwgLakHGaE16SgqgQQAAAAAFPjJBAAAAgCTIb0EAAACMaOWTQWZvBMgIQndBAAAAAADQIkH8k1OFq2aCQZ+vSflmO8hBAAAAAD1EUUEAAAAAhNeXQQAAAADQElNBAAAAAH0GNUEAAAAgg5TDQQAAAEzcoZtBAAAAIIyvbUEAAADgOZWEQSqHXC4Y111BAAAAAMorIkEAAAAAgNFXQXUZ5bDIESRBAAAAAOmyQ0EAAAAAZc3NQQAAAACxmT1BAAAAsKrbm0EAAAAwvTekQQAAAECjXmFBAACA3BLTw0EAAAAATDVlQQAA7E21OxJCKwwuO6qmkUEAAADQUPh/Qd7Fk3RYja9BUc34T+beXEEAAAAgerqhQQAAAAAOE0NBAAAAAITXl0F4eqWiQ/5wQW1b4nIfINBBAAAAMNb9eEEAAACA+2lVQQAAAJAhzJlBAAAA0Dl+cUEAAADmiWanQQAAAACfjshBAADD1R53NUL1IXdjB2ZNQQAAAACE14dBAAAAAERMcEGnlim1VLBCQQAAAGjSQo1BAAAAANASc0H6EPGEOidXQQAAAEDFrmdBAWxAemNOc0EAAACEqwWSQW8KEEyCImVBAAAAQE7RZEEAAAAAntwoQQAAAADC2S1BAAAAQIT1X0G1VTeErn0fQgAAAIArf0pBAAAAgCZMSUG3QKeXoQ9kQQAAAGDS03xBAAAAAJRIK0EAAAAA5NhhQeiBj3GyoDxBAAAAwOvadkGII9U8v0VDQawzRD12llVBAAAAAFSMZkEAAAAd2QDAQQAAAABMzxJBBwq80BzsZEGMg2z7OkxGQQAAAADeOZpBAAAAAH3ER0FFR3JvNrRrQQAAAEBY+nxBHHiWeW1nWkEAAAAAZc3NQaJtQ0H1zZdBAAAA2MWvcUEAAADorTCBQQAAAIAiCUFBTeW+oh8baUEhj6B9UD1nQd7hZs9XYJpBAAAAoDmQjkEEVo5zMX+aQcubKKA6hnRBAAAAAPhOY0EAAABZNO23QTtUk67eAZ1BAAAAgBl7VEEAAAAApIUxQQAAAACAhB5BAAAARNP4l0EAAABgO2BwQYwpWDI4VnNBCaRc6miXsUEAAADLzqLTQWBHLT+iuWVBAAAAwIpedEEAAMDR7u4iQgAAACBZumNBckLXzXcUakEAAAAAhNeXQWUIVsOfdZBBAADce2Q8FUKonWsKIt5yQQAAAKTUxJ9BkdtqsfWNcUEAAMDBkfbaQQAAAAA7009BAAAA+GzBgEEAAADYWwOOQQAAAIDi9FlBAAAAsAxLcUEAAADAZ0h0QQAAAMCntlNBIBX6xf/VeEEAAAAA0wJEQX/w+Yv12ABCAAAAYPECa0Ga3cmg1eZ0QZKakZIo+nBBAABOq2v7QkJLH6e/YrLgQQAAAHgivplByhiP2VEznUGRw9HTzpGGQWq8WVp0KXFBI1gm0VX5Z0Hya5UVeMxxQQAAoDO40ilCAAAAAHidHUEAAAAAgIROQe/X1k3upUBCAAAAQE2CYkFw2XdWK6VwQQkyArFkIn9BAAAAcMkTgEEAAABAaKJyQQAAAACQBVBBAAAAoHsQYUEAAAAAhNd3QQAAKM1+JRhCzr66gjC0W0EDPqDeH2rzQQAAAICuxaVBy0qbvkkj5EGLprPq/mcxQVF7mcmnyE9BAAAAAGDjdkH5hGyRy2dwQQAAjLzRkCZCAAAAwFXylUEAAAAKwrTAQdlvVtQbr19BAAAAIM00gEEAAAAAnGZAQYpweOjvSX1BJ0/5xefWl0Hg88PJ5oRnQcl2vh+GNW9BAACwz4jDAEIAAADmKeOkQSlcj8LWUVhBAAAA4LFUaEEAAAC4nD9WQY52rBbqNoJBYW9+x+krsUEAAACS4nIaQsmUx5ED4aVB6fCQBqC2vEHPayxFf3WaQTj4lfsk9RFCAAAAAIgqUUEAAACELQy/Qb7tLlxZRGlBqtpuTpcrcEEAAAC8HCaTQRKDYLnxTLpBXI/WvvhL8kHLoUVKCQ9gQUjhGyQdie1BBOfcMG6KhUFZF6rN7wUcQv52QCDsIVBBqQRZVX7vXUEAAAAA9gh6QQAAAMGN3rFBm/K3SiGwhUEAAABOJZ3BQQndJR2TG0NBAAAAAPXPUEFs0d4KsytgQQAAAABXO3NBRN0Hg6W6ZkFWAY1Yqn9zQQAAAABxsDhB6KPo0IXtYUE9ipsSw74oQiP3U79oYVJB4XaQc/D+q0HFrxjPlu6fQQAAACBfoAJCJXMcSJ2WmUHVIcXjxS/DQQAAAFoqdKtB8dd4J/5n2kGWsBp+eAbDQRXGFoAyvWdBAACoqNr9CkJPPwDNSjCpQURLA8bRdWVBAAAAfjRgqEHNzMyMCYpAQVK4HoUtlxlBWiYo0q1ieEEAAIC4lGXDQQAAAEqIhK1BdXWf684Vk0GYUBwTog1PQQAAAACE13dBGcIW1FlMakEZtn+gi84pQQAAAIDJCTJBAAAAVDEDkUEAAKAYR92vQYN0bFrtEnpBfQaUa/WyYkFNBaat9tx0Qeux5ct22GJBAAAAACvJMkGJEf1SB1R+QXJuA5mDqKBBTNr5wtYfZUEAAAAAvIxuQQAAAACWzFBB5nRdlm/s1EGTQQkk4hd0QURRfW02clNBjX70YrDMZEEAAAAAbkYoQbN2u8vzdIJBBFMT7aemWkEAAAAAwJT0QAAAAAAuRHJBAACivbA6I0IAAAAwvf8CQkhQ/AAsG11Bg20UIDEyoEGcs497yrJ/QSXLM+AdscBB78nDukaZdEHP8+dFmuF8QVnmi1WJITJC6NT8eTS5REEY0gHIAZGLQQAAAIAfWnFBpq1XQWr/XkE4UF7FY31gQaKloawBDFNBrPn2hDebgUFNI9YPZgRbQasgKXHAlFZBluWQ57jML0GotR8+EW5pQSFAAa03f49BSGTlENedNUEZ8ryfJp1UQddG4emEt21BAAAAQESoUkFpyxQjRSBsQV3NAOrTLTdCcT0KX3hgckEXDZ5fe1h9Qf+yq29isZlBB1Ybc0PKYUEAAABA3UrfQXtmCXYA01FBAAAAwA8vUUHawOFXUiJTQRiaN9DOls9BAAAAAGXNzUFRV68zk5piQQAAAABlzc1BAAAAitWN70FyYIdLU+RZQQAAAECkAWpBP8xZKrQocUFhFLwwZtuoQXBOQWIqBxBCkCxSxj/S20GEJfPNkdaAQZO4O1ApFThBx93xJ6g5bkEAAAAACrRpQTMzM7MvyRhBzT1kaTfTgEEdRpysmS9sQQAAAABjBIFBoET6MztrcUEAAAA4VPx3QfT+3KxthT1BTx7ABmy1HEKNuYbNa6doQdWNf+IW1yVBJsJLAz6Yc0FvD7pAHLenQQAAAGixtspBrfE+UWlpbUHNuQVlhu+IQQAAAIB02zFB0v7/r18slEE4zCGFrax2QQAAAABlzc1B5x1IVZ2IDEL7Pxej2H6KQSibcjLG6qxBAACA+gF/7EEAAAAAf/xKQUgFZGJXRnZBAAAAQJGfc0FeS8aPUMFQQW94x/+7XmJBF4V9WDoCukEAAAAGiUDHQR9ofThlOs1BBFbV6ym1EEJuUAeag3W9QUrmXREL7HVBAAAAADicjEFprytpX40bQpijizthGbhBuqmMb8R5kUGs4drOJgGoQa4Pq9CTtJhBBonp3l4nTUGfQd76IkZTQZk6wZ0znZBBDFuTijkecEEqosuD3c2RQQAAALD1nJxBApot/nygAkKKmGJ4mQquQaD9SAGBGDFB0nu/vNIL9sEAAABAnW1JQag65AZOLwFBAAAAAITXl0HZPYkFI2rOQfh6iIGAWndBFK7Xcoy50EEAAAAAZc3NQQAAAACE15dB2arJMci0YUHF9Hue/c9sQgAAAABlzc1B847T/mTN3UGU+vLEjHpsQQAAgEGBNs1BAAAAYIbVW0FH2AHxb1T/QA==\",\"dtype\":\"float64\",\"order\":\"little\",\"shape\":[533]},\"class\":{\"__ndarray__\":\"AAAAAAAAAAAAAAAAAAAAAAAAAAAAAAAAAAAAAAAAAAAAAAAAAAAAAAAAAAAAAAAAAAAAAAAAAAAAAAAAAAAAAAAAAAAAAAAAAAAAAAAAAAAAAAAAAAAAAAAAAAAAAAAAAAAAAAAAAAAAAAAAAAAAAAAAAAAAAAAAAAAAAAAAAAAAAAAAAAAAAAAAAAAAAAAAAAAAAAAAAAAAAAAAAAAAAAAAAAAAAAAAAAAAAAAAAAAAAAAAAAAAAAAAAAAAAAAAAAAAAAAAAAAAAAAAAAAAAAAAAAAAAAAAAAAAAAAAAAAAAAAAAAAAAAAAAAAAAAAAAAAAAAAAAAAAAAAAAAAAAAAAAAAAAAAAAAAAAAAAAAAAAAAAAAAAAAAAAAAAAAAAAAAAAAAAAAAAAAAAAAAAAAAAAAAAAAAAAAAAAAAAAAAAAAAAAAAAAAAAAAAAAAAAAAAAAAAAAAAAAAAAAAAAAAAAAAAAAAAAAAAAAAAAAAAAAAAAAAAAAAAAAAAAAAAAAAAAAAAAAAAAAAAAAAAAAAAAAAAAAAAAAAAAAAAAAAAAAAAAAAAAAAAAAAAAAAAAAAAAAAAAAAAAAAAAAAAAAAAAAAAAAAAAAAAAAAAAAAAAAAAAAAAAAAAAAAAAAAAAAAAAAAAAAAAAAAAAAAAAAAAAAAAAAAAAAAAAAAAAAAAAAAAAAAAAAAAAAAAAAAAAAAAAAAAAAAAAAAAAAAAAAAAAAAAAAAAAAAAAAAAAAAAAAAAAAAAAAAAAAAAAAAAAAAAAAAAAAAAAAAAAAAAAAAAAAAAAAAAAAAAAAAAAAAAAAAAAAAAAAAAAAAAAAAAAAAAAAAAAAAAAAAAAAAAAAAAAAAAAAAAAAAAAAAAAAAAAAAAAAAAAAAAAAAAAAAAAAAAAAAAAAAAAAAAAAAAAAAAAAAAAAAAAAAAAAAAAAAAAAAAAAAAAAAAAAAAAAAAAAAAAAAAAAAAAAAAAAAAAAAAAAAAAAAAAAAAAAAAAAAAAAAAAAAAAAAAAAAAAAAAAAAAAAAAAAAAAAAAAAAAAAAAAAAAAAAAAAAAAAAAAAAAAAAAAAAAAAAAAAAAAAAAAAAAAAAAAAAAAAAAAAAAAAAAAAAAAAAAAAAAAAAAAAAAAAAAAAAAAAAAAAAAAAAAAAAAAAAAAAAAAAAAAAAAAAAAAAAAAAAAAAAAAAAAAAAAAAAAAAAAAAAAAAAAAAAAAAAAAAAAAAAAAAAAAAAAAAAAAAAAAAAAAAAAAAAAAAAAAAAAAAAAAAAAAAAAAAAAAAAAAAAAAAAAAAAAAAAAAAAAAAAAAAAAAAAAAAAAAAAAAAAAAAAAAAAAAAAAAAAAAAAAAAAAAAAAAAAAAAAAAAAAAAAAAAAAAAAAAAAAAAAAAAAAAAAAAAAAAAAAAAAAAAAAAAAAAAAAAAAAAAAAAAAAAAAAAAAAAAAAAAAAAAAAAAAAAAAAAAAAAAAAAAAAAAAAAAAAAAAAAAAAAAAAAAAAAAAAAAAAAAAAAAAAAAAAAAAAAAAAAAAAAAAAAAAAAAAAAAAAAAAAAAAAAAAAAAAAAAAAAAAAAAAAAAAAAAAAAAAAAAAAAAAAAAAAAAAAAAAAAAAAAAAAAAAAAAAAAAAAAAAAAAAAAAAAAAAAAAAAAAAAAAAAAAAAAAAAAAAAAAAAAAAAAAAAAAAAAAAAAAAAAAAAAAAAAAAAAAAAAAAAAAAAAAAAAAAAAAAAAAAAAAAAAAAAAAAAAAAAAAAAAAAAAAAAAAAAAAAAAAAAAAAAAAAAAAAAAAAAAAAAAAAAAAAAAAAAAAAAAAAAAAAAAAAAAAAAAAAAAAAAAAAAAAAAAAAAAAAAAAAAAAAAAAAAAAAAAAAAAAAAAAAAAAAAAAAAAAAAAAAAAAAAAAAAAAAAAAAAAAAAAAAAAAAAAAAAAAAAAAAAAAAAAAAAAAAAAAAAAAAAAAAAAAAAAAAAAAAAAAAAAAAAAAAAAAAAAAAAAAAAAAAAAAAAAAAAAAAAAAAAAAAAAAAAAAQAAAAAAAAAAAAAAAAAAAAAAAAAAAAAAAAAAAAAAAAAAAAAAAAAAAAAAAAAAAAAAAAAAAAAAAAAAAAAAAAAAAAAAAAAAAAAAAAAAAAAAAAAAAAAAAAAAAAAAAAAAAAAAAAAAAAAAAAAAAAAAAAAAAAAAAAAAAAAAAAAAAAAAAAAAAAAAAAAAAAAAAAAAAAAAAAAAAAAAAAAAAAAAAAAAAAAAAAAAAAAAAAAAAAAAAAAAAAAAAAAAAAAAAAAAAAAAAAAAAAAAAAAAAAAAAAAAAAAAAAAAAAAAAAAAAAAAAAAAAAAAAAAAAAAAAAAAAAAAAAAAAAAAAAAAAAAAAAAAAAAAAAAAAAAAAAAAAAAAAAAAAAAAAAAAAAAAAAAAAAAAAAAAAAAAAAAAAAAAAAAAAAAAAAAAAAAAAAAAAAAAAAAAAAAAAAAAAAAAAAAAAAAAAAAAAAAAAAAAAAAAAAAAAAAAAAAAAAAAAAAAAAAAAAAAAAAAAAAAAAAAAAAAAAAAAAAAAAAAAAAAAAAAAAAAAAAAAAAAAAAAAAAAAAAAAAAAAAAAAAAAAAAAAAAAAAAAAAAAAAAAAAAAAAAAAAAAAAAAAAAAAAAAAAAAAAAAAAAAAAAAAAAAAAAAAAAAAAAAAAAAAAAAAAAAAAAAAAAAAAAAAAAAAAAAAAAAAAAAAAAAAAAAAAAAAAAAAAAAAAAAAAAAAAAAAAAAAAAAAAAAAAAAAAAAAAAAAAAAAAAAAAAAAAAAAAAAAAAAAAAAAAAAAAAAAAAAAAAAAAAAAAAAAAIAAAAAAAAAAAAAAAAAAAAAAAAAAAAAAAAAAAA=\",\"dtype\":\"int32\",\"order\":\"little\",\"shape\":[533]}},\"selected\":{\"id\":\"1463\"},\"selection_policy\":{\"id\":\"1496\"}},\"id\":\"1462\",\"type\":\"ColumnDataSource\"}],\"root_ids\":[\"1460\"]},\"title\":\"Bokeh Application\",\"version\":\"2.2.3\"}};\n",
       "    var render_items = [{\"docid\":\"6ef7a745-38f9-45fd-badf-1f81760bc1d6\",\"root_ids\":[\"1460\"],\"roots\":{\"1460\":\"b123c8af-88f9-4b63-877d-c93c2b81cd0f\"}}];\n",
       "    root.Bokeh.embed.embed_items_notebook(docs_json, render_items);\n",
       "  }\n",
       "  if (root.Bokeh !== undefined && root.Bokeh.Panel !== undefined) {\n",
       "    embed_document(root);\n",
       "  } else {\n",
       "    var attempts = 0;\n",
       "    var timer = setInterval(function(root) {\n",
       "      if (root.Bokeh !== undefined && root.Bokeh.Panel !== undefined) {\n",
       "        clearInterval(timer);\n",
       "        embed_document(root);\n",
       "      } else if (document.readyState == \"complete\") {\n",
       "        attempts++;\n",
       "        if (attempts > 100) {\n",
       "          clearInterval(timer);\n",
       "          console.log(\"Bokeh: ERROR: Unable to run BokehJS code because BokehJS library is missing\");\n",
       "        }\n",
       "      }\n",
       "    }, 10, root)\n",
       "  }\n",
       "})(window);</script>"
      ],
      "text/plain": [
       ":Table   [CoinName,Algorithm,ProofType,TotalCoinSupply,TotalCoinsMined,class]"
      ]
     },
     "execution_count": 104,
     "metadata": {
      "application/vnd.holoviews_exec.v0+json": {
       "id": "1460"
      }
     },
     "output_type": "execute_result"
    }
   ],
   "source": [
    "# Table with tradable cryptos\n",
    "\n",
    "clustered_df.hvplot.table(columns=[\"CoinName\", \"Algorithm\", \"ProofType\", \"TotalCoinSupply\", \"TotalCoinsMined\", \"class\"], sortable=True, selectable=True)\n"
   ]
  },
  {
   "cell_type": "code",
   "execution_count": 105,
   "metadata": {},
   "outputs": [
    {
     "data": {
      "text/plain": [
       "533"
      ]
     },
     "execution_count": 105,
     "metadata": {},
     "output_type": "execute_result"
    }
   ],
   "source": [
    "# Print the total number of tradable cryptocurrencies\n",
    "\n",
    "clustered_df.shape[0]\n"
   ]
  },
  {
   "cell_type": "markdown",
   "metadata": {},
   "source": [
    "#### Scatter Plot with Tradable Cryptocurrencies"
   ]
  },
  {
   "cell_type": "code",
   "execution_count": 106,
   "metadata": {},
   "outputs": [],
   "source": [
    "# Scale data to create the scatter plot\n",
    "\n",
    "mmscaler = MinMaxScaler()\n",
    "data = mmscaler.fit_transform(clustered_df[[\"TotalCoinSupply\", \"TotalCoinsMined\"]])\n",
    "data_df = pd.DataFrame(data, columns = [\"TotalCoinSupply\", \"TotalCoinsMined\"])\n",
    "data_df[\"CoinName\"] = clustered_df[\"CoinName\"]\n",
    "data_df[\"class\"] = clustered_df[\"class\"]\n"
   ]
  },
  {
   "cell_type": "code",
   "execution_count": 115,
   "metadata": {},
   "outputs": [
    {
     "data": {
      "application/vnd.holoviews_exec.v0+json": "",
      "text/html": [
       "<div id='1512'>\n",
       "\n",
       "\n",
       "\n",
       "\n",
       "\n",
       "  <div class=\"bk-root\" id=\"52ace9cc-bd95-4653-a267-8119e80a17ee\" data-root-id=\"1512\"></div>\n",
       "</div>\n",
       "<script type=\"application/javascript\">(function(root) {\n",
       "  function embed_document(root) {\n",
       "    var docs_json = {\"7bf12aae-b0d4-4d0f-a9e7-a52f61843d1e\":{\"roots\":{\"references\":[{\"attributes\":{\"axis\":{\"id\":\"1526\"},\"grid_line_color\":null,\"ticker\":null},\"id\":\"1529\",\"type\":\"Grid\"},{\"attributes\":{},\"id\":\"1535\",\"type\":\"WheelZoomTool\"},{\"attributes\":{\"fill_alpha\":{\"value\":0.1},\"fill_color\":{\"value\":\"#1f77b3\"},\"line_alpha\":{\"value\":0.1},\"line_color\":{\"value\":\"#1f77b3\"},\"size\":{\"units\":\"screen\",\"value\":5.477225575051661},\"x\":{\"field\":\"TotalCoinsMined\"},\"y\":{\"field\":\"TotalCoinSupply\"}},\"id\":\"1550\",\"type\":\"Scatter\"},{\"attributes\":{},\"id\":\"1537\",\"type\":\"ResetTool\"},{\"attributes\":{\"axis_label\":\"TotalCoinsMined\",\"bounds\":\"auto\",\"formatter\":{\"id\":\"1554\"},\"major_label_orientation\":\"horizontal\",\"ticker\":{\"id\":\"1527\"}},\"id\":\"1526\",\"type\":\"LinearAxis\"},{\"attributes\":{},\"id\":\"1547\",\"type\":\"Selection\"},{\"attributes\":{\"margin\":[5,5,5,5],\"name\":\"HSpacer02698\",\"sizing_mode\":\"stretch_width\"},\"id\":\"1513\",\"type\":\"Spacer\"},{\"attributes\":{},\"id\":\"1564\",\"type\":\"UnionRenderers\"},{\"attributes\":{\"active_drag\":\"auto\",\"active_inspect\":\"auto\",\"active_multi\":null,\"active_scroll\":\"auto\",\"active_tap\":\"auto\",\"tools\":[{\"id\":\"1516\"},{\"id\":\"1533\"},{\"id\":\"1534\"},{\"id\":\"1535\"},{\"id\":\"1536\"},{\"id\":\"1537\"}]},\"id\":\"1539\",\"type\":\"Toolbar\"},{\"attributes\":{\"overlay\":{\"id\":\"1538\"}},\"id\":\"1536\",\"type\":\"BoxZoomTool\"},{\"attributes\":{\"factors\":[\"42\",\"532000000\",\"314159265359\",\"21000000\",\"0\",\"84000000\",\"22000000\",\"210000000\",\"3600570502\",\"21000000000\",\"12500000\",\"350000000\",\"20000000\",\"64000000\",\"16768584\",\"2000000000\",\"384000000000\",\"169795588\",\"250000000\",\"100000000\",\"247000000\",\"48166000\",\"500000\",\"21000000 \",\"1000000\",\"13140000\",\"18000000\",\"40000000000\",\"4380000\",\"16555000000\",\"13500000000\",\"299792458\",\"32000000\",\"11235813\",\"336000000\",\"1420609614\",\"70000000\",\"72245700\",\"120000000\",\"90600000000\",\"265420800\",\"1350000\",\"42000000\",\"200000000\",\"10000000\",\"2419200000\",\"16180000\",\"15000000000\",\"337000000\",\"3770000\",\"420000000\",\"98000000\",\"51200000\",\"1000\",\"888000000\",\"47011968\",\"2300000000\",\"80000000\",\"250000\",\"1600000000\",\"23000000\",\"5500000\",\"45000000\",\"1000000000\",\"184467440735\",\"10000000000\",\"2158812800\",\"500000000\",\"105120000\",\"68000000\",\"1680000000\",\"166386000\",\"12000000\",\"2628000\",\"160000000\",\"3371337\",\"1840000000\",\"619478\",\"92000000000\",\"78000000\",\"33000000\",\"65789100\",\"53760000\",\"5060000\",\"210240000\",\"16906397\",\"50000000\",\"26298000\",\"16000000\",\"81962100\",\"26550000000\",\"10500000\",\"21626280000 \",\"221052632\",\"30000000\",\"168351300\",\"24000000\",\"384000000\",\" 99000000000\",\"40000000\",\"2147483647\",\"25000000\",\"75000000\",\"222725000\",\"525000000\",\"90000000\",\"139000000\",\"616448\",\"33500000\",\"44333333\",\"657000000\",\"9736000\",\"3000000\",\"1200000000\",\"10638298\",\"3100000000\",\"20000000000\",\"74000000\",\"1500000000\",\"21400000\",\"39999898\",\"2500124\",\"301000000\",\"7506000000\",\"26205539\",\"125000000\",\"850000000\",\"3853326.77707314\",\"38540000 \",\"228000000\",\"60000000\",\"76500000\",\"28000000\",\"650659833\",\"5000000\",\"144000000\",\"32514916898\",\"13000000\",\"3315789\",\"15000000\",\"78835200\",\"2714286\",\"9999999\",\"9354000\",\"100000000000\",\"21933333\",\"185000000\",\"55000000\",\"110000000\",\"3360000\",\"14524851.4827\",\"17000000\",\"100000000 \",\"34426423\",\"2232901\",\"36900000\",\"4000000000\",\"110290030\",\"48252000\",\"400000000\",\"21212121\",\"28600000\",\"75000000000\",\"35520400\",\"2500000000\",\"105000000\",\"90000000000\",\"200084200\",\"72000000\",\"50000000000\",\"340282367\",\"19276800\",\" 75000000\",\"18900000\",\"54000000\",\"18898187.6216583\",\"200000000000\",\"5000000000\",\"137500000\",\"1100000000\",\"9507271\",\"17405891.19707116\",\"86712634466\",\"10500000000\",\"61599965\",\"4200000\",\"88888888\",\"91388946\",\"45000000000\",\"27000000\",\"1800000000\",\"15733333\",\"25000000000\",\"156306732.71\",\"14788275.991\",\"9000000000\",\"280000000\",\"31800000\",\"30000000000\",\"660000000\",\"85000000000\",\"27716121\",\"550000000\",\"999481516\",\"150000000\",\"4999999999\",\" 90000000000\",\"19800000\",\"900000000\",\"4000000\",\"20166000\",\"1618033\",\"1000000000000\",\"16600000\",\"232000000\",\"800000000\",\"5200000000\",\"840000000\",\"18406979840\",\"19340594\",\"252460800\",\"124000000\",\"6500000000\",\"300000000\",\"88000000\",\"18400000\",\"5121951220\",\"26280000\",\"26000000\",\"600000518\",\"184000000000\",\"10200000000\",\"44000000\",\"168000000\",\"650000000 \",\"100262205\",\"18081806 \",\"22075700\",\"82546564\",\"5151000\",\"16880000000\",\"52500000\",\"22105263\",\"1750000000\",\"88188888\",\"184470000000\",\"260000000\",\"2100000000\",\"366000000\",\"18000000000\",\"7600000000\",\"70000000000\",\"8080000000\",\"105120001.44\",\"25228800\",\"262800000\",\"19035999\",\"30886000\",\"13370000\",\"74800000000\",\"19700000\",\"2100000\",\"35000000000\",\"98100000000\",\"7000000000\",\"54256119\",\"190000000\",\"208000000\",\"9000000\",\"182000000\",\"16504333\",\"159918400\",\"10008835635\",\"60168145\",\"2800000\",\"120000\",\"24487944\",\"8634140\",\"990000000000\",\"1400222610\"],\"tags\":[[[\"TotalCoinSupply\",\"TotalCoinSupply\",null]]]},\"id\":\"1515\",\"type\":\"FactorRange\"},{\"attributes\":{\"callback\":null,\"renderers\":[{\"id\":\"1552\"}],\"tags\":[\"hv_created\"],\"tooltips\":[[\"TotalCoinsMined\",\"@{TotalCoinsMined}\"],[\"TotalCoinSupply\",\"@{TotalCoinSupply}\"],[\"CoinName\",\"@{CoinName}\"]]},\"id\":\"1516\",\"type\":\"HoverTool\"},{\"attributes\":{\"margin\":[5,5,5,5],\"name\":\"HSpacer02699\",\"sizing_mode\":\"stretch_width\"},\"id\":\"1574\",\"type\":\"Spacer\"},{\"attributes\":{\"data_source\":{\"id\":\"1546\"},\"glyph\":{\"id\":\"1549\"},\"hover_glyph\":null,\"muted_glyph\":{\"id\":\"1551\"},\"nonselection_glyph\":{\"id\":\"1550\"},\"selection_glyph\":null,\"view\":{\"id\":\"1553\"}},\"id\":\"1552\",\"type\":\"GlyphRenderer\"},{\"attributes\":{},\"id\":\"1554\",\"type\":\"BasicTickFormatter\"},{\"attributes\":{},\"id\":\"1522\",\"type\":\"LinearScale\"},{\"attributes\":{},\"id\":\"1533\",\"type\":\"SaveTool\"},{\"attributes\":{\"fill_color\":{\"value\":\"#1f77b3\"},\"line_color\":{\"value\":\"#1f77b3\"},\"size\":{\"units\":\"screen\",\"value\":5.477225575051661},\"x\":{\"field\":\"TotalCoinsMined\"},\"y\":{\"field\":\"TotalCoinSupply\"}},\"id\":\"1549\",\"type\":\"Scatter\"},{\"attributes\":{\"below\":[{\"id\":\"1526\"}],\"center\":[{\"id\":\"1529\"},{\"id\":\"1532\"}],\"left\":[{\"id\":\"1530\"}],\"margin\":[5,5,5,5],\"min_border_bottom\":10,\"min_border_left\":10,\"min_border_right\":10,\"min_border_top\":10,\"plot_height\":300,\"plot_width\":700,\"renderers\":[{\"id\":\"1552\"}],\"sizing_mode\":\"fixed\",\"title\":{\"id\":\"1518\"},\"toolbar\":{\"id\":\"1539\"},\"x_range\":{\"id\":\"1514\"},\"x_scale\":{\"id\":\"1522\"},\"y_range\":{\"id\":\"1515\"},\"y_scale\":{\"id\":\"1524\"}},\"id\":\"1517\",\"subtype\":\"Figure\",\"type\":\"Plot\"},{\"attributes\":{\"end\":1032670428767.6898,\"reset_end\":1032670428767.6898,\"reset_start\":-48599692876.008446,\"start\":-48599692876.008446,\"tags\":[[[\"TotalCoinsMined\",\"TotalCoinsMined\",null]]]},\"id\":\"1514\",\"type\":\"Range1d\"},{\"attributes\":{\"text\":\"\",\"text_color\":{\"value\":\"black\"},\"text_font_size\":{\"value\":\"12pt\"}},\"id\":\"1518\",\"type\":\"Title\"},{\"attributes\":{\"source\":{\"id\":\"1546\"}},\"id\":\"1553\",\"type\":\"CDSView\"},{\"attributes\":{},\"id\":\"1557\",\"type\":\"CategoricalTickFormatter\"},{\"attributes\":{\"axis\":{\"id\":\"1530\"},\"dimension\":1,\"grid_line_color\":null,\"ticker\":null},\"id\":\"1532\",\"type\":\"Grid\"},{\"attributes\":{},\"id\":\"1531\",\"type\":\"CategoricalTicker\"},{\"attributes\":{\"axis_label\":\"TotalCoinSupply\",\"bounds\":\"auto\",\"formatter\":{\"id\":\"1557\"},\"major_label_orientation\":\"horizontal\",\"ticker\":{\"id\":\"1531\"}},\"id\":\"1530\",\"type\":\"CategoricalAxis\"},{\"attributes\":{\"data\":{\"CoinName\":[\"42 Coin\",\"404Coin\",\"EliteCoin\",\"Bitcoin\",\"Ethereum\",\"Litecoin\",\"Dash\",\"Monero\",\"Ethereum Classic\",\"ZCash\",\"Bitshares\",\"DigiByte\",\"BitcoinDark\",\"PayCoin\",\"ProsperCoin\",\"KoboCoin\",\"Spreadcoin\",\"Argentum\",\"Aurora Coin\",\"BlueCoin\",\"MyriadCoin\",\"MoonCoin\",\"ZetaCoin\",\"SexCoin\",\"Quatloo\",\"EnergyCoin\",\"QuarkCoin\",\"Riecoin\",\"Digitalcoin \",\"BitBar\",\"Catcoin\",\"CryptoBullion\",\"CannaCoin\",\"CryptCoin\",\"CasinoCoin\",\"Diamond\",\"Verge\",\"DevCoin\",\"EarthCoin\",\"E-Gulden\",\"Einsteinium\",\"Emerald\",\"Exclusive Coin\",\"FlutterCoin\",\"Franko\",\"FeatherCoin\",\"GrandCoin\",\"GlobalCoin\",\"GoldCoin\",\"HoboNickels\",\"HyperStake\",\"Infinite Coin\",\"IOCoin\",\"IXcoin\",\"KrugerCoin\",\"LuckyCoin\",\"Litebar \",\"MaxCoin\",\"MegaCoin\",\"MediterraneanCoin\",\"MintCoin\",\"MinCoin\",\"MazaCoin\",\"Nautilus Coin\",\"NavCoin\",\"NobleCoin\",\"Namecoin\",\"NyanCoin\",\"OpalCoin\",\"Orbitcoin\",\"PotCoin\",\"PhoenixCoin\",\"Reddcoin\",\"RonPaulCoin\",\"StableCoin\",\"SmartCoin\",\"SuperCoin\",\"SyncCoin\",\"SysCoin\",\"TeslaCoin\",\"TigerCoin\",\"TittieCoin\",\"TorCoin\",\"TerraCoin\",\"UnbreakableCoin\",\"Unobtanium\",\"UroCoin\",\"UnitaryStatus Dollar\",\"UltraCoin\",\"ViaCoin\",\"VeriCoin\",\"Vertcoin\",\"WorldCoin\",\"X11 Coin\",\"Crypti\",\"JouleCoin\",\"StealthCoin\",\"ZCC Coin\",\"ByteCoin\",\"DigitalNote \",\"BurstCoin\",\"StorjCoin\",\"MonaCoin\",\"Neutron\",\"FairCoin\",\"Gulden\",\"RubyCoin\",\"PesetaCoin\",\"Kore\",\"Wild Beast Coin\",\"Dnotes\",\"Flo\",\"8BIT Coin\",\"Sativa Coin\",\"ArtByte\",\"Folding Coin\",\"Ucoin\",\"Unitus\",\"CypherPunkCoin\",\"OmniCron\",\"Vtorrent\",\"GreenCoin\",\"Cryptonite\",\"MasterCoin\",\"SoonCoin\",\"1Credit\",\"IslaCoin\",\"Nexus\",\"MarsCoin \",\"Crypto\",\"Anarchists Prime\",\"Droidz\",\"BowsCoin\",\"Squall Coin\",\"Song Coin\",\"BitZeny\",\"Diggits\",\"Expanse\",\"Paycon\",\"Siacoin\",\"Emercoin\",\"EverGreenCoin\",\"MindCoin\",\"I0coin\",\"Decred\",\"Revolution VR\",\"HOdlcoin\",\"EDRCoin\",\"Hitcoin\",\"Gamecredits\",\"DubaiCoin\",\"CarpeDiemCoin\",\"PWR Coin\",\"BillaryCoin\",\"GPU Coin\",\"Adzcoin\",\"SoilCoin\",\"YoCoin\",\"SibCoin\",\"EuropeCoin\",\"ZeitCoin\",\"SwingCoin\",\"SafeExchangeCoin\",\"Nebuchadnezzar\",\"Francs\",\"BolivarCoin\",\"Ratecoin\",\"Revenu\",\"Clockcoin\",\"VIP Tokens\",\"BitSend\",\"Omni\",\"Let it Ride\",\"PutinCoin\",\"iBankCoin\",\"Frankywillcoin\",\"MudraCoin\",\"PizzaCoin\",\"Lutetium Coin\",\"Komodo\",\"GoldBlocks\",\"CarterCoin\",\"Karbo\",\"BitTokens\",\"ZayedCoin\",\"MustangCoin\",\"ZoneCoin\",\"Circuits of Value\",\"RootCoin\",\"DopeCoin\",\"BitCurrency\",\"DollarCoin\",\"Swiscoin\",\"Shilling\",\"BuzzCoin\",\"Opair\",\"PesoBit\",\"Halloween Coin\",\"ZCoin\",\"CoffeeCoin\",\"RoyalCoin\",\"GanjaCoin V2\",\"TeamUP\",\"LanaCoin\",\"Elementrem\",\"ZClassic\",\"ARK\",\"InsaneCoin\",\"KiloCoin\",\"ArtexCoin\",\"EmberCoin\",\"XenixCoin\",\"FreeCoin\",\"PLNCoin\",\"AquariusCoin\",\"Kurrent\",\"Creatio\",\"Eternity\",\"Eurocoin\",\"BitcoinFast\",\"Stakenet\",\"BitConnect Coin\",\"MoneyCoin\",\"Enigma\",\"Cannabis Industry Coin\",\"Russiacoin\",\"PandaCoin\",\"GameUnits\",\"GAKHcoin\",\"Allsafe\",\"LiteCreed\",\"OsmiumCoin\",\"Bikercoins\",\"HexxCoin\",\"Klingon Empire Darsek\",\"Internet of People\",\"KushCoin\",\"Printerium\",\"PacCoin\",\"Impeach\",\"Citadel\",\"Zilbercoin\",\"FirstCoin\",\"BeaverCoin\",\"FindCoin\",\"VaultCoin\",\"Zero\",\"OpenChat\",\"Canada eCoin\",\"Zoin\",\"RenosCoin\",\"DubaiCoin\",\"VirtacoinPlus\",\"TajCoin\",\"Impact\",\"EB3coin\",\"Atmos\",\"HappyCoin\",\"Coinonat\",\"MacronCoin\",\"Condensate\",\"Independent Money System\",\"ArgusCoin\",\"LomoCoin\",\"ProCurrency\",\"GoldReserve\",\"BenjiRolls\",\"GrowthCoin\",\"ILCoin\",\"Phreak\",\"Degas Coin\",\"HTML5 Coin\",\"Ultimate Secure Cash\",\"EquiTrader\",\"QTUM\",\"Quantum Resistant Ledger\",\"Espers\",\"Dynamic\",\"Nano\",\"ChanCoin\",\"Dinastycoin\",\"Denarius\",\"DigitalPrice\",\"Virta Unique Coin\",\"Bitcoin Planet\",\"Unify\",\"BritCoin\",\"SocialCoin\",\"ArcticCoin\",\"DAS\",\"Linda\",\"LeviarCoin\",\"DeepOnion\",\"Bitcore\",\"gCn Coin\",\"SmartCash\",\"Signatum\",\"Onix\",\"Cream\",\"Bitcoin Cash\",\"Monoeci\",\"Draftcoin\",\"Vechain\",\"Sojourn Coin\",\"Stakecoin\",\"NewYorkCoin\",\"FrazCoin\",\"Kronecoin\",\"AdCoin\",\"Linx\",\"CoinonatX\",\"Ethereum Dark\",\"Sumokoin\",\"Obsidian\",\"Cardano\",\"Regalcoin\",\"BitcoinZ\",\"TrezarCoin\",\"Elements\",\"TerraNovaCoin\",\"VIVO Coin\",\"Rupee\",\"Bitcoin Gold\",\"WomenCoin\",\"Theresa May Coin\",\"NamoCoin\",\"LUXCoin\",\"Pirl\",\"Xios\",\"Bitcloud 2.0\",\"eBoost\",\"KekCoin\",\"BlackholeCoin\",\"Infinity Economics\",\"Pura\",\"Innova\",\"Ellaism\",\"GoByte\",\"Magnet\",\"Lamden Tau\",\"Electra\",\"Bitcoin Diamond\",\"SHIELD\",\"Cash & Back Coin\",\"UltraNote\",\"BitCoal\",\"DaxxCoin\",\"Bulwark\",\"Kalkulus\",\"AC3\",\"Lethean\",\"GermanCoin\",\"LiteCoin Ultra\",\"PopularCoin\",\"PhantomX\",\"Photon\",\"Sucre\",\"SparksPay\",\"Digiwage\",\"GunCoin\",\"IrishCoin\",\"Trollcoin\",\"Litecoin Plus\",\"Monkey Project\",\"Pioneer Coin\",\"UnitedBitcoin\",\"Interzone\",\"TokenPay\",\"1717 Masonic Commemorative Token\",\"My Big Coin\",\"TurtleCoin\",\"MUNcoin\",\"Unified Society USDEX\",\"Niobio Cash\",\"ShareChain\",\"Travelflex\",\"KREDS\",\"Tokyo Coin\",\"BiblePay\",\"LitecoinCash\",\"BitFlip\",\"LottoCoin\",\"Crypto Improvement Fund\",\"Stipend\",\"Poa Network\",\"Pushi\",\"Ellerium\",\"Velox\",\"Ontology\",\"Callisto Network\",\"BitTube\",\"Poseidon\",\"Aidos Kuneen\",\"Bitspace\",\"Briacoin\",\"Ignition\",\"Bitrolium\",\"MedicCoin\",\"Alpenschillling\",\"Bitcoin Green\",\"Deviant Coin\",\"Abjcoin\",\"Semux\",\"FuturoCoin\",\"Carebit\",\"Zealium\",\"Monero Classic\",\"Proton\",\"iDealCash\",\"Jumpcoin\",\"Infinex\",\"Bitcoin Incognito\",\"KEYCO\",\"HollyWoodCoin\",\"GINcoin\",\"PlatinCoin\",\"Loki\",\"Newton Coin\",\"Swisscoin\",\"Xt3ch\",\"MassGrid\",\"TheVig\",\"PluraCoin\",\"EmaratCoin\",\"Dekado\",\"Lynx\",\"Poseidon Quark\",\"BitcoinWSpectrum\",\"Muse\",\"Motion\",\"PlusOneCoin\",\"Axe\",\"Trivechain\",\"Dystem\",\"Giant\",\"Peony Coin\",\"Absolute Coin\",\"Vitae\",\"HexCoin\",\"TPCash\",\"Webchain\",\"Ryo\",\"Urals Coin\",\"Qwertycoin\",\"ARENON\",\"EUNO\",\"MMOCoin\",\"Ketan\",\"Project Pai\",\"XDNA\",\"PAXEX\",\"Azart\",\"ThunderStake\",\"Kcash\",\"Xchange\",\"Acute Angle Cloud\",\"CrypticCoin\",\"Bettex coin\",\"Actinium\",\"Bitcoin SV\",\"BitMoney\",\"Junson Ming Chan Coin\",\"FREDEnergy\",\"HerbCoin\",\"Universal Molecule\",\"Lithium\",\"PirateCash\",\"Exosis\",\"Block-Logic\",\"Oduwa\",\"Beam\",\"Galilel\",\"Bithereum\",\"Crypto Sports\",\"Credit\",\"SLICE\",\"Dash Platinum\",\"Nasdacoin\",\"Beetle Coin\",\"Titan Coin\",\"Award\",\"BLAST\",\"Bitcoin Rhodium\",\"GlobalToken\",\"Insane Coin\",\"ALAX\",\"LiteDoge\",\"SolarCoin\",\"TruckCoin\",\"UFO Coin\",\"OrangeCoin\",\"BlakeCoin\",\"BitstarCoin\",\"NeosCoin\",\"HyperCoin\",\"PinkCoin\",\"Crypto Escudo\",\"AudioCoin\",\"IncaKoin\",\"Piggy Coin\",\"Crown Coin\",\"Genstake\",\"SmileyCoin\",\"XiaoMiCoin\",\"Groestlcoin\",\"CapriCoin\",\" ClubCoin\",\"Radium\",\"Bata\",\"Pakcoin\",\"Creditbit \",\"OKCash\",\"Lisk\",\"HiCoin\",\"WhiteCoin\",\"FriendshipCoin\",\"Fiii\",\"JoinCoin\",\"Triangles Coin\",\"Vollar\",\"EOS\",\"Reality Clash\",\"Oxycoin\",\"TigerCash\",\"Waves\",\"Particl\",\"BitTorrent\",\"Nxt\",\"ZEPHYR\",\"Gapcoin\",\"Beldex\",\"Horizen\",\"BitcoinPlus\"],\"TotalCoinSupply\":[\"42\",\"532000000\",\"314159265359\",\"21000000\",\"0\",\"84000000\",\"22000000\",\"0\",\"210000000\",\"21000000\",\"3600570502\",\"21000000000\",\"22000000\",\"12500000\",\"21000000\",\"350000000\",\"20000000\",\"64000000\",\"16768584\",\"0\",\"2000000000\",\"384000000000\",\"169795588\",\"250000000\",\"100000000\",\"0\",\"247000000\",\"84000000\",\"48166000\",\"500000\",\"21000000 \",\"1000000\",\"13140000\",\"18000000\",\"40000000000\",\"4380000\",\"16555000000\",\"21000000000\",\"13500000000\",\"21000000 \",\"299792458\",\"32000000\",\"0\",\"0\",\"11235813\",\"336000000\",\"1420609614\",\"70000000\",\"72245700\",\"120000000\",\"0\",\"90600000000\",\"22000000\",\"21000000\",\"265420800\",\"20000000\",\"1350000\",\"100000000\",\"42000000\",\"200000000\",\"0\",\"10000000\",\"2419200000\",\"16180000\",\"0\",\"15000000000\",\"21000000\",\"337000000\",\"0\",\"3770000\",\"420000000\",\"98000000\",\"0\",\"21000000\",\"250000000\",\"51200000\",\"0\",\"1000\",\"888000000\",\"100000000\",\"47011968\",\"2300000000\",\"10000000\",\"42000000\",\"80000000\",\"250000\",\"0\",\"1600000000\",\"100000000\",\"23000000\",\"0\",\"84000000\",\"265420800\",\"5500000\",\"0\",\"45000000\",\"0\",\"1000000000\",\"184467440735\",\"10000000000\",\"2158812800\",\"500000000\",\"105120000\",\"68000000\",\"0\",\"1680000000\",\"0\",\"166386000\",\"12000000\",\"2628000\",\"500000000\",\"160000000\",\"0\",\"10000000\",\"1000000000\",\"1000000000\",\"20000000\",\"0\",\"0\",\"3371337\",\"20000000\",\"10000000000\",\"1840000000\",\"619478\",\"21000000\",\"92000000000\",\"0\",\"78000000\",\"33000000\",\"65789100\",\"53760000\",\"5060000\",\"21000000\",\"0\",\"210240000\",\"250000000\",\"100000000\",\"16906397\",\"50000000\",\"0\",\"1000000000\",\"26298000\",\"16000000\",\"21000000\",\"21000000\",\"210000000\",\"81962100\",\"22000000\",\"26550000000\",\"84000000\",\"10500000\",\"21626280000 \",\"0\",\"42000000\",\"221052632\",\"84000000\",\"30000000\",\"168351300\",\"24000000\",\"384000000\",\" 99000000000\",\"40000000\",\"2147483647\",\"20000000\",\"20000000\",\"25000000\",\"75000000\",\"222725000\",\"525000000\",\"90000000\",\"139000000\",\"616448\",\"33500000\",\"2000000000\",\"44333333\",\"100000000\",\"200000000\",\"25000000\",\"657000000\",\"200000000\",\"50000000\",\"90000000\",\"10000000\",\"21000000\",\"9736000\",\"3000000\",\"21000000\",\"1200000000\",\"0\",\"200000000\",\"0\",\"10638298\",\"3100000000\",\"30000000\",\"20000000000\",\"74000000\",\"0\",\"1500000000\",\"21400000\",\"39999898\",\"2500124\",\"100000000\",\"301000000\",\"7506000000\",\"26205539\",\"21000000\",\"125000000\",\"30000000\",\"10000000000\",\"500000000\",\"850000000\",\"3853326.77707314\",\"50000000\",\"38540000 \",\"42000000\",\"228000000\",\"20000000\",\"60000000\",\"20000000\",\"33000000\",\"76500000\",\"28000000\",\"650659833\",\"5000000\",\"21000000\",\"144000000\",\"32514916898\",\"13000000\",\"3315789\",\"15000000\",\"78835200\",\"2714286\",\"25000000\",\"9999999\",\"500000000\",\"21000000\",\"9354000\",\"20000000\",\"100000000000\",\"21933333\",\"185000000\",\"55000000\",\"110000000\",\"3360000\",\"14524851.4827\",\"1000000000\",\"17000000\",\"1000000000\",\"100000000 \",\"21000000\",\"34426423\",\"2232901\",\"100000000\",\"36900000\",\"110000000\",\"4000000000\",\"110290030\",\"100000000\",\"48252000\",\"400000000\",\"500000000\",\"21212121\",\"28600000\",\"1000000000\",\"75000000000\",\"40000000\",\"35520400\",\"2000000000\",\"2500000000\",\"30000000\",\"105000000\",\"90000000000\",\"200084200\",\"72000000\",\"100000000\",\"105000000\",\"50000000000\",\"0\",\"340282367\",\"30000000\",\"2000000000\",\"10000000\",\"100000000\",\"120000000\",\"100000000\",\"19276800\",\"30000000\",\" 75000000\",\"60000000\",\"18900000\",\"50000000000\",\"54000000\",\"18898187.6216583\",\"21000000\",\"200000000000\",\"5000000000\",\"137500000\",\"1100000000\",\"100000000\",\"21000000\",\"9507271\",\"17405891.19707116\",\"86712634466\",\"10500000000\",\"61599965\",\"0\",\"20000000\",\"84000000\",\"100000000\",\"100000000\",\"48252000\",\"4200000\",\"88888888\",\"91388946\",\"45000000000\",\"27000000\",\"21000000000\",\"400000000\",\"1800000000\",\"15733333\",\"27000000\",\"24000000\",\"21000000\",\"25000000000\",\"100000000\",\"1200000000\",\"60000000\",\"156306732.71\",\"21000000\",\"200000000\",\"100000000\",\"21000000\",\"14788275.991\",\"9000000000\",\"350000000\",\"45000000\",\"280000000\",\"31800000\",\"144000000\",\"500000000\",\"30000000000\",\"210000000\",\"660000000\",\"210000000\",\"85000000000\",\"12500000\",\"10000000000\",\"27716121\",\"20000000\",\"550000000\",\"999481516\",\"50000000000\",\"150000000\",\"4999999999\",\"50000000\",\" 90000000000\",\"19800000\",\"21000000\",\"120000000\",\"500000000\",\"64000000\",\"900000000\",\"4000000\",\"21000000\",\"23000000\",\"20166000\",\"23000000\",\"25000000\",\"1618033\",\"30000000\",\"1000000000000\",\"16600000\",\"232000000\",\"336000000\",\"10000000000\",\"100000000\",\"1100000000\",\"800000000\",\"5200000000\",\"840000000\",\"40000000\",\"18406979840\",\"500000000\",\"19340594\",\"252460800\",\"25000000\",\"60000000\",\"124000000\",\"1000000000\",\"6500000000\",\"1000000000\",\"21000000\",\"25000000\",\"50000000\",\"3000000\",\"5000000\",\"70000000\",\"500000000\",\"300000000\",\"21000000\",\"88000000\",\"30000000\",\"100000000\",\"100000000\",\"200000000\",\"80000000\",\"18400000\",\"45000000\",\"5121951220\",\"21000000\",\"26280000\",\"21000000\",\"18000000\",\"26000000\",\"10500000\",\"600000518\",\"150000000\",\"184000000000\",\"10200000000\",\"44000000\",\"168000000\",\"100000000\",\"1000000000\",\"84000000\",\"90000000\",\"92000000000\",\"650000000 \",\"100262205\",\"18081806 \",\"22075700\",\"21000000\",\"21000000\",\"82546564\",\"21000000\",\"5151000\",\"16880000000\",\"52500000\",\"100000000\",\"22105263\",\"1000000000\",\"1750000000\",\"88188888\",\"210000000\",\"184470000000\",\"55000000\",\"50000000\",\"260000000\",\"210000000\",\"2100000000\",\"366000000\",\"100000000\",\"25000000\",\"18000000000\",\"1000000000\",\"100000000\",\"1000000000\",\"7600000000\",\"50000000\",\"84000000\",\"21000000\",\"70000000000\",\"0\",\"8080000000\",\"54000000\",\"105120001.44\",\"25228800\",\"105000000\",\"21000000\",\"120000000\",\"21000000\",\"262800000\",\"19035999\",\"30886000\",\"13370000\",\"74800000000\",\"100000000\",\"19700000\",\"84000000\",\"500000000\",\"5000000000\",\"420000000\",\"64000000\",\"2100000\",\"168000000\",\"30000000\",\"1000000000\",\"35000000000\",\"98100000000\",\"0\",\"4000000000\",\"200000000\",\"7000000000\",\"54256119\",\"21000000\",\"0\",\"500000000\",\"1000000000\",\"10500000000\",\"190000000\",\"1000000000\",\"42000000\",\"15000000\",\"50000000000\",\"400000000\",\"105000000\",\"208000000\",\"160000000\",\"9000000\",\"5000000\",\"182000000\",\"16504333\",\"105000000\",\"159918400\",\"10008835635\",\"300000000\",\"60168145\",\"5000000000\",\"2800000\",\"120000\",\"2100000000\",\"0\",\"24487944\",\"0\",\"1000000000\",\"100000000\",\"8634140\",\"990000000000\",\"1000000000\",\"2000000000\",\"250000000\",\"1400222610\",\"21000000\",\"1000000\"],\"TotalCoinsMined\":{\"__ndarray__\":\"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\",\"dtype\":\"float64\",\"order\":\"little\",\"shape\":[533]}},\"selected\":{\"id\":\"1547\"},\"selection_policy\":{\"id\":\"1564\"}},\"id\":\"1546\",\"type\":\"ColumnDataSource\"},{\"attributes\":{\"bottom_units\":\"screen\",\"fill_alpha\":0.5,\"fill_color\":\"lightgrey\",\"left_units\":\"screen\",\"level\":\"overlay\",\"line_alpha\":1.0,\"line_color\":\"black\",\"line_dash\":[4,4],\"line_width\":2,\"right_units\":\"screen\",\"top_units\":\"screen\"},\"id\":\"1538\",\"type\":\"BoxAnnotation\"},{\"attributes\":{},\"id\":\"1527\",\"type\":\"BasicTicker\"},{\"attributes\":{},\"id\":\"1524\",\"type\":\"CategoricalScale\"},{\"attributes\":{\"fill_alpha\":{\"value\":0.2},\"fill_color\":{\"value\":\"#1f77b3\"},\"line_alpha\":{\"value\":0.2},\"line_color\":{\"value\":\"#1f77b3\"},\"size\":{\"units\":\"screen\",\"value\":5.477225575051661},\"x\":{\"field\":\"TotalCoinsMined\"},\"y\":{\"field\":\"TotalCoinSupply\"}},\"id\":\"1551\",\"type\":\"Scatter\"},{\"attributes\":{},\"id\":\"1534\",\"type\":\"PanTool\"},{\"attributes\":{\"children\":[{\"id\":\"1513\"},{\"id\":\"1517\"},{\"id\":\"1574\"}],\"margin\":[0,0,0,0],\"name\":\"Row02694\",\"tags\":[\"embedded\"]},\"id\":\"1512\",\"type\":\"Row\"}],\"root_ids\":[\"1512\"]},\"title\":\"Bokeh Application\",\"version\":\"2.2.3\"}};\n",
       "    var render_items = [{\"docid\":\"7bf12aae-b0d4-4d0f-a9e7-a52f61843d1e\",\"root_ids\":[\"1512\"],\"roots\":{\"1512\":\"52ace9cc-bd95-4653-a267-8119e80a17ee\"}}];\n",
       "    root.Bokeh.embed.embed_items_notebook(docs_json, render_items);\n",
       "  }\n",
       "  if (root.Bokeh !== undefined && root.Bokeh.Panel !== undefined) {\n",
       "    embed_document(root);\n",
       "  } else {\n",
       "    var attempts = 0;\n",
       "    var timer = setInterval(function(root) {\n",
       "      if (root.Bokeh !== undefined && root.Bokeh.Panel !== undefined) {\n",
       "        clearInterval(timer);\n",
       "        embed_document(root);\n",
       "      } else if (document.readyState == \"complete\") {\n",
       "        attempts++;\n",
       "        if (attempts > 100) {\n",
       "          clearInterval(timer);\n",
       "          console.log(\"Bokeh: ERROR: Unable to run BokehJS code because BokehJS library is missing\");\n",
       "        }\n",
       "      }\n",
       "    }, 10, root)\n",
       "  }\n",
       "})(window);</script>"
      ],
      "text/plain": [
       ":Scatter   [TotalCoinsMined]   (TotalCoinSupply,CoinName)"
      ]
     },
     "execution_count": 115,
     "metadata": {
      "application/vnd.holoviews_exec.v0+json": {
       "id": "1512"
      }
     },
     "output_type": "execute_result"
    }
   ],
   "source": [
    "# Plot the scatter with x=\"TotalCoinsMined\" and y=\"TotalCoinSupply\"\n",
    "\n",
    "clustered_df.hvplot.scatter(\n",
    "    x=\"TotalCoinsMined\", \n",
    "    y=\"TotalCoinSupply\", \n",
    "    hover_cols=[\"CoinName\"],\n",
    ")\n",
    "\n",
    "\n"
   ]
  },
  {
   "cell_type": "code",
   "execution_count": null,
   "metadata": {},
   "outputs": [],
   "source": []
  }
 ],
 "metadata": {
  "file_extension": ".py",
  "kernelspec": {
   "display_name": "Python [conda env:DLenv]",
   "language": "python",
   "name": "conda-env-DLenv-py"
  },
  "language_info": {
   "codemirror_mode": {
    "name": "ipython",
    "version": 3
   },
   "file_extension": ".py",
   "mimetype": "text/x-python",
   "name": "python",
   "nbconvert_exporter": "python",
   "pygments_lexer": "ipython3",
   "version": "3.7.9"
  },
  "mimetype": "text/x-python",
  "name": "python",
  "npconvert_exporter": "python",
  "pygments_lexer": "ipython3",
  "version": 3
 },
 "nbformat": 4,
 "nbformat_minor": 4
}
